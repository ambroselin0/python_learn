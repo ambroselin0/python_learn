{
 "cells": [
  {
   "cell_type": "code",
   "execution_count": 5,
   "metadata": {
    "collapsed": true,
    "ExecuteTime": {
     "end_time": "2023-05-27T13:30:35.998550Z",
     "start_time": "2023-05-27T13:30:31.656032Z"
    }
   },
   "outputs": [],
   "source": [
    "a = []\n",
    "for i in range(100000000):\n",
    "    a.append(i)"
   ]
  },
  {
   "cell_type": "code",
   "execution_count": 6,
   "outputs": [],
   "source": [
    "a = [x for x in range(100000000)]"
   ],
   "metadata": {
    "collapsed": false,
    "ExecuteTime": {
     "end_time": "2023-05-27T13:30:50.558565Z",
     "start_time": "2023-05-27T13:30:47.889544Z"
    }
   }
  },
  {
   "cell_type": "code",
   "execution_count": 9,
   "outputs": [
    {
     "data": {
      "text/plain": "[0,\n 4,\n 8,\n 12,\n 16,\n 20,\n 24,\n 28,\n 32,\n 36,\n 40,\n 44,\n 48,\n 52,\n 56,\n 60,\n 64,\n 68,\n 72,\n 76,\n 80,\n 84,\n 88,\n 92,\n 96,\n 100,\n 104,\n 108,\n 112,\n 116,\n 120,\n 124,\n 128,\n 132,\n 136,\n 140,\n 144,\n 148,\n 152,\n 156,\n 160,\n 164,\n 168,\n 172,\n 176,\n 180,\n 184,\n 188,\n 192,\n 196]"
     },
     "execution_count": 9,
     "metadata": {},
     "output_type": "execute_result"
    }
   ],
   "source": [
    "a = [x for x in range(100)]\n",
    "b = [x for x in a]\n",
    "c = [x for x in a if x % 2 == 0]\n",
    "d = [2 * x for x in c]\n",
    "d"
   ],
   "metadata": {
    "collapsed": false,
    "ExecuteTime": {
     "end_time": "2023-05-27T13:32:16.853151Z",
     "start_time": "2023-05-27T13:32:16.849558Z"
    }
   }
  },
  {
   "cell_type": "code",
   "execution_count": 12,
   "outputs": [
    {
     "data": {
      "text/plain": "[[0],\n [2],\n [4],\n [6],\n [8],\n [10],\n [12],\n [14],\n [16],\n [18],\n [20],\n [22],\n [24],\n [26],\n [28],\n [30],\n [32],\n [34],\n [36],\n [38],\n [40],\n [42],\n [44],\n [46],\n [48],\n [50],\n [52],\n [54],\n [56],\n [58],\n [60],\n [62],\n [64],\n [66],\n [68],\n [70],\n [72],\n [74],\n [76],\n [78],\n [80],\n [82],\n [84],\n [86],\n [88],\n [90],\n [92],\n [94],\n [96],\n [98]]"
     },
     "execution_count": 12,
     "metadata": {},
     "output_type": "execute_result"
    }
   ],
   "source": [
    "a = [x for x in range(10)]\n",
    "b = {x:2*x for x in a if x not in [1, 5, 8]}\n",
    "c = [[x] for x in c]"
   ],
   "metadata": {
    "collapsed": false,
    "ExecuteTime": {
     "end_time": "2023-05-27T13:33:54.175483Z",
     "start_time": "2023-05-27T13:33:54.170560Z"
    }
   }
  },
  {
   "cell_type": "code",
   "execution_count": 16,
   "outputs": [
    {
     "data": {
      "text/plain": "{0: 10, 1: 11, 2: 12, 3: 13, 4: 14, 5: 15, 6: 16, 7: 17, 8: 18, 9: 19}"
     },
     "execution_count": 16,
     "metadata": {},
     "output_type": "execute_result"
    }
   ],
   "source": [
    "a = [x for x in range(10)]\n",
    "b = [x for x in range(10, 20)]\n",
    "c = {x:y for x, y in zip(a, b)}\n",
    "c"
   ],
   "metadata": {
    "collapsed": false,
    "ExecuteTime": {
     "end_time": "2023-05-27T13:35:46.697191Z",
     "start_time": "2023-05-27T13:35:46.693417Z"
    }
   }
  },
  {
   "cell_type": "code",
   "execution_count": 21,
   "outputs": [
    {
     "data": {
      "text/plain": "   a  b\n0  1  2\n1  6  4",
      "text/html": "<div>\n<style scoped>\n    .dataframe tbody tr th:only-of-type {\n        vertical-align: middle;\n    }\n\n    .dataframe tbody tr th {\n        vertical-align: top;\n    }\n\n    .dataframe thead th {\n        text-align: right;\n    }\n</style>\n<table border=\"1\" class=\"dataframe\">\n  <thead>\n    <tr style=\"text-align: right;\">\n      <th></th>\n      <th>a</th>\n      <th>b</th>\n    </tr>\n  </thead>\n  <tbody>\n    <tr>\n      <th>0</th>\n      <td>1</td>\n      <td>2</td>\n    </tr>\n    <tr>\n      <th>1</th>\n      <td>6</td>\n      <td>4</td>\n    </tr>\n  </tbody>\n</table>\n</div>"
     },
     "execution_count": 21,
     "metadata": {},
     "output_type": "execute_result"
    }
   ],
   "source": [
    "import pandas as pd\n",
    "a = pd.DataFrame([[1, 2], [3, 4]], columns=['a', 'b'])\n",
    "a['a'] = a['a'].apply(lambda x: 2 * x if x != 1 else x)\n",
    "a"
   ],
   "metadata": {
    "collapsed": false,
    "ExecuteTime": {
     "end_time": "2023-05-27T13:39:11.703856Z",
     "start_time": "2023-05-27T13:39:11.700052Z"
    }
   }
  },
  {
   "cell_type": "code",
   "execution_count": 20,
   "outputs": [
    {
     "data": {
      "text/plain": "   a  b   c\n0  1  2   3\n1  6  4  10",
      "text/html": "<div>\n<style scoped>\n    .dataframe tbody tr th:only-of-type {\n        vertical-align: middle;\n    }\n\n    .dataframe tbody tr th {\n        vertical-align: top;\n    }\n\n    .dataframe thead th {\n        text-align: right;\n    }\n</style>\n<table border=\"1\" class=\"dataframe\">\n  <thead>\n    <tr style=\"text-align: right;\">\n      <th></th>\n      <th>a</th>\n      <th>b</th>\n      <th>c</th>\n    </tr>\n  </thead>\n  <tbody>\n    <tr>\n      <th>0</th>\n      <td>1</td>\n      <td>2</td>\n      <td>3</td>\n    </tr>\n    <tr>\n      <th>1</th>\n      <td>6</td>\n      <td>4</td>\n      <td>10</td>\n    </tr>\n  </tbody>\n</table>\n</div>"
     },
     "execution_count": 20,
     "metadata": {},
     "output_type": "execute_result"
    }
   ],
   "source": [
    "a['c'] = a.apply(lambda x: x['a'] + x['b'] if x['a'] != 1 else x['a'], axis=1)\n",
    "a"
   ],
   "metadata": {
    "collapsed": false,
    "ExecuteTime": {
     "end_time": "2023-05-27T13:38:42.191955Z",
     "start_time": "2023-05-27T13:38:42.184704Z"
    }
   }
  },
  {
   "cell_type": "code",
   "execution_count": 23,
   "outputs": [
    {
     "data": {
      "text/plain": "a    7\nb    6\ndtype: int64"
     },
     "execution_count": 23,
     "metadata": {},
     "output_type": "execute_result"
    }
   ],
   "source": [
    "a.apply(lambda x: x.sum(), axis=0)"
   ],
   "metadata": {
    "collapsed": false,
    "ExecuteTime": {
     "end_time": "2023-05-27T13:41:04.212720Z",
     "start_time": "2023-05-27T13:41:04.209980Z"
    }
   }
  }
 ],
 "metadata": {
  "kernelspec": {
   "display_name": "Python 3",
   "language": "python",
   "name": "python3"
  },
  "language_info": {
   "codemirror_mode": {
    "name": "ipython",
    "version": 2
   },
   "file_extension": ".py",
   "mimetype": "text/x-python",
   "name": "python",
   "nbconvert_exporter": "python",
   "pygments_lexer": "ipython2",
   "version": "2.7.6"
  }
 },
 "nbformat": 4,
 "nbformat_minor": 0
}
