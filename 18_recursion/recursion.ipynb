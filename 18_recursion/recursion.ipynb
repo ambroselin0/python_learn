{
 "cells": [
  {
   "cell_type": "markdown",
   "source": [
    "# 递归（Recursion）\n",
    "\n",
    "指的是一种通过重复将原问题分解为同类的子问题而解决的方法。在绝大数编程语言中，可以通过在函数中再次调用函数自身的方式来实现递归。\n",
    "\n",
    "比如阶乘的计算方法在数学上的定义为：\n",
    "\n",
    "$$\n",
    "n! = fact(n) =\n",
    "\\{\n",
    "\\begin{aligned}\n",
    "&1 &,n = 0 \\\\\n",
    "&n * fact(n-1) &,n > 0 \\\\\n",
    "\\end{aligned}\n",
    "$$\n",
    "\n",
    "```text\n",
    "fact(6)\n",
    "= 6 * fact(5)\n",
    "= 6 * (5 * fact(4))\n",
    "= 6 * (5 * (4 * fact(3)))\n",
    "= 6 * (5 * (4 * (3 * fact(2))))\n",
    "= 6 * (5 * (4 * (3 * (2 * fact(1)))))\n",
    "= 6 * (5 * (4 * (3 * (2 * (1 * fact(0))))))\n",
    "= 6 * (5 * (4 * (3 * (2 * (1 * 1)))))\n",
    "= 6 * (5 * (4 * (3 * (2 * 1))))\n",
    "= 6 * (5 * (4 * (3 * 2)))\n",
    "= 6 * (5 * (4 * 6))\n",
    "= 6 * (5 * 24)\n",
    "= 6 * 120\n",
    "= 720\n",
    "```"
   ],
   "metadata": {
    "collapsed": false
   }
  },
  {
   "cell_type": "code",
   "execution_count": 1,
   "outputs": [
    {
     "data": {
      "text/plain": "720"
     },
     "execution_count": 1,
     "metadata": {},
     "output_type": "execute_result"
    }
   ],
   "source": [
    "def fact(n):\n",
    "    if n == 0:\n",
    "        return 1\n",
    "    return n *fact(n-1)\n",
    "fact(6)"
   ],
   "metadata": {
    "collapsed": false,
    "ExecuteTime": {
     "end_time": "2023-07-30T08:45:34.299588700Z",
     "start_time": "2023-07-30T08:45:34.289834Z"
    }
   }
  },
  {
   "cell_type": "markdown",
   "source": [
    "fact函数的递归计算过程分为两个部分：\n",
    "\n",
    "1. 先逐层向下调用自身，直到达到结束条件（即 __n == 0__）。\n",
    "2. 然后再向上逐层返回结果，直到返回原问题的解（即返回 __fact(6) == 720__）。\n",
    "\n",
    "递归分为两个部分：递推过程 和 回归过程\n",
    "- 递推过程：指的是将原问题一层一层地分解为与原问题形式相同、规模更小的子问题，直到达到结束条件时停止，此时返回最底层子问题的解。\n",
    "- 回归过程：指的是从最底层子问题的解开始，逆向逐一回归，最终达到递推开始时的原问题，返回原问题的解。"
   ],
   "metadata": {
    "collapsed": false
   }
  },
  {
   "cell_type": "code",
   "execution_count": 2,
   "outputs": [
    {
     "name": "stdout",
     "output_type": "stream",
     "text": [
      "29.1 µs ± 173 ns per loop (mean ± std. dev. of 7 runs, 10,000 loops each)\n"
     ]
    }
   ],
   "source": [
    "%%timeit\n",
    "# 求列表和\n",
    "def list_sum(num_list):\n",
    "    result = 0\n",
    "    for i in num_list:\n",
    "        result = result + i\n",
    "    return result\n",
    "l = [x for x in range(1000)]\n",
    "list_sum(l)"
   ],
   "metadata": {
    "collapsed": false,
    "ExecuteTime": {
     "end_time": "2023-07-30T08:45:36.674935300Z",
     "start_time": "2023-07-30T08:45:34.299588700Z"
    }
   }
  },
  {
   "cell_type": "code",
   "execution_count": 3,
   "outputs": [
    {
     "name": "stdout",
     "output_type": "stream",
     "text": [
      "1.14 ms ± 114 µs per loop (mean ± std. dev. of 7 runs, 1,000 loops each)\n"
     ]
    }
   ],
   "source": [
    "%%timeit\n",
    "# 求列表和递归版\n",
    "def list_sum_recursion(num_list):\n",
    "    if len(num_list) == 1:\n",
    "        return num_list[0]\n",
    "    return num_list[0] + list_sum_recursion(num_list[1:])\n",
    "l = [x for x in range(1000)]\n",
    "list_sum_recursion(l)"
   ],
   "metadata": {
    "collapsed": false,
    "ExecuteTime": {
     "end_time": "2023-07-30T08:45:46.661087300Z",
     "start_time": "2023-07-30T08:45:36.675932300Z"
    }
   }
  },
  {
   "cell_type": "markdown",
   "source": [
    "## 如何写递归\n",
    "\n",
    "1. 写出递推公式：找到将原问题分解为子问题的规律，并且根据规律写出递推公式。\n",
    "2. 明确终止条件：推敲出递归的终止条件，以及递归终止时的处理方法。\n",
    "3. 将递推公式和终止条件翻译成代码：\n",
    "3.1. 定义递归函数（明确函数意义、传入参数、返回结果等）。\n",
    "3.2. 书写递归主体（提取重复的逻辑，缩小问题规模）。\n",
    "3.3. 明确递归终止条件（给出递归终止条件，以及递归终止时的处理方法）。\n",
    "\n",
    "leetcode\n",
    "- 509\n",
    "- 344\n",
    "- 24\n",
    "- 118\n",
    "- 119\n",
    "- 206\n",
    "- 21\n",
    "- 70\n",
    "- 50"
   ],
   "metadata": {
    "collapsed": false
   }
  }
 ],
 "metadata": {
  "kernelspec": {
   "display_name": "Python 3",
   "language": "python",
   "name": "python3"
  },
  "language_info": {
   "codemirror_mode": {
    "name": "ipython",
    "version": 2
   },
   "file_extension": ".py",
   "mimetype": "text/x-python",
   "name": "python",
   "nbconvert_exporter": "python",
   "pygments_lexer": "ipython2",
   "version": "2.7.6"
  }
 },
 "nbformat": 4,
 "nbformat_minor": 0
}
