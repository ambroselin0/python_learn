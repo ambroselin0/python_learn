{
 "cells": [
  {
   "cell_type": "code",
   "execution_count": 2,
   "metadata": {
    "collapsed": true,
    "ExecuteTime": {
     "start_time": "2023-04-13T21:37:41.217486Z",
     "end_time": "2023-04-13T21:37:41.378052Z"
    }
   },
   "outputs": [],
   "source": [
    "import pandas as pd\n",
    "from sklearn.preprocessing import OneHotEncoder\n",
    "from sklearn.ensemble import RandomForestRegressor\n",
    "\n",
    "from data_split import data_split_generator\n",
    "from sklearn.metrics import mean_squared_error, mean_absolute_error, mean_absolute_percentage_error\n",
    "import numpy as np\n",
    "from tqdm import tqdm"
   ]
  },
  {
   "cell_type": "code",
   "execution_count": 5,
   "outputs": [],
   "source": [
    "def make_x_y(data: pd.DataFrame, month_encoder:OneHotEncoder = None):\n",
    "    data = data.copy(deep=True)\n",
    "    data.reset_index(drop=True, inplace=True)\n",
    "    data.drop(columns=['dates', 'target_dates'], inplace=True)\n",
    "    if month_encoder is None:\n",
    "        month_encoder = OneHotEncoder()\n",
    "        month_encoder.fit(data[['month']])\n",
    "    month = month_encoder.transform(data[['month']]).toarray()\n",
    "    month = pd.DataFrame(month, columns=[str(x) for x in month_encoder.categories_[0].tolist()])\n",
    "    data:pd.DataFrame = pd.concat([data, month], axis = 1)\n",
    "    Y = data.pop('target_sunspots')\n",
    "    return data , Y, month_encoder\n",
    "def get_metric(y_true, y_predict):\n",
    "    RMSE = np.sqrt(mean_squared_error(y_true, y_predict))\n",
    "    # MAE = mean_absolute_error(y_true, y_predict)\n",
    "    # MAPE = mean_absolute_percentage_error(y_true, y_predict)\n",
    "    return RMSE\n",
    "\n",
    "# train_x, train_y, month_encoder = make_x_y(train_data)\n",
    "# train_x"
   ],
   "metadata": {
    "collapsed": false,
    "ExecuteTime": {
     "start_time": "2023-04-13T21:45:02.686911Z",
     "end_time": "2023-04-13T21:45:02.697911Z"
    }
   }
  },
  {
   "cell_type": "code",
   "execution_count": 8,
   "outputs": [
    {
     "name": "stderr",
     "output_type": "stream",
     "text": [
      "100%|██████████| 13/13 [00:05<00:00,  2.22it/s]\n"
     ]
    },
    {
     "data": {
      "text/plain": "47.67446510209752"
     },
     "execution_count": 8,
     "metadata": {},
     "output_type": "execute_result"
    }
   ],
   "source": [
    "final_metric = []\n",
    "for j in tqdm(range(120, 133)):\n",
    "    data = pd.read_csv(f'./data/processed_data_{j}.csv')\n",
    "    data['target_dates'] = pd.to_datetime(data['target_dates'])\n",
    "    data_split = data_split_generator(data)\n",
    "    month_encoder = None\n",
    "    metrics = []\n",
    "    for train_data, vali_data in data_split:\n",
    "        train_x, train_y, month_encoder = make_x_y(train_data, month_encoder)\n",
    "        rf = RandomForestRegressor(n_jobs=4)\n",
    "        rf.fit(X=train_x, y=train_y)\n",
    "        vali_x, vali_y, month_encoder = make_x_y(vali_data, month_encoder)\n",
    "        predict = rf.predict(vali_x)\n",
    "        metric = get_metric(vali_y, predict)\n",
    "        metrics.append(metric)\n",
    "    metrics = np.mean(metrics)\n",
    "metrics"
   ],
   "metadata": {
    "collapsed": false,
    "ExecuteTime": {
     "start_time": "2023-04-13T21:48:51.047101Z",
     "end_time": "2023-04-13T21:48:56.902691Z"
    }
   }
  }
 ],
 "metadata": {
  "kernelspec": {
   "display_name": "Python 3",
   "language": "python",
   "name": "python3"
  },
  "language_info": {
   "codemirror_mode": {
    "name": "ipython",
    "version": 2
   },
   "file_extension": ".py",
   "mimetype": "text/x-python",
   "name": "python",
   "nbconvert_exporter": "python",
   "pygments_lexer": "ipython2",
   "version": "2.7.6"
  }
 },
 "nbformat": 4,
 "nbformat_minor": 0
}
