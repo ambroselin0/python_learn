{
 "cells": [
  {
   "cell_type": "code",
   "execution_count": 5,
   "metadata": {
    "collapsed": true,
    "ExecuteTime": {
     "start_time": "2023-04-15T22:20:06.733044Z",
     "end_time": "2023-04-15T22:20:06.735627Z"
    }
   },
   "outputs": [],
   "source": [
    "import pandas as pd\n",
    "from sklearn.preprocessing import OneHotEncoder\n",
    "from sklearn.ensemble import RandomForestRegressor\n",
    "\n",
    "from data_split import data_split_generator\n",
    "from sklearn.metrics import mean_squared_error, mean_absolute_error, mean_absolute_percentage_error\n",
    "import numpy as np\n",
    "from tqdm import tqdm\n",
    "from itertools import product"
   ]
  },
  {
   "cell_type": "code",
   "execution_count": 17,
   "outputs": [
    {
     "data": {
      "text/plain": "[(0, 0),\n (0, 1),\n (0, 2),\n (1, 0),\n (1, 1),\n (1, 2),\n (2, 0),\n (2, 1),\n (2, 2),\n (3, 0),\n (3, 1),\n (3, 2),\n (4, 0),\n (4, 1),\n (4, 2),\n (5, 0),\n (5, 1),\n (5, 2),\n (6, 0),\n (6, 1),\n (6, 2),\n (7, 0),\n (7, 1),\n (7, 2),\n (8, 0),\n (8, 1),\n (8, 2),\n (9, 0),\n (9, 1),\n (9, 2)]"
     },
     "execution_count": 17,
     "metadata": {},
     "output_type": "execute_result"
    }
   ],
   "source": [
    "[x for x in product(range(10), range(3))]"
   ],
   "metadata": {
    "collapsed": false,
    "ExecuteTime": {
     "start_time": "2023-04-15T22:09:48.010310Z",
     "end_time": "2023-04-15T22:09:48.015410Z"
    }
   }
  },
  {
   "cell_type": "code",
   "execution_count": 21,
   "outputs": [],
   "source": [
    "def make_x_y(data: pd.DataFrame):\n",
    "    data = data.copy(deep=True)\n",
    "    data.reset_index(drop=True, inplace=True)\n",
    "    # data['']\n",
    "    data.drop(columns=['dates', 'target_dates'], inplace=True)\n",
    "    # month = month_encoder.transform(data[['month']]).toarray()\n",
    "    # month = pd.DataFrame(month, columns=[str(x) for x in month_encoder.categories_[0].tolist()])\n",
    "    # data:pd.DataFrame = pd.concat([data, month], axis = 1)\n",
    "    Y = data.pop('target_sunspots')\n",
    "    return data , Y\n",
    "def get_metric(y_true, y_predict):\n",
    "    RMSE = np.sqrt(mean_squared_error(y_true, y_predict))\n",
    "    # MAE = mean_absolute_error(y_true, y_predict)\n",
    "    # MAPE = mean_absolute_percentage_error(y_true, y_predict)\n",
    "    return RMSE\n",
    "\n",
    "# train_x, train_y, month_encoder = make_x_y(train_data)\n",
    "# train_x"
   ],
   "metadata": {
    "collapsed": false,
    "ExecuteTime": {
     "start_time": "2023-04-15T22:13:40.301446Z",
     "end_time": "2023-04-15T22:13:40.305925Z"
    }
   }
  },
  {
   "cell_type": "code",
   "execution_count": 27,
   "outputs": [
    {
     "name": "stderr",
     "output_type": "stream",
     "text": [
      "100%|██████████| 13/13 [02:02<00:00,  9.43s/it]\n"
     ]
    },
    {
     "data": {
      "text/plain": "       m  n_estimators  max_depth       criterion    metrics\n0    120            40         40   squared_error  41.250023\n1    120            40         40  absolute_error  40.460128\n2    120            40         40    friedman_mse  40.449779\n3    120            40         40         poisson  40.537333\n4    120            40         45   squared_error  41.535371\n..   ...           ...        ...             ...        ...\n463  132            50         45         poisson  39.844058\n464  132            50         50   squared_error  41.208686\n465  132            50         50  absolute_error  41.456766\n466  132            50         50    friedman_mse  41.169469\n467  132            50         50         poisson  39.742187\n\n[468 rows x 5 columns]",
      "text/html": "<div>\n<style scoped>\n    .dataframe tbody tr th:only-of-type {\n        vertical-align: middle;\n    }\n\n    .dataframe tbody tr th {\n        vertical-align: top;\n    }\n\n    .dataframe thead th {\n        text-align: right;\n    }\n</style>\n<table border=\"1\" class=\"dataframe\">\n  <thead>\n    <tr style=\"text-align: right;\">\n      <th></th>\n      <th>m</th>\n      <th>n_estimators</th>\n      <th>max_depth</th>\n      <th>criterion</th>\n      <th>metrics</th>\n    </tr>\n  </thead>\n  <tbody>\n    <tr>\n      <th>0</th>\n      <td>120</td>\n      <td>40</td>\n      <td>40</td>\n      <td>squared_error</td>\n      <td>41.250023</td>\n    </tr>\n    <tr>\n      <th>1</th>\n      <td>120</td>\n      <td>40</td>\n      <td>40</td>\n      <td>absolute_error</td>\n      <td>40.460128</td>\n    </tr>\n    <tr>\n      <th>2</th>\n      <td>120</td>\n      <td>40</td>\n      <td>40</td>\n      <td>friedman_mse</td>\n      <td>40.449779</td>\n    </tr>\n    <tr>\n      <th>3</th>\n      <td>120</td>\n      <td>40</td>\n      <td>40</td>\n      <td>poisson</td>\n      <td>40.537333</td>\n    </tr>\n    <tr>\n      <th>4</th>\n      <td>120</td>\n      <td>40</td>\n      <td>45</td>\n      <td>squared_error</td>\n      <td>41.535371</td>\n    </tr>\n    <tr>\n      <th>...</th>\n      <td>...</td>\n      <td>...</td>\n      <td>...</td>\n      <td>...</td>\n      <td>...</td>\n    </tr>\n    <tr>\n      <th>463</th>\n      <td>132</td>\n      <td>50</td>\n      <td>45</td>\n      <td>poisson</td>\n      <td>39.844058</td>\n    </tr>\n    <tr>\n      <th>464</th>\n      <td>132</td>\n      <td>50</td>\n      <td>50</td>\n      <td>squared_error</td>\n      <td>41.208686</td>\n    </tr>\n    <tr>\n      <th>465</th>\n      <td>132</td>\n      <td>50</td>\n      <td>50</td>\n      <td>absolute_error</td>\n      <td>41.456766</td>\n    </tr>\n    <tr>\n      <th>466</th>\n      <td>132</td>\n      <td>50</td>\n      <td>50</td>\n      <td>friedman_mse</td>\n      <td>41.169469</td>\n    </tr>\n    <tr>\n      <th>467</th>\n      <td>132</td>\n      <td>50</td>\n      <td>50</td>\n      <td>poisson</td>\n      <td>39.742187</td>\n    </tr>\n  </tbody>\n</table>\n<p>468 rows × 5 columns</p>\n</div>"
     },
     "execution_count": 27,
     "metadata": {},
     "output_type": "execute_result"
    }
   ],
   "source": [
    "final_metric = []\n",
    "for j in tqdm(range(120, 133)):\n",
    "    data = pd.read_csv(f'./data/pca_data_{j}.csv')\n",
    "    data['target_dates'] = pd.to_datetime(data['target_dates'])\n",
    "    n_estimators = range(40, 51, 5)\n",
    "    max_depth = range(40, 51, 5)\n",
    "    criterion = ['squared_error', 'absolute_error', 'friedman_mse', 'poisson']\n",
    "    for n_estimators, max_depth, criterion in product(n_estimators, max_depth, criterion):\n",
    "        metrics = []\n",
    "        data_split = data_split_generator(data)\n",
    "        for train_data, vali_data in data_split:\n",
    "            train_x, train_y = make_x_y(train_data)\n",
    "            rf = RandomForestRegressor(n_jobs=6, n_estimators=n_estimators, max_depth=max_depth, criterion=criterion)\n",
    "            rf.fit(X=train_x, y=train_y)\n",
    "            vali_x, vali_y = make_x_y(vali_data)\n",
    "            predict = rf.predict(vali_x)\n",
    "            metric = get_metric(vali_y, predict)\n",
    "            metrics.append(metric)\n",
    "        metrics = np.mean(metrics)\n",
    "        final_metric.append([j, n_estimators, max_depth, criterion, metrics])\n",
    "\n",
    "final_metric = pd.DataFrame(final_metric, columns=['m', 'n_estimators', 'max_depth', 'criterion', 'metrics'])\n",
    "final_metric"
   ],
   "metadata": {
    "collapsed": false,
    "ExecuteTime": {
     "start_time": "2023-04-15T22:33:01.931993Z",
     "end_time": "2023-04-15T22:35:04.547291Z"
    }
   }
  },
  {
   "cell_type": "code",
   "execution_count": 28,
   "outputs": [
    {
     "name": "stderr",
     "output_type": "stream",
     "text": [
      "/var/folders/ph/g14_8mqx0kb1gfr_kzfhtfvr0000gn/T/ipykernel_30735/3729959501.py:1: FutureWarning: The default value of numeric_only in DataFrameGroupBy.mean is deprecated. In a future version, numeric_only will default to False. Either specify numeric_only or select only columns which should be valid for the function.\n",
      "  final_metric[final_metric.m == 120].groupby('max_depth').mean()\n"
     ]
    },
    {
     "data": {
      "text/plain": "               m  n_estimators    metrics\nmax_depth                                \n40         120.0          45.0  40.713972\n45         120.0          45.0  40.851335\n50         120.0          45.0  40.755335",
      "text/html": "<div>\n<style scoped>\n    .dataframe tbody tr th:only-of-type {\n        vertical-align: middle;\n    }\n\n    .dataframe tbody tr th {\n        vertical-align: top;\n    }\n\n    .dataframe thead th {\n        text-align: right;\n    }\n</style>\n<table border=\"1\" class=\"dataframe\">\n  <thead>\n    <tr style=\"text-align: right;\">\n      <th></th>\n      <th>m</th>\n      <th>n_estimators</th>\n      <th>metrics</th>\n    </tr>\n    <tr>\n      <th>max_depth</th>\n      <th></th>\n      <th></th>\n      <th></th>\n    </tr>\n  </thead>\n  <tbody>\n    <tr>\n      <th>40</th>\n      <td>120.0</td>\n      <td>45.0</td>\n      <td>40.713972</td>\n    </tr>\n    <tr>\n      <th>45</th>\n      <td>120.0</td>\n      <td>45.0</td>\n      <td>40.851335</td>\n    </tr>\n    <tr>\n      <th>50</th>\n      <td>120.0</td>\n      <td>45.0</td>\n      <td>40.755335</td>\n    </tr>\n  </tbody>\n</table>\n</div>"
     },
     "execution_count": 28,
     "metadata": {},
     "output_type": "execute_result"
    }
   ],
   "source": [
    "final_metric[final_metric.m == 120].groupby('max_depth').mean()"
   ],
   "metadata": {
    "collapsed": false,
    "ExecuteTime": {
     "start_time": "2023-04-15T22:35:04.548460Z",
     "end_time": "2023-04-15T22:35:04.553323Z"
    }
   }
  },
  {
   "cell_type": "code",
   "execution_count": 30,
   "outputs": [
    {
     "data": {
      "text/plain": "       m  n_estimators  max_depth       criterion    metrics  rank\n29   120            50         45  absolute_error  40.011518   1.0\n63   121            50         40         poisson  39.719431   1.0\n84   122            45         40   squared_error  39.882804   1.0\n109  123            40         40  absolute_error  42.479966   1.0\n146  124            40         40    friedman_mse  41.172862   1.0\n201  125            45         50  absolute_error  40.441631   1.0\n233  126            45         45  absolute_error  40.004152   1.0\n267  127            45         40         poisson  39.050921   1.0\n301  128            45         40  absolute_error  38.571412   1.0\n327  129            40         40         poisson  38.792511   1.0\n372  130            45         40   squared_error  39.760621   1.0\n411  131            45         40         poisson  40.621239   1.0\n467  132            50         50         poisson  39.742187   1.0",
      "text/html": "<div>\n<style scoped>\n    .dataframe tbody tr th:only-of-type {\n        vertical-align: middle;\n    }\n\n    .dataframe tbody tr th {\n        vertical-align: top;\n    }\n\n    .dataframe thead th {\n        text-align: right;\n    }\n</style>\n<table border=\"1\" class=\"dataframe\">\n  <thead>\n    <tr style=\"text-align: right;\">\n      <th></th>\n      <th>m</th>\n      <th>n_estimators</th>\n      <th>max_depth</th>\n      <th>criterion</th>\n      <th>metrics</th>\n      <th>rank</th>\n    </tr>\n  </thead>\n  <tbody>\n    <tr>\n      <th>29</th>\n      <td>120</td>\n      <td>50</td>\n      <td>45</td>\n      <td>absolute_error</td>\n      <td>40.011518</td>\n      <td>1.0</td>\n    </tr>\n    <tr>\n      <th>63</th>\n      <td>121</td>\n      <td>50</td>\n      <td>40</td>\n      <td>poisson</td>\n      <td>39.719431</td>\n      <td>1.0</td>\n    </tr>\n    <tr>\n      <th>84</th>\n      <td>122</td>\n      <td>45</td>\n      <td>40</td>\n      <td>squared_error</td>\n      <td>39.882804</td>\n      <td>1.0</td>\n    </tr>\n    <tr>\n      <th>109</th>\n      <td>123</td>\n      <td>40</td>\n      <td>40</td>\n      <td>absolute_error</td>\n      <td>42.479966</td>\n      <td>1.0</td>\n    </tr>\n    <tr>\n      <th>146</th>\n      <td>124</td>\n      <td>40</td>\n      <td>40</td>\n      <td>friedman_mse</td>\n      <td>41.172862</td>\n      <td>1.0</td>\n    </tr>\n    <tr>\n      <th>201</th>\n      <td>125</td>\n      <td>45</td>\n      <td>50</td>\n      <td>absolute_error</td>\n      <td>40.441631</td>\n      <td>1.0</td>\n    </tr>\n    <tr>\n      <th>233</th>\n      <td>126</td>\n      <td>45</td>\n      <td>45</td>\n      <td>absolute_error</td>\n      <td>40.004152</td>\n      <td>1.0</td>\n    </tr>\n    <tr>\n      <th>267</th>\n      <td>127</td>\n      <td>45</td>\n      <td>40</td>\n      <td>poisson</td>\n      <td>39.050921</td>\n      <td>1.0</td>\n    </tr>\n    <tr>\n      <th>301</th>\n      <td>128</td>\n      <td>45</td>\n      <td>40</td>\n      <td>absolute_error</td>\n      <td>38.571412</td>\n      <td>1.0</td>\n    </tr>\n    <tr>\n      <th>327</th>\n      <td>129</td>\n      <td>40</td>\n      <td>40</td>\n      <td>poisson</td>\n      <td>38.792511</td>\n      <td>1.0</td>\n    </tr>\n    <tr>\n      <th>372</th>\n      <td>130</td>\n      <td>45</td>\n      <td>40</td>\n      <td>squared_error</td>\n      <td>39.760621</td>\n      <td>1.0</td>\n    </tr>\n    <tr>\n      <th>411</th>\n      <td>131</td>\n      <td>45</td>\n      <td>40</td>\n      <td>poisson</td>\n      <td>40.621239</td>\n      <td>1.0</td>\n    </tr>\n    <tr>\n      <th>467</th>\n      <td>132</td>\n      <td>50</td>\n      <td>50</td>\n      <td>poisson</td>\n      <td>39.742187</td>\n      <td>1.0</td>\n    </tr>\n  </tbody>\n</table>\n</div>"
     },
     "execution_count": 30,
     "metadata": {},
     "output_type": "execute_result"
    }
   ],
   "source": [
    "final_metric[\"rank\"] = final_metric.groupby(['m'])['metrics'].rank(method=\"dense\", ascending=True)\n",
    "final_metric[final_metric['rank'] == 1.0]"
   ],
   "metadata": {
    "collapsed": false,
    "ExecuteTime": {
     "start_time": "2023-04-15T22:35:04.561973Z",
     "end_time": "2023-04-15T22:35:04.604891Z"
    }
   }
  }
 ],
 "metadata": {
  "kernelspec": {
   "display_name": "Python 3",
   "language": "python",
   "name": "python3"
  },
  "language_info": {
   "codemirror_mode": {
    "name": "ipython",
    "version": 2
   },
   "file_extension": ".py",
   "mimetype": "text/x-python",
   "name": "python",
   "nbconvert_exporter": "python",
   "pygments_lexer": "ipython2",
   "version": "2.7.6"
  }
 },
 "nbformat": 4,
 "nbformat_minor": 0
}
