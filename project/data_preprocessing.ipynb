{
 "cells": [
  {
   "cell_type": "code",
   "execution_count": 1,
   "metadata": {
    "collapsed": true,
    "ExecuteTime": {
     "start_time": "2023-04-09T21:29:00.985752Z",
     "end_time": "2023-04-09T21:29:01.063898Z"
    }
   },
   "outputs": [],
   "source": [
    "import pandas as pd\n",
    "import pandasql as ps"
   ]
  },
  {
   "cell_type": "markdown",
   "source": [
    "# read data and check"
   ],
   "metadata": {
    "collapsed": false
   }
  },
  {
   "cell_type": "code",
   "execution_count": 2,
   "outputs": [
    {
     "data": {
      "text/plain": "      sunspots      dates\n0         58.0 1749-01-31\n1         62.6 1749-02-28\n2         70.0 1749-03-31\n3         55.7 1749-04-30\n4         85.0 1749-05-31\n...        ...        ...\n2815      71.8 1983-08-31\n2816      50.3 1983-09-30\n2817      55.8 1983-10-31\n2818      33.3 1983-11-30\n2819      33.4 1983-12-31\n\n[2820 rows x 2 columns]",
      "text/html": "<div>\n<style scoped>\n    .dataframe tbody tr th:only-of-type {\n        vertical-align: middle;\n    }\n\n    .dataframe tbody tr th {\n        vertical-align: top;\n    }\n\n    .dataframe thead th {\n        text-align: right;\n    }\n</style>\n<table border=\"1\" class=\"dataframe\">\n  <thead>\n    <tr style=\"text-align: right;\">\n      <th></th>\n      <th>sunspots</th>\n      <th>dates</th>\n    </tr>\n  </thead>\n  <tbody>\n    <tr>\n      <th>0</th>\n      <td>58.0</td>\n      <td>1749-01-31</td>\n    </tr>\n    <tr>\n      <th>1</th>\n      <td>62.6</td>\n      <td>1749-02-28</td>\n    </tr>\n    <tr>\n      <th>2</th>\n      <td>70.0</td>\n      <td>1749-03-31</td>\n    </tr>\n    <tr>\n      <th>3</th>\n      <td>55.7</td>\n      <td>1749-04-30</td>\n    </tr>\n    <tr>\n      <th>4</th>\n      <td>85.0</td>\n      <td>1749-05-31</td>\n    </tr>\n    <tr>\n      <th>...</th>\n      <td>...</td>\n      <td>...</td>\n    </tr>\n    <tr>\n      <th>2815</th>\n      <td>71.8</td>\n      <td>1983-08-31</td>\n    </tr>\n    <tr>\n      <th>2816</th>\n      <td>50.3</td>\n      <td>1983-09-30</td>\n    </tr>\n    <tr>\n      <th>2817</th>\n      <td>55.8</td>\n      <td>1983-10-31</td>\n    </tr>\n    <tr>\n      <th>2818</th>\n      <td>33.3</td>\n      <td>1983-11-30</td>\n    </tr>\n    <tr>\n      <th>2819</th>\n      <td>33.4</td>\n      <td>1983-12-31</td>\n    </tr>\n  </tbody>\n</table>\n<p>2820 rows × 2 columns</p>\n</div>"
     },
     "execution_count": 2,
     "metadata": {},
     "output_type": "execute_result"
    }
   ],
   "source": [
    "data = pd.read_csv('./data/data.csv')\n",
    "data.rename(columns={'Month': 'month', 'Sunspots': 'sunspots'}, inplace=True)\n",
    "data['dates'] = data['month'] + '-01'\n",
    "data['dates'] = pd.to_datetime(data['dates'])\n",
    "data.drop(columns=['month'], inplace=True)\n",
    "data['dates'] = data['dates'] + pd.offsets.MonthEnd(0)\n",
    "data"
   ],
   "metadata": {
    "collapsed": false,
    "ExecuteTime": {
     "start_time": "2023-04-09T21:29:01.064717Z",
     "end_time": "2023-04-09T21:29:01.076126Z"
    }
   }
  },
  {
   "cell_type": "code",
   "execution_count": 3,
   "outputs": [
    {
     "data": {
      "text/plain": "Empty DataFrame\nColumns: [sunspots, dates]\nIndex: []",
      "text/html": "<div>\n<style scoped>\n    .dataframe tbody tr th:only-of-type {\n        vertical-align: middle;\n    }\n\n    .dataframe tbody tr th {\n        vertical-align: top;\n    }\n\n    .dataframe thead th {\n        text-align: right;\n    }\n</style>\n<table border=\"1\" class=\"dataframe\">\n  <thead>\n    <tr style=\"text-align: right;\">\n      <th></th>\n      <th>sunspots</th>\n      <th>dates</th>\n    </tr>\n  </thead>\n  <tbody>\n  </tbody>\n</table>\n</div>"
     },
     "execution_count": 3,
     "metadata": {},
     "output_type": "execute_result"
    }
   ],
   "source": [
    "# data has no duplicates\n",
    "data[data.duplicated(subset=['dates'], keep=False)]"
   ],
   "metadata": {
    "collapsed": false,
    "ExecuteTime": {
     "start_time": "2023-04-09T21:29:01.078077Z",
     "end_time": "2023-04-09T21:29:01.081703Z"
    }
   }
  },
  {
   "cell_type": "code",
   "execution_count": 4,
   "outputs": [
    {
     "data": {
      "text/plain": "(Timestamp('1749-01-31 00:00:00'), Timestamp('1983-12-31 00:00:00'))"
     },
     "execution_count": 4,
     "metadata": {},
     "output_type": "execute_result"
    }
   ],
   "source": [
    "data.dates.min(), data.dates.max()"
   ],
   "metadata": {
    "collapsed": false,
    "ExecuteTime": {
     "start_time": "2023-04-09T21:29:01.081781Z",
     "end_time": "2023-04-09T21:29:01.084119Z"
    }
   }
  },
  {
   "cell_type": "code",
   "execution_count": 5,
   "outputs": [
    {
     "data": {
      "text/plain": "sunspots    0\ndates       0\ndtype: int64"
     },
     "execution_count": 5,
     "metadata": {},
     "output_type": "execute_result"
    }
   ],
   "source": [
    "# value is na?\n",
    "data.isna().sum()"
   ],
   "metadata": {
    "collapsed": false,
    "ExecuteTime": {
     "start_time": "2023-04-09T21:29:01.085953Z",
     "end_time": "2023-04-09T21:29:01.096440Z"
    }
   }
  },
  {
   "cell_type": "code",
   "execution_count": 6,
   "outputs": [
    {
     "data": {
      "text/plain": "(2820, 2)"
     },
     "execution_count": 6,
     "metadata": {},
     "output_type": "execute_result"
    }
   ],
   "source": [
    "data.shape"
   ],
   "metadata": {
    "collapsed": false,
    "ExecuteTime": {
     "start_time": "2023-04-09T21:29:01.089177Z",
     "end_time": "2023-04-09T21:29:01.131166Z"
    }
   }
  },
  {
   "cell_type": "markdown",
   "source": [
    "# feature engineering"
   ],
   "metadata": {
    "collapsed": false
   }
  },
  {
   "cell_type": "code",
   "execution_count": 7,
   "outputs": [
    {
     "data": {
      "text/plain": "      sunspots      dates  year  month\n0         58.0 1749-01-31  1749      1\n1         62.6 1749-02-28  1749      2\n2         70.0 1749-03-31  1749      3\n3         55.7 1749-04-30  1749      4\n4         85.0 1749-05-31  1749      5\n...        ...        ...   ...    ...\n2815      71.8 1983-08-31  1983      8\n2816      50.3 1983-09-30  1983      9\n2817      55.8 1983-10-31  1983     10\n2818      33.3 1983-11-30  1983     11\n2819      33.4 1983-12-31  1983     12\n\n[2820 rows x 4 columns]",
      "text/html": "<div>\n<style scoped>\n    .dataframe tbody tr th:only-of-type {\n        vertical-align: middle;\n    }\n\n    .dataframe tbody tr th {\n        vertical-align: top;\n    }\n\n    .dataframe thead th {\n        text-align: right;\n    }\n</style>\n<table border=\"1\" class=\"dataframe\">\n  <thead>\n    <tr style=\"text-align: right;\">\n      <th></th>\n      <th>sunspots</th>\n      <th>dates</th>\n      <th>year</th>\n      <th>month</th>\n    </tr>\n  </thead>\n  <tbody>\n    <tr>\n      <th>0</th>\n      <td>58.0</td>\n      <td>1749-01-31</td>\n      <td>1749</td>\n      <td>1</td>\n    </tr>\n    <tr>\n      <th>1</th>\n      <td>62.6</td>\n      <td>1749-02-28</td>\n      <td>1749</td>\n      <td>2</td>\n    </tr>\n    <tr>\n      <th>2</th>\n      <td>70.0</td>\n      <td>1749-03-31</td>\n      <td>1749</td>\n      <td>3</td>\n    </tr>\n    <tr>\n      <th>3</th>\n      <td>55.7</td>\n      <td>1749-04-30</td>\n      <td>1749</td>\n      <td>4</td>\n    </tr>\n    <tr>\n      <th>4</th>\n      <td>85.0</td>\n      <td>1749-05-31</td>\n      <td>1749</td>\n      <td>5</td>\n    </tr>\n    <tr>\n      <th>...</th>\n      <td>...</td>\n      <td>...</td>\n      <td>...</td>\n      <td>...</td>\n    </tr>\n    <tr>\n      <th>2815</th>\n      <td>71.8</td>\n      <td>1983-08-31</td>\n      <td>1983</td>\n      <td>8</td>\n    </tr>\n    <tr>\n      <th>2816</th>\n      <td>50.3</td>\n      <td>1983-09-30</td>\n      <td>1983</td>\n      <td>9</td>\n    </tr>\n    <tr>\n      <th>2817</th>\n      <td>55.8</td>\n      <td>1983-10-31</td>\n      <td>1983</td>\n      <td>10</td>\n    </tr>\n    <tr>\n      <th>2818</th>\n      <td>33.3</td>\n      <td>1983-11-30</td>\n      <td>1983</td>\n      <td>11</td>\n    </tr>\n    <tr>\n      <th>2819</th>\n      <td>33.4</td>\n      <td>1983-12-31</td>\n      <td>1983</td>\n      <td>12</td>\n    </tr>\n  </tbody>\n</table>\n<p>2820 rows × 4 columns</p>\n</div>"
     },
     "execution_count": 7,
     "metadata": {},
     "output_type": "execute_result"
    }
   ],
   "source": [
    "# month, year\n",
    "f_data = data.copy(deep=True)\n",
    "f_data['year'] = f_data['dates'].dt.year\n",
    "f_data['month'] = f_data['dates'].dt.month\n",
    "f_data"
   ],
   "metadata": {
    "collapsed": false,
    "ExecuteTime": {
     "start_time": "2023-04-09T21:29:01.092356Z",
     "end_time": "2023-04-09T21:29:01.131651Z"
    }
   }
  },
  {
   "cell_type": "code",
   "execution_count": 8,
   "outputs": [
    {
     "data": {
      "text/plain": "      sunspots                       dates  year  month  lag_1_sunspots  \\\n0         58.0  1749-01-31 00:00:00.000000  1749      1             NaN   \n1         62.6  1749-02-28 00:00:00.000000  1749      2            58.0   \n2         70.0  1749-03-31 00:00:00.000000  1749      3            62.6   \n3         55.7  1749-04-30 00:00:00.000000  1749      4            70.0   \n4         85.0  1749-05-31 00:00:00.000000  1749      5            55.7   \n...        ...                         ...   ...    ...             ...   \n2815      71.8  1983-08-31 00:00:00.000000  1983      8            82.2   \n2816      50.3  1983-09-30 00:00:00.000000  1983      9            71.8   \n2817      55.8  1983-10-31 00:00:00.000000  1983     10            50.3   \n2818      33.3  1983-11-30 00:00:00.000000  1983     11            55.8   \n2819      33.4  1983-12-31 00:00:00.000000  1983     12            33.3   \n\n      lag_2_sunspots  lag_3_sunspots  lag_4_sunspots  lag_5_sunspots  \\\n0                NaN             NaN             NaN             NaN   \n1                NaN             NaN             NaN             NaN   \n2               58.0             NaN             NaN             NaN   \n3               62.6            58.0             NaN             NaN   \n4               70.0            62.6            58.0             NaN   \n...              ...             ...             ...             ...   \n2815            91.1            99.2            80.7            66.5   \n2816            82.2            91.1            99.2            80.7   \n2817            71.8            82.2            91.1            99.2   \n2818            50.3            71.8            82.2            91.1   \n2819            55.8            50.3            71.8            82.2   \n\n      lag_6_sunspots  lag_12_sunspots  lag_24_sunspots  lag_36_sunspots  \n0                NaN              NaN              NaN              NaN  \n1                NaN              NaN              NaN              NaN  \n2                NaN              NaN              NaN              NaN  \n3                NaN              NaN              NaN              NaN  \n4                NaN              NaN              NaN              NaN  \n...              ...              ...              ...              ...  \n2815            51.0            107.6            158.7            135.4  \n2816            66.5            118.8            167.3            155.0  \n2817            80.7             94.7            162.4            164.7  \n2818            99.2             98.1            137.5            147.9  \n2819            91.1            127.0            150.1            174.4  \n\n[2820 rows x 13 columns]",
      "text/html": "<div>\n<style scoped>\n    .dataframe tbody tr th:only-of-type {\n        vertical-align: middle;\n    }\n\n    .dataframe tbody tr th {\n        vertical-align: top;\n    }\n\n    .dataframe thead th {\n        text-align: right;\n    }\n</style>\n<table border=\"1\" class=\"dataframe\">\n  <thead>\n    <tr style=\"text-align: right;\">\n      <th></th>\n      <th>sunspots</th>\n      <th>dates</th>\n      <th>year</th>\n      <th>month</th>\n      <th>lag_1_sunspots</th>\n      <th>lag_2_sunspots</th>\n      <th>lag_3_sunspots</th>\n      <th>lag_4_sunspots</th>\n      <th>lag_5_sunspots</th>\n      <th>lag_6_sunspots</th>\n      <th>lag_12_sunspots</th>\n      <th>lag_24_sunspots</th>\n      <th>lag_36_sunspots</th>\n    </tr>\n  </thead>\n  <tbody>\n    <tr>\n      <th>0</th>\n      <td>58.0</td>\n      <td>1749-01-31 00:00:00.000000</td>\n      <td>1749</td>\n      <td>1</td>\n      <td>NaN</td>\n      <td>NaN</td>\n      <td>NaN</td>\n      <td>NaN</td>\n      <td>NaN</td>\n      <td>NaN</td>\n      <td>NaN</td>\n      <td>NaN</td>\n      <td>NaN</td>\n    </tr>\n    <tr>\n      <th>1</th>\n      <td>62.6</td>\n      <td>1749-02-28 00:00:00.000000</td>\n      <td>1749</td>\n      <td>2</td>\n      <td>58.0</td>\n      <td>NaN</td>\n      <td>NaN</td>\n      <td>NaN</td>\n      <td>NaN</td>\n      <td>NaN</td>\n      <td>NaN</td>\n      <td>NaN</td>\n      <td>NaN</td>\n    </tr>\n    <tr>\n      <th>2</th>\n      <td>70.0</td>\n      <td>1749-03-31 00:00:00.000000</td>\n      <td>1749</td>\n      <td>3</td>\n      <td>62.6</td>\n      <td>58.0</td>\n      <td>NaN</td>\n      <td>NaN</td>\n      <td>NaN</td>\n      <td>NaN</td>\n      <td>NaN</td>\n      <td>NaN</td>\n      <td>NaN</td>\n    </tr>\n    <tr>\n      <th>3</th>\n      <td>55.7</td>\n      <td>1749-04-30 00:00:00.000000</td>\n      <td>1749</td>\n      <td>4</td>\n      <td>70.0</td>\n      <td>62.6</td>\n      <td>58.0</td>\n      <td>NaN</td>\n      <td>NaN</td>\n      <td>NaN</td>\n      <td>NaN</td>\n      <td>NaN</td>\n      <td>NaN</td>\n    </tr>\n    <tr>\n      <th>4</th>\n      <td>85.0</td>\n      <td>1749-05-31 00:00:00.000000</td>\n      <td>1749</td>\n      <td>5</td>\n      <td>55.7</td>\n      <td>70.0</td>\n      <td>62.6</td>\n      <td>58.0</td>\n      <td>NaN</td>\n      <td>NaN</td>\n      <td>NaN</td>\n      <td>NaN</td>\n      <td>NaN</td>\n    </tr>\n    <tr>\n      <th>...</th>\n      <td>...</td>\n      <td>...</td>\n      <td>...</td>\n      <td>...</td>\n      <td>...</td>\n      <td>...</td>\n      <td>...</td>\n      <td>...</td>\n      <td>...</td>\n      <td>...</td>\n      <td>...</td>\n      <td>...</td>\n      <td>...</td>\n    </tr>\n    <tr>\n      <th>2815</th>\n      <td>71.8</td>\n      <td>1983-08-31 00:00:00.000000</td>\n      <td>1983</td>\n      <td>8</td>\n      <td>82.2</td>\n      <td>91.1</td>\n      <td>99.2</td>\n      <td>80.7</td>\n      <td>66.5</td>\n      <td>51.0</td>\n      <td>107.6</td>\n      <td>158.7</td>\n      <td>135.4</td>\n    </tr>\n    <tr>\n      <th>2816</th>\n      <td>50.3</td>\n      <td>1983-09-30 00:00:00.000000</td>\n      <td>1983</td>\n      <td>9</td>\n      <td>71.8</td>\n      <td>82.2</td>\n      <td>91.1</td>\n      <td>99.2</td>\n      <td>80.7</td>\n      <td>66.5</td>\n      <td>118.8</td>\n      <td>167.3</td>\n      <td>155.0</td>\n    </tr>\n    <tr>\n      <th>2817</th>\n      <td>55.8</td>\n      <td>1983-10-31 00:00:00.000000</td>\n      <td>1983</td>\n      <td>10</td>\n      <td>50.3</td>\n      <td>71.8</td>\n      <td>82.2</td>\n      <td>91.1</td>\n      <td>99.2</td>\n      <td>80.7</td>\n      <td>94.7</td>\n      <td>162.4</td>\n      <td>164.7</td>\n    </tr>\n    <tr>\n      <th>2818</th>\n      <td>33.3</td>\n      <td>1983-11-30 00:00:00.000000</td>\n      <td>1983</td>\n      <td>11</td>\n      <td>55.8</td>\n      <td>50.3</td>\n      <td>71.8</td>\n      <td>82.2</td>\n      <td>91.1</td>\n      <td>99.2</td>\n      <td>98.1</td>\n      <td>137.5</td>\n      <td>147.9</td>\n    </tr>\n    <tr>\n      <th>2819</th>\n      <td>33.4</td>\n      <td>1983-12-31 00:00:00.000000</td>\n      <td>1983</td>\n      <td>12</td>\n      <td>33.3</td>\n      <td>55.8</td>\n      <td>50.3</td>\n      <td>71.8</td>\n      <td>82.2</td>\n      <td>91.1</td>\n      <td>127.0</td>\n      <td>150.1</td>\n      <td>174.4</td>\n    </tr>\n  </tbody>\n</table>\n<p>2820 rows × 13 columns</p>\n</div>"
     },
     "execution_count": 8,
     "metadata": {},
     "output_type": "execute_result"
    }
   ],
   "source": [
    "# lag\n",
    "sql = f\"\"\"select *,\n",
    "    LAG(sunspots, 1) OVER(ORDER BY year, month) AS lag_1_sunspots,\n",
    "    LAG(sunspots, 2) OVER(ORDER BY year, month) AS lag_2_sunspots,\n",
    "    LAG(sunspots, 3) OVER(ORDER BY year, month) AS lag_3_sunspots,\n",
    "    LAG(sunspots, 4) OVER(ORDER BY year, month) AS lag_4_sunspots,\n",
    "    LAG(sunspots, 5) OVER(ORDER BY year, month) AS lag_5_sunspots,\n",
    "    LAG(sunspots, 6) OVER(ORDER BY year, month) AS lag_6_sunspots,\n",
    "    LAG(sunspots, 12) OVER(ORDER BY year, month) AS lag_12_sunspots,\n",
    "    LAG(sunspots, 24) OVER(ORDER BY year, month) AS lag_24_sunspots,\n",
    "    LAG(sunspots, 36) OVER(ORDER BY year, month) AS lag_36_sunspots\n",
    "from f_data\n",
    "\"\"\"\n",
    "f_data = ps.sqldf(sql, locals())\n",
    "f_data"
   ],
   "metadata": {
    "collapsed": false,
    "ExecuteTime": {
     "start_time": "2023-04-09T21:29:01.099758Z",
     "end_time": "2023-04-09T21:29:01.174677Z"
    }
   }
  },
  {
   "cell_type": "code",
   "execution_count": 9,
   "outputs": [
    {
     "data": {
      "text/plain": "      sunspots                       dates  year  month  lag_1_sunspots  \\\n0         58.0  1749-01-31 00:00:00.000000  1749      1             NaN   \n1         62.6  1749-02-28 00:00:00.000000  1749      2            58.0   \n2         70.0  1749-03-31 00:00:00.000000  1749      3            62.6   \n3         55.7  1749-04-30 00:00:00.000000  1749      4            70.0   \n4         85.0  1749-05-31 00:00:00.000000  1749      5            55.7   \n...        ...                         ...   ...    ...             ...   \n2815      71.8  1983-08-31 00:00:00.000000  1983      8            82.2   \n2816      50.3  1983-09-30 00:00:00.000000  1983      9            71.8   \n2817      55.8  1983-10-31 00:00:00.000000  1983     10            50.3   \n2818      33.3  1983-11-30 00:00:00.000000  1983     11            55.8   \n2819      33.4  1983-12-31 00:00:00.000000  1983     12            33.3   \n\n      lag_2_sunspots  lag_3_sunspots  lag_4_sunspots  lag_5_sunspots  \\\n0                NaN             NaN             NaN             NaN   \n1                NaN             NaN             NaN             NaN   \n2               58.0             NaN             NaN             NaN   \n3               62.6            58.0             NaN             NaN   \n4               70.0            62.6            58.0             NaN   \n...              ...             ...             ...             ...   \n2815            91.1            99.2            80.7            66.5   \n2816            82.2            91.1            99.2            80.7   \n2817            71.8            82.2            91.1            99.2   \n2818            50.3            71.8            82.2            91.1   \n2819            55.8            50.3            71.8            82.2   \n\n      lag_6_sunspots  lag_12_sunspots  lag_24_sunspots  lag_36_sunspots  \\\n0                NaN              NaN              NaN              NaN   \n1                NaN              NaN              NaN              NaN   \n2                NaN              NaN              NaN              NaN   \n3                NaN              NaN              NaN              NaN   \n4                NaN              NaN              NaN              NaN   \n...              ...              ...              ...              ...   \n2815            51.0            107.6            158.7            135.4   \n2816            66.5            118.8            167.3            155.0   \n2817            80.7             94.7            162.4            164.7   \n2818            99.2             98.1            137.5            147.9   \n2819            91.1            127.0            150.1            174.4   \n\n      avg_3_sunspots  avg_6_sunspots  avg_12_sunspots  avg_24_sunspots  \\\n0          58.000000       58.000000        58.000000        58.000000   \n1          60.300000       60.300000        60.300000        60.300000   \n2          63.533333       63.533333        63.533333        63.533333   \n3          62.766667       61.575000        61.575000        61.575000   \n4          70.233333       66.260000        66.260000        66.260000   \n...              ...             ...              ...              ...   \n2815       81.700000       81.916667        88.783333       109.983333   \n2816       68.100000       79.216667        83.075000       105.108333   \n2817       59.300000       75.066667        79.833333       100.666667   \n2818       46.466667       64.083333        74.433333        96.325000   \n2819       40.833333       54.466667        66.633333        91.462500   \n\n      avg_36_sunspots  \n0           58.000000  \n1           60.300000  \n2           63.533333  \n3           61.575000  \n4           66.260000  \n...               ...  \n2815       120.800000  \n2816       117.891667  \n2817       114.866667  \n2818       111.683333  \n2819       107.766667  \n\n[2820 rows x 18 columns]",
      "text/html": "<div>\n<style scoped>\n    .dataframe tbody tr th:only-of-type {\n        vertical-align: middle;\n    }\n\n    .dataframe tbody tr th {\n        vertical-align: top;\n    }\n\n    .dataframe thead th {\n        text-align: right;\n    }\n</style>\n<table border=\"1\" class=\"dataframe\">\n  <thead>\n    <tr style=\"text-align: right;\">\n      <th></th>\n      <th>sunspots</th>\n      <th>dates</th>\n      <th>year</th>\n      <th>month</th>\n      <th>lag_1_sunspots</th>\n      <th>lag_2_sunspots</th>\n      <th>lag_3_sunspots</th>\n      <th>lag_4_sunspots</th>\n      <th>lag_5_sunspots</th>\n      <th>lag_6_sunspots</th>\n      <th>lag_12_sunspots</th>\n      <th>lag_24_sunspots</th>\n      <th>lag_36_sunspots</th>\n      <th>avg_3_sunspots</th>\n      <th>avg_6_sunspots</th>\n      <th>avg_12_sunspots</th>\n      <th>avg_24_sunspots</th>\n      <th>avg_36_sunspots</th>\n    </tr>\n  </thead>\n  <tbody>\n    <tr>\n      <th>0</th>\n      <td>58.0</td>\n      <td>1749-01-31 00:00:00.000000</td>\n      <td>1749</td>\n      <td>1</td>\n      <td>NaN</td>\n      <td>NaN</td>\n      <td>NaN</td>\n      <td>NaN</td>\n      <td>NaN</td>\n      <td>NaN</td>\n      <td>NaN</td>\n      <td>NaN</td>\n      <td>NaN</td>\n      <td>58.000000</td>\n      <td>58.000000</td>\n      <td>58.000000</td>\n      <td>58.000000</td>\n      <td>58.000000</td>\n    </tr>\n    <tr>\n      <th>1</th>\n      <td>62.6</td>\n      <td>1749-02-28 00:00:00.000000</td>\n      <td>1749</td>\n      <td>2</td>\n      <td>58.0</td>\n      <td>NaN</td>\n      <td>NaN</td>\n      <td>NaN</td>\n      <td>NaN</td>\n      <td>NaN</td>\n      <td>NaN</td>\n      <td>NaN</td>\n      <td>NaN</td>\n      <td>60.300000</td>\n      <td>60.300000</td>\n      <td>60.300000</td>\n      <td>60.300000</td>\n      <td>60.300000</td>\n    </tr>\n    <tr>\n      <th>2</th>\n      <td>70.0</td>\n      <td>1749-03-31 00:00:00.000000</td>\n      <td>1749</td>\n      <td>3</td>\n      <td>62.6</td>\n      <td>58.0</td>\n      <td>NaN</td>\n      <td>NaN</td>\n      <td>NaN</td>\n      <td>NaN</td>\n      <td>NaN</td>\n      <td>NaN</td>\n      <td>NaN</td>\n      <td>63.533333</td>\n      <td>63.533333</td>\n      <td>63.533333</td>\n      <td>63.533333</td>\n      <td>63.533333</td>\n    </tr>\n    <tr>\n      <th>3</th>\n      <td>55.7</td>\n      <td>1749-04-30 00:00:00.000000</td>\n      <td>1749</td>\n      <td>4</td>\n      <td>70.0</td>\n      <td>62.6</td>\n      <td>58.0</td>\n      <td>NaN</td>\n      <td>NaN</td>\n      <td>NaN</td>\n      <td>NaN</td>\n      <td>NaN</td>\n      <td>NaN</td>\n      <td>62.766667</td>\n      <td>61.575000</td>\n      <td>61.575000</td>\n      <td>61.575000</td>\n      <td>61.575000</td>\n    </tr>\n    <tr>\n      <th>4</th>\n      <td>85.0</td>\n      <td>1749-05-31 00:00:00.000000</td>\n      <td>1749</td>\n      <td>5</td>\n      <td>55.7</td>\n      <td>70.0</td>\n      <td>62.6</td>\n      <td>58.0</td>\n      <td>NaN</td>\n      <td>NaN</td>\n      <td>NaN</td>\n      <td>NaN</td>\n      <td>NaN</td>\n      <td>70.233333</td>\n      <td>66.260000</td>\n      <td>66.260000</td>\n      <td>66.260000</td>\n      <td>66.260000</td>\n    </tr>\n    <tr>\n      <th>...</th>\n      <td>...</td>\n      <td>...</td>\n      <td>...</td>\n      <td>...</td>\n      <td>...</td>\n      <td>...</td>\n      <td>...</td>\n      <td>...</td>\n      <td>...</td>\n      <td>...</td>\n      <td>...</td>\n      <td>...</td>\n      <td>...</td>\n      <td>...</td>\n      <td>...</td>\n      <td>...</td>\n      <td>...</td>\n      <td>...</td>\n    </tr>\n    <tr>\n      <th>2815</th>\n      <td>71.8</td>\n      <td>1983-08-31 00:00:00.000000</td>\n      <td>1983</td>\n      <td>8</td>\n      <td>82.2</td>\n      <td>91.1</td>\n      <td>99.2</td>\n      <td>80.7</td>\n      <td>66.5</td>\n      <td>51.0</td>\n      <td>107.6</td>\n      <td>158.7</td>\n      <td>135.4</td>\n      <td>81.700000</td>\n      <td>81.916667</td>\n      <td>88.783333</td>\n      <td>109.983333</td>\n      <td>120.800000</td>\n    </tr>\n    <tr>\n      <th>2816</th>\n      <td>50.3</td>\n      <td>1983-09-30 00:00:00.000000</td>\n      <td>1983</td>\n      <td>9</td>\n      <td>71.8</td>\n      <td>82.2</td>\n      <td>91.1</td>\n      <td>99.2</td>\n      <td>80.7</td>\n      <td>66.5</td>\n      <td>118.8</td>\n      <td>167.3</td>\n      <td>155.0</td>\n      <td>68.100000</td>\n      <td>79.216667</td>\n      <td>83.075000</td>\n      <td>105.108333</td>\n      <td>117.891667</td>\n    </tr>\n    <tr>\n      <th>2817</th>\n      <td>55.8</td>\n      <td>1983-10-31 00:00:00.000000</td>\n      <td>1983</td>\n      <td>10</td>\n      <td>50.3</td>\n      <td>71.8</td>\n      <td>82.2</td>\n      <td>91.1</td>\n      <td>99.2</td>\n      <td>80.7</td>\n      <td>94.7</td>\n      <td>162.4</td>\n      <td>164.7</td>\n      <td>59.300000</td>\n      <td>75.066667</td>\n      <td>79.833333</td>\n      <td>100.666667</td>\n      <td>114.866667</td>\n    </tr>\n    <tr>\n      <th>2818</th>\n      <td>33.3</td>\n      <td>1983-11-30 00:00:00.000000</td>\n      <td>1983</td>\n      <td>11</td>\n      <td>55.8</td>\n      <td>50.3</td>\n      <td>71.8</td>\n      <td>82.2</td>\n      <td>91.1</td>\n      <td>99.2</td>\n      <td>98.1</td>\n      <td>137.5</td>\n      <td>147.9</td>\n      <td>46.466667</td>\n      <td>64.083333</td>\n      <td>74.433333</td>\n      <td>96.325000</td>\n      <td>111.683333</td>\n    </tr>\n    <tr>\n      <th>2819</th>\n      <td>33.4</td>\n      <td>1983-12-31 00:00:00.000000</td>\n      <td>1983</td>\n      <td>12</td>\n      <td>33.3</td>\n      <td>55.8</td>\n      <td>50.3</td>\n      <td>71.8</td>\n      <td>82.2</td>\n      <td>91.1</td>\n      <td>127.0</td>\n      <td>150.1</td>\n      <td>174.4</td>\n      <td>40.833333</td>\n      <td>54.466667</td>\n      <td>66.633333</td>\n      <td>91.462500</td>\n      <td>107.766667</td>\n    </tr>\n  </tbody>\n</table>\n<p>2820 rows × 18 columns</p>\n</div>"
     },
     "execution_count": 9,
     "metadata": {},
     "output_type": "execute_result"
    }
   ],
   "source": [
    "# roll_avg\n",
    "sql = f\"\"\"select *,\n",
    "    avg(sunspots) OVER(ORDER BY year, month rows between 2 preceding and current row) AS avg_3_sunspots,\n",
    "    avg(sunspots) OVER(ORDER BY year, month rows between 5 preceding and current row) AS avg_6_sunspots,\n",
    "    avg(sunspots) OVER(ORDER BY year, month rows between 11 preceding and current row) AS avg_12_sunspots,\n",
    "    avg(sunspots) OVER(ORDER BY year, month rows between 23 preceding and current row) AS avg_24_sunspots,\n",
    "    avg(sunspots) OVER(ORDER BY year, month rows between 35 preceding and current row) AS avg_36_sunspots\n",
    "from f_data\n",
    "\"\"\"\n",
    "f_data = ps.sqldf(sql, locals())\n",
    "f_data"
   ],
   "metadata": {
    "collapsed": false,
    "ExecuteTime": {
     "start_time": "2023-04-09T21:29:01.146577Z",
     "end_time": "2023-04-09T21:29:01.247120Z"
    }
   }
  },
  {
   "cell_type": "code",
   "execution_count": 10,
   "outputs": [
    {
     "data": {
      "text/plain": "      sunspots                       dates  year  month  lag_1_sunspots  \\\n0         58.0  1749-01-31 00:00:00.000000  1749      1             NaN   \n1         62.6  1749-02-28 00:00:00.000000  1749      2            58.0   \n2         70.0  1749-03-31 00:00:00.000000  1749      3            62.6   \n3         55.7  1749-04-30 00:00:00.000000  1749      4            70.0   \n4         85.0  1749-05-31 00:00:00.000000  1749      5            55.7   \n...        ...                         ...   ...    ...             ...   \n2815      71.8  1983-08-31 00:00:00.000000  1983      8            82.2   \n2816      50.3  1983-09-30 00:00:00.000000  1983      9            71.8   \n2817      55.8  1983-10-31 00:00:00.000000  1983     10            50.3   \n2818      33.3  1983-11-30 00:00:00.000000  1983     11            55.8   \n2819      33.4  1983-12-31 00:00:00.000000  1983     12            33.3   \n\n      lag_2_sunspots  lag_3_sunspots  lag_4_sunspots  lag_5_sunspots  \\\n0                NaN             NaN             NaN             NaN   \n1                NaN             NaN             NaN             NaN   \n2               58.0             NaN             NaN             NaN   \n3               62.6            58.0             NaN             NaN   \n4               70.0            62.6            58.0             NaN   \n...              ...             ...             ...             ...   \n2815            91.1            99.2            80.7            66.5   \n2816            82.2            91.1            99.2            80.7   \n2817            71.8            82.2            91.1            99.2   \n2818            50.3            71.8            82.2            91.1   \n2819            55.8            50.3            71.8            82.2   \n\n      lag_6_sunspots  ...  lag_24_sunspots  lag_36_sunspots  avg_3_sunspots  \\\n0                NaN  ...              NaN              NaN       58.000000   \n1                NaN  ...              NaN              NaN       60.300000   \n2                NaN  ...              NaN              NaN       63.533333   \n3                NaN  ...              NaN              NaN       62.766667   \n4                NaN  ...              NaN              NaN       70.233333   \n...              ...  ...              ...              ...             ...   \n2815            51.0  ...            158.7            135.4       81.700000   \n2816            66.5  ...            167.3            155.0       68.100000   \n2817            80.7  ...            162.4            164.7       59.300000   \n2818            99.2  ...            137.5            147.9       46.466667   \n2819            91.1  ...            150.1            174.4       40.833333   \n\n      avg_6_sunspots  avg_12_sunspots  avg_24_sunspots  avg_36_sunspots  \\\n0          58.000000        58.000000        58.000000        58.000000   \n1          60.300000        60.300000        60.300000        60.300000   \n2          63.533333        63.533333        63.533333        63.533333   \n3          61.575000        61.575000        61.575000        61.575000   \n4          66.260000        66.260000        66.260000        66.260000   \n...              ...              ...              ...              ...   \n2815       81.916667        88.783333       109.983333       120.800000   \n2816       79.216667        83.075000       105.108333       117.891667   \n2817       75.066667        79.833333       100.666667       114.866667   \n2818       64.083333        74.433333        96.325000       111.683333   \n2819       54.466667        66.633333        91.462500       107.766667   \n\n      roll_max_sunspots  roll_min_sunspots  roll_avg_sunspots  \n0                  58.0               58.0          58.000000  \n1                  62.6               58.0          60.300000  \n2                  70.0               58.0          63.533333  \n3                  70.0               55.7          61.575000  \n4                  85.0               55.7          66.260000  \n...                 ...                ...                ...  \n2815              253.8                0.0          51.277415  \n2816              253.8                0.0          51.277068  \n2817              253.8                0.0          51.278673  \n2818              253.8                0.0          51.272295  \n2819              253.8                0.0          51.265957  \n\n[2820 rows x 21 columns]",
      "text/html": "<div>\n<style scoped>\n    .dataframe tbody tr th:only-of-type {\n        vertical-align: middle;\n    }\n\n    .dataframe tbody tr th {\n        vertical-align: top;\n    }\n\n    .dataframe thead th {\n        text-align: right;\n    }\n</style>\n<table border=\"1\" class=\"dataframe\">\n  <thead>\n    <tr style=\"text-align: right;\">\n      <th></th>\n      <th>sunspots</th>\n      <th>dates</th>\n      <th>year</th>\n      <th>month</th>\n      <th>lag_1_sunspots</th>\n      <th>lag_2_sunspots</th>\n      <th>lag_3_sunspots</th>\n      <th>lag_4_sunspots</th>\n      <th>lag_5_sunspots</th>\n      <th>lag_6_sunspots</th>\n      <th>...</th>\n      <th>lag_24_sunspots</th>\n      <th>lag_36_sunspots</th>\n      <th>avg_3_sunspots</th>\n      <th>avg_6_sunspots</th>\n      <th>avg_12_sunspots</th>\n      <th>avg_24_sunspots</th>\n      <th>avg_36_sunspots</th>\n      <th>roll_max_sunspots</th>\n      <th>roll_min_sunspots</th>\n      <th>roll_avg_sunspots</th>\n    </tr>\n  </thead>\n  <tbody>\n    <tr>\n      <th>0</th>\n      <td>58.0</td>\n      <td>1749-01-31 00:00:00.000000</td>\n      <td>1749</td>\n      <td>1</td>\n      <td>NaN</td>\n      <td>NaN</td>\n      <td>NaN</td>\n      <td>NaN</td>\n      <td>NaN</td>\n      <td>NaN</td>\n      <td>...</td>\n      <td>NaN</td>\n      <td>NaN</td>\n      <td>58.000000</td>\n      <td>58.000000</td>\n      <td>58.000000</td>\n      <td>58.000000</td>\n      <td>58.000000</td>\n      <td>58.0</td>\n      <td>58.0</td>\n      <td>58.000000</td>\n    </tr>\n    <tr>\n      <th>1</th>\n      <td>62.6</td>\n      <td>1749-02-28 00:00:00.000000</td>\n      <td>1749</td>\n      <td>2</td>\n      <td>58.0</td>\n      <td>NaN</td>\n      <td>NaN</td>\n      <td>NaN</td>\n      <td>NaN</td>\n      <td>NaN</td>\n      <td>...</td>\n      <td>NaN</td>\n      <td>NaN</td>\n      <td>60.300000</td>\n      <td>60.300000</td>\n      <td>60.300000</td>\n      <td>60.300000</td>\n      <td>60.300000</td>\n      <td>62.6</td>\n      <td>58.0</td>\n      <td>60.300000</td>\n    </tr>\n    <tr>\n      <th>2</th>\n      <td>70.0</td>\n      <td>1749-03-31 00:00:00.000000</td>\n      <td>1749</td>\n      <td>3</td>\n      <td>62.6</td>\n      <td>58.0</td>\n      <td>NaN</td>\n      <td>NaN</td>\n      <td>NaN</td>\n      <td>NaN</td>\n      <td>...</td>\n      <td>NaN</td>\n      <td>NaN</td>\n      <td>63.533333</td>\n      <td>63.533333</td>\n      <td>63.533333</td>\n      <td>63.533333</td>\n      <td>63.533333</td>\n      <td>70.0</td>\n      <td>58.0</td>\n      <td>63.533333</td>\n    </tr>\n    <tr>\n      <th>3</th>\n      <td>55.7</td>\n      <td>1749-04-30 00:00:00.000000</td>\n      <td>1749</td>\n      <td>4</td>\n      <td>70.0</td>\n      <td>62.6</td>\n      <td>58.0</td>\n      <td>NaN</td>\n      <td>NaN</td>\n      <td>NaN</td>\n      <td>...</td>\n      <td>NaN</td>\n      <td>NaN</td>\n      <td>62.766667</td>\n      <td>61.575000</td>\n      <td>61.575000</td>\n      <td>61.575000</td>\n      <td>61.575000</td>\n      <td>70.0</td>\n      <td>55.7</td>\n      <td>61.575000</td>\n    </tr>\n    <tr>\n      <th>4</th>\n      <td>85.0</td>\n      <td>1749-05-31 00:00:00.000000</td>\n      <td>1749</td>\n      <td>5</td>\n      <td>55.7</td>\n      <td>70.0</td>\n      <td>62.6</td>\n      <td>58.0</td>\n      <td>NaN</td>\n      <td>NaN</td>\n      <td>...</td>\n      <td>NaN</td>\n      <td>NaN</td>\n      <td>70.233333</td>\n      <td>66.260000</td>\n      <td>66.260000</td>\n      <td>66.260000</td>\n      <td>66.260000</td>\n      <td>85.0</td>\n      <td>55.7</td>\n      <td>66.260000</td>\n    </tr>\n    <tr>\n      <th>...</th>\n      <td>...</td>\n      <td>...</td>\n      <td>...</td>\n      <td>...</td>\n      <td>...</td>\n      <td>...</td>\n      <td>...</td>\n      <td>...</td>\n      <td>...</td>\n      <td>...</td>\n      <td>...</td>\n      <td>...</td>\n      <td>...</td>\n      <td>...</td>\n      <td>...</td>\n      <td>...</td>\n      <td>...</td>\n      <td>...</td>\n      <td>...</td>\n      <td>...</td>\n      <td>...</td>\n    </tr>\n    <tr>\n      <th>2815</th>\n      <td>71.8</td>\n      <td>1983-08-31 00:00:00.000000</td>\n      <td>1983</td>\n      <td>8</td>\n      <td>82.2</td>\n      <td>91.1</td>\n      <td>99.2</td>\n      <td>80.7</td>\n      <td>66.5</td>\n      <td>51.0</td>\n      <td>...</td>\n      <td>158.7</td>\n      <td>135.4</td>\n      <td>81.700000</td>\n      <td>81.916667</td>\n      <td>88.783333</td>\n      <td>109.983333</td>\n      <td>120.800000</td>\n      <td>253.8</td>\n      <td>0.0</td>\n      <td>51.277415</td>\n    </tr>\n    <tr>\n      <th>2816</th>\n      <td>50.3</td>\n      <td>1983-09-30 00:00:00.000000</td>\n      <td>1983</td>\n      <td>9</td>\n      <td>71.8</td>\n      <td>82.2</td>\n      <td>91.1</td>\n      <td>99.2</td>\n      <td>80.7</td>\n      <td>66.5</td>\n      <td>...</td>\n      <td>167.3</td>\n      <td>155.0</td>\n      <td>68.100000</td>\n      <td>79.216667</td>\n      <td>83.075000</td>\n      <td>105.108333</td>\n      <td>117.891667</td>\n      <td>253.8</td>\n      <td>0.0</td>\n      <td>51.277068</td>\n    </tr>\n    <tr>\n      <th>2817</th>\n      <td>55.8</td>\n      <td>1983-10-31 00:00:00.000000</td>\n      <td>1983</td>\n      <td>10</td>\n      <td>50.3</td>\n      <td>71.8</td>\n      <td>82.2</td>\n      <td>91.1</td>\n      <td>99.2</td>\n      <td>80.7</td>\n      <td>...</td>\n      <td>162.4</td>\n      <td>164.7</td>\n      <td>59.300000</td>\n      <td>75.066667</td>\n      <td>79.833333</td>\n      <td>100.666667</td>\n      <td>114.866667</td>\n      <td>253.8</td>\n      <td>0.0</td>\n      <td>51.278673</td>\n    </tr>\n    <tr>\n      <th>2818</th>\n      <td>33.3</td>\n      <td>1983-11-30 00:00:00.000000</td>\n      <td>1983</td>\n      <td>11</td>\n      <td>55.8</td>\n      <td>50.3</td>\n      <td>71.8</td>\n      <td>82.2</td>\n      <td>91.1</td>\n      <td>99.2</td>\n      <td>...</td>\n      <td>137.5</td>\n      <td>147.9</td>\n      <td>46.466667</td>\n      <td>64.083333</td>\n      <td>74.433333</td>\n      <td>96.325000</td>\n      <td>111.683333</td>\n      <td>253.8</td>\n      <td>0.0</td>\n      <td>51.272295</td>\n    </tr>\n    <tr>\n      <th>2819</th>\n      <td>33.4</td>\n      <td>1983-12-31 00:00:00.000000</td>\n      <td>1983</td>\n      <td>12</td>\n      <td>33.3</td>\n      <td>55.8</td>\n      <td>50.3</td>\n      <td>71.8</td>\n      <td>82.2</td>\n      <td>91.1</td>\n      <td>...</td>\n      <td>150.1</td>\n      <td>174.4</td>\n      <td>40.833333</td>\n      <td>54.466667</td>\n      <td>66.633333</td>\n      <td>91.462500</td>\n      <td>107.766667</td>\n      <td>253.8</td>\n      <td>0.0</td>\n      <td>51.265957</td>\n    </tr>\n  </tbody>\n</table>\n<p>2820 rows × 21 columns</p>\n</div>"
     },
     "execution_count": 10,
     "metadata": {},
     "output_type": "execute_result"
    }
   ],
   "source": [
    "# his_avg/min/max\n",
    "sql = f\"\"\"select *,\n",
    "    max(sunspots) OVER(ORDER BY year, month rows between unbounded preceding and current row) AS roll_max_sunspots,\n",
    "    min(sunspots) OVER(ORDER BY year, month rows between unbounded preceding and current row) AS roll_min_sunspots,\n",
    "    avg(sunspots) OVER(ORDER BY year, month rows between unbounded preceding and current row) AS roll_avg_sunspots\n",
    "from f_data\n",
    "\"\"\"\n",
    "f_data = ps.sqldf(sql, locals())\n",
    "f_data"
   ],
   "metadata": {
    "collapsed": false,
    "ExecuteTime": {
     "start_time": "2023-04-09T21:29:01.234435Z",
     "end_time": "2023-04-09T21:29:01.295873Z"
    }
   }
  },
  {
   "cell_type": "code",
   "execution_count": 11,
   "outputs": [],
   "source": [
    "f_data['dates'] = pd.to_datetime(f_data['dates'])\n",
    "f_data:pd.DataFrame"
   ],
   "metadata": {
    "collapsed": false,
    "ExecuteTime": {
     "start_time": "2023-04-09T21:29:01.282619Z",
     "end_time": "2023-04-09T21:29:01.309099Z"
    }
   }
  },
  {
   "cell_type": "code",
   "execution_count": 12,
   "outputs": [
    {
     "data": {
      "text/plain": "(2784, 21)"
     },
     "execution_count": 12,
     "metadata": {},
     "output_type": "execute_result"
    }
   ],
   "source": [
    "f_data.dropna(subset=['lag_36_sunspots'], inplace=True)\n",
    "f_data.shape"
   ],
   "metadata": {
    "collapsed": false,
    "ExecuteTime": {
     "start_time": "2023-04-09T21:29:01.287650Z",
     "end_time": "2023-04-09T21:29:01.309378Z"
    }
   }
  },
  {
   "cell_type": "markdown",
   "source": [
    "# make y"
   ],
   "metadata": {
    "collapsed": false
   }
  },
  {
   "cell_type": "code",
   "execution_count": 13,
   "outputs": [],
   "source": [
    "# m + 120 - m + 132\n",
    "# 12 model\n",
    "# 12 y"
   ],
   "metadata": {
    "collapsed": false,
    "ExecuteTime": {
     "start_time": "2023-04-09T21:29:01.291632Z",
     "end_time": "2023-04-09T21:29:01.328837Z"
    }
   }
  },
  {
   "cell_type": "code",
   "execution_count": 15,
   "outputs": [
    {
     "name": "stdout",
     "output_type": "stream",
     "text": [
      "120\n",
      "(2664, 23)\n",
      "121\n",
      "(2663, 23)\n",
      "122\n",
      "(2662, 23)\n",
      "123\n",
      "(2661, 23)\n",
      "124\n",
      "(2660, 23)\n",
      "125\n",
      "(2659, 23)\n",
      "126\n",
      "(2658, 23)\n",
      "127\n",
      "(2657, 23)\n",
      "128\n",
      "(2656, 23)\n",
      "129\n",
      "(2655, 23)\n",
      "130\n",
      "(2654, 23)\n",
      "131\n",
      "(2653, 23)\n",
      "132\n",
      "(2652, 23)\n"
     ]
    }
   ],
   "source": [
    "for i in range(120, 133):\n",
    "    print(i)\n",
    "    final_data: pd.DataFrame = f_data.copy(deep=True)\n",
    "    final_data['target_dates'] = final_data['dates'] + pd.DateOffset(months=i) + pd.offsets.MonthEnd(0) # + 120 month\n",
    "    y = final_data[['dates', 'sunspots']].copy(deep=True)\n",
    "    y.rename(columns={'sunspots': 'target_sunspots', 'dates': 'target_dates'}, inplace=True)\n",
    "    final_data = final_data.merge(y, on='target_dates', how='left')\n",
    "    final_data.dropna(subset=['target_sunspots'], inplace=True)\n",
    "    print(final_data.shape)\n",
    "    final_data.to_csv(f'./data/processed_data_{i}.csv', index=False)"
   ],
   "metadata": {
    "collapsed": false,
    "ExecuteTime": {
     "start_time": "2023-04-09T21:30:30.186059Z",
     "end_time": "2023-04-09T21:30:30.543152Z"
    }
   }
  }
 ],
 "metadata": {
  "kernelspec": {
   "display_name": "Python 3",
   "language": "python",
   "name": "python3"
  },
  "language_info": {
   "codemirror_mode": {
    "name": "ipython",
    "version": 2
   },
   "file_extension": ".py",
   "mimetype": "text/x-python",
   "name": "python",
   "nbconvert_exporter": "python",
   "pygments_lexer": "ipython2",
   "version": "2.7.6"
  }
 },
 "nbformat": 4,
 "nbformat_minor": 0
}
