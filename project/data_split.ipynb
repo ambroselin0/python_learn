{
 "cells": [
  {
   "cell_type": "code",
   "execution_count": 2,
   "metadata": {
    "collapsed": true,
    "ExecuteTime": {
     "start_time": "2023-04-13T20:26:00.520280Z",
     "end_time": "2023-04-13T20:26:00.530991Z"
    }
   },
   "outputs": [],
   "source": [
    "import pandas as pd"
   ]
  },
  {
   "cell_type": "code",
   "execution_count": 4,
   "outputs": [
    {
     "data": {
      "text/plain": "      sunspots       dates  year  month  lag_1_sunspots  lag_2_sunspots  \\\n0         35.0  1752-01-31  1752      1            44.0            28.5   \n1         50.0  1752-02-29  1752      2            35.0            44.0   \n2         71.0  1752-03-31  1752      3            50.0            35.0   \n3         59.3  1752-04-30  1752      4            71.0            50.0   \n4         59.7  1752-05-31  1752      5            59.3            71.0   \n...        ...         ...   ...    ...             ...             ...   \n2659      25.6  1973-08-31  1973      8            23.1            39.5   \n2660      59.3  1973-09-30  1973      9            25.6            23.1   \n2661      30.7  1973-10-31  1973     10            59.3            25.6   \n2662      23.9  1973-11-30  1973     11            30.7            59.3   \n2663      23.3  1973-12-31  1973     12            23.9            30.7   \n\n      lag_3_sunspots  lag_4_sunspots  lag_5_sunspots  lag_6_sunspots  ...  \\\n0               23.2            23.5            59.8            66.3  ...   \n1               28.5            23.2            23.5            59.8  ...   \n2               44.0            28.5            23.2            23.5  ...   \n3               35.0            44.0            28.5            23.2  ...   \n4               50.0            35.0            44.0            28.5  ...   \n...              ...             ...             ...             ...  ...   \n2659            42.4            57.7            46.0            42.9  ...   \n2660            39.5            42.4            57.7            46.0  ...   \n2661            23.1            39.5            42.4            57.7  ...   \n2662            25.6            23.1            39.5            42.4  ...   \n2663            59.3            25.6            23.1            39.5  ...   \n\n      avg_3_sunspots  avg_6_sunspots  avg_12_sunspots  avg_24_sunspots  \\\n0          35.833333       35.666667        44.741667        63.929167   \n1          43.000000       34.033333        45.283333        62.850000   \n2          52.000000       41.950000        47.425000        62.091667   \n3          60.100000       47.966667        47.666667        60.883333   \n4          63.333333       53.166667        47.583333        59.620833   \n...              ...             ...              ...              ...   \n2659       29.400000       39.050000        44.400000        58.129167   \n2660       36.000000       41.266667        44.008333        58.508333   \n2661       38.533333       36.766667        41.458333        57.633333   \n2662       37.966667       33.683333        39.983333        55.995833   \n2663       25.966667       30.983333        38.150000        53.541667   \n\n      avg_36_sunspots  roll_max_sunspots  roll_min_sunspots  \\\n0           70.019444              158.6               23.2   \n1           69.669444              158.6               23.2   \n2           69.697222              158.6               23.2   \n3           69.797222              158.6               23.2   \n4           69.094444              158.6               23.2   \n...               ...                ...                ...   \n2659        64.233333              253.8                0.0   \n2660        63.116667              253.8                0.0   \n2661        61.563889              253.8                0.0   \n2662        59.583333              253.8                0.0   \n2663        57.911111              253.8                0.0   \n\n      roll_avg_sunspots  target_dates  target_sunspots  \n0             69.694595    1762-01-31             43.8  \n1             69.176316    1762-02-28             72.8  \n2             69.223077    1762-03-31             45.7  \n3             68.975000    1762-04-30             60.2  \n4             68.748780    1762-05-31             39.9  \n...                 ...           ...              ...  \n2659          49.941914    1983-08-31             71.8  \n2660          49.945384    1983-09-30             50.3  \n2661          49.938251    1983-10-31             55.8  \n2662          49.928603    1983-11-30             33.3  \n2663          49.918741    1983-12-31             33.4  \n\n[2664 rows x 23 columns]",
      "text/html": "<div>\n<style scoped>\n    .dataframe tbody tr th:only-of-type {\n        vertical-align: middle;\n    }\n\n    .dataframe tbody tr th {\n        vertical-align: top;\n    }\n\n    .dataframe thead th {\n        text-align: right;\n    }\n</style>\n<table border=\"1\" class=\"dataframe\">\n  <thead>\n    <tr style=\"text-align: right;\">\n      <th></th>\n      <th>sunspots</th>\n      <th>dates</th>\n      <th>year</th>\n      <th>month</th>\n      <th>lag_1_sunspots</th>\n      <th>lag_2_sunspots</th>\n      <th>lag_3_sunspots</th>\n      <th>lag_4_sunspots</th>\n      <th>lag_5_sunspots</th>\n      <th>lag_6_sunspots</th>\n      <th>...</th>\n      <th>avg_3_sunspots</th>\n      <th>avg_6_sunspots</th>\n      <th>avg_12_sunspots</th>\n      <th>avg_24_sunspots</th>\n      <th>avg_36_sunspots</th>\n      <th>roll_max_sunspots</th>\n      <th>roll_min_sunspots</th>\n      <th>roll_avg_sunspots</th>\n      <th>target_dates</th>\n      <th>target_sunspots</th>\n    </tr>\n  </thead>\n  <tbody>\n    <tr>\n      <th>0</th>\n      <td>35.0</td>\n      <td>1752-01-31</td>\n      <td>1752</td>\n      <td>1</td>\n      <td>44.0</td>\n      <td>28.5</td>\n      <td>23.2</td>\n      <td>23.5</td>\n      <td>59.8</td>\n      <td>66.3</td>\n      <td>...</td>\n      <td>35.833333</td>\n      <td>35.666667</td>\n      <td>44.741667</td>\n      <td>63.929167</td>\n      <td>70.019444</td>\n      <td>158.6</td>\n      <td>23.2</td>\n      <td>69.694595</td>\n      <td>1762-01-31</td>\n      <td>43.8</td>\n    </tr>\n    <tr>\n      <th>1</th>\n      <td>50.0</td>\n      <td>1752-02-29</td>\n      <td>1752</td>\n      <td>2</td>\n      <td>35.0</td>\n      <td>44.0</td>\n      <td>28.5</td>\n      <td>23.2</td>\n      <td>23.5</td>\n      <td>59.8</td>\n      <td>...</td>\n      <td>43.000000</td>\n      <td>34.033333</td>\n      <td>45.283333</td>\n      <td>62.850000</td>\n      <td>69.669444</td>\n      <td>158.6</td>\n      <td>23.2</td>\n      <td>69.176316</td>\n      <td>1762-02-28</td>\n      <td>72.8</td>\n    </tr>\n    <tr>\n      <th>2</th>\n      <td>71.0</td>\n      <td>1752-03-31</td>\n      <td>1752</td>\n      <td>3</td>\n      <td>50.0</td>\n      <td>35.0</td>\n      <td>44.0</td>\n      <td>28.5</td>\n      <td>23.2</td>\n      <td>23.5</td>\n      <td>...</td>\n      <td>52.000000</td>\n      <td>41.950000</td>\n      <td>47.425000</td>\n      <td>62.091667</td>\n      <td>69.697222</td>\n      <td>158.6</td>\n      <td>23.2</td>\n      <td>69.223077</td>\n      <td>1762-03-31</td>\n      <td>45.7</td>\n    </tr>\n    <tr>\n      <th>3</th>\n      <td>59.3</td>\n      <td>1752-04-30</td>\n      <td>1752</td>\n      <td>4</td>\n      <td>71.0</td>\n      <td>50.0</td>\n      <td>35.0</td>\n      <td>44.0</td>\n      <td>28.5</td>\n      <td>23.2</td>\n      <td>...</td>\n      <td>60.100000</td>\n      <td>47.966667</td>\n      <td>47.666667</td>\n      <td>60.883333</td>\n      <td>69.797222</td>\n      <td>158.6</td>\n      <td>23.2</td>\n      <td>68.975000</td>\n      <td>1762-04-30</td>\n      <td>60.2</td>\n    </tr>\n    <tr>\n      <th>4</th>\n      <td>59.7</td>\n      <td>1752-05-31</td>\n      <td>1752</td>\n      <td>5</td>\n      <td>59.3</td>\n      <td>71.0</td>\n      <td>50.0</td>\n      <td>35.0</td>\n      <td>44.0</td>\n      <td>28.5</td>\n      <td>...</td>\n      <td>63.333333</td>\n      <td>53.166667</td>\n      <td>47.583333</td>\n      <td>59.620833</td>\n      <td>69.094444</td>\n      <td>158.6</td>\n      <td>23.2</td>\n      <td>68.748780</td>\n      <td>1762-05-31</td>\n      <td>39.9</td>\n    </tr>\n    <tr>\n      <th>...</th>\n      <td>...</td>\n      <td>...</td>\n      <td>...</td>\n      <td>...</td>\n      <td>...</td>\n      <td>...</td>\n      <td>...</td>\n      <td>...</td>\n      <td>...</td>\n      <td>...</td>\n      <td>...</td>\n      <td>...</td>\n      <td>...</td>\n      <td>...</td>\n      <td>...</td>\n      <td>...</td>\n      <td>...</td>\n      <td>...</td>\n      <td>...</td>\n      <td>...</td>\n      <td>...</td>\n    </tr>\n    <tr>\n      <th>2659</th>\n      <td>25.6</td>\n      <td>1973-08-31</td>\n      <td>1973</td>\n      <td>8</td>\n      <td>23.1</td>\n      <td>39.5</td>\n      <td>42.4</td>\n      <td>57.7</td>\n      <td>46.0</td>\n      <td>42.9</td>\n      <td>...</td>\n      <td>29.400000</td>\n      <td>39.050000</td>\n      <td>44.400000</td>\n      <td>58.129167</td>\n      <td>64.233333</td>\n      <td>253.8</td>\n      <td>0.0</td>\n      <td>49.941914</td>\n      <td>1983-08-31</td>\n      <td>71.8</td>\n    </tr>\n    <tr>\n      <th>2660</th>\n      <td>59.3</td>\n      <td>1973-09-30</td>\n      <td>1973</td>\n      <td>9</td>\n      <td>25.6</td>\n      <td>23.1</td>\n      <td>39.5</td>\n      <td>42.4</td>\n      <td>57.7</td>\n      <td>46.0</td>\n      <td>...</td>\n      <td>36.000000</td>\n      <td>41.266667</td>\n      <td>44.008333</td>\n      <td>58.508333</td>\n      <td>63.116667</td>\n      <td>253.8</td>\n      <td>0.0</td>\n      <td>49.945384</td>\n      <td>1983-09-30</td>\n      <td>50.3</td>\n    </tr>\n    <tr>\n      <th>2661</th>\n      <td>30.7</td>\n      <td>1973-10-31</td>\n      <td>1973</td>\n      <td>10</td>\n      <td>59.3</td>\n      <td>25.6</td>\n      <td>23.1</td>\n      <td>39.5</td>\n      <td>42.4</td>\n      <td>57.7</td>\n      <td>...</td>\n      <td>38.533333</td>\n      <td>36.766667</td>\n      <td>41.458333</td>\n      <td>57.633333</td>\n      <td>61.563889</td>\n      <td>253.8</td>\n      <td>0.0</td>\n      <td>49.938251</td>\n      <td>1983-10-31</td>\n      <td>55.8</td>\n    </tr>\n    <tr>\n      <th>2662</th>\n      <td>23.9</td>\n      <td>1973-11-30</td>\n      <td>1973</td>\n      <td>11</td>\n      <td>30.7</td>\n      <td>59.3</td>\n      <td>25.6</td>\n      <td>23.1</td>\n      <td>39.5</td>\n      <td>42.4</td>\n      <td>...</td>\n      <td>37.966667</td>\n      <td>33.683333</td>\n      <td>39.983333</td>\n      <td>55.995833</td>\n      <td>59.583333</td>\n      <td>253.8</td>\n      <td>0.0</td>\n      <td>49.928603</td>\n      <td>1983-11-30</td>\n      <td>33.3</td>\n    </tr>\n    <tr>\n      <th>2663</th>\n      <td>23.3</td>\n      <td>1973-12-31</td>\n      <td>1973</td>\n      <td>12</td>\n      <td>23.9</td>\n      <td>30.7</td>\n      <td>59.3</td>\n      <td>25.6</td>\n      <td>23.1</td>\n      <td>39.5</td>\n      <td>...</td>\n      <td>25.966667</td>\n      <td>30.983333</td>\n      <td>38.150000</td>\n      <td>53.541667</td>\n      <td>57.911111</td>\n      <td>253.8</td>\n      <td>0.0</td>\n      <td>49.918741</td>\n      <td>1983-12-31</td>\n      <td>33.4</td>\n    </tr>\n  </tbody>\n</table>\n<p>2664 rows × 23 columns</p>\n</div>"
     },
     "execution_count": 4,
     "metadata": {},
     "output_type": "execute_result"
    }
   ],
   "source": [
    "data = pd.read_csv('./data/processed_data_120.csv')\n",
    "data['target_dates'] = pd.to_datetime(data['target_dates'])\n",
    "data"
   ],
   "metadata": {
    "collapsed": false,
    "ExecuteTime": {
     "start_time": "2023-04-13T20:26:06.254757Z",
     "end_time": "2023-04-13T20:26:06.297611Z"
    }
   }
  },
  {
   "cell_type": "code",
   "execution_count": 3,
   "outputs": [
    {
     "ename": "NameError",
     "evalue": "name 'data' is not defined",
     "output_type": "error",
     "traceback": [
      "\u001B[0;31m---------------------------------------------------------------------------\u001B[0m",
      "\u001B[0;31mNameError\u001B[0m                                 Traceback (most recent call last)",
      "Cell \u001B[0;32mIn[3], line 16\u001B[0m\n\u001B[1;32m     14\u001B[0m         vali_end_date \u001B[38;5;241m=\u001B[39m vali_end_date \u001B[38;5;241m+\u001B[39m pd\u001B[38;5;241m.\u001B[39mDateOffset(years \u001B[38;5;241m=\u001B[39m \u001B[38;5;241m-\u001B[39m\u001B[38;5;241m10\u001B[39m) \u001B[38;5;241m+\u001B[39m pd\u001B[38;5;241m.\u001B[39moffsets\u001B[38;5;241m.\u001B[39mMonthEnd(\u001B[38;5;241m0\u001B[39m)\n\u001B[1;32m     15\u001B[0m         test_end_date \u001B[38;5;241m=\u001B[39m test_end_date \u001B[38;5;241m+\u001B[39m pd\u001B[38;5;241m.\u001B[39mDateOffset(years \u001B[38;5;241m=\u001B[39m \u001B[38;5;241m-\u001B[39m\u001B[38;5;241m10\u001B[39m) \u001B[38;5;241m+\u001B[39m pd\u001B[38;5;241m.\u001B[39moffsets\u001B[38;5;241m.\u001B[39mMonthEnd(\u001B[38;5;241m0\u001B[39m)\n\u001B[0;32m---> 16\u001B[0m data_split \u001B[38;5;241m=\u001B[39m data_split_generator(\u001B[43mdata\u001B[49m)\n\u001B[1;32m     17\u001B[0m data_split\n",
      "\u001B[0;31mNameError\u001B[0m: name 'data' is not defined"
     ]
    }
   ],
   "source": [
    "def data_split_generator(data):\n",
    "    train_start_date = pd.to_datetime('1749-01-31')\n",
    "    train_end_date = pd.to_datetime('1963-12-31')\n",
    "    vali_end_date = pd.to_datetime('1973-12-31')\n",
    "    # test_end_date = pd.to_datetime('1983-12-31')\n",
    "    for i in range(5):\n",
    "        # print(train_start_date, train_end_date, vali_end_date, test_end_date)\n",
    "        train_data = data[(data.target_dates >= train_start_date) & (data.target_dates <= train_end_date)]\n",
    "        vali_data = data[(data.target_dates > train_end_date) & (data.target_dates <= vali_end_date)]\n",
    "        test_data = data[(data.target_dates > vali_end_date) & (data.target_dates <= test_end_date)]\n",
    "        yield train_data, vali_data, test_data\n",
    "        # print(train_data.shape, vali_data.shape, test_data.shape)\n",
    "        train_end_date = train_end_date + pd.DateOffset(years = -10) + pd.offsets.MonthEnd(0)\n",
    "        vali_end_date = vali_end_date + pd.DateOffset(years = -10) + pd.offsets.MonthEnd(0)\n",
    "        # test_end_date = test_end_date + pd.DateOffset(years = -10) + pd.offsets.MonthEnd(0)\n",
    "data_split = data_split_generator(data)\n",
    "data_split"
   ],
   "metadata": {
    "collapsed": false,
    "ExecuteTime": {
     "start_time": "2023-04-10T21:43:36.502921Z",
     "end_time": "2023-04-10T21:43:36.505251Z"
    }
   }
  },
  {
   "cell_type": "code",
   "execution_count": 32,
   "outputs": [],
   "source": [],
   "metadata": {
    "collapsed": false,
    "ExecuteTime": {
     "start_time": "2023-04-10T21:44:09.342916Z",
     "end_time": "2023-04-10T21:44:09.346615Z"
    }
   }
  },
  {
   "cell_type": "code",
   "execution_count": 8,
   "outputs": [
    {
     "data": {
      "text/plain": "      sunspots       dates  year  month  lag_1_sunspots  lag_2_sunspots  \\\n0         35.0  1752-01-31  1752      1            44.0            28.5   \n1         50.0  1752-02-29  1752      2            35.0            44.0   \n2         71.0  1752-03-31  1752      3            50.0            35.0   \n3         59.3  1752-04-30  1752      4            71.0            50.0   \n4         59.7  1752-05-31  1752      5            59.3            71.0   \n...        ...         ...   ...    ...             ...             ...   \n1927       0.3  1912-08-31  1912      8             3.0             4.1   \n1928       9.5  1912-09-30  1912      9             0.3             3.0   \n1929       4.6  1912-10-31  1912     10             9.5             0.3   \n1930       1.1  1912-11-30  1912     11             4.6             9.5   \n1931       6.4  1912-12-31  1912     12             1.1             4.6   \n\n      lag_3_sunspots  lag_4_sunspots  lag_5_sunspots  lag_6_sunspots  ...  \\\n0               23.2            23.5            59.8            66.3  ...   \n1               28.5            23.2            23.5            59.8  ...   \n2               44.0            28.5            23.2            23.5  ...   \n3               35.0            44.0            28.5            23.2  ...   \n4               50.0            35.0            44.0            28.5  ...   \n...              ...             ...             ...             ...  ...   \n1927             4.4             4.5             4.9             0.0  ...   \n1928             4.1             4.4             4.5             4.9  ...   \n1929             3.0             4.1             4.4             4.5  ...   \n1930             0.3             3.0             4.1             4.4  ...   \n1931             9.5             0.3             3.0             4.1  ...   \n\n      avg_3_sunspots  avg_6_sunspots  avg_12_sunspots  avg_24_sunspots  \\\n0          35.833333       35.666667        44.741667        63.929167   \n1          43.000000       34.033333        45.283333        62.850000   \n2          52.000000       41.950000        47.425000        62.091667   \n3          60.100000       47.966667        47.666667        60.883333   \n4          63.333333       53.166667        47.583333        59.620833   \n...              ...             ...              ...              ...   \n1927        2.466667        3.533333         2.875000         6.879167   \n1928        4.266667        4.300000         3.333333         6.183333   \n1929        4.800000        4.316667         3.500000         4.779167   \n1930        5.066667        3.766667         3.241667         4.620833   \n1931        4.033333        4.150000         3.591667         4.645833   \n\n      avg_36_sunspots  roll_max_sunspots  roll_min_sunspots  \\\n0           70.019444              158.6               23.2   \n1           69.669444              158.6               23.2   \n2           69.697222              158.6               23.2   \n3           69.797222              158.6               23.2   \n4           69.094444              158.6               23.2   \n...               ...                ...                ...   \n1927        14.447222              238.9                0.0   \n1928        13.633333              238.9                0.0   \n1929        12.138889              238.9                0.0   \n1930        10.619444              238.9                0.0   \n1931         9.291667              238.9                0.0   \n\n      roll_avg_sunspots  target_dates  target_sunspots  \n0             69.694595    1763-01-31             56.5  \n1             69.176316    1763-02-28             31.9  \n2             69.223077    1763-03-31             34.2  \n3             68.975000    1763-04-30             32.9  \n4             68.748780    1763-05-31             32.7  \n...                 ...           ...              ...  \n1927          45.292617    1923-08-31              0.5  \n1928          45.274402    1923-09-30             13.2  \n1929          45.253713    1923-10-31             11.6  \n1930          45.231266    1923-11-30             10.0  \n1931          45.211535    1923-12-31              2.8  \n\n[1932 rows x 23 columns]",
      "text/html": "<div>\n<style scoped>\n    .dataframe tbody tr th:only-of-type {\n        vertical-align: middle;\n    }\n\n    .dataframe tbody tr th {\n        vertical-align: top;\n    }\n\n    .dataframe thead th {\n        text-align: right;\n    }\n</style>\n<table border=\"1\" class=\"dataframe\">\n  <thead>\n    <tr style=\"text-align: right;\">\n      <th></th>\n      <th>sunspots</th>\n      <th>dates</th>\n      <th>year</th>\n      <th>month</th>\n      <th>lag_1_sunspots</th>\n      <th>lag_2_sunspots</th>\n      <th>lag_3_sunspots</th>\n      <th>lag_4_sunspots</th>\n      <th>lag_5_sunspots</th>\n      <th>lag_6_sunspots</th>\n      <th>...</th>\n      <th>avg_3_sunspots</th>\n      <th>avg_6_sunspots</th>\n      <th>avg_12_sunspots</th>\n      <th>avg_24_sunspots</th>\n      <th>avg_36_sunspots</th>\n      <th>roll_max_sunspots</th>\n      <th>roll_min_sunspots</th>\n      <th>roll_avg_sunspots</th>\n      <th>target_dates</th>\n      <th>target_sunspots</th>\n    </tr>\n  </thead>\n  <tbody>\n    <tr>\n      <th>0</th>\n      <td>35.0</td>\n      <td>1752-01-31</td>\n      <td>1752</td>\n      <td>1</td>\n      <td>44.0</td>\n      <td>28.5</td>\n      <td>23.2</td>\n      <td>23.5</td>\n      <td>59.8</td>\n      <td>66.3</td>\n      <td>...</td>\n      <td>35.833333</td>\n      <td>35.666667</td>\n      <td>44.741667</td>\n      <td>63.929167</td>\n      <td>70.019444</td>\n      <td>158.6</td>\n      <td>23.2</td>\n      <td>69.694595</td>\n      <td>1763-01-31</td>\n      <td>56.5</td>\n    </tr>\n    <tr>\n      <th>1</th>\n      <td>50.0</td>\n      <td>1752-02-29</td>\n      <td>1752</td>\n      <td>2</td>\n      <td>35.0</td>\n      <td>44.0</td>\n      <td>28.5</td>\n      <td>23.2</td>\n      <td>23.5</td>\n      <td>59.8</td>\n      <td>...</td>\n      <td>43.000000</td>\n      <td>34.033333</td>\n      <td>45.283333</td>\n      <td>62.850000</td>\n      <td>69.669444</td>\n      <td>158.6</td>\n      <td>23.2</td>\n      <td>69.176316</td>\n      <td>1763-02-28</td>\n      <td>31.9</td>\n    </tr>\n    <tr>\n      <th>2</th>\n      <td>71.0</td>\n      <td>1752-03-31</td>\n      <td>1752</td>\n      <td>3</td>\n      <td>50.0</td>\n      <td>35.0</td>\n      <td>44.0</td>\n      <td>28.5</td>\n      <td>23.2</td>\n      <td>23.5</td>\n      <td>...</td>\n      <td>52.000000</td>\n      <td>41.950000</td>\n      <td>47.425000</td>\n      <td>62.091667</td>\n      <td>69.697222</td>\n      <td>158.6</td>\n      <td>23.2</td>\n      <td>69.223077</td>\n      <td>1763-03-31</td>\n      <td>34.2</td>\n    </tr>\n    <tr>\n      <th>3</th>\n      <td>59.3</td>\n      <td>1752-04-30</td>\n      <td>1752</td>\n      <td>4</td>\n      <td>71.0</td>\n      <td>50.0</td>\n      <td>35.0</td>\n      <td>44.0</td>\n      <td>28.5</td>\n      <td>23.2</td>\n      <td>...</td>\n      <td>60.100000</td>\n      <td>47.966667</td>\n      <td>47.666667</td>\n      <td>60.883333</td>\n      <td>69.797222</td>\n      <td>158.6</td>\n      <td>23.2</td>\n      <td>68.975000</td>\n      <td>1763-04-30</td>\n      <td>32.9</td>\n    </tr>\n    <tr>\n      <th>4</th>\n      <td>59.7</td>\n      <td>1752-05-31</td>\n      <td>1752</td>\n      <td>5</td>\n      <td>59.3</td>\n      <td>71.0</td>\n      <td>50.0</td>\n      <td>35.0</td>\n      <td>44.0</td>\n      <td>28.5</td>\n      <td>...</td>\n      <td>63.333333</td>\n      <td>53.166667</td>\n      <td>47.583333</td>\n      <td>59.620833</td>\n      <td>69.094444</td>\n      <td>158.6</td>\n      <td>23.2</td>\n      <td>68.748780</td>\n      <td>1763-05-31</td>\n      <td>32.7</td>\n    </tr>\n    <tr>\n      <th>...</th>\n      <td>...</td>\n      <td>...</td>\n      <td>...</td>\n      <td>...</td>\n      <td>...</td>\n      <td>...</td>\n      <td>...</td>\n      <td>...</td>\n      <td>...</td>\n      <td>...</td>\n      <td>...</td>\n      <td>...</td>\n      <td>...</td>\n      <td>...</td>\n      <td>...</td>\n      <td>...</td>\n      <td>...</td>\n      <td>...</td>\n      <td>...</td>\n      <td>...</td>\n      <td>...</td>\n    </tr>\n    <tr>\n      <th>1927</th>\n      <td>0.3</td>\n      <td>1912-08-31</td>\n      <td>1912</td>\n      <td>8</td>\n      <td>3.0</td>\n      <td>4.1</td>\n      <td>4.4</td>\n      <td>4.5</td>\n      <td>4.9</td>\n      <td>0.0</td>\n      <td>...</td>\n      <td>2.466667</td>\n      <td>3.533333</td>\n      <td>2.875000</td>\n      <td>6.879167</td>\n      <td>14.447222</td>\n      <td>238.9</td>\n      <td>0.0</td>\n      <td>45.292617</td>\n      <td>1923-08-31</td>\n      <td>0.5</td>\n    </tr>\n    <tr>\n      <th>1928</th>\n      <td>9.5</td>\n      <td>1912-09-30</td>\n      <td>1912</td>\n      <td>9</td>\n      <td>0.3</td>\n      <td>3.0</td>\n      <td>4.1</td>\n      <td>4.4</td>\n      <td>4.5</td>\n      <td>4.9</td>\n      <td>...</td>\n      <td>4.266667</td>\n      <td>4.300000</td>\n      <td>3.333333</td>\n      <td>6.183333</td>\n      <td>13.633333</td>\n      <td>238.9</td>\n      <td>0.0</td>\n      <td>45.274402</td>\n      <td>1923-09-30</td>\n      <td>13.2</td>\n    </tr>\n    <tr>\n      <th>1929</th>\n      <td>4.6</td>\n      <td>1912-10-31</td>\n      <td>1912</td>\n      <td>10</td>\n      <td>9.5</td>\n      <td>0.3</td>\n      <td>3.0</td>\n      <td>4.1</td>\n      <td>4.4</td>\n      <td>4.5</td>\n      <td>...</td>\n      <td>4.800000</td>\n      <td>4.316667</td>\n      <td>3.500000</td>\n      <td>4.779167</td>\n      <td>12.138889</td>\n      <td>238.9</td>\n      <td>0.0</td>\n      <td>45.253713</td>\n      <td>1923-10-31</td>\n      <td>11.6</td>\n    </tr>\n    <tr>\n      <th>1930</th>\n      <td>1.1</td>\n      <td>1912-11-30</td>\n      <td>1912</td>\n      <td>11</td>\n      <td>4.6</td>\n      <td>9.5</td>\n      <td>0.3</td>\n      <td>3.0</td>\n      <td>4.1</td>\n      <td>4.4</td>\n      <td>...</td>\n      <td>5.066667</td>\n      <td>3.766667</td>\n      <td>3.241667</td>\n      <td>4.620833</td>\n      <td>10.619444</td>\n      <td>238.9</td>\n      <td>0.0</td>\n      <td>45.231266</td>\n      <td>1923-11-30</td>\n      <td>10.0</td>\n    </tr>\n    <tr>\n      <th>1931</th>\n      <td>6.4</td>\n      <td>1912-12-31</td>\n      <td>1912</td>\n      <td>12</td>\n      <td>1.1</td>\n      <td>4.6</td>\n      <td>9.5</td>\n      <td>0.3</td>\n      <td>3.0</td>\n      <td>4.1</td>\n      <td>...</td>\n      <td>4.033333</td>\n      <td>4.150000</td>\n      <td>3.591667</td>\n      <td>4.645833</td>\n      <td>9.291667</td>\n      <td>238.9</td>\n      <td>0.0</td>\n      <td>45.211535</td>\n      <td>1923-12-31</td>\n      <td>2.8</td>\n    </tr>\n  </tbody>\n</table>\n<p>1932 rows × 23 columns</p>\n</div>"
     },
     "execution_count": 8,
     "metadata": {},
     "output_type": "execute_result"
    }
   ],
   "source": [
    "for j in range(120, 133):\n",
    "    data = pd.read_csv(f'./data/processed_data_{j}.csv')\n",
    "    data['target_dates'] = pd.to_datetime(data['target_dates'])\n",
    "    data_split = data_split_generator(data)\n",
    "    for i in range(5):\n",
    "        train_data, vali_data, test_data = next(data_split)\n",
    "        # model\n",
    "        #\n",
    "train_data"
   ],
   "metadata": {
    "collapsed": false,
    "ExecuteTime": {
     "start_time": "2023-04-13T20:26:56.886932Z",
     "end_time": "2023-04-13T20:26:57.027797Z"
    }
   }
  },
  {
   "cell_type": "code",
   "execution_count": 5,
   "outputs": [
    {
     "data": {
      "text/plain": "((2424, 23), (120, 23), (120, 23))"
     },
     "execution_count": 5,
     "metadata": {},
     "output_type": "execute_result"
    }
   ],
   "source": [
    "train_data = data[(data.target_dates >= '1749-01-31') & (data.target_dates <= '1963-12-31')]\n",
    "vali_data = data[(data.target_dates >= '1964-01-31') & (data.target_dates <= '1973-12-31')]\n",
    "test_data = data[(data.target_dates >= '1974-01-31') & (data.target_dates <= '1983-12-31')]\n",
    "train_data.shape, vali_data.shape, test_data.shape"
   ],
   "metadata": {
    "collapsed": false,
    "ExecuteTime": {
     "start_time": "2023-04-10T21:31:31.853951Z",
     "end_time": "2023-04-10T21:31:31.859668Z"
    }
   }
  },
  {
   "cell_type": "code",
   "execution_count": 6,
   "outputs": [
    {
     "data": {
      "text/plain": "((2304, 23), (120, 23), (120, 23))"
     },
     "execution_count": 6,
     "metadata": {},
     "output_type": "execute_result"
    }
   ],
   "source": [
    "train_data = data[(data.target_dates >= '1749-01-31') & (data.target_dates <= '1953-12-31')]\n",
    "vali_data = data[(data.target_dates >= '1954-01-31') & (data.target_dates <= '1963-12-31')]\n",
    "test_data = data[(data.target_dates >= '1964-01-31') & (data.target_dates <= '1973-12-31')]\n",
    "train_data.shape, vali_data.shape, test_data.shape"
   ],
   "metadata": {
    "collapsed": false,
    "ExecuteTime": {
     "start_time": "2023-04-10T21:32:29.878909Z",
     "end_time": "2023-04-10T21:32:29.884931Z"
    }
   }
  },
  {
   "cell_type": "code",
   "execution_count": 7,
   "outputs": [
    {
     "data": {
      "text/plain": "((2184, 23), (120, 23), (120, 23))"
     },
     "execution_count": 7,
     "metadata": {},
     "output_type": "execute_result"
    }
   ],
   "source": [
    "train_data = data[(data.target_dates >= '1749-01-31') & (data.target_dates <= '1943-12-31')]\n",
    "vali_data = data[(data.target_dates >= '1944-01-31') & (data.target_dates <= '1953-12-31')]\n",
    "test_data = data[(data.target_dates >= '1954-01-31') & (data.target_dates <= '1963-12-31')]\n",
    "train_data.shape, vali_data.shape, test_data.shape"
   ],
   "metadata": {
    "collapsed": false,
    "ExecuteTime": {
     "start_time": "2023-04-10T21:32:56.478868Z",
     "end_time": "2023-04-10T21:32:56.485562Z"
    }
   }
  }
 ],
 "metadata": {
  "kernelspec": {
   "display_name": "Python 3",
   "language": "python",
   "name": "python3"
  },
  "language_info": {
   "codemirror_mode": {
    "name": "ipython",
    "version": 2
   },
   "file_extension": ".py",
   "mimetype": "text/x-python",
   "name": "python",
   "nbconvert_exporter": "python",
   "pygments_lexer": "ipython2",
   "version": "2.7.6"
  }
 },
 "nbformat": 4,
 "nbformat_minor": 0
}
