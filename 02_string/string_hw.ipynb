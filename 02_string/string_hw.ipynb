{
 "cells": [
  {
   "cell_type": "markdown",
   "source": [
    "## 方法练习\n",
    "\n",
    "1. 将字符串 \"abcd\" 转成大写\n",
    "2. 计算字符串 \"cd\" 在 字符串 \"abcd\"中出现的位置\n",
    "3. 字符串 \"a,b,c,d\" ，请用逗号分割字符串，分割后的结果是什么类型的？\n",
    "4. \"{name}喜欢{fruit}\".format(name=\"李雷\") 执行会出错，请修改代码让其正确执行\n",
    "5. string = \"Python is good\", 请将字符串里的Python替换成 python,并输出替换后的结果\n",
    "6. 有一个字符串 string =  \"python修炼第一期.html\"，请写程序从这个字符串里获得.html前面的部分，要用尽可能多的方式来做这个事情\n",
    "7. 如何获取字符串的长度？\n",
    "8. \"this is a book\",请将字符串里的book替换成apple\n",
    "9. \"this is a book\", 请用程序判断该字符串是否以this开头\n",
    "10. \"this is a book\", 请用程序判断该字符串是否以apple结尾\n",
    "11. \"This IS a book\"， 请将字符串里的大写字符转成小写字符\n",
    "12. \"This IS a book\"， 请将字符串里的小写字符，转成大写字符\n",
    "13. \"this is a book\\n\"， 字符串的末尾有一个回车符，请将其删除"
   ],
   "metadata": {
    "collapsed": false
   }
  },
  {
   "cell_type": "code",
   "execution_count": null,
   "outputs": [],
   "source": [],
   "metadata": {
    "collapsed": false
   }
  },
  {
   "cell_type": "markdown",
   "source": [
    "## 推理练习\n",
    "\n",
    "直接说出下面代码的执行结果\n",
    "\n",
    "string = \"Python is good\"\n",
    "1. string[1:20]\n",
    "2. string[20]\n",
    "3. string[3:-4]\n",
    "4. string[-10:-3]\n",
    "5. string.lower()\n",
    "6. string.replace(\"o\", \"0\")\n",
    "7. string.startswith('python')\n",
    "8. string.split()\n",
    "9. len(string)\n",
    "10. string[30]\n",
    "11. string.replace(\" \", '')"
   ],
   "metadata": {
    "collapsed": false
   }
  }
 ],
 "metadata": {
  "kernelspec": {
   "display_name": "Python 3",
   "language": "python",
   "name": "python3"
  },
  "language_info": {
   "codemirror_mode": {
    "name": "ipython",
    "version": 2
   },
   "file_extension": ".py",
   "mimetype": "text/x-python",
   "name": "python",
   "nbconvert_exporter": "python",
   "pygments_lexer": "ipython2",
   "version": "2.7.6"
  }
 },
 "nbformat": 4,
 "nbformat_minor": 0
}
