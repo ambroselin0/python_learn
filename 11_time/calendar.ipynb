{
 "cells": [
  {
   "cell_type": "markdown",
   "source": [
    "calendar是python的日历模块，它提供了isleap方法可以判断某年是否为闰年, calendar.month()方法返回月历, calendar.weekday()返回日期的日期码，在一些操作计算上比datetime模块更加方便。"
   ],
   "metadata": {
    "collapsed": false
   }
  },
  {
   "cell_type": "code",
   "execution_count": null,
   "outputs": [],
   "source": [
    "# 判断某年是否为闰年\n",
    "import calendar\n",
    "\n",
    "print(calendar.isleap(2020))"
   ],
   "metadata": {
    "collapsed": false
   }
  },
  {
   "cell_type": "code",
   "execution_count": null,
   "outputs": [],
   "source": [
    "#  输出某个月的月历\n",
    "\n",
    "import calendar\n",
    "\n",
    "cal = calendar.month(2019, 11)\n",
    "print(cal)"
   ],
   "metadata": {
    "collapsed": false
   }
  },
  {
   "cell_type": "code",
   "execution_count": null,
   "outputs": [],
   "source": [
    "# 这样的结果虽然观察起来很直观，但由于返回的是字符串，想要进行一些数值计算则不行，需要使用monthcalendar方法\n",
    "import calendar\n",
    "\n",
    "cal = calendar.monthcalendar(2019, 11)\n",
    "print(cal)"
   ],
   "metadata": {
    "collapsed": false
   }
  },
  {
   "cell_type": "code",
   "execution_count": null,
   "outputs": [],
   "source": [
    "# 获取指定日期的日期码\n",
    "import calendar\n",
    "\n",
    "cal = calendar.weekday(2023, 3, 30)\n",
    "print(f\"今天是礼拜{cal+1}\")"
   ],
   "metadata": {
    "collapsed": false
   }
  }
 ],
 "metadata": {
  "kernelspec": {
   "display_name": "Python 3",
   "language": "python",
   "name": "python3"
  },
  "language_info": {
   "codemirror_mode": {
    "name": "ipython",
    "version": 2
   },
   "file_extension": ".py",
   "mimetype": "text/x-python",
   "name": "python",
   "nbconvert_exporter": "python",
   "pygments_lexer": "ipython2",
   "version": "2.7.6"
  }
 },
 "nbformat": 4,
 "nbformat_minor": 0
}
