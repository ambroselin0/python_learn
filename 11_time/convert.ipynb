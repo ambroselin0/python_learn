{
 "cells": [
  {
   "cell_type": "code",
   "execution_count": 1,
   "outputs": [
    {
     "name": "stdout",
     "output_type": "stream",
     "text": [
      "1679721828\n",
      "1679721828\n"
     ]
    }
   ],
   "source": [
    "# 获得当前时间的时间戳\n",
    "import time\n",
    "from datetime import datetime\n",
    "\n",
    "# 获得当前时间戳\n",
    "current_time = int(time.time())\n",
    "print(current_time)\n",
    "\n",
    "now = datetime.now()\n",
    "current_time = int(now.timestamp())\n",
    "print(current_time)"
   ],
   "metadata": {
    "collapsed": false
   }
  },
  {
   "cell_type": "code",
   "execution_count": null,
   "outputs": [],
   "source": [
    "# 将时间戳转换为datetime类型数据\n",
    "from datetime import datetime\n",
    "\n",
    "current_time = 1577761708\n",
    "date_time = datetime.fromtimestamp(current_time)\n",
    "print(date_time)"
   ],
   "metadata": {
    "collapsed": false
   }
  },
  {
   "cell_type": "code",
   "execution_count": null,
   "outputs": [],
   "source": [
    "# 时间戳与时间元组之间转换\n",
    "import time\n",
    "\n",
    "current_time = 1577761708\n",
    "print(time.ctime(current_time))         # 转换成 Tue Dec 31 11:08:28 2019\n",
    "print(time.localtime(current_time))     # 转成时间元组,本地时间\n",
    "print(time.gmtime(current_time))        # 转成时间元组,国际伦敦时间\n",
    "\n",
    "localtime_tuple = time.localtime(current_time)      # 将时间元组转成时间戳\n",
    "current_time = time.mktime(localtime_tuple)\n",
    "print(current_time)"
   ],
   "metadata": {
    "collapsed": false
   }
  },
  {
   "cell_type": "code",
   "execution_count": null,
   "outputs": [],
   "source": [
    "# 字符串与datetime之间互相转换\n",
    "from datetime import datetime\n",
    "\n",
    "now = datetime.now()\n",
    "now_str = now.strftime(\"%Y-%m-%d %H:%M:%S\")     # 将datetime转成字符串\n",
    "print(now_str)\n",
    "\n",
    "date_time = datetime.strptime(now_str, \"%Y-%m-%d %H:%M:%S\")  # 将字符串转成datetime类型\n",
    "print(date_time, type(date_time))"
   ],
   "metadata": {
    "collapsed": false
   }
  },
  {
   "cell_type": "code",
   "execution_count": null,
   "outputs": [],
   "source": [
    "# 字符串与时间元组之间互相转换\n",
    "import time\n",
    "\n",
    "time_str = '2019-12-31 11:22:23'\n",
    "res = time.strptime(time_str, '%Y-%m-%d %H:%M:%S')      # 将字符串转成时间元组\n",
    "print(res, type(res))\n",
    "\n",
    "now = time.localtime()\n",
    "now_str = time.strftime('%Y-%m-%d %H:%M:%S', now)       # 将时间元组转成字符串\n",
    "print(now_str)"
   ],
   "metadata": {
    "collapsed": false
   }
  },
  {
   "cell_type": "code",
   "execution_count": 2,
   "outputs": [
    {
     "name": "stdout",
     "output_type": "stream",
     "text": [
      "Sat Mar 25 13:24:47 2023\n",
      "time.struct_time(tm_year=2023, tm_mon=3, tm_mday=25, tm_hour=13, tm_min=24, tm_sec=47, tm_wday=5, tm_yday=84, tm_isdst=-1)\n"
     ]
    }
   ],
   "source": [
    "# datetime 转成时间元组\n",
    "from datetime import datetime\n",
    "\n",
    "now = datetime.now()\n",
    "print(now.ctime())      # 返回ctime() 格式时间字符串\n",
    "print(now.timetuple())  # 返回时间元组"
   ],
   "metadata": {
    "collapsed": false
   }
  }
 ],
 "metadata": {
  "kernelspec": {
   "display_name": "Python 3",
   "language": "python",
   "name": "python3"
  },
  "language_info": {
   "codemirror_mode": {
    "name": "ipython",
    "version": 2
   },
   "file_extension": ".py",
   "mimetype": "text/x-python",
   "name": "python",
   "nbconvert_exporter": "python",
   "pygments_lexer": "ipython2",
   "version": "2.7.6"
  }
 },
 "nbformat": 4,
 "nbformat_minor": 0
}
