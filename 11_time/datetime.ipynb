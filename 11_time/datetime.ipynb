{
 "cells": [
  {
   "cell_type": "markdown",
   "source": [
    "datetime是python中处理日期时间的标准库，datetime模块中常用的类包括date, time, datetime, timedelta，使用这些对象支持日期时间的数学运算和更有效的解析其属性用于格式化输出。"
   ],
   "metadata": {
    "collapsed": false
   }
  },
  {
   "cell_type": "code",
   "execution_count": 2,
   "outputs": [
    {
     "name": "stdout",
     "output_type": "stream",
     "text": [
      "2022\n",
      "5\n",
      "29\n",
      "2022-05-29\n"
     ]
    }
   ],
   "source": [
    "# datetime.date 一个理想化的简单型日期是一个理想化的简单型日期，它假设当今的公历在过去和未来永远有效，主要用于处理年月日期时间。\n",
    "# 使用指定的年月日，可以快速构造一个date对象\n",
    "\n",
    "from datetime import date\n",
    "\n",
    "date_obj = date(year=2022, month=5, day=29)\n",
    "date_obj = date(2022, 5, 29)\n",
    "\n",
    "print(date_obj.year)        # 2022\n",
    "print(date_obj.month)       # 5\n",
    "print(date_obj.day)         # 29\n",
    "print(date_obj)"
   ],
   "metadata": {
    "collapsed": false
   }
  },
  {
   "cell_type": "markdown",
   "source": [
    "# datetime.datetime\n",
    "date对象只能处理年月日，而datetime.datetime对象可以处理到时分秒，拥有更高的时间精度，datetime与date一样假定当前的格列高利历向前后两个方向无限延伸，同时像time对象一样假定每一天恰好有 3600*24 秒。"
   ],
   "metadata": {
    "collapsed": false
   }
  },
  {
   "cell_type": "code",
   "execution_count": 5,
   "outputs": [
    {
     "name": "stdout",
     "output_type": "stream",
     "text": [
      "2022\n",
      "6\n",
      "2\n",
      "20\n",
      "23\n",
      "30\n",
      "100\n",
      "2022-06-02 20:23:30.000100\n"
     ]
    }
   ],
   "source": [
    "from datetime import datetime\n",
    "\n",
    "date_time = datetime(year=2022, month=6, day=2, hour=20, minute=23, second=30, microsecond=100)\n",
    "print(date_time.year)               # 年\n",
    "print(date_time.month)              # 月\n",
    "print(date_time.day)                # 日\n",
    "print(date_time.hour)               # 小时\n",
    "print(date_time.minute)             # 分钟\n",
    "print(date_time.second)             # 秒\n",
    "print(date_time.microsecond)        # 毫秒\n",
    "print(date_time)"
   ],
   "metadata": {
    "collapsed": false
   }
  }
 ],
 "metadata": {
  "kernelspec": {
   "display_name": "Python 3",
   "language": "python",
   "name": "python3"
  },
  "language_info": {
   "codemirror_mode": {
    "name": "ipython",
    "version": 2
   },
   "file_extension": ".py",
   "mimetype": "text/x-python",
   "name": "python",
   "nbconvert_exporter": "python",
   "pygments_lexer": "ipython2",
   "version": "2.7.6"
  }
 },
 "nbformat": 4,
 "nbformat_minor": 0
}
