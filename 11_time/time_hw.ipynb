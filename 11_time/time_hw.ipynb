{
 "cells": [
  {
   "cell_type": "markdown",
   "source": [
    "# 按照下面的格式，输出今天的时间信息\n",
    "\n",
    "今天是2019年4月18日，星期四，今年的第108天，这一年29.59%的时间已流逝"
   ],
   "metadata": {
    "collapsed": false
   }
  },
  {
   "cell_type": "code",
   "execution_count": null,
   "outputs": [],
   "source": [],
   "metadata": {
    "collapsed": false
   }
  },
  {
   "cell_type": "markdown",
   "source": [
    "# 统计日期间隔\n",
    "\n",
    "需要编写一个函数get_day_diff(date_lst, target)， 入参示例如下\n",
    "\n",
    "```python\n",
    "date_lst = [\n",
    "                '2019-01-01', '2019-01-15',\n",
    "                '2019-01-30', '2019-02-01',\n",
    "                '2019-02-05', '2019-02-15',\n",
    "                '2019-03-06', '2019-03-15',\n",
    "                '2019-04-01', '2019-04-05',\n",
    "                '2019-04-13', '2019-04-30',\n",
    "                '2019-05-05', '2019-05-06'\n",
    "                ]\n",
    "target = '2019-05-08'\n",
    "```\n",
    "函数计算date_lst里的日期与target的间隔天数，然后统计这些天数信息，最后返回的结果示例如下\n",
    "```python\n",
    "{'7_days': 2, '30_days': 4, '90_days': 9, '180_days': 14}\n",
    "```"
   ],
   "metadata": {
    "collapsed": false
   }
  },
  {
   "cell_type": "code",
   "execution_count": null,
   "outputs": [],
   "source": [],
   "metadata": {
    "collapsed": false
   }
  }
 ],
 "metadata": {
  "kernelspec": {
   "display_name": "Python 3",
   "language": "python",
   "name": "python3"
  },
  "language_info": {
   "codemirror_mode": {
    "name": "ipython",
    "version": 2
   },
   "file_extension": ".py",
   "mimetype": "text/x-python",
   "name": "python",
   "nbconvert_exporter": "python",
   "pygments_lexer": "ipython2",
   "version": "2.7.6"
  }
 },
 "nbformat": 4,
 "nbformat_minor": 0
}
