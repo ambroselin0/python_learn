{
 "cells": [
  {
   "cell_type": "code",
   "execution_count": null,
   "metadata": {
    "collapsed": true
   },
   "outputs": [],
   "source": [
    "# 获取当前时间\n",
    "# 1970年1月1日午夜开始到现在所经过的时间，精确到了毫秒，但实际使用时，通常只用秒数。\n",
    "import time\n",
    "\n",
    "curr_time = time.time()\n",
    "print(curr_time)"
   ]
  },
  {
   "cell_type": "code",
   "execution_count": null,
   "outputs": [],
   "source": [
    "def fun1():\n",
    "    time.sleep(1)\n",
    "\n",
    "start = time.time()\n",
    "fun1()\n",
    "end = time.time()\n",
    "duration = end - start\n",
    "duration"
   ],
   "metadata": {
    "collapsed": false
   }
  },
  {
   "cell_type": "code",
   "execution_count": null,
   "outputs": [],
   "source": [
    "# 获取时间元组\n",
    "import time\n",
    "\n",
    "localtime = time.localtime(time.time())\n",
    "print(\"当前时间是 :\", localtime)"
   ],
   "metadata": {
    "collapsed": false
   }
  },
  {
   "cell_type": "code",
   "execution_count": null,
   "outputs": [],
   "source": [
    "import time\n",
    "\n",
    "localtime = time.localtime(time.time())\n",
    "\n",
    "print('年', localtime.tm_year)\n",
    "print('月', localtime.tm_mon)\n",
    "print('日', localtime.tm_mday)"
   ],
   "metadata": {
    "collapsed": false
   }
  },
  {
   "cell_type": "code",
   "execution_count": null,
   "outputs": [],
   "source": [
    "# 格式化时间\n",
    "# 使用time模块的strftime方法，就可以将时间转换为指定的格式\n",
    "\n",
    "import time\n",
    "\n",
    "localtime = time.localtime(time.time())\n",
    "localtime = time.strftime(\"%m/%d/%Y %H%M:%S\", localtime)\n",
    "print(localtime)"
   ],
   "metadata": {
    "collapsed": false
   }
  }
 ],
 "metadata": {
  "kernelspec": {
   "display_name": "Python 3",
   "language": "python",
   "name": "python3"
  },
  "language_info": {
   "codemirror_mode": {
    "name": "ipython",
    "version": 2
   },
   "file_extension": ".py",
   "mimetype": "text/x-python",
   "name": "python",
   "nbconvert_exporter": "python",
   "pygments_lexer": "ipython2",
   "version": "2.7.6"
  }
 },
 "nbformat": 4,
 "nbformat_minor": 0
}
