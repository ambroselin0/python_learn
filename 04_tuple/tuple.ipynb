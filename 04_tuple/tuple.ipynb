{
 "cells": [
  {
   "cell_type": "markdown",
   "source": [
    "## 创建\n",
    "\n",
    "python的元组是有序且不可被修改的数据集合，使用小括号() 进行定义，元组内的元素之间使用逗号分隔。\n",
    "\n",
    "从形式上观察，除了用小括号()代替了中括号[]，元组几乎与列表一样，但元组有自己独特的特性：\n",
    "\n",
    "元组一旦被创建就无法被修改，新增，删除，修改这些操作都无法在元组上进行。"
   ],
   "metadata": {
    "collapsed": false
   }
  },
  {
   "cell_type": "code",
   "execution_count": 1,
   "outputs": [
    {
     "name": "stdout",
     "output_type": "stream",
     "text": [
      "<class 'tuple'>\n"
     ]
    }
   ],
   "source": [
    "t = ()\n",
    "print(type(t))"
   ],
   "metadata": {
    "collapsed": false
   }
  },
  {
   "cell_type": "code",
   "execution_count": 2,
   "outputs": [
    {
     "name": "stdout",
     "output_type": "stream",
     "text": [
      "<class 'tuple'>\n"
     ]
    }
   ],
   "source": [
    "t = (5, )\n",
    "print(type(t))"
   ],
   "metadata": {
    "collapsed": false
   }
  },
  {
   "cell_type": "markdown",
   "source": [
    "即便元组里只有一个元素，也要写入一个逗号，因为小括号()既可以表示为元组的定义形式，也可以作为括号表示算数运算时的优先级，如果没有逗号，(5) 将被解析成int类型的5，在下面的表达式里，()不在被认为是元组的定义形式。"
   ],
   "metadata": {
    "collapsed": false
   }
  },
  {
   "cell_type": "code",
   "execution_count": 4,
   "outputs": [
    {
     "data": {
      "text/plain": "False"
     },
     "execution_count": 4,
     "metadata": {},
     "output_type": "execute_result"
    }
   ],
   "source": [
    "5 == (5)"
   ],
   "metadata": {
    "collapsed": false
   }
  },
  {
   "cell_type": "code",
   "execution_count": 5,
   "outputs": [
    {
     "name": "stdout",
     "output_type": "stream",
     "text": [
      "('python', 'java', 'php')\n"
     ]
    }
   ],
   "source": [
    "# 创建拥有多个元素的元组\n",
    "t = ('python', 'java', 'php')\n",
    "print(t)"
   ],
   "metadata": {
    "collapsed": false
   }
  },
  {
   "cell_type": "code",
   "execution_count": 6,
   "outputs": [
    {
     "name": "stdout",
     "output_type": "stream",
     "text": [
      "('python', 'java', 'php')\n",
      "('p', 'y', 't', 'h', 'o', 'n')\n"
     ]
    }
   ],
   "source": [
    "# 使用内置函数tuple创建元组\n",
    "t1 = tuple(['python', 'java', 'php'])\n",
    "print(t1)    # ('python', 'java', 'php')\n",
    "\n",
    "t2 = tuple('python')\n",
    "print(t2)"
   ],
   "metadata": {
    "collapsed": false
   }
  },
  {
   "cell_type": "markdown",
   "source": [
    "## 获取元组里的值"
   ],
   "metadata": {
    "collapsed": false
   }
  },
  {
   "cell_type": "code",
   "execution_count": 10,
   "outputs": [
    {
     "name": "stdout",
     "output_type": "stream",
     "text": [
      "('python', 'java', 'php')\n",
      "python\n"
     ]
    }
   ],
   "source": [
    "t = tuple(['python', 'java', 'php'])\n",
    "print(t)\n",
    "print(t[0])"
   ],
   "metadata": {
    "collapsed": false
   }
  },
  {
   "cell_type": "code",
   "execution_count": 15,
   "outputs": [
    {
     "name": "stdout",
     "output_type": "stream",
     "text": [
      "aaaa bbbb\n"
     ]
    }
   ],
   "source": [
    "a, b = ('aaaa', 'bbbb')\n",
    "print(a, b)"
   ],
   "metadata": {
    "collapsed": false
   }
  },
  {
   "cell_type": "code",
   "execution_count": 16,
   "outputs": [
    {
     "name": "stdout",
     "output_type": "stream",
     "text": [
      "python\n",
      "java\n",
      "php\n"
     ]
    }
   ],
   "source": [
    "# 通过for循环同样可以对元组进行遍历\n",
    "t = tuple(['python', 'java', 'php'])\n",
    "\n",
    "for item in t:\n",
    "    print(item)"
   ],
   "metadata": {
    "collapsed": false
   }
  },
  {
   "cell_type": "markdown",
   "source": [
    "## 切片\n",
    "\n",
    "元组同样支持切片操作，这方面与列表完全一致"
   ],
   "metadata": {
    "collapsed": false
   }
  },
  {
   "cell_type": "code",
   "execution_count": 17,
   "outputs": [
    {
     "name": "stdout",
     "output_type": "stream",
     "text": [
      "('java', 'php')\n"
     ]
    }
   ],
   "source": [
    "t = tuple(['python', 'java', 'php'])\n",
    "\n",
    "print(t[1:])"
   ],
   "metadata": {
    "collapsed": false
   }
  },
  {
   "cell_type": "markdown",
   "source": [
    "## 元组真的不可以被修改么"
   ],
   "metadata": {
    "collapsed": false
   }
  },
  {
   "cell_type": "code",
   "execution_count": 18,
   "outputs": [
    {
     "name": "stdout",
     "output_type": "stream",
     "text": [
      "([3, 2, 3], ['python'])\n"
     ]
    }
   ],
   "source": [
    "t = ([1, 2, 3], ['python'])\n",
    "t[0][0] = 3\n",
    "print(t)"
   ],
   "metadata": {
    "collapsed": false
   }
  },
  {
   "cell_type": "markdown",
   "source": [
    "看起来，元组似乎成功被修改了，然而这并不是事实，元组没有被修改，被修改的是列表里的元素，准确的说是t[0]被修改了，而t没有被修改。\n",
    "\n",
    "当我们强调元组是不可变对象时，是指无法通过索引修改元组里的元素，类似下面的代码是无法被执行的"
   ],
   "metadata": {
    "collapsed": false
   }
  },
  {
   "cell_type": "code",
   "execution_count": 19,
   "outputs": [
    {
     "ename": "TypeError",
     "evalue": "'tuple' object does not support item assignment",
     "output_type": "error",
     "traceback": [
      "\u001B[0;31m---------------------------------------------------------------------------\u001B[0m",
      "\u001B[0;31mTypeError\u001B[0m                                 Traceback (most recent call last)",
      "Cell \u001B[0;32mIn[19], line 2\u001B[0m\n\u001B[1;32m      1\u001B[0m t \u001B[38;5;241m=\u001B[39m ([\u001B[38;5;241m1\u001B[39m, \u001B[38;5;241m2\u001B[39m, \u001B[38;5;241m3\u001B[39m], [\u001B[38;5;124m'\u001B[39m\u001B[38;5;124mpython\u001B[39m\u001B[38;5;124m'\u001B[39m])\n\u001B[0;32m----> 2\u001B[0m \u001B[43mt\u001B[49m\u001B[43m[\u001B[49m\u001B[38;5;241;43m0\u001B[39;49m\u001B[43m]\u001B[49m \u001B[38;5;241m=\u001B[39m \u001B[38;5;124m'\u001B[39m\u001B[38;5;124m修改\u001B[39m\u001B[38;5;124m'\u001B[39m\n",
      "\u001B[0;31mTypeError\u001B[0m: 'tuple' object does not support item assignment"
     ]
    }
   ],
   "source": [
    "t = ([1, 2, 3], ['python'])\n",
    "t[0] = '修改'"
   ],
   "metadata": {
    "collapsed": false
   }
  },
  {
   "cell_type": "markdown",
   "source": [
    "t[0] 是列表，我们不能将元组的第一个元素修改为其他对象，但t[0]作为列表本身是可以被修改的，但修改以后，t[0]还是原来的那个列表，只是列表里的内容发生了变化，元组t没有发生变化，仍然只有两个元素，通过内置函数id输出t[0]的内存地址能让你更清楚的认识到元组没有被修改。"
   ],
   "metadata": {
    "collapsed": false
   }
  },
  {
   "cell_type": "markdown",
   "source": [
    "## 元组与列表的区别"
   ],
   "metadata": {
    "collapsed": false
   }
  },
  {
   "cell_type": "code",
   "execution_count": null,
   "outputs": [],
   "source": [
    "# 函数返回多个结果时，元组可以作为返回值\n",
    "def func(x, y):\n",
    "    return x, y, x+y\n",
    "\n",
    "res = func(2, 3)\n",
    "print(res)"
   ],
   "metadata": {
    "collapsed": false
   }
  },
  {
   "cell_type": "markdown",
   "source": [
    "### 元组可以作为字典的key，可以存储到集合中\n",
    "\n",
    "想要成为字典的key，或是存储到集合中，必须满足可hash这个条件，所有的可变对象，诸如列表，集合，字典都不能做key，但元组可以，在一些特定情境下，用元组做key，非常实用，比如下面这个练习题目\n",
    "\n",
    "题目要求：已知有两个列表\n",
    "\n",
    "```python\n",
    "lst1 = [3, 5, 6, 1, 2, 4, 7]\n",
    "lst2 = [6, 5, 4, 7, 3, 8]\n",
    "```\n",
    "\n",
    "从两个列表里各取出一个数，他们的和如果为10，则记录下来，请写程序计算，这种组合一共有几种，分别是什么，要求组合不能重复。\n",
    "\n",
    "从lst1中取3， lst2中取7，这对组合满足要求，从lst1中取7，lst2中取3，也满足要求，但是这个组合已经存在了，因此不算。\n",
    "\n",
    "使用嵌套循环，就可以轻易的完成这个题目，但是这中间过程要去除掉重复的组合，正好可以利用元组，算法实现如下"
   ],
   "metadata": {
    "collapsed": false
   }
  },
  {
   "cell_type": "code",
   "execution_count": 20,
   "outputs": [
    {
     "name": "stdout",
     "output_type": "stream",
     "text": [
      "{(4, 6), (3, 7), (5, 5), (2, 8)}\n"
     ]
    }
   ],
   "source": [
    "lst1 = [3, 5, 6, 1, 2, 4, 7]\n",
    "lst2 = [6, 5, 4, 7, 3, 8]\n",
    "\n",
    "res_set = set()\n",
    "for i in lst1:\n",
    "    for j in lst2:\n",
    "        if i + j == 10:\n",
    "            if i > j:\n",
    "                res_set.add((j, i))\n",
    "            else:\n",
    "                res_set.add((i, j))\n",
    "print(res_set)"
   ],
   "metadata": {
    "collapsed": false
   }
  }
 ],
 "metadata": {
  "kernelspec": {
   "display_name": "Python 3",
   "language": "python",
   "name": "python3"
  },
  "language_info": {
   "codemirror_mode": {
    "name": "ipython",
    "version": 2
   },
   "file_extension": ".py",
   "mimetype": "text/x-python",
   "name": "python",
   "nbconvert_exporter": "python",
   "pygments_lexer": "ipython2",
   "version": "2.7.6"
  }
 },
 "nbformat": 4,
 "nbformat_minor": 0
}
