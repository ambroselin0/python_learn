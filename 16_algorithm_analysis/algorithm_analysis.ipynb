{
 "cells": [
  {
   "cell_type": "code",
   "execution_count": 19,
   "metadata": {
    "collapsed": true,
    "ExecuteTime": {
     "end_time": "2023-06-01T13:57:25.821127Z",
     "start_time": "2023-06-01T13:56:55.668998Z"
    }
   },
   "outputs": [
    {
     "name": "stdout",
     "output_type": "stream",
     "text": [
      "Sum is 55 required  0.0000010 seconds 10\n",
      "Sum is 5050 required  0.0000043 seconds 100\n",
      "Sum is 500500 required  0.0000393 seconds 1000\n",
      "Sum is 50005000 required  0.0003970 seconds 10000\n",
      "Sum is 5000050000 required  0.0046830 seconds 100000\n",
      "Sum is 500000500000 required  0.0355382 seconds 1000000\n",
      "Sum is 50000005000000 required  0.2667131 seconds 10000000\n",
      "Sum is 5000000050000000 required  2.6792419 seconds 100000000\n",
      "Sum is 500000000500000000 required 27.2140601 seconds 1000000000\n"
     ]
    }
   ],
   "source": [
    "import time\n",
    "import typing\n",
    "\n",
    "\n",
    "def sum_of_n_1(n: int) -> typing.Tuple[int, int]:\n",
    "    # n\n",
    "    start_time = time.time()\n",
    "\n",
    "    sum_result = 0  # 1\n",
    "    for i in range(1, n + 1):\n",
    "        sum_result += i  # n\n",
    "\n",
    "    end_time = time.time()\n",
    "    return sum_result, end_time - start_time\n",
    "\n",
    "\n",
    "for i in range(1, 10):\n",
    "    print(\"Sum is %d required %10.7f seconds\" % sum_of_n_1(10 ** i), i)"
   ]
  },
  {
   "cell_type": "code",
   "execution_count": 21,
   "outputs": [
    {
     "name": "stdout",
     "output_type": "stream",
     "text": [
      "Sum is 55 required  0.0000007 seconds 1\n",
      "Sum is 5050 required  0.0000000 seconds 2\n",
      "Sum is 500500 required  0.0000010 seconds 3\n",
      "Sum is 50005000 required  0.0000000 seconds 4\n",
      "Sum is 5000050000 required  0.0000000 seconds 5\n",
      "Sum is 500000500000 required  0.0000000 seconds 6\n",
      "Sum is 50000005000000 required  0.0000007 seconds 7\n",
      "Sum is 5000000050000000 required  0.0000000 seconds 8\n",
      "Sum is 500000000500000000 required  0.0000000 seconds 9\n"
     ]
    }
   ],
   "source": [
    "def sum_of_n_2(n: int) -> typing.Tuple[int, int]:\n",
    "    # 1\n",
    "    start_time = time.time()\n",
    "\n",
    "    sum_result = (n * (n + 1)) / 2  # 1\n",
    "\n",
    "    end_time = time.time()\n",
    "    return sum_result, end_time - start_time\n",
    "\n",
    "\n",
    "for i in range(1, 10):\n",
    "    print(\"Sum is %d required %10.7f seconds\" % sum_of_n_2(10 ** i), i)"
   ],
   "metadata": {
    "collapsed": false,
    "ExecuteTime": {
     "end_time": "2023-06-01T13:57:48.304283Z",
     "start_time": "2023-06-01T13:57:48.301939Z"
    }
   }
  },
  {
   "cell_type": "code",
   "execution_count": 22,
   "outputs": [
    {
     "data": {
      "text/plain": "False"
     },
     "execution_count": 22,
     "metadata": {},
     "output_type": "execute_result"
    }
   ],
   "source": [
    "def anagram_1(s1: str, s2: str) -> bool:\n",
    "    # 检查长度\n",
    "    if len(s1) != len(s2):\n",
    "        return False\n",
    "\n",
    "    # 检查每个字符\n",
    "    alist = list(s2)\n",
    "    pos1 = 0\n",
    "    still_ok = True\n",
    "\n",
    "    while pos1 < len(s1) and still_ok:\n",
    "        pos2 = 0\n",
    "        found = False\n",
    "        while pos2 < len(alist) and not found:\n",
    "            if s1[pos1] == alist[pos2]:\n",
    "                found = True\n",
    "            else:\n",
    "                pos2 += 1\n",
    "\n",
    "        if found:\n",
    "            alist[pos2] = None\n",
    "        else:\n",
    "            still_ok = False\n",
    "        pos1 += 1\n",
    "    return still_ok\n",
    "anagram_1('python', 'typhone') # n^2"
   ],
   "metadata": {
    "collapsed": false,
    "ExecuteTime": {
     "end_time": "2023-06-01T14:13:22.146563Z",
     "start_time": "2023-06-01T14:13:22.145991Z"
    }
   }
  },
  {
   "cell_type": "code",
   "execution_count": 31,
   "outputs": [
    {
     "data": {
      "text/plain": "True"
     },
     "execution_count": 31,
     "metadata": {},
     "output_type": "execute_result"
    }
   ],
   "source": [
    "def anagram_2(s1: str, s2: str) -> bool:\n",
    "    # 检查长度\n",
    "    if len(s1) != len(s2):\n",
    "        return False\n",
    "\n",
    "    s1 = list(s1)\n",
    "    s2 = list(s2)\n",
    "\n",
    "    s1.sort() # n^2 or nlogn\n",
    "    s2.sort()\n",
    "\n",
    "    for i in range(len(s1)): # n\n",
    "        if s1[i] != s2[i]:\n",
    "            return False\n",
    "    return True\n",
    "anagram_2('python', 'typhon') # nlogn or n^2"
   ],
   "metadata": {
    "collapsed": false,
    "ExecuteTime": {
     "end_time": "2023-06-01T14:25:35.693982Z",
     "start_time": "2023-06-01T14:25:35.690707Z"
    }
   }
  },
  {
   "cell_type": "code",
   "execution_count": 36,
   "outputs": [
    {
     "data": {
      "text/plain": "True"
     },
     "execution_count": 36,
     "metadata": {},
     "output_type": "execute_result"
    }
   ],
   "source": [
    "def anagram_3(s1: str, s2: str) -> bool:\n",
    "    # 检查长度\n",
    "    if len(s1) != len(s2):\n",
    "        return False\n",
    "\n",
    "    s1_count = {}\n",
    "    s2_count = {}\n",
    "\n",
    "    for w in s1: # n\n",
    "        if w not in s1_count:\n",
    "            s1_count[w] = 1\n",
    "        else:\n",
    "            s1_count[w] += 1\n",
    "\n",
    "    for w in s2: # n\n",
    "        if w not in s2_count:\n",
    "            s2_count[w] = 1\n",
    "        else:\n",
    "            s2_count[w] += 1\n",
    "\n",
    "    for key in s1_count: # 1\n",
    "        if key not in s2_count:\n",
    "            return False\n",
    "        elif s1_count[key] != s2_count[key]:\n",
    "            return False\n",
    "    return True\n",
    "anagram_3('python', 'typhon') # n"
   ],
   "metadata": {
    "collapsed": false,
    "ExecuteTime": {
     "end_time": "2023-06-01T14:28:34.752281Z",
     "start_time": "2023-06-01T14:28:34.748546Z"
    }
   }
  }
 ],
 "metadata": {
  "kernelspec": {
   "display_name": "Python 3",
   "language": "python",
   "name": "python3"
  },
  "language_info": {
   "codemirror_mode": {
    "name": "ipython",
    "version": 2
   },
   "file_extension": ".py",
   "mimetype": "text/x-python",
   "name": "python",
   "nbconvert_exporter": "python",
   "pygments_lexer": "ipython2",
   "version": "2.7.6"
  }
 },
 "nbformat": 4,
 "nbformat_minor": 0
}
