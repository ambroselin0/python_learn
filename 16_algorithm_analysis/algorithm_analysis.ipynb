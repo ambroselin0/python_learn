{
 "cells": [
  {
   "cell_type": "code",
   "execution_count": 1,
   "metadata": {
    "collapsed": true,
    "ExecuteTime": {
     "end_time": "2023-06-07T12:24:53.117584Z",
     "start_time": "2023-06-07T12:24:53.113505Z"
    }
   },
   "outputs": [],
   "source": [
    "import time\n",
    "import typing"
   ]
  },
  {
   "cell_type": "markdown",
   "source": [
    "## Big O\n",
    "\n",
    "$$ T(N) -> O(N) $$"
   ],
   "metadata": {
    "collapsed": false
   }
  },
  {
   "cell_type": "markdown",
   "source": [
    "# Sum of N\n",
    "\n",
    "Sum of 1, 2, ..., N\n",
    "\n",
    "## Method 1 - for loop\n",
    "\n",
    "$$ \\sum_{i=1}^{n} i = 1 + 2 + 3 + ... + n $$\n",
    "\n",
    "T(n):\n",
    "\n",
    "$$ T(n) = 1 + n $$\n",
    "\n",
    "Big O:\n",
    "$$ O(n) = n $$"
   ],
   "metadata": {
    "collapsed": false
   }
  },
  {
   "cell_type": "code",
   "execution_count": 2,
   "outputs": [
    {
     "name": "stdout",
     "output_type": "stream",
     "text": [
      "Sum is 36 required  0.0000017 seconds 1\n",
      "Sum is 2080 required  0.0000041 seconds 2\n",
      "Sum is 131328 required  0.0000272 seconds 3\n",
      "Sum is 8390656 required  0.0002179 seconds 4\n",
      "Sum is 536887296 required  0.0017622 seconds 5\n",
      "Sum is 34359869440 required  0.0147071 seconds 6\n",
      "Sum is 2199024304128 required  0.0661430 seconds 7\n",
      "Sum is 140737496743936 required  0.4235473 seconds 8\n",
      "Sum is 9007199321849856 required  3.3753068 seconds 9\n"
     ]
    }
   ],
   "source": [
    "def sum_of_n_1(n: int) -> typing.Tuple[int, int]:\n",
    "    # n\n",
    "    start_time = time.time()\n",
    "\n",
    "    sum_result = 0  # 1\n",
    "    for i in range(1, n + 1):\n",
    "        sum_result += i  # n\n",
    "\n",
    "    end_time = time.time()\n",
    "    return sum_result, end_time - start_time\n",
    "\n",
    "\n",
    "for i in range(1, 10):\n",
    "    print(\"Sum is %d required %10.7f seconds\" % sum_of_n_1(8 ** i), i)"
   ],
   "metadata": {
    "collapsed": false,
    "ExecuteTime": {
     "end_time": "2023-06-07T12:24:57.004778Z",
     "start_time": "2023-06-07T12:24:53.174363Z"
    }
   }
  },
  {
   "cell_type": "markdown",
   "source": [
    "### Method 2 - 等差数列求和公式\n",
    "\n",
    "$$ \\sum_{i=1}^{n} i = \\frac{n(n+1)}{2} $$\n",
    "\n",
    "T(N):\n",
    "\n",
    "$$ T(n) = 1 $$\n",
    "\n",
    "Big O:\n",
    "\n",
    "$$ O(n) = 1 $$"
   ],
   "metadata": {
    "collapsed": false
   }
  },
  {
   "cell_type": "code",
   "execution_count": 3,
   "outputs": [
    {
     "name": "stdout",
     "output_type": "stream",
     "text": [
      "Sum is 36 required  0.0000000 seconds 1\n",
      "Sum is 2080 required  0.0000000 seconds 2\n",
      "Sum is 131328 required  0.0000000 seconds 3\n",
      "Sum is 8390656 required  0.0000000 seconds 4\n",
      "Sum is 536887296 required  0.0000000 seconds 5\n",
      "Sum is 34359869440 required  0.0000000 seconds 6\n",
      "Sum is 2199024304128 required  0.0000000 seconds 7\n",
      "Sum is 140737496743936 required  0.0000000 seconds 8\n",
      "Sum is 9007199321849856 required  0.0000000 seconds 9\n"
     ]
    }
   ],
   "source": [
    "def sum_of_n_2(n: int) -> typing.Tuple[int, int]:\n",
    "    # 1\n",
    "    start_time = time.time()\n",
    "\n",
    "    sum_result = (n * (n + 1)) / 2  # 1\n",
    "\n",
    "    end_time = time.time()\n",
    "    return sum_result, end_time - start_time\n",
    "\n",
    "\n",
    "for i in range(1, 10):\n",
    "    print(\"Sum is %d required %10.7f seconds\" % sum_of_n_2(8 ** i), i)"
   ],
   "metadata": {
    "collapsed": false,
    "ExecuteTime": {
     "end_time": "2023-06-07T12:24:57.007834Z",
     "start_time": "2023-06-07T12:24:57.005569Z"
    }
   }
  },
  {
   "cell_type": "markdown",
   "source": [
    "## Anagram\n",
    "\n",
    "What is anagram?\n",
    "\n",
    "Two words have same characters, but different order(same order is ok).\n",
    "\n",
    "For example:\n",
    "\n",
    "python and typhon\n",
    "\n",
    "1. Two words have different length must not be anagrams.\n",
    "\n",
    "### Method 1 - check each character\n",
    "\n",
    "Check each character in s1 is in s2, if yes, turn it to None from s2, otherwise return False\n",
    "\n",
    "T(N):\n",
    "\n",
    "$$ T(n) = 1 + 3 + n^2 $$\n",
    "\n",
    "Big O:\n",
    "\n",
    "$$ O(n) = n^2 $$"
   ],
   "metadata": {
    "collapsed": false
   }
  },
  {
   "cell_type": "code",
   "execution_count": 4,
   "outputs": [
    {
     "data": {
      "text/plain": "False"
     },
     "execution_count": 4,
     "metadata": {},
     "output_type": "execute_result"
    }
   ],
   "source": [
    "def anagram_1(s1: str, s2: str) -> bool:\n",
    "    # 检查长度\n",
    "    if len(s1) != len(s2):\n",
    "        return False\n",
    "\n",
    "    # 检查每个字符\n",
    "    alist = list(s2)\n",
    "    pos1 = 0\n",
    "    still_ok = True\n",
    "\n",
    "    while pos1 < len(s1) and still_ok:\n",
    "        pos2 = 0\n",
    "        found = False\n",
    "        while pos2 < len(alist) and not found:\n",
    "            if s1[pos1] == alist[pos2]:\n",
    "                found = True\n",
    "            else:\n",
    "                pos2 += 1\n",
    "\n",
    "        if found:\n",
    "            alist[pos2] = None\n",
    "        else:\n",
    "            still_ok = False\n",
    "        pos1 += 1\n",
    "    return still_ok\n",
    "\n",
    "\n",
    "anagram_1('python', 'typhone')  # n^2"
   ],
   "metadata": {
    "collapsed": false,
    "ExecuteTime": {
     "end_time": "2023-06-07T12:24:57.017018Z",
     "start_time": "2023-06-07T12:24:57.010605Z"
    }
   }
  },
  {
   "cell_type": "markdown",
   "source": [
    "## Method 2 - sort and compare\n",
    "\n",
    "Sort two strings and compare each character\n",
    "\n",
    "T(N):\n",
    "\n",
    "$$ T(n) = 1 + 2 + 2n\\log{n} $$\n",
    "\n",
    "Big O:\n",
    "\n",
    "It seems that the time complexity is n, but the sort function is implemented by $nlogn$, so it is $nlogn$\n",
    "\n",
    "$$ O(n) = n\\log{n} $$"
   ],
   "metadata": {
    "collapsed": false
   }
  },
  {
   "cell_type": "code",
   "execution_count": 5,
   "outputs": [
    {
     "data": {
      "text/plain": "True"
     },
     "execution_count": 5,
     "metadata": {},
     "output_type": "execute_result"
    }
   ],
   "source": [
    "def anagram_2(s1: str, s2: str) -> bool:\n",
    "    # 检查长度\n",
    "    if len(s1) != len(s2):\n",
    "        return False\n",
    "\n",
    "    s1 = list(s1)\n",
    "    s2 = list(s2)\n",
    "\n",
    "    s1.sort()  # nlogn\n",
    "    s2.sort()\n",
    "\n",
    "    for i in range(len(s1)):  # n\n",
    "        if s1[i] != s2[i]:\n",
    "            return False\n",
    "    return True\n",
    "\n",
    "\n",
    "anagram_2('python', 'typhon')  # nlogn or n^2"
   ],
   "metadata": {
    "collapsed": false,
    "ExecuteTime": {
     "end_time": "2023-06-07T12:24:57.017327Z",
     "start_time": "2023-06-07T12:24:57.016846Z"
    }
   }
  },
  {
   "cell_type": "markdown",
   "source": [
    "### Method 3 - count and compare\n",
    "\n",
    "Store the count of each character in a dictionary, and compare the count of each character\n",
    "\n",
    "T(n):\n",
    "\n",
    "$$ T(n) = 1 + 2 + 3n $$\n",
    "\n",
    "Big O:\n",
    "\n",
    "$$ O(n) = n $$"
   ],
   "metadata": {
    "collapsed": false
   }
  },
  {
   "cell_type": "code",
   "execution_count": 6,
   "outputs": [
    {
     "data": {
      "text/plain": "True"
     },
     "execution_count": 6,
     "metadata": {},
     "output_type": "execute_result"
    }
   ],
   "source": [
    "def anagram_3(s1: str, s2: str) -> bool:\n",
    "    # 检查长度\n",
    "    if len(s1) != len(s2):\n",
    "        return False\n",
    "\n",
    "    s1_count = {}\n",
    "    s2_count = {}\n",
    "\n",
    "    for w in s1:  # n\n",
    "        if w not in s1_count:\n",
    "            s1_count[w] = 1\n",
    "        else:\n",
    "            s1_count[w] += 1\n",
    "\n",
    "    for w in s2:  # n\n",
    "        if w not in s2_count:\n",
    "            s2_count[w] = 1\n",
    "        else:\n",
    "            s2_count[w] += 1\n",
    "\n",
    "    for key in s1_count:  # 1\n",
    "        if key not in s2_count:\n",
    "            return False\n",
    "        elif s1_count[key] != s2_count[key]:\n",
    "            return False\n",
    "    return True\n",
    "\n",
    "\n",
    "anagram_3('python', 'typhon')  # n"
   ],
   "metadata": {
    "collapsed": false,
    "ExecuteTime": {
     "end_time": "2023-06-07T12:24:57.021667Z",
     "start_time": "2023-06-07T12:24:57.019119Z"
    }
   }
  },
  {
   "cell_type": "markdown",
   "source": [
    "## 给定一个数字列表，其中的数字随机排列，编写一个线性阶算法，找出第 k 小的元素， 并解释为何该算法的阶是线性的。"
   ],
   "metadata": {
    "collapsed": false
   }
  },
  {
   "cell_type": "code",
   "execution_count": 9,
   "outputs": [
    {
     "data": {
      "text/plain": "5"
     },
     "execution_count": 9,
     "metadata": {},
     "output_type": "execute_result"
    }
   ],
   "source": [
    "def find_kth_smallest_1(nums: typing.List[int], k: int) -> int: # n^2\n",
    "    for i in range(len(nums)): # n\n",
    "        value = nums[i]\n",
    "        n = 1  # 记录第几大 -> 比几个小\n",
    "        for j in range(len(nums)): # n\n",
    "            if i == j:\n",
    "                continue\n",
    "            value2 = nums[j]\n",
    "            if value < value2:\n",
    "                n += 1\n",
    "        if n == k:\n",
    "            return value\n",
    "find_kth_smallest_1([2, 5, 3, 1, 100], 2)"
   ],
   "metadata": {
    "collapsed": false,
    "ExecuteTime": {
     "end_time": "2023-06-07T13:43:54.166408Z",
     "start_time": "2023-06-07T13:43:54.161356Z"
    }
   }
  },
  {
   "cell_type": "code",
   "execution_count": 12,
   "outputs": [
    {
     "data": {
      "text/plain": "5"
     },
     "execution_count": 12,
     "metadata": {},
     "output_type": "execute_result"
    }
   ],
   "source": [
    "def find_kth_smallest_2(nums: typing.List[int], k: int) -> int: # nlogn\n",
    "    nums.sort(reverse=True) # nlogn\n",
    "    return nums[k-1]\n",
    "find_kth_smallest_2([2, 5, 3, 1, 100], 2)"
   ],
   "metadata": {
    "collapsed": false,
    "ExecuteTime": {
     "end_time": "2023-06-07T13:45:17.988042Z",
     "start_time": "2023-06-07T13:45:17.985916Z"
    }
   }
  }
 ],
 "metadata": {
  "kernelspec": {
   "display_name": "Python 3",
   "language": "python",
   "name": "python3"
  },
  "language_info": {
   "codemirror_mode": {
    "name": "ipython",
    "version": 2
   },
   "file_extension": ".py",
   "mimetype": "text/x-python",
   "name": "python",
   "nbconvert_exporter": "python",
   "pygments_lexer": "ipython2",
   "version": "2.7.6"
  }
 },
 "nbformat": 4,
 "nbformat_minor": 0
}
