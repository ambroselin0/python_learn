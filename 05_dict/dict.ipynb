{
 "cells": [
  {
   "cell_type": "markdown",
   "source": [
    "## 字典\n",
    "\n",
    "字典并不是什么全新的概念，早在上小学时，你就已经接触过字典，没错，就是《新华字典》，新华字典的结构和python语言中的字典，在结构上是一样的。\n",
    "\n",
    "咱们以读音来查找一个汉字，比如\"张\"这个字，读音是zhang,一声，你一定可以在字典里找到与它对应的页数，假设是第100页，那么zhang 和 100之间就有一个映射关系，你知道了zhang，也就知道了100。\n",
    "\n",
    "另一个较为常见的例子是手机通讯录，你想找一个人的电话时，你应该在通讯录里找到这个人的名字，然后点进去查看它的电话号，姓名和电话号之间存在着映射关系，你知道姓名，就知道电话号，下面这张图展示了字典的数据结构\n",
    "\n",
    "![](dict.png)\n",
    "\n",
    "python的字典(dict)属于映射类型，是数据的无序集合，字典内的元素都是key:value形式的键值对，所有键值对存储在一对大花括号{}中，每一个键值对之间使用逗号分隔。\n",
    "\n",
    "```python\n",
    "{'name': '小明', 'age': 14}\n",
    "```\n",
    "\n",
    "字典的key不允许重复，如果向字典中插入重复的key，新的value会替换旧的value。\n",
    "\n",
    "当数值类型做为字典的key时遵循数字比较的一般规则，如果数值相等则视为同一个key，例如1 和 1.0 ，他们使用比较运算符 == 进行比较时是相等的，但考虑到计算机对浮点型数据存储的是近似值，因此用float类型数据做字典的key是不明智的。\n",
    "\n",
    "此外，尽量避免使用bool类型对象做字典的key，bool类型是int类型的子类，True与1在python中是相等的，因此下面的字典看似定义了两个key:value对，实际只有一个"
   ],
   "metadata": {
    "collapsed": false
   }
  },
  {
   "cell_type": "code",
   "execution_count": 1,
   "outputs": [
    {
     "name": "stdout",
     "output_type": "stream",
     "text": [
      "{1: 'True做key'}\n"
     ]
    }
   ],
   "source": [
    "int_dict = {\n",
    "    1: '1做key',\n",
    "    True: 'True做key'\n",
    "}\n",
    "\n",
    "print(int_dict)"
   ],
   "metadata": {
    "collapsed": false
   }
  },
  {
   "cell_type": "markdown",
   "source": [
    "## 创建python字典"
   ],
   "metadata": {
    "collapsed": false
   }
  },
  {
   "cell_type": "code",
   "execution_count": null,
   "outputs": [],
   "source": [
    "# 使用一对大括号{} ，可以创建一个空字典，字典里没有任何元素。\n",
    "empty_dict = {}"
   ],
   "metadata": {
    "collapsed": false
   }
  },
  {
   "cell_type": "code",
   "execution_count": null,
   "outputs": [],
   "source": [
    "# 在{}里添加key:value对，可以创建非空的字典\n",
    "contacts_dict = {\n",
    "    \"小王\": '13892339876',\n",
    "    \"小张\": '13898320987',\n",
    "    \"小李\": '13890348745'\n",
    "}"
   ],
   "metadata": {
    "collapsed": false
   }
  },
  {
   "cell_type": "code",
   "execution_count": null,
   "outputs": [],
   "source": [
    "# 使用内置函数dict创建字典\n",
    "# 传入一个字典\n",
    "new_dict = dict({'name': '小明', 'age': 14})\n",
    "new_dict"
   ],
   "metadata": {
    "collapsed": false
   }
  },
  {
   "cell_type": "code",
   "execution_count": 2,
   "outputs": [
    {
     "data": {
      "text/plain": "{'name': '小明', 'age': 14}"
     },
     "execution_count": 2,
     "metadata": {},
     "output_type": "execute_result"
    }
   ],
   "source": [
    "# 传入关键字参数\n",
    "new_dict = dict(name='小明', age=14)\n",
    "new_dict"
   ],
   "metadata": {
    "collapsed": false
   }
  },
  {
   "cell_type": "code",
   "execution_count": 3,
   "outputs": [
    {
     "data": {
      "text/plain": "{'name': '小明', 'age': 14}"
     },
     "execution_count": 3,
     "metadata": {},
     "output_type": "execute_result"
    }
   ],
   "source": [
    "# 传入可迭代对象\n",
    "new_dict = dict([('name', '小明'), ('age', 14)])\n",
    "new_dict"
   ],
   "metadata": {
    "collapsed": false
   }
  },
  {
   "cell_type": "markdown",
   "source": [
    "## 字典新增键值对"
   ],
   "metadata": {
    "collapsed": false
   }
  },
  {
   "cell_type": "code",
   "execution_count": 5,
   "outputs": [
    {
     "data": {
      "text/plain": "{'小明': 96, '小刚': 98, '小红': 94, '小丽': 100}"
     },
     "execution_count": 5,
     "metadata": {},
     "output_type": "execute_result"
    }
   ],
   "source": [
    "score_dict = {\n",
    "    '小明': 96,\n",
    "    '小刚': 98,\n",
    "    '小红': 94\n",
    "}\n",
    "\n",
    "score_dict['小丽'] = 100\n",
    "score_dict"
   ],
   "metadata": {
    "collapsed": false
   }
  },
  {
   "cell_type": "markdown",
   "source": [
    "## 修改字典\n",
    "\n",
    "语法是\n",
    "\n",
    "```python\n",
    "dict[key] = value\n",
    "```"
   ],
   "metadata": {
    "collapsed": false
   }
  },
  {
   "cell_type": "code",
   "execution_count": 6,
   "outputs": [
    {
     "name": "stdout",
     "output_type": "stream",
     "text": [
      "{'小明': 100, '小刚': 98, '小红': 94}\n"
     ]
    }
   ],
   "source": [
    "score_dict = {\n",
    "    '小明': 96,\n",
    "    '小刚': 98,\n",
    "    '小红': 94\n",
    "}\n",
    "score_dict['小明'] = 100\n",
    "print(score_dict)"
   ],
   "metadata": {
    "collapsed": false
   }
  },
  {
   "cell_type": "markdown",
   "source": [
    "## 删除字典里的元素\n",
    "\n",
    "删除字典里的某个key:value,可以使用del关键字。"
   ],
   "metadata": {
    "collapsed": false
   }
  },
  {
   "cell_type": "code",
   "execution_count": 7,
   "outputs": [
    {
     "name": "stdout",
     "output_type": "stream",
     "text": [
      "{'小刚': 98, '小红': 94}\n"
     ]
    }
   ],
   "source": [
    "score_dict = {\n",
    "    '小明': 96,\n",
    "    '小刚': 98,\n",
    "    '小红': 94\n",
    "}\n",
    "\n",
    "del score_dict['小明']\n",
    "print(score_dict)"
   ],
   "metadata": {
    "collapsed": false
   }
  },
  {
   "cell_type": "code",
   "execution_count": 8,
   "outputs": [
    {
     "data": {
      "text/plain": "96"
     },
     "execution_count": 8,
     "metadata": {},
     "output_type": "execute_result"
    }
   ],
   "source": [
    "score_dict = {\n",
    "    '小明': 96,\n",
    "    '小刚': 98,\n",
    "    '小红': 94\n",
    "}\n",
    "\n",
    "score_dict.pop('小明')"
   ],
   "metadata": {
    "collapsed": false
   }
  },
  {
   "cell_type": "code",
   "execution_count": 9,
   "outputs": [
    {
     "name": "stdout",
     "output_type": "stream",
     "text": [
      "{}\n"
     ]
    }
   ],
   "source": [
    "score_dict = {\n",
    "    '小明': 96,\n",
    "    '小刚': 98,\n",
    "    '小红': 94\n",
    "}\n",
    "\n",
    "score_dict.clear()\n",
    "score_dict = {}\n",
    "print(score_dict)"
   ],
   "metadata": {
    "collapsed": false
   }
  },
  {
   "cell_type": "markdown",
   "source": [
    "## 获取字典里的值\n",
    "\n",
    "任何时候，我们对字典里的元素的访问，修改，删除，都必须通过key来进行。\n",
    "\n",
    "想要获取某个特定的key所对应的value值，可以通过dict[key] 这种语法来实现"
   ],
   "metadata": {
    "collapsed": false
   }
  },
  {
   "cell_type": "code",
   "execution_count": 10,
   "outputs": [
    {
     "name": "stdout",
     "output_type": "stream",
     "text": [
      "94\n"
     ]
    }
   ],
   "source": [
    "score_dict = {\n",
    "    '小明': 99,\n",
    "    '小刚': 98,\n",
    "    '小红': 94\n",
    "}\n",
    "\n",
    "print(score_dict['小红'])"
   ],
   "metadata": {
    "collapsed": false
   }
  },
  {
   "cell_type": "code",
   "execution_count": 11,
   "outputs": [
    {
     "ename": "KeyError",
     "evalue": "'小丽'",
     "output_type": "error",
     "traceback": [
      "\u001B[0;31m---------------------------------------------------------------------------\u001B[0m",
      "\u001B[0;31mKeyError\u001B[0m                                  Traceback (most recent call last)",
      "Cell \u001B[0;32mIn[11], line 1\u001B[0m\n\u001B[0;32m----> 1\u001B[0m \u001B[38;5;28mprint\u001B[39m(\u001B[43mscore_dict\u001B[49m\u001B[43m[\u001B[49m\u001B[38;5;124;43m'\u001B[39;49m\u001B[38;5;124;43m小丽\u001B[39;49m\u001B[38;5;124;43m'\u001B[39;49m\u001B[43m]\u001B[49m)\n",
      "\u001B[0;31mKeyError\u001B[0m: '小丽'"
     ]
    }
   ],
   "source": [
    "print(score_dict['小丽'])"
   ],
   "metadata": {
    "collapsed": false
   }
  },
  {
   "cell_type": "code",
   "execution_count": 12,
   "outputs": [],
   "source": [
    "if '小丽' in score_dict:\n",
    "    print(score_dict['小丽'])"
   ],
   "metadata": {
    "collapsed": false
   }
  },
  {
   "cell_type": "markdown",
   "source": [
    "## 遍历字典"
   ],
   "metadata": {
    "collapsed": false
   }
  },
  {
   "cell_type": "code",
   "execution_count": 13,
   "outputs": [
    {
     "name": "stdout",
     "output_type": "stream",
     "text": [
      "小明 96\n",
      "小刚 98\n",
      "小红 94\n"
     ]
    }
   ],
   "source": [
    "score_dict = {\n",
    "    '小明': 96,\n",
    "    '小刚': 98,\n",
    "    '小红': 94\n",
    "}\n",
    "\n",
    "for key in score_dict:\n",
    "    print(key, score_dict[key])"
   ],
   "metadata": {
    "collapsed": false
   }
  },
  {
   "cell_type": "code",
   "execution_count": 14,
   "outputs": [
    {
     "name": "stdout",
     "output_type": "stream",
     "text": [
      "小明 96\n",
      "小刚 98\n",
      "小红 94\n"
     ]
    }
   ],
   "source": [
    "score_dict = {\n",
    "    '小明': 96,\n",
    "    '小刚': 98,\n",
    "    '小红': 94\n",
    "}\n",
    "\n",
    "for key, value in score_dict.items():\n",
    "    print(key, value)"
   ],
   "metadata": {
    "collapsed": false
   }
  },
  {
   "cell_type": "code",
   "execution_count": 17,
   "outputs": [
    {
     "name": "stdout",
     "output_type": "stream",
     "text": [
      "小明 96\n",
      "小刚 98\n",
      "小红 94\n"
     ]
    }
   ],
   "source": [
    "for item in [('小明', 96), ('小刚', 98), ('小红', 94)]:\n",
    "    key, value = item\n",
    "    print(key, value)"
   ],
   "metadata": {
    "collapsed": false
   }
  },
  {
   "cell_type": "code",
   "execution_count": 15,
   "outputs": [
    {
     "data": {
      "text/plain": "dict_items([('小明', 96), ('小刚', 98), ('小红', 94)])"
     },
     "execution_count": 15,
     "metadata": {},
     "output_type": "execute_result"
    }
   ],
   "source": [
    "score_dict.items()"
   ],
   "metadata": {
    "collapsed": false
   }
  },
  {
   "cell_type": "markdown",
   "source": [
    "## python嵌套字典"
   ],
   "metadata": {
    "collapsed": false
   }
  },
  {
   "cell_type": "code",
   "execution_count": 18,
   "outputs": [],
   "source": [
    "stu_dict = {\n",
    "    'name': '小明',\n",
    "    'age': 12,\n",
    "    'score': {\n",
    "        '语文': 90,\n",
    "        '数学': 98\n",
    "    }\n",
    "}"
   ],
   "metadata": {
    "collapsed": false
   }
  },
  {
   "cell_type": "code",
   "execution_count": 19,
   "outputs": [
    {
     "name": "stdout",
     "output_type": "stream",
     "text": [
      "90\n"
     ]
    }
   ],
   "source": [
    "print(stu_dict['score']['语文'])"
   ],
   "metadata": {
    "collapsed": false
   }
  },
  {
   "cell_type": "markdown",
   "source": [
    "## 方法"
   ],
   "metadata": {
    "collapsed": false
   }
  },
  {
   "cell_type": "code",
   "execution_count": 20,
   "outputs": [
    {
     "name": "stdout",
     "output_type": "stream",
     "text": [
      "小明 96\n",
      "小刚 98\n",
      "小红 94\n"
     ]
    }
   ],
   "source": [
    "# items\n",
    "score_dict = {\n",
    "    '小明': 96,\n",
    "    '小刚': 98,\n",
    "    '小红': 94\n",
    "}\n",
    "\n",
    "for key, value in score_dict.items():\n",
    "    print(key, value)"
   ],
   "metadata": {
    "collapsed": false
   }
  },
  {
   "cell_type": "code",
   "execution_count": 21,
   "outputs": [
    {
     "name": "stdout",
     "output_type": "stream",
     "text": [
      "dict_keys(['小明', '小刚', '小红']) <class 'dict_keys'>\n",
      "小明\n",
      "小刚\n",
      "小红\n"
     ]
    }
   ],
   "source": [
    "# keys\n",
    "score_dict = {\n",
    "    '小明': 96,\n",
    "    '小刚': 98,\n",
    "    '小红': 94\n",
    "}\n",
    "\n",
    "keys = score_dict.keys()\n",
    "\n",
    "print(keys, type(keys))\n",
    "\n",
    "for key in keys:\n",
    "    print(key)"
   ],
   "metadata": {
    "collapsed": false
   }
  },
  {
   "cell_type": "code",
   "execution_count": 22,
   "outputs": [
    {
     "name": "stdout",
     "output_type": "stream",
     "text": [
      "dict_values([96, 98, 94]) <class 'dict_values'>\n",
      "96\n",
      "98\n",
      "94\n"
     ]
    }
   ],
   "source": [
    "# values\n",
    "score_dict = {\n",
    "    '小明': 96,\n",
    "    '小刚': 98,\n",
    "    '小红': 94\n",
    "}\n",
    "\n",
    "values = score_dict.values()\n",
    "\n",
    "print(values, type(values))\n",
    "\n",
    "for value in values:\n",
    "    print(value)"
   ],
   "metadata": {
    "collapsed": false
   }
  },
  {
   "cell_type": "markdown",
   "source": [
    "## 实践\n",
    "\n",
    "### 直接取值有风险，建议使用get方法"
   ],
   "metadata": {
    "collapsed": false
   }
  },
  {
   "cell_type": "code",
   "execution_count": 23,
   "outputs": [
    {
     "ename": "KeyError",
     "evalue": "'小丽'",
     "output_type": "error",
     "traceback": [
      "\u001B[0;31m---------------------------------------------------------------------------\u001B[0m",
      "\u001B[0;31mKeyError\u001B[0m                                  Traceback (most recent call last)",
      "Cell \u001B[0;32mIn[23], line 7\u001B[0m\n\u001B[1;32m      1\u001B[0m score_dict \u001B[38;5;241m=\u001B[39m {\n\u001B[1;32m      2\u001B[0m     \u001B[38;5;124m'\u001B[39m\u001B[38;5;124m小明\u001B[39m\u001B[38;5;124m'\u001B[39m: \u001B[38;5;241m96\u001B[39m,\n\u001B[1;32m      3\u001B[0m     \u001B[38;5;124m'\u001B[39m\u001B[38;5;124m小刚\u001B[39m\u001B[38;5;124m'\u001B[39m: \u001B[38;5;241m98\u001B[39m,\n\u001B[1;32m      4\u001B[0m     \u001B[38;5;124m'\u001B[39m\u001B[38;5;124m小红\u001B[39m\u001B[38;5;124m'\u001B[39m: \u001B[38;5;241m94\u001B[39m\n\u001B[1;32m      5\u001B[0m }\n\u001B[0;32m----> 7\u001B[0m \u001B[38;5;28mprint\u001B[39m(\u001B[43mscore_dict\u001B[49m\u001B[43m[\u001B[49m\u001B[38;5;124;43m'\u001B[39;49m\u001B[38;5;124;43m小丽\u001B[39;49m\u001B[38;5;124;43m'\u001B[39;49m\u001B[43m]\u001B[49m)\n",
      "\u001B[0;31mKeyError\u001B[0m: '小丽'"
     ]
    }
   ],
   "source": [
    "score_dict = {\n",
    "    '小明': 96,\n",
    "    '小刚': 98,\n",
    "    '小红': 94\n",
    "}\n",
    "\n",
    "print(score_dict['小丽'])"
   ],
   "metadata": {
    "collapsed": false
   }
  },
  {
   "cell_type": "code",
   "execution_count": 24,
   "outputs": [
    {
     "name": "stdout",
     "output_type": "stream",
     "text": [
      "字典里没有小丽的分数\n"
     ]
    }
   ],
   "source": [
    "# 判断key是否存在\n",
    "score_dict = {\n",
    "    '小明': 96,\n",
    "    '小刚': 98,\n",
    "    '小红': 94\n",
    "}\n",
    "\n",
    "if '小丽' in score_dict:\n",
    "    print(score_dict['小丽'])\n",
    "else:\n",
    "    print(\"字典里没有小丽的分数\")"
   ],
   "metadata": {
    "collapsed": false
   }
  },
  {
   "cell_type": "code",
   "execution_count": 26,
   "outputs": [
    {
     "name": "stdout",
     "output_type": "stream",
     "text": [
      "字典里没有小丽的分数\n"
     ]
    }
   ],
   "source": [
    "# 使用get方法\n",
    "score_dict = {\n",
    "    '小明': 96,\n",
    "    '小刚': 98,\n",
    "    '小红': 94\n",
    "}\n",
    "\n",
    "print(score_dict.get('小丽', '字典里没有小丽的分数'))"
   ],
   "metadata": {
    "collapsed": false
   }
  },
  {
   "cell_type": "markdown",
   "source": [
    "### 不要用bool类型数据做key\n",
    "\n",
    "bool类型是int类型的子类，1和 Ture是相等，0和False是相等的，如果使用字典时，1已经做了key，那么你再用True去做key，就会修改1所对应的value"
   ],
   "metadata": {
    "collapsed": false
   }
  },
  {
   "cell_type": "code",
   "execution_count": 33,
   "outputs": [
    {
     "name": "stdout",
     "output_type": "stream",
     "text": [
      "{1: 'True做key'}\n"
     ]
    }
   ],
   "source": [
    "int_dict = {\n",
    "    1: '1做key',\n",
    "    True: 'True做key',\n",
    "}\n",
    "\n",
    "print(int_dict)"
   ],
   "metadata": {
    "collapsed": false
   }
  },
  {
   "cell_type": "code",
   "execution_count": 30,
   "outputs": [
    {
     "data": {
      "text/plain": "{True: 'True做key'}"
     },
     "execution_count": 30,
     "metadata": {},
     "output_type": "execute_result"
    }
   ],
   "source": [
    "int_dict = {\n",
    "    True: 'True做key',\n",
    "}\n",
    "int_dict"
   ],
   "metadata": {
    "collapsed": false
   }
  },
  {
   "cell_type": "code",
   "execution_count": 32,
   "outputs": [
    {
     "data": {
      "text/plain": "{True: '1做key'}"
     },
     "execution_count": 32,
     "metadata": {},
     "output_type": "execute_result"
    }
   ],
   "source": [
    "int_dict[1] = '1做key'\n",
    "int_dict"
   ],
   "metadata": {
    "collapsed": false
   }
  },
  {
   "cell_type": "code",
   "execution_count": null,
   "outputs": [],
   "source": [
    "### 使用items()方法遍历字典"
   ],
   "metadata": {
    "collapsed": false
   }
  },
  {
   "cell_type": "code",
   "execution_count": null,
   "outputs": [],
   "source": [
    "score_dict = {\n",
    "    '小明': 96,\n",
    "    '小刚': 98,\n",
    "    '小红': 94\n",
    "}"
   ],
   "metadata": {
    "collapsed": false
   }
  },
  {
   "cell_type": "code",
   "execution_count": null,
   "outputs": [],
   "source": [
    "# 输出字典里每一个学生的姓名和分数"
   ],
   "metadata": {
    "collapsed": false
   }
  },
  {
   "cell_type": "code",
   "execution_count": null,
   "outputs": [],
   "source": [
    "score_dict = {\n",
    "    '小明': 96,\n",
    "    '小刚': 98,\n",
    "    '小红': 94\n",
    "}\n",
    "\n",
    "for key in score_dict:\n",
    "    print(key, score_dict[key])"
   ],
   "metadata": {
    "collapsed": false
   }
  },
  {
   "cell_type": "code",
   "execution_count": null,
   "outputs": [],
   "source": [
    "score_dict = {\n",
    "    '小明': 96,\n",
    "    '小刚': 98,\n",
    "    '小红': 94\n",
    "}\n",
    "\n",
    "for key, value in score_dict.items():\n",
    "    print(key, value)"
   ],
   "metadata": {
    "collapsed": false
   }
  }
 ],
 "metadata": {
  "kernelspec": {
   "display_name": "Python 3",
   "language": "python",
   "name": "python3"
  },
  "language_info": {
   "codemirror_mode": {
    "name": "ipython",
    "version": 2
   },
   "file_extension": ".py",
   "mimetype": "text/x-python",
   "name": "python",
   "nbconvert_exporter": "python",
   "pygments_lexer": "ipython2",
   "version": "2.7.6"
  }
 },
 "nbformat": 4,
 "nbformat_minor": 0
}
