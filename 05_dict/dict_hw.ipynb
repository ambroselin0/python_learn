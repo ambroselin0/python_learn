{
 "cells": [
  {
   "cell_type": "markdown",
   "source": [
    "## 字典基本操作\n",
    "\n",
    "```python\n",
    "dic = {\n",
    "    'python': 95,\n",
    "    'java': 99,\n",
    "    'c': 100\n",
    "}\n",
    "```\n",
    "\n",
    "1. 字典的长度是多少\n",
    "2. 请修改'java' 这个key对应的value值为98\n",
    "3. 删除 c 这个key\n",
    "4. 增加一个key-value对，key值为 php, value是90\n",
    "5. 获取所有的key值，存储在列表里\n",
    "6. 获取所有的value值，存储在列表里\n",
    "7. 判断 javascript 是否在字典中\n",
    "8. 获得字典里所有value 的和\n",
    "9. 获取字典里最大的value\n",
    "10. 获取字典里最小的value\n",
    "11. 字典 dic1 = {'php': 97}， 将dic1的数据更新到dic中"
   ],
   "metadata": {
    "collapsed": false
   }
  },
  {
   "cell_type": "code",
   "execution_count": null,
   "outputs": [],
   "source": [],
   "metadata": {
    "collapsed": false
   }
  },
  {
   "cell_type": "markdown",
   "source": [
    "## 字典应用（买水果）\n",
    "\n",
    "小明去超市购买水果，账单如下\n",
    "\n",
    "苹果  32.8\n",
    "香蕉  22\n",
    "葡萄  15.5\n",
    "\n",
    "请将上面的数据存储到字典里，可以根据水果名称查询购买这个水果的费用"
   ],
   "metadata": {
    "collapsed": false
   }
  },
  {
   "cell_type": "code",
   "execution_count": null,
   "outputs": [],
   "source": [],
   "metadata": {
    "collapsed": false
   }
  },
  {
   "cell_type": "markdown",
   "source": [
    "## 字典应用（买水果2）\n",
    "\n",
    "小明，小刚去超市里购买水果\n",
    "\n",
    "小明购买了苹果，草莓，香蕉，一共花了89块钱，，小刚购买了葡萄，橘子，樱桃，一共花了87块钱\n",
    "\n",
    "请从上面的描述中提取数据，存储到字典中，可以根据姓名获取这个人购买的水果种类和总费用。\n",
    "\n",
    "以姓名做key，value仍然是字典"
   ],
   "metadata": {
    "collapsed": false
   }
  }
 ],
 "metadata": {
  "kernelspec": {
   "display_name": "Python 3",
   "language": "python",
   "name": "python3"
  },
  "language_info": {
   "codemirror_mode": {
    "name": "ipython",
    "version": 2
   },
   "file_extension": ".py",
   "mimetype": "text/x-python",
   "name": "python",
   "nbconvert_exporter": "python",
   "pygments_lexer": "ipython2",
   "version": "2.7.6"
  }
 },
 "nbformat": 4,
 "nbformat_minor": 0
}
