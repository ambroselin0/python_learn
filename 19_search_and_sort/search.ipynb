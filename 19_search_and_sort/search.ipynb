{
 "cells": [
  {
   "cell_type": "code",
   "execution_count": 3,
   "metadata": {
    "collapsed": true,
    "ExecuteTime": {
     "end_time": "2023-08-03T14:12:31.421006100Z",
     "start_time": "2023-08-03T14:12:31.417012600Z"
    }
   },
   "outputs": [
    {
     "data": {
      "text/plain": "False"
     },
     "execution_count": 3,
     "metadata": {},
     "output_type": "execute_result"
    }
   ],
   "source": [
    "15 in [10, 24, 2431, 35]"
   ]
  },
  {
   "cell_type": "code",
   "execution_count": 4,
   "outputs": [
    {
     "data": {
      "text/plain": "True"
     },
     "execution_count": 4,
     "metadata": {},
     "output_type": "execute_result"
    }
   ],
   "source": [
    "3 in [5, 10, 3]"
   ],
   "metadata": {
    "collapsed": false,
    "ExecuteTime": {
     "end_time": "2023-08-03T14:12:40.258174600Z",
     "start_time": "2023-08-03T14:12:40.255177900Z"
    }
   }
  },
  {
   "cell_type": "markdown",
   "source": [
    "# Sequential Search\n"
   ],
   "metadata": {
    "collapsed": false
   }
  },
  {
   "cell_type": "code",
   "execution_count": 6,
   "outputs": [],
   "source": [
    "import numpy as np"
   ],
   "metadata": {
    "collapsed": false,
    "ExecuteTime": {
     "end_time": "2023-08-03T14:15:35.986228Z",
     "start_time": "2023-08-03T14:15:35.924793900Z"
    }
   }
  },
  {
   "cell_type": "code",
   "execution_count": 51,
   "outputs": [],
   "source": [
    "def sequential_search(items, item):\n",
    "    for i in items:\n",
    "        if i == item:\n",
    "            return True\n",
    "    return False\n",
    "items = np.random.randint(0, 10000000, size=[1000000]).tolist()"
   ],
   "metadata": {
    "collapsed": false,
    "ExecuteTime": {
     "end_time": "2023-08-03T14:26:35.554588600Z",
     "start_time": "2023-08-03T14:26:35.523614Z"
    }
   }
  },
  {
   "cell_type": "code",
   "execution_count": 52,
   "outputs": [
    {
     "name": "stdout",
     "output_type": "stream",
     "text": [
      "10 ms ± 276 µs per loop (mean ± std. dev. of 50 runs, 50 loops each)\n"
     ]
    }
   ],
   "source": [
    "%%timeit -n 50 -r 50\n",
    "item = np.random.randint(0, 10000000)\n",
    "sequential_search(items, item)"
   ],
   "metadata": {
    "collapsed": false,
    "ExecuteTime": {
     "end_time": "2023-08-03T14:27:02.846684400Z",
     "start_time": "2023-08-03T14:26:37.806233900Z"
    }
   }
  },
  {
   "cell_type": "code",
   "execution_count": 53,
   "outputs": [],
   "source": [
    "def ordered_sequential_search(ordered_items, item):\n",
    "    for i in ordered_items:\n",
    "        if i == item:\n",
    "            return True\n",
    "        if i > item:\n",
    "            return False\n",
    "    return False\n",
    "ordered_items = np.random.randint(0, 10000000, size=[1000000]).tolist()\n",
    "ordered_items.sort()"
   ],
   "metadata": {
    "collapsed": false,
    "ExecuteTime": {
     "end_time": "2023-08-03T14:27:03.001686500Z",
     "start_time": "2023-08-03T14:27:02.847680400Z"
    }
   }
  },
  {
   "cell_type": "code",
   "execution_count": 55,
   "outputs": [
    {
     "name": "stdout",
     "output_type": "stream",
     "text": [
      "13.5 ms ± 2.03 ms per loop (mean ± std. dev. of 50 runs, 50 loops each)\n"
     ]
    }
   ],
   "source": [
    "%%timeit -n 50 -r 50\n",
    "item = np.random.randint(0, 10000000)\n",
    "ordered_sequential_search(ordered_items, item)"
   ],
   "metadata": {
    "collapsed": false,
    "ExecuteTime": {
     "end_time": "2023-08-03T14:28:15.909929500Z",
     "start_time": "2023-08-03T14:27:42.114504900Z"
    }
   }
  },
  {
   "cell_type": "markdown",
   "source": [
    "# binary_search"
   ],
   "metadata": {
    "collapsed": false
   }
  },
  {
   "cell_type": "code",
   "execution_count": 58,
   "outputs": [],
   "source": [
    "def binary_search_recursion(ordered_items, item):\n",
    "    if len(ordered_items) == 0:\n",
    "        return False\n",
    "    else:\n",
    "        mid = len(ordered_items) // 2\n",
    "        if ordered_items[mid] == item:\n",
    "            return True\n",
    "        else:\n",
    "            if item < ordered_items[mid]:\n",
    "                return binary_search_recursion(ordered_items[:mid], item)\n",
    "            else:\n",
    "                return binary_search_recursion(ordered_items[mid + 1:], item)\n",
    "ordered_items = np.random.randint(0, 10000000, size=[1000000]).tolist()\n",
    "ordered_items.sort()"
   ],
   "metadata": {
    "collapsed": false,
    "ExecuteTime": {
     "end_time": "2023-08-04T12:20:53.188639700Z",
     "start_time": "2023-08-04T12:20:53.022113600Z"
    }
   }
  },
  {
   "cell_type": "code",
   "execution_count": 57,
   "outputs": [
    {
     "name": "stdout",
     "output_type": "stream",
     "text": [
      "7.35 ms ± 178 µs per loop (mean ± std. dev. of 50 runs, 50 loops each)\n"
     ]
    }
   ],
   "source": [
    "%%timeit -n 50 -r 50\n",
    "item = np.random.randint(0, 10000000)\n",
    "binary_search_recursion(ordered_items, item)"
   ],
   "metadata": {
    "collapsed": false,
    "ExecuteTime": {
     "end_time": "2023-08-04T12:19:59.385479800Z",
     "start_time": "2023-08-04T12:19:40.991337400Z"
    }
   }
  },
  {
   "cell_type": "code",
   "execution_count": 67,
   "outputs": [],
   "source": [
    "def binary_search(ordered_items, item):\n",
    "    left = 0\n",
    "    right = len(ordered_items) - 1\n",
    "    while left <= right:\n",
    "        mid = (left + right) // 2\n",
    "        if ordered_items[mid] == item:\n",
    "            return True\n",
    "        else:\n",
    "            if item < ordered_items[mid]:\n",
    "                right = mid - 1\n",
    "            else:\n",
    "                left = mid + 1\n",
    "    return False\n",
    "ordered_items = np.random.randint(0, 10000000, size=[1000000]).tolist()\n",
    "ordered_items.sort()"
   ],
   "metadata": {
    "collapsed": false,
    "ExecuteTime": {
     "end_time": "2023-08-04T12:22:52.734820300Z",
     "start_time": "2023-08-04T12:22:52.569324400Z"
    }
   }
  },
  {
   "cell_type": "code",
   "execution_count": 68,
   "outputs": [
    {
     "name": "stdout",
     "output_type": "stream",
     "text": [
      "4.18 µs ± 944 ns per loop (mean ± std. dev. of 50 runs, 50 loops each)\n"
     ]
    }
   ],
   "source": [
    "%%timeit -n 50 -r 50\n",
    "item = np.random.randint(0, 10000000)\n",
    "binary_search(ordered_items, item)"
   ],
   "metadata": {
    "collapsed": false,
    "ExecuteTime": {
     "end_time": "2023-08-04T12:22:54.003602400Z",
     "start_time": "2023-08-04T12:22:53.977820700Z"
    }
   }
  }
 ],
 "metadata": {
  "kernelspec": {
   "display_name": "Python 3",
   "language": "python",
   "name": "python3"
  },
  "language_info": {
   "codemirror_mode": {
    "name": "ipython",
    "version": 2
   },
   "file_extension": ".py",
   "mimetype": "text/x-python",
   "name": "python",
   "nbconvert_exporter": "python",
   "pygments_lexer": "ipython2",
   "version": "2.7.6"
  }
 },
 "nbformat": 4,
 "nbformat_minor": 0
}
