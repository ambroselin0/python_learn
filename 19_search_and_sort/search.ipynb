{
 "cells": [
  {
   "cell_type": "code",
   "execution_count": 1,
   "metadata": {
    "collapsed": true,
    "ExecuteTime": {
     "end_time": "2023-08-04T13:08:28.686635300Z",
     "start_time": "2023-08-04T13:08:28.675534400Z"
    }
   },
   "outputs": [
    {
     "data": {
      "text/plain": "False"
     },
     "execution_count": 1,
     "metadata": {},
     "output_type": "execute_result"
    }
   ],
   "source": [
    "15 in [10, 24, 2431, 35]"
   ]
  },
  {
   "cell_type": "code",
   "execution_count": 2,
   "outputs": [
    {
     "data": {
      "text/plain": "True"
     },
     "execution_count": 2,
     "metadata": {},
     "output_type": "execute_result"
    }
   ],
   "source": [
    "3 in [5, 10, 3]"
   ],
   "metadata": {
    "collapsed": false,
    "ExecuteTime": {
     "end_time": "2023-08-04T13:08:28.901395700Z",
     "start_time": "2023-08-04T13:08:28.879385600Z"
    }
   }
  },
  {
   "cell_type": "markdown",
   "source": [
    "# Sequential Search\n"
   ],
   "metadata": {
    "collapsed": false
   }
  },
  {
   "cell_type": "code",
   "execution_count": 4,
   "outputs": [],
   "source": [
    "import numpy as np"
   ],
   "metadata": {
    "collapsed": false,
    "ExecuteTime": {
     "end_time": "2023-08-04T13:09:47.529293700Z",
     "start_time": "2023-08-04T13:09:47.461554300Z"
    }
   }
  },
  {
   "cell_type": "code",
   "execution_count": 24,
   "outputs": [],
   "source": [
    "def sequential_search(items, item):\n",
    "    for i in items:\n",
    "        if i == item:\n",
    "            return True\n",
    "    return False\n",
    "items = np.random.randint(0, 10000000, size=[100000]).tolist()"
   ],
   "metadata": {
    "collapsed": false,
    "ExecuteTime": {
     "end_time": "2023-08-04T13:15:24.741163600Z",
     "start_time": "2023-08-04T13:15:24.722722600Z"
    }
   }
  },
  {
   "cell_type": "code",
   "execution_count": 25,
   "outputs": [
    {
     "name": "stdout",
     "output_type": "stream",
     "text": [
      "1.04 ms ± 29.4 µs per loop (mean ± std. dev. of 50 runs, 50 loops each)\n"
     ]
    }
   ],
   "source": [
    "%%timeit -n 50 -r 50\n",
    "item = np.random.randint(0, 10000000)\n",
    "sequential_search(items, item)"
   ],
   "metadata": {
    "collapsed": false,
    "ExecuteTime": {
     "end_time": "2023-08-04T13:15:30.315612900Z",
     "start_time": "2023-08-04T13:15:27.717766Z"
    }
   }
  },
  {
   "cell_type": "code",
   "execution_count": 26,
   "outputs": [],
   "source": [
    "def ordered_sequential_search(ordered_items, item):\n",
    "    for i in ordered_items:\n",
    "        if i == item:\n",
    "            return True\n",
    "        if i > item:\n",
    "            return False\n",
    "    return False\n",
    "ordered_items = np.random.randint(0, 10000000, size=[100000]).tolist()\n",
    "ordered_items.sort()"
   ],
   "metadata": {
    "collapsed": false,
    "ExecuteTime": {
     "end_time": "2023-08-04T13:15:30.324608700Z",
     "start_time": "2023-08-04T13:15:30.305559900Z"
    }
   }
  },
  {
   "cell_type": "code",
   "execution_count": 27,
   "outputs": [
    {
     "name": "stdout",
     "output_type": "stream",
     "text": [
      "1.02 ms ± 101 µs per loop (mean ± std. dev. of 50 runs, 50 loops each)\n"
     ]
    }
   ],
   "source": [
    "%%timeit -n 50 -r 50\n",
    "item = np.random.randint(0, 10000000)\n",
    "ordered_sequential_search(ordered_items, item)"
   ],
   "metadata": {
    "collapsed": false,
    "ExecuteTime": {
     "end_time": "2023-08-04T13:15:32.893034Z",
     "start_time": "2023-08-04T13:15:30.321618700Z"
    }
   }
  },
  {
   "cell_type": "markdown",
   "source": [
    "# binary_search"
   ],
   "metadata": {
    "collapsed": false
   }
  },
  {
   "cell_type": "code",
   "execution_count": 46,
   "outputs": [],
   "source": [
    "def binary_search_recursion(ordered_items, item):\n",
    "    # print(ordered_items, item)\n",
    "    if len(ordered_items) == 0:\n",
    "        return False\n",
    "    else:\n",
    "        mid = len(ordered_items) // 2\n",
    "        if ordered_items[mid] == item:\n",
    "            return True\n",
    "        else:\n",
    "            if item < ordered_items[mid]:\n",
    "                return binary_search_recursion(ordered_items[:mid], item)\n",
    "            else:\n",
    "                return binary_search_recursion(ordered_items[mid + 1:], item)\n",
    "ordered_items = np.random.randint(0, 10000000, size=[100000]).tolist()\n",
    "ordered_items.sort()"
   ],
   "metadata": {
    "collapsed": false,
    "ExecuteTime": {
     "end_time": "2023-08-04T13:31:04.630091200Z",
     "start_time": "2023-08-04T13:31:04.605345600Z"
    }
   }
  },
  {
   "cell_type": "code",
   "execution_count": 47,
   "outputs": [
    {
     "name": "stdout",
     "output_type": "stream",
     "text": [
      "225 µs ± 31.4 µs per loop (mean ± std. dev. of 50 runs, 50 loops each)\n"
     ]
    }
   ],
   "source": [
    "%%timeit -n 50 -r 50\n",
    "item = np.random.randint(0, 10000000)\n",
    "binary_search_recursion(ordered_items, item)"
   ],
   "metadata": {
    "collapsed": false,
    "ExecuteTime": {
     "end_time": "2023-08-04T13:31:06.774300700Z",
     "start_time": "2023-08-04T13:31:06.337948800Z"
    }
   }
  },
  {
   "cell_type": "code",
   "execution_count": 74,
   "outputs": [],
   "source": [
    "def binary_search_recursion(ordered_items, item, left = 0, right = None):\n",
    "    if right is None:\n",
    "        right = len(ordered_items) - 1\n",
    "    if right < left:\n",
    "        return False\n",
    "    else:\n",
    "        mid = (left + right) // 2\n",
    "        if ordered_items[mid] == item:\n",
    "            return True\n",
    "        else:\n",
    "            if item < ordered_items[mid]:\n",
    "                return binary_search_recursion(ordered_items, item, left=left, right=mid-1)\n",
    "            else:\n",
    "                return binary_search_recursion(ordered_items, item, left=mid+1, right=right)\n",
    "ordered_items = np.random.randint(0, 10000000, size=[100000]).tolist()\n",
    "ordered_items.sort()"
   ],
   "metadata": {
    "collapsed": false,
    "ExecuteTime": {
     "end_time": "2023-08-04T13:45:49.724241700Z",
     "start_time": "2023-08-04T13:45:49.706488200Z"
    }
   }
  },
  {
   "cell_type": "code",
   "execution_count": 76,
   "outputs": [
    {
     "name": "stdout",
     "output_type": "stream",
     "text": [
      "4.17 µs ± 288 ns per loop (mean ± std. dev. of 50 runs, 50 loops each)\n"
     ]
    }
   ],
   "source": [
    "%%timeit -n 50 -r 50\n",
    "item = np.random.randint(0, 10000000)\n",
    "binary_search_recursion(ordered_items, item)"
   ],
   "metadata": {
    "collapsed": false,
    "ExecuteTime": {
     "end_time": "2023-08-04T13:46:26.563153500Z",
     "start_time": "2023-08-04T13:46:26.538597900Z"
    }
   }
  },
  {
   "cell_type": "code",
   "execution_count": 65,
   "outputs": [],
   "source": [
    "def binary_search(ordered_items, item):\n",
    "    left = 0\n",
    "    right = len(ordered_items) - 1\n",
    "    while left <= right:\n",
    "        mid = (left + right) // 2\n",
    "        print(ordered_items, f\"left index is {left}:{ordered_items[left]}, right index is {right}: {ordered_items[right]}, mid index is {mid}:{ordered_items[mid]}, list like {ordered_items[left:right + 1]}\")\n",
    "        if ordered_items[mid] == item:\n",
    "            return True\n",
    "        else:\n",
    "            if item < ordered_items[mid]:\n",
    "                right = mid - 1\n",
    "            else:\n",
    "                left = mid + 1\n",
    "    return False\n",
    "ordered_items = np.random.randint(0, 10, size=[11]).tolist()\n",
    "ordered_items.sort()"
   ],
   "metadata": {
    "collapsed": false,
    "ExecuteTime": {
     "end_time": "2023-08-04T13:39:39.523677900Z",
     "start_time": "2023-08-04T13:39:39.508680900Z"
    }
   }
  },
  {
   "cell_type": "code",
   "execution_count": 49,
   "outputs": [
    {
     "name": "stdout",
     "output_type": "stream",
     "text": [
      "4.09 µs ± 468 ns per loop (mean ± std. dev. of 50 runs, 50 loops each)\n"
     ]
    }
   ],
   "source": [
    "%%timeit -n 50 -r 50\n",
    "item = np.random.randint(0, 10000000)\n",
    "binary_search(ordered_items, item)"
   ],
   "metadata": {
    "collapsed": false,
    "ExecuteTime": {
     "end_time": "2023-08-04T13:32:53.208890400Z",
     "start_time": "2023-08-04T13:32:53.194814800Z"
    }
   }
  }
 ],
 "metadata": {
  "kernelspec": {
   "display_name": "Python 3",
   "language": "python",
   "name": "python3"
  },
  "language_info": {
   "codemirror_mode": {
    "name": "ipython",
    "version": 2
   },
   "file_extension": ".py",
   "mimetype": "text/x-python",
   "name": "python",
   "nbconvert_exporter": "python",
   "pygments_lexer": "ipython2",
   "version": "2.7.6"
  }
 },
 "nbformat": 4,
 "nbformat_minor": 0
}
