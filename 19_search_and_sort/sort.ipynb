{
 "cells": [
  {
   "cell_type": "code",
   "execution_count": 3,
   "outputs": [],
   "source": [
    "import random"
   ],
   "metadata": {
    "collapsed": false,
    "ExecuteTime": {
     "end_time": "2023-08-30T13:33:23.702567100Z",
     "start_time": "2023-08-30T13:33:23.691559100Z"
    }
   },
   "id": "228b6532b8877835"
  },
  {
   "cell_type": "code",
   "execution_count": 2,
   "outputs": [
    {
     "name": "stdout",
     "output_type": "stream",
     "text": [
      "4.12 ms ± 10.8 µs per loop (mean ± std. dev. of 7 runs, 100 loops each)\n"
     ]
    }
   ],
   "source": [
    "%%timeit\n",
    "l = [random.randint(0, 1000) for x in range(10000)]\n",
    "l, l.sort()"
   ],
   "metadata": {
    "collapsed": false,
    "ExecuteTime": {
     "end_time": "2023-08-28T12:58:41.613778300Z",
     "start_time": "2023-08-28T12:58:38.317422500Z"
    }
   },
   "id": "8470ef4511509c0"
  },
  {
   "cell_type": "code",
   "execution_count": 10,
   "outputs": [
    {
     "name": "stdout",
     "output_type": "stream",
     "text": [
      "3.61 s ± 102 ms per loop (mean ± std. dev. of 7 runs, 1 loop each)\n"
     ]
    }
   ],
   "source": [
    "%%timeit\n",
    "\n",
    "# leetcode 0283\n",
    "# bubble sort\n",
    "def bubble_sort(l: list) -> list:  # n^2\n",
    "    l = l.copy()\n",
    "    for i in range(len(l) - 1, 0, -1):\n",
    "        for j in range(i):\n",
    "            # print(l, i, j, j + 1)\n",
    "            if l[j] > l[j + 1]:\n",
    "                l[j + 1], l[j] = l[j], l[j + 1]\n",
    "    return l\n",
    "\n",
    "\n",
    "l = [random.randint(0, 1000) for x in range(10000)]\n",
    "l, bubble_sort(l)"
   ],
   "metadata": {
    "collapsed": false,
    "ExecuteTime": {
     "end_time": "2023-08-28T12:50:01.150235800Z",
     "start_time": "2023-08-28T12:49:32.494342100Z"
    }
   },
   "id": "f38d72eb5362d42f"
  },
  {
   "cell_type": "code",
   "execution_count": 9,
   "outputs": [
    {
     "name": "stdout",
     "output_type": "stream",
     "text": [
      "3.67 s ± 28.4 ms per loop (mean ± std. dev. of 7 runs, 1 loop each)\n"
     ]
    }
   ],
   "source": [
    "%%timeit\n",
    "\n",
    "# leetcode 0283\n",
    "# bubble sort\n",
    "def bubble_sort(l: list) -> list:\n",
    "    l = l.copy()\n",
    "    for i in range(len(l) - 1, 0, -1):\n",
    "        change = False\n",
    "        for j in range(i):\n",
    "            if l[j] > l[j + 1]:\n",
    "                change = True\n",
    "                l[j + 1], l[j] = l[j], l[j + 1]\n",
    "        if not change:\n",
    "            break\n",
    "    return l\n",
    "\n",
    "\n",
    "l = [random.randint(0, 1000) for x in range(10000)]\n",
    "l, bubble_sort(l)"
   ],
   "metadata": {
    "collapsed": false,
    "ExecuteTime": {
     "end_time": "2023-08-28T12:49:32.493341500Z",
     "start_time": "2023-08-28T12:49:03.365011Z"
    }
   },
   "id": "initial_id"
  },
  {
   "cell_type": "code",
   "execution_count": 8,
   "outputs": [
    {
     "name": "stdout",
     "output_type": "stream",
     "text": [
      "1.26 s ± 6.71 ms per loop (mean ± std. dev. of 7 runs, 1 loop each)\n"
     ]
    }
   ],
   "source": [
    "%%timeit\n",
    "\n",
    "# leetcode 912\n",
    "# selection sort\n",
    "def selection_sort(l: list) -> list:\n",
    "    l = l.copy()\n",
    "    for i in range(len(l) - 1, 0, -1):\n",
    "        max_index = 0\n",
    "        for j in range(1, i + 1):\n",
    "            # print(l, i, max_index)\n",
    "            if l[j] > l[max_index]:\n",
    "                max_index = j\n",
    "        l[i], l[max_index] = l[max_index], l[i]\n",
    "    return l\n",
    "\n",
    "\n",
    "l = [random.randint(0, 1000) for x in range(10000)]\n",
    "l, selection_sort(l)"
   ],
   "metadata": {
    "collapsed": false,
    "ExecuteTime": {
     "end_time": "2023-08-28T12:49:03.320936700Z",
     "start_time": "2023-08-28T12:48:53.228387400Z"
    }
   },
   "id": "475da8bd32904846"
  },
  {
   "cell_type": "markdown",
   "source": [
    "6 3 1 3 8 1 9\n",
    "\n",
    "3 6 1 3 8 1 9\n",
    "\n",
    "1 3 6 3 8 1 9\n",
    "\n",
    "1 3 3 6 8 1 9\n",
    "\n",
    "1 3 3 6 8 1 9\n",
    "\n",
    "1 1 3 3 6 8 9\n",
    "\n",
    "1 1 3 3 6 8 9"
   ],
   "metadata": {
    "collapsed": false
   },
   "id": "18b017b63c0504cf"
  },
  {
   "cell_type": "code",
   "execution_count": 7,
   "outputs": [
    {
     "name": "stdout",
     "output_type": "stream",
     "text": [
      "1.99 s ± 20.8 ms per loop (mean ± std. dev. of 7 runs, 1 loop each)\n"
     ]
    }
   ],
   "source": [
    "%%timeit\n",
    "\n",
    "# leetcode 0075\n",
    "# insertion sort\n",
    "def insertion_sort(l: list) -> list:  # n ^ 2\n",
    "    l = l.copy()\n",
    "    for i in range(1, len(l)):\n",
    "        current_value = l[i]\n",
    "        index = i\n",
    "\n",
    "        while index > 0 and l[index - 1] > current_value:\n",
    "            # print(i, index, l)\n",
    "            l[index] = l[index - 1]\n",
    "            # print(i, index, l)\n",
    "            index -= 1\n",
    "\n",
    "        l[index] = current_value\n",
    "    return l\n",
    "\n",
    "\n",
    "l = [random.randint(0, 1000) for x in range(10000)]\n",
    "l, insertion_sort(l)"
   ],
   "metadata": {
    "collapsed": false,
    "ExecuteTime": {
     "end_time": "2023-08-28T12:48:53.226877100Z",
     "start_time": "2023-08-28T12:48:37.394209100Z"
    }
   },
   "id": "fc713b33756699c3"
  },
  {
   "cell_type": "code",
   "execution_count": 4,
   "outputs": [
    {
     "name": "stdout",
     "output_type": "stream",
     "text": [
      "1.96 ms ± 20.2 µs per loop (mean ± std. dev. of 7 runs, 1,000 loops each)\n"
     ]
    }
   ],
   "source": [
    "%%timeit\n",
    "\n",
    "def gap_insertion_sort(l: list, begin: int, gap: int) -> list:\n",
    "    l = l.copy()\n",
    "    for i in range(begin + gap, len(l), gap):\n",
    "        current_value = l[i]\n",
    "        position = i\n",
    "\n",
    "        while position >= gap and l[position - gap] > current_value:\n",
    "            l[position] = l[position - gap]\n",
    "            position = position - gap\n",
    "\n",
    "        l[position] = current_value\n",
    "\n",
    "        return l\n",
    "\n",
    "\n",
    "def shell_sort(l: list) -> list:\n",
    "    l = l.copy()\n",
    "    sublist_count = len(l) // 2\n",
    "    while sublist_count > 0:\n",
    "        for begin_point in range(sublist_count):\n",
    "            l = gap_insertion_sort(l, begin_point, sublist_count)\n",
    "        sublist_count = sublist_count // 2\n",
    "\n",
    "\n",
    "l = [random.randint(0, 1000) for x in range(1000)]\n",
    "l, shell_sort(l)"
   ],
   "metadata": {
    "collapsed": false,
    "ExecuteTime": {
     "end_time": "2023-08-22T14:18:21.971912500Z",
     "start_time": "2023-08-22T14:18:06.051510Z"
    }
   },
   "id": "5ad7b1a8d829ce09"
  },
  {
   "cell_type": "code",
   "execution_count": 12,
   "outputs": [
    {
     "name": "stdout",
     "output_type": "stream",
     "text": [
      "3.01 s ± 30.6 ms per loop (mean ± std. dev. of 7 runs, 1 loop each)\n"
     ]
    }
   ],
   "source": [
    "%%timeit\n",
    "\n",
    "def merge_sort(l: list) -> list:\n",
    "    l = l.copy()\n",
    "    if len(l) > 1:\n",
    "        # split\n",
    "        mid = len(l) // 2\n",
    "        left_l = l[:mid]\n",
    "        right_l = l[mid:]\n",
    "\n",
    "        left_l = merge_sort(left_l)\n",
    "        right_l = merge_sort(right_l)\n",
    "\n",
    "        i, j, k = 0, 0, 0  # index: i for left, j for right, k for l\n",
    "        # 左右两边的数字都还没被插完，当一边的插完以后，结束while\n",
    "        while i < len(left_l) and j < len(right_l):\n",
    "            if left_l[i] < right_l[j]:\n",
    "                l[k] = left_l[i]\n",
    "                i += 1\n",
    "            else:\n",
    "                l[k] = right_l[j]\n",
    "                j += 1\n",
    "            k += 1\n",
    "\n",
    "        # left remaining\n",
    "        while i < len(left_l):\n",
    "            l[k] = left_l[i]\n",
    "            i += 1\n",
    "            k += 1\n",
    "\n",
    "        # right remaining\n",
    "        while j < len(right_l):\n",
    "            l[k] = right_l[j]\n",
    "            j += 1\n",
    "            k += 1\n",
    "    # if no split, return l\n",
    "    return l\n",
    "\n",
    "\n",
    "l = [random.randint(0, 1000000) for x in range(1000000)]\n",
    "l, merge_sort(l)"
   ],
   "metadata": {
    "collapsed": false,
    "ExecuteTime": {
     "end_time": "2023-08-30T13:39:56.099156700Z",
     "start_time": "2023-08-30T13:39:31.928473900Z"
    }
   },
   "id": "dec56b8c3f37a4"
  },
  {
   "cell_type": "code",
   "execution_count": 13,
   "outputs": [
    {
     "name": "stdout",
     "output_type": "stream",
     "text": [
      "3.58 s ± 215 ms per loop (mean ± std. dev. of 7 runs, 1 loop each)\n"
     ]
    }
   ],
   "source": [
    "%%timeit\n",
    "def merge_sort(l): \n",
    "    l_len = len(l)\n",
    "    width = 1 \n",
    "    while width < l_len:\n",
    "        for i in range(0, l_len, width * 2):\n",
    "            left = i\n",
    "            mid = min(i + width, l_len)\n",
    "            right = min(i + width * 2, l_len)\n",
    "            merge(l, left, mid, right) \n",
    "        width *= 2\n",
    "    return l\n",
    "\n",
    "\n",
    "def merge(l, left, mid, right):\n",
    "    temp = []\n",
    "    i = left\n",
    "    j = mid\n",
    "    while i < mid and j < right:\n",
    "        if l[i] < l[j]: \n",
    "            temp.append(l[i])\n",
    "            i += 1\n",
    "        else:\n",
    "            temp.append(l[j])\n",
    "            j += 1\n",
    "    while i < mid: \n",
    "        temp.append(l[i])\n",
    "        i += 1\n",
    "    while j < right:\n",
    "        temp.append(l[j])\n",
    "        j += 1\n",
    "    for k in range(left, right):\n",
    "        l[k] = temp[k - left]\n",
    " \n",
    "l = [random.randint(0, 1000000) for x in range(1000000)]\n",
    "l, merge_sort(l)"
   ],
   "metadata": {
    "collapsed": false,
    "ExecuteTime": {
     "end_time": "2023-08-30T13:40:24.565129Z",
     "start_time": "2023-08-30T13:39:56.100156100Z"
    }
   },
   "id": "a22fe6d1b7524813"
  },
  {
   "cell_type": "code",
   "execution_count": 10,
   "outputs": [
    {
     "name": "stdout",
     "output_type": "stream",
     "text": [
      "15 ms ± 52.5 µs per loop (mean ± std. dev. of 7 runs, 100 loops each)\n"
     ]
    }
   ],
   "source": [
    "%%timeit\n",
    "\n",
    "def split_l(l: list, left: int, right: int):\n",
    "    value = l[left]\n",
    "    left_mark = left + 1\n",
    "    right_mark = right\n",
    "\n",
    "    while left_mark <= right_mark:\n",
    "        while left_mark <= right_mark and l[left_mark] <= value:\n",
    "            left_mark += 1\n",
    "\n",
    "        while right_mark >= left_mark and l[right_mark] >= value:\n",
    "            right_mark -= 1\n",
    "\n",
    "        if left_mark <= right_mark:\n",
    "            l[left_mark], l[right_mark] = l[right_mark], l[left_mark]\n",
    "\n",
    "    l[left], l[right_mark] = l[right_mark], l[left]\n",
    "\n",
    "    return right_mark\n",
    "\n",
    "\n",
    "def quick_sort(l: list, left=None, right=None) -> list:\n",
    "    if left is None and right is None:\n",
    "        left = 0\n",
    "        right = len(l) - 1\n",
    "\n",
    "    if left < right:\n",
    "        split_index = split_l(l, left, right)\n",
    "        # print(l)\n",
    "        quick_sort(l, left, split_index - 1)\n",
    "        quick_sort(l, split_index + 1, right)\n",
    "\n",
    "        # return l\n",
    "\n",
    "\n",
    "l = [random.randint(0, 1000) for x in range(10000)]\n",
    "l, quick_sort(l)"
   ],
   "metadata": {
    "collapsed": false,
    "ExecuteTime": {
     "end_time": "2023-08-28T13:13:58.796448400Z",
     "start_time": "2023-08-28T13:13:46.648069Z"
    }
   },
   "id": "864b3be6593f27b4"
  },
  {
   "cell_type": "code",
   "execution_count": 14,
   "outputs": [
    {
     "name": "stdout",
     "output_type": "stream",
     "text": [
      "15.9 ms ± 56.8 µs per loop (mean ± std. dev. of 7 runs, 100 loops each)\n"
     ]
    }
   ],
   "source": [
    "%%timeit\n",
    "def split_l(l, left, right):\n",
    "    i = left - 1\n",
    "    x = l[right]\n",
    "\n",
    "    for j in range(left, right):\n",
    "        if l[j] <= x:\n",
    "            i = i + 1\n",
    "            l[i], l[j] = l[j], l[i]\n",
    "\n",
    "    l[i + 1], l[right] = l[right], l[i + 1]\n",
    "    return i + 1\n",
    "\n",
    "\n",
    "def quick_sort(l):\n",
    "    left_mark = 0\n",
    "    right_mark = len(l) - 1\n",
    "    l_len = len(l)\n",
    "    stack = [0] * l_len\n",
    "\n",
    "    stack[0] = left_mark\n",
    "    stack[1] = right_mark\n",
    "    top = 1\n",
    "\n",
    "    while top >= 0:\n",
    "        right_mark = stack[top]\n",
    "        top = top - 1\n",
    "        left_mark = stack[top]\n",
    "        top = top - 1\n",
    "\n",
    "        split_index = split_l(l, left_mark, right_mark)\n",
    "\n",
    "        if split_index - 1 > left_mark:\n",
    "            top = top + 1\n",
    "            stack[top] = left_mark\n",
    "            top = top + 1\n",
    "            stack[top] = split_index - 1\n",
    "\n",
    "        if split_index + 1 < right_mark:\n",
    "            top = top + 1\n",
    "            stack[top] = split_index + 1\n",
    "            top = top + 1\n",
    "            stack[top] = right_mark\n",
    "l = [random.randint(0, 1000) for x in range(10000)]\n",
    "l, quick_sort(l)"
   ],
   "metadata": {
    "collapsed": false,
    "ExecuteTime": {
     "end_time": "2023-08-30T13:59:24.055418700Z",
     "start_time": "2023-08-30T13:59:11.120991600Z"
    }
   },
   "id": "e46eee7156914e31"
  }
 ],
 "metadata": {
  "kernelspec": {
   "display_name": "Python 3",
   "language": "python",
   "name": "python3"
  },
  "language_info": {
   "codemirror_mode": {
    "name": "ipython",
    "version": 2
   },
   "file_extension": ".py",
   "mimetype": "text/x-python",
   "name": "python",
   "nbconvert_exporter": "python",
   "pygments_lexer": "ipython2",
   "version": "2.7.6"
  }
 },
 "nbformat": 4,
 "nbformat_minor": 5
}
