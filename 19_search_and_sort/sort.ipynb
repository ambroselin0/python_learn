{
 "cells": [
  {
   "cell_type": "code",
   "execution_count": 1,
   "outputs": [],
   "source": [
    "import random"
   ],
   "metadata": {
    "collapsed": false,
    "ExecuteTime": {
     "end_time": "2023-08-24T12:39:12.826257200Z",
     "start_time": "2023-08-24T12:39:12.813190600Z"
    }
   },
   "id": "228b6532b8877835"
  },
  {
   "cell_type": "code",
   "execution_count": 3,
   "outputs": [
    {
     "name": "stdout",
     "output_type": "stream",
     "text": [
      "398 µs ± 1.48 µs per loop (mean ± std. dev. of 7 runs, 1,000 loops each)\n"
     ]
    }
   ],
   "source": [
    "%%timeit\n",
    "l = [random.randint(0, 1000) for x in range(1000)]\n",
    "l, l.sort()"
   ],
   "metadata": {
    "collapsed": false,
    "ExecuteTime": {
     "end_time": "2023-08-24T12:39:37.436108100Z",
     "start_time": "2023-08-24T12:39:34.204461Z"
    }
   },
   "id": "8470ef4511509c0"
  },
  {
   "cell_type": "code",
   "execution_count": 18,
   "outputs": [
    {
     "name": "stdout",
     "output_type": "stream",
     "text": [
      "3.63 s ± 21 ms per loop (mean ± std. dev. of 7 runs, 1 loop each)\n"
     ]
    }
   ],
   "source": [
    "%%timeit\n",
    "# leetcode 0283\n",
    "# bubble sort\n",
    "def bubble_sort(l: list) -> list: # n^2\n",
    "    l = l.copy()\n",
    "    for i in range(len(l) - 1, 0, -1):\n",
    "        for j in range(i):\n",
    "            # print(l, i, j, j + 1)\n",
    "            if l[j] > l[j + 1]:\n",
    "                l[j + 1], l[j] = l[j], l[j + 1]\n",
    "    return l\n",
    "l = [random.randint(0, 1000) for x in range(10000)]\n",
    "l, bubble_sort(l)"
   ],
   "metadata": {
    "collapsed": false,
    "ExecuteTime": {
     "end_time": "2023-08-24T12:55:18.770751900Z",
     "start_time": "2023-08-24T12:54:49.972821500Z"
    }
   },
   "id": "f38d72eb5362d42f"
  },
  {
   "cell_type": "code",
   "execution_count": 19,
   "outputs": [
    {
     "name": "stdout",
     "output_type": "stream",
     "text": [
      "3.66 s ± 8.63 ms per loop (mean ± std. dev. of 7 runs, 1 loop each)\n"
     ]
    }
   ],
   "source": [
    "%%timeit\n",
    "# leetcode 0283\n",
    "# bubble sort\n",
    "def bubble_sort(l: list) -> list:\n",
    "    l = l.copy()\n",
    "    for i in range(len(l) - 1, 0, -1):\n",
    "        change = False\n",
    "        for j in range(i):\n",
    "            if l[j] > l[j + 1]:\n",
    "                change = True\n",
    "                l[j + 1], l[j] = l[j], l[j + 1]\n",
    "        if not change:\n",
    "            break\n",
    "    return l\n",
    "l = [random.randint(0, 1000) for x in range(10000)]\n",
    "l, bubble_sort(l)"
   ],
   "metadata": {
    "collapsed": false,
    "ExecuteTime": {
     "end_time": "2023-08-24T12:55:47.912740900Z",
     "start_time": "2023-08-24T12:55:18.809916Z"
    }
   },
   "id": "initial_id"
  },
  {
   "cell_type": "code",
   "execution_count": 29,
   "outputs": [
    {
     "name": "stdout",
     "output_type": "stream",
     "text": [
      "1.26 s ± 3.69 ms per loop (mean ± std. dev. of 7 runs, 1 loop each)\n"
     ]
    }
   ],
   "source": [
    "%%timeit\n",
    "# leetcode 912\n",
    "# selection sort\n",
    "def selection_sort(l: list) -> list:\n",
    "    l = l.copy()\n",
    "    for i in range(len(l) - 1, 0, -1):\n",
    "        max_index = 0\n",
    "        for j in range(1, i + 1):\n",
    "            # print(l, i, max_index)\n",
    "            if l[j] > l[max_index]:\n",
    "                max_index = j\n",
    "        l[i], l[max_index] = l[max_index], l[i]\n",
    "    return l\n",
    "\n",
    "l = [random.randint(0, 1000) for x in range(10000)]\n",
    "l, selection_sort(l)"
   ],
   "metadata": {
    "collapsed": false,
    "ExecuteTime": {
     "end_time": "2023-08-24T13:31:51.846877900Z",
     "start_time": "2023-08-24T13:31:41.808406700Z"
    }
   },
   "id": "475da8bd32904846"
  },
  {
   "cell_type": "markdown",
   "source": [
    "6 3 1 3 8 1 9\n",
    "\n",
    "3 6 1 3 8 1 9\n",
    "\n",
    "1 3 6 3 8 1 9\n",
    "\n",
    "1 3 3 6 8 1 9\n",
    "\n",
    "1 3 3 6 8 1 9\n",
    "\n",
    "1 1 3 3 6 8 9\n",
    "\n",
    "1 1 3 3 6 8 9"
   ],
   "metadata": {
    "collapsed": false
   },
   "id": "18b017b63c0504cf"
  },
  {
   "cell_type": "code",
   "execution_count": 33,
   "outputs": [
    {
     "name": "stdout",
     "output_type": "stream",
     "text": [
      "2 2 [2, 5, 5, 0, 3]\n",
      "3 3 [2, 4, 5, 5, 3]\n",
      "3 2 [2, 4, 4, 5, 3]\n",
      "3 1 [2, 2, 4, 5, 3]\n",
      "4 4 [0, 2, 4, 5, 5]\n",
      "4 3 [0, 2, 4, 4, 5]\n"
     ]
    },
    {
     "data": {
      "text/plain": "([2, 5, 4, 0, 3], [0, 2, 3, 4, 5])"
     },
     "execution_count": 33,
     "metadata": {},
     "output_type": "execute_result"
    }
   ],
   "source": [
    "# %%timeit\n",
    "\n",
    "# leetcode 0075\n",
    "# insertion sort\n",
    "def insertion_sort(l: list) -> list:  # n ^ 2\n",
    "    l = l.copy()\n",
    "    for i in range(1, len(l)):\n",
    "        current_value = l[i]\n",
    "        index = i\n",
    "\n",
    "        while index > 0 and l[index - 1] > current_value:\n",
    "            # print(i, index, l)\n",
    "            l[index] = l[index - 1]\n",
    "            print(i, index, l)\n",
    "            index -= 1\n",
    "\n",
    "        l[index] = current_value\n",
    "    return l\n",
    "\n",
    "l = [random.randint(0, 5) for x in range(5)]\n",
    "l, insertion_sort(l)"
   ],
   "metadata": {
    "collapsed": false,
    "ExecuteTime": {
     "end_time": "2023-08-24T14:00:20.156617Z",
     "start_time": "2023-08-24T14:00:20.151617200Z"
    }
   },
   "id": "fc713b33756699c3"
  },
  {
   "cell_type": "code",
   "execution_count": 4,
   "outputs": [
    {
     "name": "stdout",
     "output_type": "stream",
     "text": [
      "1.96 ms ± 20.2 µs per loop (mean ± std. dev. of 7 runs, 1,000 loops each)\n"
     ]
    }
   ],
   "source": [
    "%%timeit\n",
    "\n",
    "def gap_insertion_sort(l: list, begin: int, gap: int) -> list:\n",
    "    l = l.copy()\n",
    "    for i in range(begin + gap, len(l), gap):\n",
    "        current_value = l[i]\n",
    "        position = i\n",
    "\n",
    "        while position >= gap and l[position - gap] > current_value:\n",
    "            l[position] = l[position - gap]\n",
    "            position = position - gap\n",
    "\n",
    "        l[position] = current_value\n",
    "\n",
    "        return l\n",
    "\n",
    "\n",
    "def shell_sort(l: list) -> list:\n",
    "    l = l.copy()\n",
    "    sublist_count = len(l) // 2\n",
    "    while sublist_count > 0:\n",
    "        for begin_point in range(sublist_count):\n",
    "            l = gap_insertion_sort(l, begin_point, sublist_count)\n",
    "        sublist_count = sublist_count // 2\n",
    "\n",
    "\n",
    "l = [random.randint(0, 1000) for x in range(1000)]\n",
    "l, shell_sort(l)"
   ],
   "metadata": {
    "collapsed": false,
    "ExecuteTime": {
     "end_time": "2023-08-22T14:18:21.971912500Z",
     "start_time": "2023-08-22T14:18:06.051510Z"
    }
   },
   "id": "5ad7b1a8d829ce09"
  },
  {
   "cell_type": "code",
   "execution_count": 24,
   "outputs": [
    {
     "name": "stdout",
     "output_type": "stream",
     "text": [
      "1.27 ms ± 4.94 µs per loop (mean ± std. dev. of 7 runs, 1,000 loops each)\n"
     ]
    }
   ],
   "source": [
    "%%timeit\n",
    "\n",
    "def merge_sort(l: list) -> list:\n",
    "    l = l.copy()\n",
    "    if len(l) > 1:\n",
    "        mid = len(l) // 2\n",
    "        left_l = l[:mid]\n",
    "        right_l = l[mid + 1:]\n",
    "\n",
    "        left_l = merge_sort(left_l)\n",
    "        right_l = merge_sort(right_l)\n",
    "\n",
    "        i, j, k = 0, 0, 0\n",
    "        while i < len(left_l) and j < len(right_l):\n",
    "            if left_l[i] < right_l[j]:\n",
    "                l[k] = left_l[i]\n",
    "                i += 1\n",
    "            else:\n",
    "                l[k] = right_l[j]\n",
    "                j += 1\n",
    "            k += 1\n",
    "\n",
    "        while i < len(left_l):\n",
    "            l[k] = left_l[i]\n",
    "            i += 1\n",
    "            k += 1\n",
    "\n",
    "        while j < len(right_l):\n",
    "            l[k] = right_l[j]\n",
    "            j += 1\n",
    "            k += 1\n",
    "    return l\n",
    "\n",
    "\n",
    "l = [random.randint(0, 1000) for x in range(1000)]\n",
    "l, merge_sort(l)"
   ],
   "metadata": {
    "collapsed": false,
    "ExecuteTime": {
     "end_time": "2023-08-22T14:59:28.318221Z",
     "start_time": "2023-08-22T14:59:17.938574900Z"
    }
   },
   "id": "dec56b8c3f37a4"
  },
  {
   "cell_type": "code",
   "execution_count": 23,
   "outputs": [
    {
     "name": "stdout",
     "output_type": "stream",
     "text": [
      "1.14 ms ± 9.49 µs per loop (mean ± std. dev. of 7 runs, 1,000 loops each)\n"
     ]
    }
   ],
   "source": [
    "%%timeit\n",
    "\n",
    "def split_l(l: list, left:int, right:int) -> tuple[int, list]:\n",
    "    value = l[left]\n",
    "    left_mark = left + 1\n",
    "    right_mark = right\n",
    "    \n",
    "    while left_mark <= right_mark:\n",
    "        while left_mark <= right_mark and l[left_mark] <= value:\n",
    "            left_mark += 1\n",
    "        \n",
    "        while right_mark >= left_mark and l[right_mark] >= value:\n",
    "            right_mark -= 1\n",
    "        \n",
    "        if left_mark <= right_mark:\n",
    "            l[left_mark], l[right_mark] = l[right_mark], l[left_mark]\n",
    "    \n",
    "    l[left], l[right_mark] = l[right_mark], l[left]\n",
    "    \n",
    "    return right_mark\n",
    "\n",
    "def quick_sort(l: list, left=None, right=None) -> list:\n",
    "    if left is None and right is None:\n",
    "        left = 0\n",
    "        right = len(l) - 1\n",
    "\n",
    "    if left < right:\n",
    "        split_index = split_l(l, left, right)\n",
    "        \n",
    "        quick_sort(l, left, split_index-1)\n",
    "        quick_sort(l, split_index+1, right) \n",
    "    \n",
    "    # return l\n",
    "l = [random.randint(0, 1000) for x in range(1000)]\n",
    "l, quick_sort(l), l"
   ],
   "metadata": {
    "collapsed": false,
    "ExecuteTime": {
     "end_time": "2023-08-22T14:59:07.677516600Z",
     "start_time": "2023-08-22T14:58:58.401172700Z"
    }
   },
   "id": "864b3be6593f27b4"
  }
 ],
 "metadata": {
  "kernelspec": {
   "display_name": "Python 3",
   "language": "python",
   "name": "python3"
  },
  "language_info": {
   "codemirror_mode": {
    "name": "ipython",
    "version": 2
   },
   "file_extension": ".py",
   "mimetype": "text/x-python",
   "name": "python",
   "nbconvert_exporter": "python",
   "pygments_lexer": "ipython2",
   "version": "2.7.6"
  }
 },
 "nbformat": 4,
 "nbformat_minor": 5
}
