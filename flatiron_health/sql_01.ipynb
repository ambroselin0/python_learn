{
 "cells": [
  {
   "cell_type": "code",
   "execution_count": 1,
   "outputs": [],
   "source": [
    "import sqlite3\n",
    "import pandas as pd\n",
    "conn = sqlite3.connect('flatiron_health.sqlite')"
   ],
   "metadata": {
    "collapsed": false,
    "ExecuteTime": {
     "end_time": "2023-10-12T12:42:31.119561Z",
     "start_time": "2023-10-12T12:42:30.564519Z"
    }
   },
   "id": "initial_id"
  },
  {
   "cell_type": "code",
   "execution_count": 4,
   "outputs": [
    {
     "data": {
      "text/plain": "      customer_name  number_of_invoices  lifetime_value  \\\n0                 0                   4            1899   \n1                 1                   8            3232   \n2                 2                   4            2075   \n3                 3                   2            1320   \n4                 4                   8            3811   \n...             ...                 ...             ...   \n99995         99995                   2            1038   \n99996         99996                   3            1042   \n99997         99997                   2            1121   \n99998         99998                   5             945   \n99999         99999                   6            1481   \n\n         most_recent_invoice_time  \n0      2008-07-28 04:00:29.239385  \n1      2020-09-19 06:07:13.959945  \n2      2023-05-18 23:20:31.667951  \n3      2015-04-01 11:56:31.351340  \n4      2013-05-01 05:57:38.466717  \n...                           ...  \n99995  1992-11-01 00:29:42.047642  \n99996  2000-12-09 01:09:56.755222  \n99997  1996-04-27 17:30:16.303030  \n99998  2014-08-05 15:26:56.697860  \n99999  2015-01-01 11:03:34.514374  \n\n[100000 rows x 4 columns]",
      "text/html": "<div>\n<style scoped>\n    .dataframe tbody tr th:only-of-type {\n        vertical-align: middle;\n    }\n\n    .dataframe tbody tr th {\n        vertical-align: top;\n    }\n\n    .dataframe thead th {\n        text-align: right;\n    }\n</style>\n<table border=\"1\" class=\"dataframe\">\n  <thead>\n    <tr style=\"text-align: right;\">\n      <th></th>\n      <th>customer_name</th>\n      <th>number_of_invoices</th>\n      <th>lifetime_value</th>\n      <th>most_recent_invoice_time</th>\n    </tr>\n  </thead>\n  <tbody>\n    <tr>\n      <th>0</th>\n      <td>0</td>\n      <td>4</td>\n      <td>1899</td>\n      <td>2008-07-28 04:00:29.239385</td>\n    </tr>\n    <tr>\n      <th>1</th>\n      <td>1</td>\n      <td>8</td>\n      <td>3232</td>\n      <td>2020-09-19 06:07:13.959945</td>\n    </tr>\n    <tr>\n      <th>2</th>\n      <td>2</td>\n      <td>4</td>\n      <td>2075</td>\n      <td>2023-05-18 23:20:31.667951</td>\n    </tr>\n    <tr>\n      <th>3</th>\n      <td>3</td>\n      <td>2</td>\n      <td>1320</td>\n      <td>2015-04-01 11:56:31.351340</td>\n    </tr>\n    <tr>\n      <th>4</th>\n      <td>4</td>\n      <td>8</td>\n      <td>3811</td>\n      <td>2013-05-01 05:57:38.466717</td>\n    </tr>\n    <tr>\n      <th>...</th>\n      <td>...</td>\n      <td>...</td>\n      <td>...</td>\n      <td>...</td>\n    </tr>\n    <tr>\n      <th>99995</th>\n      <td>99995</td>\n      <td>2</td>\n      <td>1038</td>\n      <td>1992-11-01 00:29:42.047642</td>\n    </tr>\n    <tr>\n      <th>99996</th>\n      <td>99996</td>\n      <td>3</td>\n      <td>1042</td>\n      <td>2000-12-09 01:09:56.755222</td>\n    </tr>\n    <tr>\n      <th>99997</th>\n      <td>99997</td>\n      <td>2</td>\n      <td>1121</td>\n      <td>1996-04-27 17:30:16.303030</td>\n    </tr>\n    <tr>\n      <th>99998</th>\n      <td>99998</td>\n      <td>5</td>\n      <td>945</td>\n      <td>2014-08-05 15:26:56.697860</td>\n    </tr>\n    <tr>\n      <th>99999</th>\n      <td>99999</td>\n      <td>6</td>\n      <td>1481</td>\n      <td>2015-01-01 11:03:34.514374</td>\n    </tr>\n  </tbody>\n</table>\n<p>100000 rows × 4 columns</p>\n</div>"
     },
     "execution_count": 4,
     "metadata": {},
     "output_type": "execute_result"
    }
   ],
   "source": [
    "sql = f\"\"\"\n",
    "select c.customer_name,\n",
    "       count(distinct i.invoice_time)                                                             as number_of_invoices,\n",
    "       cast(ifnull(sum(case when i.status = 1 then i.total_price else 0 end), 0) as UNSIGNED INT) as lifetime_value,\n",
    "       max(i.invoice_time)                                                                        as most_recent_invoice_time\n",
    "from customer c\n",
    "         left join invoice i on c.id = i.customer_id\n",
    "group by c.id;\n",
    "\"\"\"\n",
    "df = pd.read_sql_query(sql, conn)\n",
    "df"
   ],
   "metadata": {
    "collapsed": false,
    "ExecuteTime": {
     "end_time": "2023-10-12T13:28:59.488307Z",
     "start_time": "2023-10-12T13:28:59.066996Z"
    }
   },
   "id": "b1c42227e9a7a472"
  }
 ],
 "metadata": {
  "kernelspec": {
   "display_name": "Python 3",
   "language": "python",
   "name": "python3"
  },
  "language_info": {
   "codemirror_mode": {
    "name": "ipython",
    "version": 2
   },
   "file_extension": ".py",
   "mimetype": "text/x-python",
   "name": "python",
   "nbconvert_exporter": "python",
   "pygments_lexer": "ipython2",
   "version": "2.7.6"
  }
 },
 "nbformat": 4,
 "nbformat_minor": 5
}
