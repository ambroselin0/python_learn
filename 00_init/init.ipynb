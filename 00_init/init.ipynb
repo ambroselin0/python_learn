{
 "cells": [
  {
   "cell_type": "markdown",
   "source": [
    "在notebook中 使用 ! 命令可以直接运行命令行"
   ],
   "metadata": {
    "collapsed": false
   }
  },
  {
   "cell_type": "markdown",
   "source": [
    "安装环境"
   ],
   "metadata": {
    "collapsed": false
   }
  },
  {
   "cell_type": "code",
   "execution_count": null,
   "outputs": [],
   "source": [
    "! conda create --name python_learn python=3.9"
   ],
   "metadata": {
    "collapsed": false
   }
  },
  {
   "cell_type": "markdown",
   "source": [
    "列出环境"
   ],
   "metadata": {
    "collapsed": false
   }
  },
  {
   "cell_type": "code",
   "execution_count": 2,
   "outputs": [
    {
     "name": "stdout",
     "output_type": "stream",
     "text": [
      "# conda environments:\r\n",
      "#\r\n",
      "base                     /Users/ambrose/opt/anaconda3\r\n",
      "django                   /Users/ambrose/opt/anaconda3/envs/django\r\n",
      "lvmh_bpc_pcd             /Users/ambrose/opt/anaconda3/envs/lvmh_bpc_pcd\r\n",
      "new_project              /Users/ambrose/opt/anaconda3/envs/new_project\r\n",
      "python_learn          *  /Users/ambrose/opt/anaconda3/envs/python_learn\r\n",
      "python_learn1            /Users/ambrose/opt/anaconda3/envs/python_learn1\r\n",
      "\r\n"
     ]
    }
   ],
   "source": [
    "! conda env list"
   ],
   "metadata": {
    "collapsed": false
   }
  },
  {
   "cell_type": "markdown",
   "source": [
    "激活环境"
   ],
   "metadata": {
    "collapsed": false
   }
  },
  {
   "cell_type": "code",
   "execution_count": 3,
   "outputs": [
    {
     "name": "stdout",
     "output_type": "stream",
     "text": [
      "\r\n",
      "CommandNotFoundError: Your shell has not been properly configured to use 'conda activate'.\r\n",
      "To initialize your shell, run\r\n",
      "\r\n",
      "    $ conda init <SHELL_NAME>\r\n",
      "\r\n",
      "Currently supported shells are:\r\n",
      "  - bash\r\n",
      "  - fish\r\n",
      "  - tcsh\r\n",
      "  - xonsh\r\n",
      "  - zsh\r\n",
      "  - powershell\r\n",
      "\r\n",
      "See 'conda init --help' for more information and options.\r\n",
      "\r\n",
      "IMPORTANT: You may need to close and restart your shell after running 'conda init'.\r\n",
      "\r\n",
      "\r\n"
     ]
    }
   ],
   "source": [
    "! conda activate python_learn"
   ],
   "metadata": {
    "collapsed": false
   }
  },
  {
   "cell_type": "markdown",
   "source": [
    "下载包"
   ],
   "metadata": {
    "collapsed": false
   }
  },
  {
   "cell_type": "code",
   "execution_count": 4,
   "outputs": [
    {
     "name": "stdout",
     "output_type": "stream",
     "text": [
      "Collecting package metadata (current_repodata.json): done\r\n",
      "Solving environment: done\r\n",
      "\r\n",
      "\r\n",
      "==> WARNING: A newer version of conda exists. <==\r\n",
      "  current version: 22.11.1\r\n",
      "  latest version: 23.1.0\r\n",
      "\r\n",
      "Please update conda by running\r\n",
      "\r\n",
      "    $ conda update -n base -c defaults conda\r\n",
      "\r\n",
      "Or to minimize the number of packages updated during conda update use\r\n",
      "\r\n",
      "     conda install conda=23.1.0\r\n",
      "\r\n",
      "\r\n",
      "\r\n",
      "# All requested packages already installed.\r\n",
      "\r\n"
     ]
    }
   ],
   "source": [
    "! conda install numpy"
   ],
   "metadata": {
    "collapsed": false
   }
  },
  {
   "cell_type": "markdown",
   "source": [
    "列出包"
   ],
   "metadata": {
    "collapsed": false
   }
  },
  {
   "cell_type": "code",
   "execution_count": 4,
   "outputs": [
    {
     "name": "stdout",
     "output_type": "stream",
     "text": [
      "# packages in environment at /Users/ambrose/opt/anaconda3/envs/python_learn:\r\n",
      "#\r\n",
      "# Name                    Version                   Build  Channel\r\n",
      "anyio                     3.6.2              pyhd8ed1ab_0    conda-forge\r\n",
      "appnope                   0.1.3              pyhd8ed1ab_0    conda-forge\r\n",
      "argon2-cffi               21.3.0             pyhd8ed1ab_0    conda-forge\r\n",
      "argon2-cffi-bindings      21.2.0          py311he2be06e_3    conda-forge\r\n",
      "asttokens                 2.2.1              pyhd8ed1ab_0    conda-forge\r\n",
      "attrs                     22.2.0             pyh71513ae_0    conda-forge\r\n",
      "babel                     2.12.0             pyhd8ed1ab_0    conda-forge\r\n",
      "backcall                  0.2.0              pyh9f0ad1d_0    conda-forge\r\n",
      "backports                 1.0                pyhd8ed1ab_3    conda-forge\r\n",
      "backports.functools_lru_cache 1.6.4              pyhd8ed1ab_0    conda-forge\r\n",
      "beautifulsoup4            4.11.2             pyha770c72_0    conda-forge\r\n",
      "bleach                    6.0.0              pyhd8ed1ab_0    conda-forge\r\n",
      "brotlipy                  0.7.0           py311he2be06e_1005    conda-forge\r\n",
      "bzip2                     1.0.8                h620ffc9_4  \r\n",
      "ca-certificates           2022.12.7            h4653dfc_0    conda-forge\r\n",
      "certifi                   2022.12.7          pyhd8ed1ab_0    conda-forge\r\n",
      "cffi                      1.15.1          py311hae827db_3    conda-forge\r\n",
      "charset-normalizer        2.1.1              pyhd8ed1ab_0    conda-forge\r\n",
      "comm                      0.1.2              pyhd8ed1ab_0    conda-forge\r\n",
      "cryptography              39.0.1          py311h507f6e9_0    conda-forge\r\n",
      "debugpy                   1.6.6           py311ha397e9f_0    conda-forge\r\n",
      "decorator                 5.1.1              pyhd8ed1ab_0    conda-forge\r\n",
      "defusedxml                0.7.1              pyhd8ed1ab_0    conda-forge\r\n",
      "entrypoints               0.4                pyhd8ed1ab_0    conda-forge\r\n",
      "executing                 1.2.0              pyhd8ed1ab_0    conda-forge\r\n",
      "flit-core                 3.8.0              pyhd8ed1ab_0    conda-forge\r\n",
      "idna                      3.4                pyhd8ed1ab_0    conda-forge\r\n",
      "importlib-metadata        6.0.0              pyha770c72_0    conda-forge\r\n",
      "importlib_metadata        6.0.0                hd8ed1ab_0    conda-forge\r\n",
      "importlib_resources       5.12.0             pyhd8ed1ab_0    conda-forge\r\n",
      "ipykernel                 6.21.2             pyh736e0ef_0    conda-forge\r\n",
      "ipython                   8.11.0             pyhd1c38e8_0    conda-forge\r\n",
      "ipython_genutils          0.2.0                      py_1    conda-forge\r\n",
      "jedi                      0.18.2             pyhd8ed1ab_0    conda-forge\r\n",
      "jinja2                    3.1.2              pyhd8ed1ab_1    conda-forge\r\n",
      "json5                     0.9.5              pyh9f0ad1d_0    conda-forge\r\n",
      "jsonschema                4.17.3             pyhd8ed1ab_0    conda-forge\r\n",
      "jupyter_client            8.0.3              pyhd8ed1ab_0    conda-forge\r\n",
      "jupyter_core              5.2.0           py311h267d04e_0    conda-forge\r\n",
      "jupyter_events            0.6.3              pyhd8ed1ab_0    conda-forge\r\n",
      "jupyter_server            2.3.0              pyhd8ed1ab_0    conda-forge\r\n",
      "jupyter_server_terminals  0.4.4              pyhd8ed1ab_1    conda-forge\r\n",
      "jupyterlab                3.5.0              pyhd8ed1ab_0    conda-forge\r\n",
      "jupyterlab_pygments       0.2.2              pyhd8ed1ab_0    conda-forge\r\n",
      "jupyterlab_server         2.19.0             pyhd8ed1ab_0    conda-forge\r\n",
      "libblas                   3.9.0           16_osxarm64_openblas    conda-forge\r\n",
      "libcblas                  3.9.0           16_osxarm64_openblas    conda-forge\r\n",
      "libcxx                    15.0.7               h75e25f2_0    conda-forge\r\n",
      "libffi                    3.4.2                hca03da5_6  \r\n",
      "libgfortran               5.0.0           11_3_0_hd922786_28    conda-forge\r\n",
      "libgfortran5              11.3.0              hdaf2cc0_28    conda-forge\r\n",
      "liblapack                 3.9.0           16_osxarm64_openblas    conda-forge\r\n",
      "libopenblas               0.3.21          openmp_hc731615_3    conda-forge\r\n",
      "libsodium                 1.0.18               h27ca646_1    conda-forge\r\n",
      "libsqlite                 3.40.0               h76d750c_0    conda-forge\r\n",
      "libzlib                   1.2.13               h03a7124_4    conda-forge\r\n",
      "llvm-openmp               15.0.7               h7cfbb63_0    conda-forge\r\n",
      "markupsafe                2.1.2           py311he2be06e_0    conda-forge\r\n",
      "matplotlib-inline         0.1.6              pyhd8ed1ab_0    conda-forge\r\n",
      "mistune                   2.0.5              pyhd8ed1ab_0    conda-forge\r\n",
      "nbclassic                 0.5.2              pyhd8ed1ab_0    conda-forge\r\n",
      "nbclient                  0.7.2              pyhd8ed1ab_0    conda-forge\r\n",
      "nbconvert                 7.2.9              pyhd8ed1ab_0    conda-forge\r\n",
      "nbconvert-core            7.2.9              pyhd8ed1ab_0    conda-forge\r\n",
      "nbconvert-pandoc          7.2.9              pyhd8ed1ab_0    conda-forge\r\n",
      "nbformat                  5.7.3              pyhd8ed1ab_0    conda-forge\r\n",
      "ncurses                   6.4                  h313beb8_0  \r\n",
      "nest-asyncio              1.5.6              pyhd8ed1ab_0    conda-forge\r\n",
      "notebook                  6.5.2              pyha770c72_1    conda-forge\r\n",
      "notebook-shim             0.2.2              pyhd8ed1ab_0    conda-forge\r\n",
      "numpy                     1.24.2          py311h60f8152_0    conda-forge\r\n",
      "openssl                   3.0.8                h03a7124_0    conda-forge\r\n",
      "packaging                 23.0               pyhd8ed1ab_0    conda-forge\r\n",
      "pandas                    1.5.3           py311h4eec4a9_0    conda-forge\r\n",
      "pandoc                    2.19.2               hce30654_1    conda-forge\r\n",
      "pandocfilters             1.5.0              pyhd8ed1ab_0    conda-forge\r\n",
      "parso                     0.8.3              pyhd8ed1ab_0    conda-forge\r\n",
      "pexpect                   4.8.0              pyh1a96a4e_2    conda-forge\r\n",
      "pickleshare               0.7.5                   py_1003    conda-forge\r\n",
      "pip                       22.2.2          py311hca03da5_0  \r\n",
      "pkgutil-resolve-name      1.3.10             pyhd8ed1ab_0    conda-forge\r\n",
      "platformdirs              3.0.0              pyhd8ed1ab_0    conda-forge\r\n",
      "prometheus_client         0.16.0             pyhd8ed1ab_0    conda-forge\r\n",
      "prompt-toolkit            3.0.38             pyha770c72_0    conda-forge\r\n",
      "prompt_toolkit            3.0.38               hd8ed1ab_0    conda-forge\r\n",
      "psutil                    5.9.4           py311he2be06e_0    conda-forge\r\n",
      "ptyprocess                0.7.0              pyhd3deb0d_0    conda-forge\r\n",
      "pure_eval                 0.2.2              pyhd8ed1ab_0    conda-forge\r\n",
      "pycparser                 2.21               pyhd8ed1ab_0    conda-forge\r\n",
      "pygments                  2.14.0             pyhd8ed1ab_0    conda-forge\r\n",
      "pyopenssl                 23.0.0             pyhd8ed1ab_0    conda-forge\r\n",
      "pyrsistent                0.19.3          py311he2be06e_0    conda-forge\r\n",
      "pysocks                   1.7.1              pyha2e5f31_6    conda-forge\r\n",
      "python                    3.11.0          h3ba56d0_1_cpython    conda-forge\r\n",
      "python-dateutil           2.8.2              pyhd8ed1ab_0    conda-forge\r\n",
      "python-fastjsonschema     2.16.3             pyhd8ed1ab_0    conda-forge\r\n",
      "python-json-logger        2.0.7              pyhd8ed1ab_0    conda-forge\r\n",
      "python_abi                3.11                    3_cp311    conda-forge\r\n",
      "pytz                      2022.7.1           pyhd8ed1ab_0    conda-forge\r\n",
      "pyyaml                    6.0             py311he2be06e_5    conda-forge\r\n",
      "pyzmq                     25.0.0          py311h0f351f6_0    conda-forge\r\n",
      "readline                  8.2                  h1a28f6b_0  \r\n",
      "requests                  2.28.2             pyhd8ed1ab_0    conda-forge\r\n",
      "rfc3339-validator         0.1.4              pyhd8ed1ab_0    conda-forge\r\n",
      "rfc3986-validator         0.1.1              pyh9f0ad1d_0    conda-forge\r\n",
      "send2trash                1.8.0              pyhd8ed1ab_0    conda-forge\r\n",
      "setuptools                65.5.0          py311hca03da5_0  \r\n",
      "six                       1.16.0             pyh6c4a22f_0    conda-forge\r\n",
      "sniffio                   1.3.0              pyhd8ed1ab_0    conda-forge\r\n",
      "soupsieve                 2.3.2.post1        pyhd8ed1ab_0    conda-forge\r\n",
      "sqlite                    3.40.1               h7a7dc30_0  \r\n",
      "stack_data                0.6.2              pyhd8ed1ab_0    conda-forge\r\n",
      "terminado                 0.17.1             pyhd1c38e8_0    conda-forge\r\n",
      "tinycss2                  1.2.1              pyhd8ed1ab_0    conda-forge\r\n",
      "tk                        8.6.12               hb8d0fd4_0  \r\n",
      "tomli                     2.0.1              pyhd8ed1ab_0    conda-forge\r\n",
      "tornado                   6.2             py311he2be06e_1    conda-forge\r\n",
      "traitlets                 5.9.0              pyhd8ed1ab_0    conda-forge\r\n",
      "typing-extensions         4.4.0                hd8ed1ab_0    conda-forge\r\n",
      "typing_extensions         4.4.0              pyha770c72_0    conda-forge\r\n",
      "tzdata                    2022g                h04d1e81_0  \r\n",
      "urllib3                   1.26.14            pyhd8ed1ab_0    conda-forge\r\n",
      "wcwidth                   0.2.6              pyhd8ed1ab_0    conda-forge\r\n",
      "webencodings              0.5.1                      py_1    conda-forge\r\n",
      "websocket-client          1.5.1              pyhd8ed1ab_0    conda-forge\r\n",
      "wheel                     0.37.1             pyhd3eb1b0_0  \r\n",
      "xz                        5.2.10               h80987f9_1  \r\n",
      "yaml                      0.2.5                h3422bc3_2    conda-forge\r\n",
      "zeromq                    4.3.4                hbdafb3b_1    conda-forge\r\n",
      "zipp                      3.15.0             pyhd8ed1ab_0    conda-forge\r\n",
      "zlib                      1.2.13               h03a7124_4    conda-forge\r\n"
     ]
    }
   ],
   "source": [
    "! conda list"
   ],
   "metadata": {
    "collapsed": false
   }
  }
 ],
 "metadata": {
  "kernelspec": {
   "display_name": "Python 3",
   "language": "python",
   "name": "python3"
  },
  "language_info": {
   "codemirror_mode": {
    "name": "ipython",
    "version": 2
   },
   "file_extension": ".py",
   "mimetype": "text/x-python",
   "name": "python",
   "nbconvert_exporter": "python",
   "pygments_lexer": "ipython2",
   "version": "2.7.6"
  }
 },
 "nbformat": 4,
 "nbformat_minor": 0
}
