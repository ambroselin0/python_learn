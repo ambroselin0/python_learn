{
 "cells": [
  {
   "cell_type": "markdown",
   "source": [
    "# Stack\n",
    "\n",
    "LIFO(Last-in First-out)\n",
    "\n",
    "A stack of books, you can only take the top one off the stack.\n",
    "\n",
    "## Usage\n",
    "\n",
    "Web browser back button: the URL you were just on is the last URL you visited before that, and the URL you were on before that is the last URL you visited before that, etc."
   ],
   "metadata": {
    "collapsed": false
   }
  },
  {
   "cell_type": "markdown",
   "source": [
    "## Python Implementation\n",
    "\n",
    "- init() - initialize a new empty stack\n",
    "- push(item) - add a new item to the top of the stack\n",
    "- pop() - remove and return the top item from the stack\n",
    "- peek() - return the top item from the stack but do not remove it\n",
    "- is_empty() - return True if the stack is empty, False otherwise\n",
    "- size() - return the number of items in the stack\n",
    "\n",
    "\\begin{table}[]\n",
    "\\begin{tabular}{|l|l|l|}\n",
    "\\hline\n",
    "\\textbf{栈操作}  & \\textbf{栈内容}            & \\textbf{返回值} \\\\ \\hline\n",
    "s.isEmpty()   & {[}{]}                  & True         \\\\ \\hline\n",
    "s.push(4)     & {[}4{]}                 &              \\\\ \\hline\n",
    "s.push('dog') & {[}4, 'dog'{]}          &              \\\\ \\hline\n",
    "s.peek()      & {[}4, 'dog'{]}          & 'dog'        \\\\ \\hline\n",
    "s.push(True)  & {[}4, 'dog',True{]}     &              \\\\ \\hline\n",
    "s.size()      & {[}4, 'dog',True{]}     & 3            \\\\ \\hline\n",
    "s.isEmpty()   & {[}4, 'dog',True{]}     & False        \\\\ \\hline\n",
    "s.push(8.4)   & {[}4, 'dog',True,8.4{]} &              \\\\ \\hline\n",
    "s.pop()       & {[}4, 'dog',True{]}     & 8.4          \\\\ \\hline\n",
    "s.pop()       & {[}4, 'dog'{]}          & True         \\\\ \\hline\n",
    "s.size()      & {[}4, 'dog'{]}          & 2            \\\\ \\hline\n",
    "\\end{tabular}\n",
    "\\end{table}\n",
    "\n",
    "\n",
    "## leetcode\n",
    "\n",
    "-"
   ],
   "metadata": {
    "collapsed": false
   }
  },
  {
   "cell_type": "code",
   "execution_count": 1,
   "outputs": [
    {
     "name": "stdout",
     "output_type": "stream",
     "text": [
      "True\n",
      "False\n",
      "a\n"
     ]
    }
   ],
   "source": [
    "# code here\n",
    "class Stack(object):\n",
    "    def __init__(self):\n",
    "        self.items = []\n",
    "\n",
    "    def push(self, item):\n",
    "        self.items.append(item)\n",
    "\n",
    "    def pop(self):\n",
    "        return self.items.pop()\n",
    "\n",
    "    def peek(self):\n",
    "        return self.items[-1]\n",
    "\n",
    "    def is_empty(self):\n",
    "        return self.size() == 0\n",
    "\n",
    "    def size(self):\n",
    "        return len(self.items)\n",
    "\n",
    "\n",
    "s = Stack()\n",
    "print(s.is_empty())\n",
    "s.push('a')\n",
    "print(s.is_empty())\n",
    "print(s.pop())"
   ],
   "metadata": {
    "collapsed": false,
    "ExecuteTime": {
     "end_time": "2023-06-24T10:57:00.797967Z",
     "start_time": "2023-06-24T10:57:00.792989Z"
    }
   }
  },
  {
   "cell_type": "markdown",
   "source": [
    "## Valid Parentheses - 1\n",
    "\n",
    "Given a string containing just the characters '(', ')', determine if the input string is valid.\n",
    "\n",
    "An input string is valid if:\n",
    "\n",
    "Open brackets must be closed by the same type of brackets.\n",
    "Open brackets must be closed in the correct order.\n",
    "Every close bracket has a corresponding open bracket of the same type."
   ],
   "metadata": {
    "collapsed": false
   }
  },
  {
   "cell_type": "code",
   "execution_count": 2,
   "outputs": [
    {
     "data": {
      "text/plain": "False"
     },
     "execution_count": 2,
     "metadata": {},
     "output_type": "execute_result"
    }
   ],
   "source": [
    "# code here\n",
    "# ()\n",
    "# (\n",
    "# )\n",
    "# (()\n",
    "# (()())\n",
    "# ()()\n",
    "# ((\n",
    "# )(\n",
    "from utils import Stack\n",
    "\n",
    "def par_checker_1(s: str) -> bool:\n",
    "    stack = Stack()\n",
    "\n",
    "    for c in s:\n",
    "        if c == '(':\n",
    "            stack.push(c)\n",
    "        else: # ['(', '(', '(']\n",
    "            if stack.is_empty():\n",
    "                return False\n",
    "            stack.pop() # ['(', '(']\n",
    "\n",
    "    if stack.is_empty():\n",
    "        return True\n",
    "    return False\n",
    "\n",
    "par_checker_1('((()())')"
   ],
   "metadata": {
    "collapsed": false,
    "ExecuteTime": {
     "end_time": "2023-06-24T10:57:00.835345Z",
     "start_time": "2023-06-24T10:57:00.799126Z"
    }
   }
  },
  {
   "cell_type": "markdown",
   "source": [
    "## Valid Parentheses - 2\n",
    "\n",
    "Given a string containing just the characters '(', ')', '{', '}', '[' and ']', determine if the input string is valid.\n",
    "\n",
    "An input string is valid if:\n",
    "\n",
    "Open brackets must be closed by the same type of brackets.\n",
    "Open brackets must be closed in the correct order.\n",
    "Every close bracket has a corresponding open bracket of the same type."
   ],
   "metadata": {
    "collapsed": false
   }
  },
  {
   "cell_type": "code",
   "execution_count": 3,
   "outputs": [
    {
     "data": {
      "text/plain": "False"
     },
     "execution_count": 3,
     "metadata": {},
     "output_type": "execute_result"
    }
   ],
   "source": [
    "# code here\n",
    "def par_checker_2(s: str) -> bool:\n",
    "    stack = Stack()\n",
    "\n",
    "    for c in s:\n",
    "        if c == '(':\n",
    "            stack.push(c)\n",
    "        else: # ['(', '(', '(']\n",
    "            if stack.is_empty():\n",
    "                return False\n",
    "            stack.pop() # ['(', '(']\n",
    "\n",
    "    if stack.is_empty():\n",
    "        return True\n",
    "    return False\n",
    "\n",
    "par_checker_2('((()())')"
   ],
   "metadata": {
    "collapsed": false,
    "ExecuteTime": {
     "end_time": "2023-06-24T10:57:00.835760Z",
     "start_time": "2023-06-24T10:57:00.811418Z"
    }
   }
  },
  {
   "cell_type": "markdown",
   "source": [
    "## Convert to Base 2\n",
    "\n",
    "Convert integers to a binary string using stack\n",
    "\n",
    "Note that the returned string should not have leading zeros unless the string is \"0\".\n",
    "\n",
    "For example, 242 is 11110010 in binary, so the function should return \"11110010\". 0 is 0 in binary, return \"0\".\n",
    "\n",
    "233 -> $2 * 10^2 + 3 * 10^1 + 3 * 10 ^0$ -> $1 * 2 ^7 + 1*2 ^6 + 1*2 ^5 + 0 * 2^4 + 1 * 2^3 + 0 *2^2 + 0 *2 ^1 +1*2^0$\n",
    "\n",
    "233 // 2 = 116 ~ 1\n",
    "116 // 2 = 58 ~ 0\n",
    "58 // 2 = 29 ~ 0\n",
    "29 // 2 = 14 ~ 1\n",
    "14 // 2 = 7 ~ 0\n",
    "7 // 2 = 3 ~ 1\n",
    "3 // 2 = 1 ~ 1\n",
    "1 // 2 = 0 ~ 1\n"
   ],
   "metadata": {
    "collapsed": false
   }
  },
  {
   "cell_type": "code",
   "execution_count": 4,
   "outputs": [
    {
     "data": {
      "text/plain": "'11110010'"
     },
     "execution_count": 4,
     "metadata": {},
     "output_type": "execute_result"
    }
   ],
   "source": [
    "# code here\n",
    "def convert_base_2(num: int) -> str:\n",
    "    stack = Stack()\n",
    "    while num > 0:\n",
    "        reminder = num % 2\n",
    "        stack.push(reminder)\n",
    "        num = num // 2\n",
    "    result = ''\n",
    "    while stack.is_empty() == False:\n",
    "        result += str(stack.pop())\n",
    "    return result\n",
    "\n",
    "convert_base_2(242)"
   ],
   "metadata": {
    "collapsed": false,
    "ExecuteTime": {
     "end_time": "2023-06-24T10:57:00.836045Z",
     "start_time": "2023-06-24T10:57:00.813457Z"
    }
   }
  },
  {
   "cell_type": "markdown",
   "source": [
    "## Convert to Base n\n",
    "\n",
    "Convert integers to a binary string using stack\n",
    "\n",
    "Note that the returned string should not have leading zeros unless the string is \"0\".\n",
    "\n",
    "For example, 242 is 11110010 in binary, so the function should return \"11110010\". 0 is 0 in binary, return \"0\".\n",
    "\n",
    "233 -> $2 * 10^2 + 3 * 10^1 + 3 * 10 ^0$ -> $1 * 2 ^7 + 1*2 ^6 + 1*2 ^5 + 0 * 2^4 + 1 * 2^3 + 0 *2^2 + 0 *2 ^1 +1*2^0$\n",
    "\n",
    "233 // 2 = 116 ~ 1\n",
    "116 // 2 = 58 ~ 0\n",
    "58 // 2 = 29 ~ 0\n",
    "29 // 2 = 14 ~ 1\n",
    "14 // 2 = 7 ~ 0\n",
    "7 // 2 = 3 ~ 1\n",
    "3 // 2 = 1 ~ 1\n",
    "1 // 2 = 0 ~ 1\n"
   ],
   "metadata": {
    "collapsed": false
   }
  },
  {
   "cell_type": "code",
   "execution_count": 5,
   "outputs": [],
   "source": [
    "def convert_base_n(num: int) -> str:\n",
    "    pass\n",
    "\n",
    "convert_base_n(242)"
   ],
   "metadata": {
    "collapsed": false,
    "ExecuteTime": {
     "end_time": "2023-06-24T10:57:00.841047Z",
     "start_time": "2023-06-24T10:57:00.818087Z"
    }
   }
  },
  {
   "cell_type": "code",
   "execution_count": null,
   "outputs": [],
   "source": [],
   "metadata": {
    "collapsed": false
   }
  },
  {
   "cell_type": "markdown",
   "source": [
    "# Monotone Stack\n",
    "\n",
    "A special type of stack that requires the elements from top to bottom to be in an increasing (or decreasing) order, in addition to the \"last in, first out\" rule. A stack that satisfies the requirement of having elements in increasing order from top to bottom is called a \"monotonic increasing stack.\" A stack that satisfies the requirement of having elements in decreasing order from top to bottom is called a \"monotonic decreasing stack.\"\n",
    "\n",
    "## Monotone Stack\n",
    "\n",
    "Only elements smaller than the top element of the stack can be pushed onto the stack directly. Otherwise, the elements smaller than the current element in the stack need to be popped out first, and then the current element can be pushed onto the stack.\n",
    "\n",
    "This ensures that the stack contains only values larger than the current element being pushed, and that the values from the top to the bottom of the stack are monotonically increasing.\n",
    "\n",
    "\\begin{table}[]\n",
    "\\begin{tabular}{|l|l|l|}\n",
    "\\hline\n",
    "第 i 步 &\t待插入元素 &\t操 作 &\t结 果（左侧为栈底）&\t作 用 \\\\ \\hline\n",
    "1\t& 2\t& 2 入栈 &\t[2]\t& 元素 2 的左侧无比 2 大的元素 \\\\ \\hline\n",
    "2\t& 7\t& 2 出栈，7 入栈 &\t[7]\t& 元素 7 的左侧无比 7 大的元素 \\\\ \\hline\n",
    "3\t& 5\t& 5 入栈\t& [7, 5]\t& 元素 5 的左侧第一个比 5 大的元素为：7 \\\\ \\hline\n",
    "4\t& 4 & 4 入栈\t& [7, 5, 4]\t& 元素 4 的左侧第一个比 4 大的元素为：5 \\\\ \\hline\n",
    "5\t& 6\t& 4 出栈，5 出栈，6 入栈 & [7, 6]\t& 元素 6 的左侧第一个比 6 大的元素为：7 \\\\ \\hline\n",
    "6\t& 3\t& 3 入栈\t& [7, 6, 3]\t& 元素 3 的左侧第一个比 3 大的元素为：6 \\\\ \\hline\n",
    "7\t& 4\t& 3 出栈，4 入栈\t& [7, 6, 4]\t& 元素 4 的左侧第一个比 4 大的元素为：6 \\\\ \\hline\n",
    "8\t& 2\t& 2 入栈\t& [7, 6, 4, 2]\t& 元素 2 的左侧第一个比 2 大的元素为：4 \\\\ \\hline\n",
    "\\end{tabular}\n",
    "\\end{table}\n",
    "\n",
    "![](monotone_stack.png)\n",
    "\n",
    "## Monotonic Decreasing Stack\n",
    "\n",
    "Only elements larger than the top element of the stack can be pushed directly onto the stack. Otherwise, elements larger than the current element in the stack need to be popped out before pushing the current element onto the stack.\n",
    "\n",
    "This ensures that the stack contains only values smaller than the current element being pushed onto it. The values in the stack, from top to bottom, form a monotonically decreasing sequence.\n",
    "\n",
    "\n",
    "## Applications of Monotonic Stacks\n",
    "\n",
    "Monotonic stacks can find the first element to the left or right of a given element that is either greater or smaller than it, with a time complexity of O(n). As such, monotonic stacks are generally useful for solving the following problems:\n",
    "\n",
    "- Finding the first element to the left that is greater than the current element.\n",
    "- Finding the first element to the left that is smaller than the current element.\n",
    "- Finding the first element to the right that is greater than the current element.\n",
    "- Finding the first element to the right that is smaller than the current element.\n",
    "\n",
    "The methods for solving each of these problems are described below.\n",
    "\n",
    "### 2.1 Finding the First Element to the Left that is Greater than the Current Element\n",
    "\n",
    "- Traverse the elements from left to right and construct a monotonic increasing stack (where the top of the stack is the largest element):\n",
    "    - The first element to the left that is greater than the current element is the top of the stack when the current element is pushed onto it.\n",
    "    - If the stack is empty when the current element is pushed, then there is no element to the left that is greater than it.\n",
    "\n",
    "### 2.2 Finding the First Element to the Left that is Smaller than the Current Element\n",
    "\n",
    "- Traverse the elements from left to right and construct a monotonic decreasing stack (where the top of the stack is the smallest element):\n",
    "    - The first element to the left that is smaller than the current element is the top of the stack when the current element is pushed onto it.\n",
    "    - If the stack is empty when the current element is pushed, then there is no element to the left that is smaller than it.\n",
    "\n",
    "### 2.3 Finding the First Element to the Right that is Greater than the Current Element\n",
    "\n",
    "- Traverse the elements from left to right and construct a monotonic increasing stack:\n",
    "    - The first element to the right that is greater than the current element is the element that would be pushed onto the stack if the current element were popped from it.\n",
    "    - If the current element is not popped from the stack, then there is no element to the right that is greater than it.\n",
    "- Traverse the elements from right to left and construct a monotonic increasing stack:\n",
    "    - The first element to the right that is greater than the current element is the top of the stack when the current element is pushed onto it.\n",
    "    - If the stack is empty when the current element is pushed, then there is no element to the right that is greater than it.\n",
    "\n",
    "### 2.4 Finding the First Element to the Right that is Smaller than the Current Element\n",
    "\n",
    "- Traverse the elements from left to right and construct a monotonic decreasing stack:\n",
    "    - The first element to the right that is smaller than the current element is the element that would be pushed onto the stack if the current element were popped from it.\n",
    "    - If the current element is not popped from the stack, then there is no element to the right that is smaller than it.\n",
    "- Traverse the elements from right to left and construct a monotonic decreasing stack:\n",
    "    - The first element to the right that is smaller than the current element is the top of the stack when the current element is pushed onto it.\n",
    "    - If the stack is empty when the current element is pushed, then there is no element to the right that is smaller than it.\n",
    "\n",
    "In summary, the following rules apply:\n",
    "\n",
    "- Traverse elements from left to right for all problems.\n",
    "- Use a monotonic increasing stack to search for elements that are greater than the current element, and a monotonic decreasing stack to search for elements that are smaller than the current element.\n",
    "- For searching to the left, look at the top of the stack when the current element is pushed; for searching to the right, look at the element that would be pushed onto the stack if the current element were popped.\n",
    "\n",
    "\n",
    "## leetcode\n",
    "\n",
    "-"
   ],
   "metadata": {
    "collapsed": false
   }
  }
 ],
 "metadata": {
  "kernelspec": {
   "display_name": "Python 3",
   "language": "python",
   "name": "python3"
  },
  "language_info": {
   "codemirror_mode": {
    "name": "ipython",
    "version": 2
   },
   "file_extension": ".py",
   "mimetype": "text/x-python",
   "name": "python",
   "nbconvert_exporter": "python",
   "pygments_lexer": "ipython2",
   "version": "2.7.6"
  }
 },
 "nbformat": 4,
 "nbformat_minor": 0
}
