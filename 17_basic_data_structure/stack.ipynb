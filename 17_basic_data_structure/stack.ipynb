{
 "cells": [
  {
   "cell_type": "markdown",
   "source": [
    "# Stack\n",
    "\n",
    "LIFO(Last-in First-out)\n",
    "\n",
    "A stack of books, you can only take the top one off the stack.\n",
    "\n",
    "## Usage\n",
    "\n",
    "Web browser back button: the URL you were just on is the last URL you visited before that, and the URL you were on before that is the last URL you visited before that, etc."
   ],
   "metadata": {
    "collapsed": false
   }
  },
  {
   "cell_type": "markdown",
   "source": [
    "## Python Implementation\n",
    "\n",
    "- init() - initialize a new empty stack\n",
    "- push(item) - add a new item to the top of the stack\n",
    "- pop() - remove and return the top item from the stack\n",
    "- peek() - return the top item from the stack but do not remove it\n",
    "- is_empty() - return True if the stack is empty, False otherwise\n",
    "- size() - return the number of items in the stack\n",
    "\n",
    "\\begin{table}[]\n",
    "\\begin{tabular}{|l|l|l|}\n",
    "\\hline\n",
    "\\textbf{栈操作}  & \\textbf{栈内容}            & \\textbf{返回值} \\\\ \\hline\n",
    "s.isEmpty()   & {[}{]}                  & True         \\\\ \\hline\n",
    "s.push(4)     & {[}4{]}                 &              \\\\ \\hline\n",
    "s.push('dog') & {[}4, 'dog'{]}          &              \\\\ \\hline\n",
    "s.peek()      & {[}4, 'dog'{]}          & 'dog'        \\\\ \\hline\n",
    "s.push(True)  & {[}4, 'dog',True{]}     &              \\\\ \\hline\n",
    "s.size()      & {[}4, 'dog',True{]}     & 3            \\\\ \\hline\n",
    "s.isEmpty()   & {[}4, 'dog',True{]}     & False        \\\\ \\hline\n",
    "s.push(8.4)   & {[}4, 'dog',True,8.4{]} &              \\\\ \\hline\n",
    "s.pop()       & {[}4, 'dog',True{]}     & 8.4          \\\\ \\hline\n",
    "s.pop()       & {[}4, 'dog'{]}          & True         \\\\ \\hline\n",
    "s.size()      & {[}4, 'dog'{]}          & 2            \\\\ \\hline\n",
    "\\end{tabular}\n",
    "\\end{table}"
   ],
   "metadata": {
    "collapsed": false
   }
  },
  {
   "cell_type": "code",
   "execution_count": null,
   "outputs": [],
   "source": [
    "# code here\n",
    "class Stack(object):\n",
    "    def __init__(self):\n",
    "        self.items = []\n",
    "\n",
    "    def push(self, item):\n",
    "        self.items.append(item)\n",
    "\n",
    "    def pop(self):\n",
    "        return self.items.pop()\n",
    "\n",
    "    def peek(self):\n",
    "        return self.items[-1]\n",
    "\n",
    "    def is_empty(self):\n",
    "        return self.size() == 0\n",
    "\n",
    "    def size(self):\n",
    "        return len(self.items)\n",
    "\n",
    "\n",
    "s = Stack()\n",
    "print(s.is_empty())\n",
    "s.push('a')\n",
    "print(s.is_empty())\n",
    "print(s.pop())"
   ],
   "metadata": {
    "collapsed": false,
    "is_executing": true
   }
  },
  {
   "cell_type": "markdown",
   "source": [
    "## Valid Parentheses - 1\n",
    "\n",
    "Given a string containing just the characters '(', ')', determine if the input string is valid.\n",
    "\n",
    "An input string is valid if:\n",
    "\n",
    "Open brackets must be closed by the same type of brackets.\n",
    "Open brackets must be closed in the correct order.\n",
    "Every close bracket has a corresponding open bracket of the same type."
   ],
   "metadata": {
    "collapsed": false
   }
  },
  {
   "cell_type": "code",
   "execution_count": 12,
   "outputs": [
    {
     "data": {
      "text/plain": "False"
     },
     "execution_count": 12,
     "metadata": {},
     "output_type": "execute_result"
    }
   ],
   "source": [
    "# code here\n",
    "# ()\n",
    "# (\n",
    "# )\n",
    "# (()\n",
    "# (()())\n",
    "# ()()\n",
    "# ((\n",
    "# )(\n",
    "from utils import Stack\n",
    "\n",
    "def par_checker_1(s: str) -> bool:\n",
    "    stack = Stack()\n",
    "\n",
    "    for c in s:\n",
    "        if c == '(':\n",
    "            stack.push(c)\n",
    "        else: # ['(', '(', '(']\n",
    "            if stack.is_empty():\n",
    "                return False\n",
    "            stack.pop() # ['(', '(']\n",
    "\n",
    "    if stack.is_empty():\n",
    "        return True\n",
    "    return False\n",
    "\n",
    "par_checker_1('((()())')"
   ],
   "metadata": {
    "collapsed": false,
    "ExecuteTime": {
     "end_time": "2023-06-15T12:36:22.758003Z",
     "start_time": "2023-06-15T12:36:22.754517Z"
    }
   }
  },
  {
   "cell_type": "markdown",
   "source": [
    "## Valid Parentheses - 2\n",
    "\n",
    "Given a string containing just the characters '(', ')', '{', '}', '[' and ']', determine if the input string is valid.\n",
    "\n",
    "An input string is valid if:\n",
    "\n",
    "Open brackets must be closed by the same type of brackets.\n",
    "Open brackets must be closed in the correct order.\n",
    "Every close bracket has a corresponding open bracket of the same type."
   ],
   "metadata": {
    "collapsed": false
   }
  },
  {
   "cell_type": "code",
   "execution_count": null,
   "outputs": [],
   "source": [
    "# code here\n",
    "def par_checker_2(s: str) -> bool:\n",
    "    stack = Stack()\n",
    "\n",
    "    for c in s:\n",
    "        if c == '(':\n",
    "            stack.push(c)\n",
    "        else: # ['(', '(', '(']\n",
    "            if stack.is_empty():\n",
    "                return False\n",
    "            stack.pop() # ['(', '(']\n",
    "\n",
    "    if stack.is_empty():\n",
    "        return True\n",
    "    return False\n",
    "\n",
    "par_checker_2('((()())')"
   ],
   "metadata": {
    "collapsed": false
   }
  },
  {
   "cell_type": "markdown",
   "source": [
    "## Convert to Base 2\n",
    "\n",
    "Convert integers to a binary string using stack\n",
    "\n",
    "Note that the returned string should not have leading zeros unless the string is \"0\".\n",
    "\n",
    "For example, 242 is 11110010 in binary, so the function should return \"11110010\". 0 is 0 in binary, return \"0\".\n",
    "\n",
    "233 -> $2 * 10^2 + 3 * 10^1 + 3 * 10 ^0$ -> $1 * 2 ^7 + 1*2 ^6 + 1*2 ^5 + 0 * 2^4 + 1 * 2^3 + 0 *2^2 + 0 *2 ^1 +1*2^0$\n",
    "\n",
    "233 // 2 = 116 ~ 1\n",
    "116 // 2 = 58 ~ 0\n",
    "58 // 2 = 29 ~ 0\n",
    "29 // 2 = 14 ~ 1\n",
    "14 // 2 = 7 ~ 0\n",
    "7 // 2 = 3 ~ 1\n",
    "3 // 2 = 1 ~ 1\n",
    "1 // 2 = 0 ~ 1\n"
   ],
   "metadata": {
    "collapsed": false
   }
  },
  {
   "cell_type": "code",
   "execution_count": null,
   "outputs": [],
   "source": [
    "# code here\n",
    "def convert_base_2(num: int) -> str:\n",
    "    stack = Stack()\n",
    "    while num > 0:\n",
    "        reminder = num % 2\n",
    "        stack.push(reminder)\n",
    "        num = num // 2\n",
    "    result = ''\n",
    "    while stack.is_empty() == False:\n",
    "        result += str(stack.pop())\n",
    "    return result\n",
    "\n",
    "convert_base_2(242)"
   ],
   "metadata": {
    "collapsed": false
   }
  },
  {
   "cell_type": "markdown",
   "source": [
    "## Convert to Base n\n",
    "\n",
    "Convert integers to a binary string using stack\n",
    "\n",
    "Note that the returned string should not have leading zeros unless the string is \"0\".\n",
    "\n",
    "For example, 242 is 11110010 in binary, so the function should return \"11110010\". 0 is 0 in binary, return \"0\".\n",
    "\n",
    "233 -> $2 * 10^2 + 3 * 10^1 + 3 * 10 ^0$ -> $1 * 2 ^7 + 1*2 ^6 + 1*2 ^5 + 0 * 2^4 + 1 * 2^3 + 0 *2^2 + 0 *2 ^1 +1*2^0$\n",
    "\n",
    "233 // 2 = 116 ~ 1\n",
    "116 // 2 = 58 ~ 0\n",
    "58 // 2 = 29 ~ 0\n",
    "29 // 2 = 14 ~ 1\n",
    "14 // 2 = 7 ~ 0\n",
    "7 // 2 = 3 ~ 1\n",
    "3 // 2 = 1 ~ 1\n",
    "1 // 2 = 0 ~ 1\n"
   ],
   "metadata": {
    "collapsed": false
   }
  },
  {
   "cell_type": "code",
   "execution_count": null,
   "outputs": [],
   "source": [
    "def convert_base_n(num: int) -> str:\n",
    "    pass\n",
    "\n",
    "convert_base_n(242)"
   ],
   "metadata": {
    "collapsed": false
   }
  }
 ],
 "metadata": {
  "kernelspec": {
   "display_name": "Python 3",
   "language": "python",
   "name": "python3"
  },
  "language_info": {
   "codemirror_mode": {
    "name": "ipython",
    "version": 2
   },
   "file_extension": ".py",
   "mimetype": "text/x-python",
   "name": "python",
   "nbconvert_exporter": "python",
   "pygments_lexer": "ipython2",
   "version": "2.7.6"
  }
 },
 "nbformat": 4,
 "nbformat_minor": 0
}
