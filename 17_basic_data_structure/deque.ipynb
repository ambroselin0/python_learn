{
 "cells": [
  {
   "cell_type": "markdown",
   "source": [
    "# Deque (Double Ended Queue)\n",
    "\n",
    "Push items to front or rear\n",
    "\n",
    "Pop items from front or rear\n",
    "\n",
    "\n",
    "## Python Implementation\n",
    "\n",
    "- init() - initialize a new empty stack\n",
    "- add_front(item) - add a new item to the front of the deque\n",
    "- add_rear(item) - add a new item to the rear of the deque\n",
    "- remove_front() - remove and return the front item from the deque\n",
    "- remove_rear() - remove and return the front item from the deque\n",
    "- is_empty() - return True if the deque is empty, False otherwise\n",
    "- size() - return the number of items in the deque\n",
    "\n",
    "## leetcode\n",
    "\n",
    "- 641\n",
    "- 125\n",
    "- XltzEq\n",
    "- 9"
   ],
   "metadata": {
    "collapsed": false
   }
  },
  {
   "cell_type": "code",
   "execution_count": 2,
   "outputs": [
    {
     "name": "stdout",
     "output_type": "stream",
     "text": [
      "[2, 1, 3]\n"
     ]
    }
   ],
   "source": [
    "class Deque(object):\n",
    "    def __init__(self):\n",
    "        self.items = []\n",
    "\n",
    "    def add_front(self, item):\n",
    "        self.items.append(item)\n",
    "\n",
    "    def add_rear(self, item):\n",
    "        self.items.insert(0, item)\n",
    "\n",
    "    def remove_front(self):\n",
    "        return self.items.pop()\n",
    "\n",
    "    def remove_rear(self):\n",
    "        return self.items.pop(0)\n",
    "\n",
    "    def size(self):\n",
    "        return len(self.items)\n",
    "\n",
    "    def is_empty(self):\n",
    "        return self.size() == 0\n",
    "\n",
    "    def __str__(self):\n",
    "        return str(self.items)\n",
    "\n",
    "\n",
    "deque = Deque()\n",
    "deque.add_front(1)\n",
    "deque.add_rear(2)\n",
    "deque.add_front(3)\n",
    "print(deque)"
   ],
   "metadata": {
    "collapsed": false,
    "ExecuteTime": {
     "end_time": "2023-07-02T12:35:20.564381Z",
     "start_time": "2023-07-02T12:35:20.560886Z"
    }
   }
  },
  {
   "cell_type": "code",
   "execution_count": 13,
   "outputs": [
    {
     "data": {
      "text/plain": "False"
     },
     "execution_count": 13,
     "metadata": {},
     "output_type": "execute_result"
    }
   ],
   "source": [
    "# palindrome check\n",
    "# aba abba a aa\n",
    "def palindrome_checker(s: str) -> bool:\n",
    "    s = list(s)\n",
    "\n",
    "    while len(s) > 1:\n",
    "        front = s.pop()\n",
    "        rear = s.pop(0)\n",
    "        if front != rear:\n",
    "            return False\n",
    "    return True\n",
    "palindrome_checker('abacba')"
   ],
   "metadata": {
    "collapsed": false,
    "ExecuteTime": {
     "end_time": "2023-07-02T12:42:39.079481Z",
     "start_time": "2023-07-02T12:42:39.076113Z"
    }
   }
  }
 ],
 "metadata": {
  "kernelspec": {
   "display_name": "Python 3",
   "language": "python",
   "name": "python3"
  },
  "language_info": {
   "codemirror_mode": {
    "name": "ipython",
    "version": 2
   },
   "file_extension": ".py",
   "mimetype": "text/x-python",
   "name": "python",
   "nbconvert_exporter": "python",
   "pygments_lexer": "ipython2",
   "version": "2.7.6"
  }
 },
 "nbformat": 4,
 "nbformat_minor": 0
}
