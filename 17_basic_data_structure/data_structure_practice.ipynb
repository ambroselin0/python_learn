{
 "cells": [
  {
   "cell_type": "code",
   "execution_count": 2,
   "metadata": {
    "collapsed": true,
    "ExecuteTime": {
     "end_time": "2023-07-27T13:55:14.265531600Z",
     "start_time": "2023-07-27T13:55:14.257398Z"
    }
   },
   "outputs": [],
   "source": [
    "# Q5 使用列表实现队列抽象数据类型，将列表的后端作为队列的尾部\n",
    "class Queue_1():\n",
    "    \"\"\"\n",
    "    list end is the end of the queue\n",
    "    \"\"\"\n",
    "    def __init__(self):\n",
    "        self.items = []\n",
    "    def enqueue(self,value):\n",
    "        self.items.append(value)\n",
    "    def dequeue(self):\n",
    "        return self.items.pop(0)\n",
    "\n",
    "class Queue(object):\n",
    "    \"\"\"\n",
    "    List end is the head of the queue\n",
    "    \"\"\"\n",
    "    def __init__(self):\n",
    "        self.items = []\n",
    "\n",
    "    def enqueue(self, item):\n",
    "        self.items.insert(0, item)\n",
    "\n",
    "    def dequeue(self):\n",
    "        return self.items.pop()\n",
    "\n",
    "    def size(self):\n",
    "        return len(self.items)\n",
    "\n",
    "    def is_empty(self):\n",
    "        return self.size() == 0\n",
    "\n",
    "    def __str__(self):\n",
    "        return str(self.items)"
   ]
  },
  {
   "cell_type": "code",
   "execution_count": 21,
   "outputs": [
    {
     "name": "stdout",
     "output_type": "stream",
     "text": [
      "CPU times: total: 328 ms\n",
      "Wall time: 817 ms\n"
     ]
    }
   ],
   "source": [
    "%%time\n",
    "# Q6\n",
    "# List end is the head of the queue\n",
    "# enqueue\n",
    "\n",
    "q1 = Queue()\n",
    "for i in range(100000):\n",
    "    q1.enqueue(i)"
   ],
   "metadata": {
    "collapsed": false,
    "ExecuteTime": {
     "end_time": "2023-07-27T13:59:51.201013400Z",
     "start_time": "2023-07-27T13:59:50.380155Z"
    }
   }
  },
  {
   "cell_type": "code",
   "execution_count": 22,
   "outputs": [
    {
     "name": "stdout",
     "output_type": "stream",
     "text": [
      "CPU times: total: 0 ns\n",
      "Wall time: 6.48 ms\n"
     ]
    }
   ],
   "source": [
    "%%time\n",
    "# Q6\n",
    "# List end is the head of the queue\n",
    "# deque\n",
    "for i in range(100000):\n",
    "    q1.dequeue()"
   ],
   "metadata": {
    "collapsed": false,
    "ExecuteTime": {
     "end_time": "2023-07-27T14:00:03.171970100Z",
     "start_time": "2023-07-27T14:00:03.135124Z"
    }
   }
  },
  {
   "cell_type": "code",
   "execution_count": 19,
   "outputs": [
    {
     "name": "stdout",
     "output_type": "stream",
     "text": [
      "CPU times: total: 0 ns\n",
      "Wall time: 7.01 ms\n"
     ]
    }
   ],
   "source": [
    "%%time\n",
    "# Q6\n",
    "# List end is the end of the queue\n",
    "# enqueue\n",
    "\n",
    "q2 = Queue_1()\n",
    "for i in range(100000):\n",
    "    q2.enqueue(i)"
   ],
   "metadata": {
    "collapsed": false,
    "ExecuteTime": {
     "end_time": "2023-07-27T13:59:08.399610700Z",
     "start_time": "2023-07-27T13:59:08.392756800Z"
    }
   }
  },
  {
   "cell_type": "code",
   "execution_count": 20,
   "outputs": [
    {
     "name": "stdout",
     "output_type": "stream",
     "text": [
      "CPU times: total: 812 ms\n",
      "Wall time: 7.73 s\n"
     ]
    }
   ],
   "source": [
    "%%time\n",
    "# Q6\n",
    "# List end is the end of the queue\n",
    "# deque\n",
    "for i in range(100000):\n",
    "    q2.dequeue()"
   ],
   "metadata": {
    "collapsed": false,
    "ExecuteTime": {
     "end_time": "2023-07-27T13:59:22.765304900Z",
     "start_time": "2023-07-27T13:59:15.109065800Z"
    }
   }
  },
  {
   "cell_type": "code",
   "execution_count": null,
   "outputs": [],
   "source": [
    "# Q9\n",
    "# TODO"
   ],
   "metadata": {
    "collapsed": false
   }
  },
  {
   "cell_type": "code",
   "execution_count": null,
   "outputs": [],
   "source": [
    "# Q13\n",
    "# leetcode 707"
   ],
   "metadata": {
    "collapsed": false
   }
  },
  {
   "cell_type": "code",
   "execution_count": null,
   "outputs": [],
   "source": [
    "# Q14\n",
    "# leetcode 707"
   ],
   "metadata": {
    "collapsed": false
   }
  },
  {
   "cell_type": "code",
   "execution_count": null,
   "outputs": [],
   "source": [
    "# Q15\n",
    "# done"
   ],
   "metadata": {
    "collapsed": false
   }
  },
  {
   "cell_type": "code",
   "execution_count": 74,
   "outputs": [
    {
     "name": "stdout",
     "output_type": "stream",
     "text": [
      "[None, '4', '3', '2', 2, 1]\n",
      "['3', '2', 2]\n"
     ]
    }
   ],
   "source": [
    "# Q16 实现 UnorderedList 类的__str__方法。列表适合用什么样的字符串来表示？\n",
    "class Node(object):\n",
    "    def __init__(self, data):\n",
    "        self.data = data\n",
    "        self.next = None\n",
    "\n",
    "    def get_data(self):\n",
    "        return self.data\n",
    "\n",
    "    def get_next(self):\n",
    "        return self.next\n",
    "\n",
    "    def set_data(self, data):\n",
    "        self.data = data\n",
    "\n",
    "    def set_next(self, next_node):\n",
    "        self.next = next_node\n",
    "\n",
    "\n",
    "class DisorderedList(object):\n",
    "    def __init__(self):\n",
    "        self.head = None\n",
    "\n",
    "    def is_empty(self):\n",
    "        return self.head is None\n",
    "\n",
    "    def add(self, item):\n",
    "        node = Node(data=item)\n",
    "        node.set_next(self.head)\n",
    "        self.head = node\n",
    "\n",
    "    def __len__(self):\n",
    "        count = 0\n",
    "        current: Node = self.head\n",
    "        while current is not None:\n",
    "            count += 1\n",
    "            current = current.get_next()\n",
    "        return count\n",
    "\n",
    "    def search(self, item):\n",
    "        current: Node = self.head\n",
    "        while current is not None:\n",
    "            value = current.get_data()\n",
    "            if value == item:\n",
    "                return True\n",
    "            current = current.get_next()\n",
    "        return False\n",
    "\n",
    "    def remove(self, item):\n",
    "        current: Node = self.head\n",
    "        previous = None\n",
    "        found = False\n",
    "        while not found:\n",
    "            if current.get_data() == item:\n",
    "                found = True\n",
    "            else:\n",
    "                previous = current\n",
    "                current = current.get_next()\n",
    "\n",
    "        if previous is None:\n",
    "            self.head = current.get_next()\n",
    "        else:\n",
    "            previous.set_next(current.get_next())\n",
    "\n",
    "        del current\n",
    "\n",
    "    def append(self, item):\n",
    "        current: Node = self.head\n",
    "        if current is None:\n",
    "            node = Node(item)\n",
    "            self.head = node\n",
    "            return\n",
    "        while current.get_next() is not None:\n",
    "            current = current.get_next()\n",
    "        node = Node(item)\n",
    "        current.set_next(node)\n",
    "\n",
    "    def index(self, item):\n",
    "        i = 0\n",
    "        current = self.head\n",
    "        while current is not None:\n",
    "            if current.get_data() == item:\n",
    "                return i\n",
    "            i += 1\n",
    "            current = current.get_next()\n",
    "\n",
    "    def insert(self, pos, item):\n",
    "        if pos == 0:\n",
    "            self.add(item)\n",
    "            return None\n",
    "        previous = None\n",
    "        current = self.head\n",
    "        node = Node(item)\n",
    "        for j in range(pos):\n",
    "            previous: Node = current\n",
    "            current = current.get_next()\n",
    "        previous.set_next(node)\n",
    "        node.set_next(current)\n",
    "\n",
    "    def pop(self, pos=None):\n",
    "        if pos is None:\n",
    "            previous = None\n",
    "            current:Node = self.head\n",
    "            while current.get_next() is not None:\n",
    "                previous:Node = current\n",
    "                current = current.get_next()\n",
    "            previous.set_next(None)\n",
    "            current_value = current.get_data()\n",
    "            del current\n",
    "            return current_value\n",
    "        else:\n",
    "            previous = None\n",
    "            current:Node = self.head\n",
    "            for j in range(pos):\n",
    "                previous: Node = current\n",
    "                current = current.get_next()\n",
    "            if previous is None:\n",
    "                self.head = current.get_next()\n",
    "            else:\n",
    "                previous.set_next(current.get_next())\n",
    "\n",
    "            current_value = current.get_data()\n",
    "            del current\n",
    "            return current_value\n",
    "\n",
    "    def __str__(self):\n",
    "        string = '['\n",
    "\n",
    "        current = self.head\n",
    "        first = True\n",
    "        while current:\n",
    "            if not first:\n",
    "                string += ', '\n",
    "            value = current.get_data()\n",
    "            if type(value) == str:\n",
    "                string += \"'\" + str(current.get_data()) + \"'\"\n",
    "            else:\n",
    "                string += str(current.get_data())\n",
    "            current = current.get_next()\n",
    "            first = False\n",
    "        string += ']'\n",
    "        return string\n",
    "\n",
    "    def slice(self, start, end):\n",
    "        new_list = DisorderedList()\n",
    "        current = self.head\n",
    "        for _ in range(start):\n",
    "            current = current.get_next()\n",
    "        for _ in range(end - start):\n",
    "            new_list.append(current.get_data())\n",
    "            current = current.get_next()\n",
    "        return new_list\n",
    "\n",
    "\n",
    "l1 = DisorderedList()\n",
    "l1.add(1)\n",
    "l1.add(2)\n",
    "l1.add('2')\n",
    "l1.add('3')\n",
    "l1.add('4')\n",
    "l1.add(None)\n",
    "print(l1)\n",
    "print(l1.slice(2,5))"
   ],
   "metadata": {
    "collapsed": false,
    "ExecuteTime": {
     "end_time": "2023-07-27T14:31:58.796724Z",
     "start_time": "2023-07-27T14:31:58.787198600Z"
    }
   }
  },
  {
   "cell_type": "code",
   "execution_count": null,
   "outputs": [],
   "source": [
    "# Q19"
   ],
   "metadata": {
    "collapsed": false
   }
  },
  {
   "cell_type": "code",
   "execution_count": null,
   "outputs": [],
   "source": [
    "# Q22\n",
    "# TODO"
   ],
   "metadata": {
    "collapsed": false
   }
  },
  {
   "cell_type": "code",
   "execution_count": null,
   "outputs": [],
   "source": [
    "# Q23\n",
    "# TODO"
   ],
   "metadata": {
    "collapsed": false
   }
  },
  {
   "cell_type": "code",
   "execution_count": null,
   "outputs": [],
   "source": [
    "# Q25\n",
    "# like Q6\n",
    "# insert\n",
    "# pop\n",
    "# append\n",
    "# add\n",
    "# len"
   ],
   "metadata": {
    "collapsed": false
   }
  }
 ],
 "metadata": {
  "kernelspec": {
   "display_name": "Python 3",
   "language": "python",
   "name": "python3"
  },
  "language_info": {
   "codemirror_mode": {
    "name": "ipython",
    "version": 2
   },
   "file_extension": ".py",
   "mimetype": "text/x-python",
   "name": "python",
   "nbconvert_exporter": "python",
   "pygments_lexer": "ipython2",
   "version": "2.7.6"
  }
 },
 "nbformat": 4,
 "nbformat_minor": 0
}
