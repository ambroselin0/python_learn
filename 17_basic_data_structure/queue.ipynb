{
 "cells": [
  {
   "cell_type": "markdown",
   "source": [
    "# Queue\n",
    "\n",
    "FIFO (First In First Out)\n",
    "\n",
    "In daily life, we often have to queue up, which is the simplest example of a queue. We queue up to enter a movie theater, to check out at a supermarket, and even to buy coffee (waiting to grab a cup from the stack). A good queue only allows a head to enter and another head to exit, without the possibility of cutting in line or leaving halfway.\n",
    "\n",
    "## Python Implementation\n",
    "\n",
    "- init() - initialize a new queue\n",
    "- enqueue(item) - add a new item to the queue\n",
    "- dequeue() - remove the first item from the queue\n",
    "- is_empty() - check if the queue is empty\n",
    "- size() - return the number of items in the queue\n",
    "\n"
   ],
   "metadata": {
    "collapsed": false
   }
  },
  {
   "cell_type": "code",
   "execution_count": 2,
   "outputs": [],
   "source": [],
   "metadata": {
    "collapsed": false,
    "ExecuteTime": {
     "end_time": "2023-06-24T11:28:39.828765Z",
     "start_time": "2023-06-24T11:28:39.825746Z"
    }
   }
  }
 ],
 "metadata": {
  "kernelspec": {
   "display_name": "Python 3",
   "language": "python",
   "name": "python3"
  },
  "language_info": {
   "codemirror_mode": {
    "name": "ipython",
    "version": 2
   },
   "file_extension": ".py",
   "mimetype": "text/x-python",
   "name": "python",
   "nbconvert_exporter": "python",
   "pygments_lexer": "ipython2",
   "version": "2.7.6"
  }
 },
 "nbformat": 4,
 "nbformat_minor": 0
}
