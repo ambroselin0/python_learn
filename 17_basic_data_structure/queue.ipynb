{
 "cells": [
  {
   "cell_type": "markdown",
   "source": [
    "# Queue\n",
    "\n",
    "FIFO (First In First Out)\n",
    "\n",
    "In daily life, we often have to queue up, which is the simplest example of a queue. We queue up to enter a movie theater, to check out at a supermarket, and even to buy coffee (waiting to grab a cup from the stack). A good queue only allows a head to enter and another head to exit, without the possibility of cutting in line or leaving halfway.\n",
    "\n",
    "## Python Implementation\n",
    "\n",
    "- init() - initialize a new queue\n",
    "- enqueue(item) - add a new item to the queue\n",
    "- dequeue() - remove the first item from the queue\n",
    "- is_empty() - check if the queue is empty\n",
    "- size() - return the number of items in the queue\n",
    "\n",
    "## leetcode\n",
    "\n",
    "- 0225\n",
    "- 0346\n"
   ],
   "metadata": {
    "collapsed": false
   }
  },
  {
   "cell_type": "code",
   "execution_count": 1,
   "outputs": [
    {
     "name": "stdout",
     "output_type": "stream",
     "text": [
      "[1]\n",
      "[5, 1]\n",
      "[5]\n"
     ]
    }
   ],
   "source": [
    "class Queue(object):\n",
    "    def __init__(self):\n",
    "        self.items = []\n",
    "\n",
    "    def enqueue(self, item):\n",
    "        self.items.insert(0, item)\n",
    "\n",
    "    def dequeue(self):\n",
    "        return self.items.pop()\n",
    "\n",
    "    def size(self):\n",
    "        return len(self.items)\n",
    "\n",
    "    def is_empty(self):\n",
    "        return self.size() == 0\n",
    "\n",
    "    def __str__(self):\n",
    "        return str(self.items)\n",
    "\n",
    "\n",
    "queue = Queue()\n",
    "queue.enqueue(1)\n",
    "print(queue)\n",
    "queue.enqueue(5)\n",
    "print(queue)\n",
    "queue.dequeue()\n",
    "print(queue)"
   ],
   "metadata": {
    "collapsed": false,
    "ExecuteTime": {
     "end_time": "2023-06-30T13:20:17.302774Z",
     "start_time": "2023-06-30T13:20:17.298186Z"
    }
   }
  },
  {
   "cell_type": "markdown",
   "source": [
    "### Hot Potato\n",
    "\n",
    "The game is simple. Children line up in a circle (queue) and pass an item (potato) from neighbor to neighbor as fast as they can. At a certain point in the game, the action is stopped and the child who has the item (potato) is removed from the circle (queue). Play continues until only one child (queue) is left.\n",
    "\n"
   ],
   "metadata": {
    "collapsed": false
   }
  },
  {
   "cell_type": "code",
   "execution_count": 8,
   "outputs": [
    {
     "data": {
      "text/plain": "['D', 'K', 'J', 'Bi', 'Br', 'S']"
     },
     "execution_count": 8,
     "metadata": {},
     "output_type": "execute_result"
    }
   ],
   "source": [
    "def hot_potato(name_list, num):\n",
    "    result = []\n",
    "    queue = Queue()\n",
    "    for single_name in name_list:\n",
    "        queue.enqueue(single_name)\n",
    "    while queue.size() > 0:\n",
    "        for i in range(num):\n",
    "            queue.enqueue(queue.dequeue())\n",
    "        result.append(queue.dequeue())\n",
    "    return result\n",
    "\n",
    "\n",
    "hot_potato(['Bi', 'D', 'S', 'J', 'K', 'Br'], 7)"
   ],
   "metadata": {
    "collapsed": false,
    "ExecuteTime": {
     "end_time": "2023-06-30T13:29:08.872984Z",
     "start_time": "2023-06-30T13:29:08.867759Z"
    }
   }
  },
  {
   "cell_type": "markdown",
   "source": [
    "### Printer Task Simulation\n",
    "\n",
    "The simulation will consist of a simulation clock and three queues. The first queue, called print_queue, represents the printer to which a single printer is attached. The second queue, called task_queue, represents the tasks that are waiting to print. Each task will be given a timestamp upon its arrival. The third queue, called waiting_times, will be used to keep track of how long a task waits before printing begins.\n",
    "\n"
   ],
   "metadata": {
    "collapsed": false
   }
  },
  {
   "cell_type": "code",
   "execution_count": 24,
   "outputs": [
    {
     "name": "stdout",
     "output_type": "stream",
     "text": [
      "avg waiting time 7.894737, 1 tasks left unfinished\n",
      "avg waiting time 10.318182, 0 tasks left unfinished\n",
      "avg waiting time 12.947368, 1 tasks left unfinished\n",
      "avg waiting time 11.857143, 0 tasks left unfinished\n",
      "avg waiting time 10.437500, 0 tasks left unfinished\n",
      "avg waiting time 33.192308, 0 tasks left unfinished\n",
      "avg waiting time 41.939394, 0 tasks left unfinished\n",
      "avg waiting time 7.416667, 0 tasks left unfinished\n",
      "avg waiting time 14.705882, 0 tasks left unfinished\n",
      "avg waiting time 11.260870, 0 tasks left unfinished\n"
     ]
    }
   ],
   "source": [
    "import random\n",
    "\n",
    "\n",
    "class Printer(object):\n",
    "    def __init__(self, pages_per_minute):\n",
    "        self.pages_per_minute = pages_per_minute\n",
    "        self.current_task = None\n",
    "        self.current_task_left_time = 0\n",
    "\n",
    "    def tick(self):\n",
    "        if self.current_task is not None:\n",
    "            self.current_task_left_time -= 1\n",
    "            if self.current_task_left_time <= 0:\n",
    "                self.current_task = None\n",
    "\n",
    "    def busy(self):\n",
    "        if self.current_task is not None:\n",
    "            return True\n",
    "        return False\n",
    "\n",
    "    def start_next_task(self, new_task):\n",
    "        self.current_task = new_task\n",
    "        self.current_task_left_time = new_task.pages / self.pages_per_minute * 60\n",
    "\n",
    "\n",
    "class Task(object):\n",
    "    def __init__(self, current_time):\n",
    "        self.current_time = current_time\n",
    "        self.pages = random.randint(1, 21)\n",
    "\n",
    "    def __repr__(self):\n",
    "        return f\"At {self.current_time} print {self.pages} pages\"\n",
    "\n",
    "\n",
    "def new_print_task():\n",
    "    num = random.randint(1, 181)\n",
    "    if num == 180:\n",
    "        return True\n",
    "    else:\n",
    "        return False\n",
    "\n",
    "\n",
    "def simulation(num_seconds, pages_per_minute):\n",
    "    printer = Printer(pages_per_minute)\n",
    "    printer_task_queue = Queue()\n",
    "    waiting_times = []\n",
    "\n",
    "    for current_time in range(num_seconds):\n",
    "        # 学生assign task\n",
    "        if new_print_task():\n",
    "            task = Task(current_time)\n",
    "            printer_task_queue.enqueue(task)\n",
    "        # 看printer 有没有task，没有的话assign task\n",
    "        if (not printer.busy()) and (not printer_task_queue.is_empty()):\n",
    "            next_task = printer_task_queue.dequeue()\n",
    "            waiting_time = current_time - next_task.current_time\n",
    "            waiting_times.append(waiting_time)\n",
    "            printer.start_next_task(next_task)\n",
    "\n",
    "        printer.tick()\n",
    "\n",
    "        # 如果printer有task，告诉printer 过去了一秒\n",
    "\n",
    "    avg_waiting_time = sum(waiting_times) / len(waiting_times)\n",
    "    task_left = printer_task_queue.size()\n",
    "    print(f\"avg waiting time {avg_waiting_time:0f}, {task_left} tasks left unfinished\")\n",
    "\n",
    "for i in range(10):\n",
    "    simulation(3600, 10)"
   ],
   "metadata": {
    "collapsed": false,
    "ExecuteTime": {
     "end_time": "2023-06-30T13:50:28.816020Z",
     "start_time": "2023-06-30T13:50:28.813575Z"
    }
   }
  },
  {
   "cell_type": "code",
   "execution_count": 29,
   "outputs": [
    {
     "name": "stdout",
     "output_type": "stream",
     "text": [
      "avg waiting time 0.750000, 0 tasks left unfinished\n",
      "avg waiting time 4.916667, 0 tasks left unfinished\n",
      "avg waiting time 1.312500, 0 tasks left unfinished\n",
      "avg waiting time 5.086957, 0 tasks left unfinished\n",
      "avg waiting time 10.333333, 0 tasks left unfinished\n",
      "avg waiting time 6.523810, 0 tasks left unfinished\n",
      "avg waiting time 0.388889, 0 tasks left unfinished\n",
      "avg waiting time 3.000000, 0 tasks left unfinished\n",
      "avg waiting time 2.800000, 0 tasks left unfinished\n",
      "avg waiting time 2.947368, 0 tasks left unfinished\n"
     ]
    }
   ],
   "source": [
    "for i in range(10):\n",
    "    simulation(3600, 20)"
   ],
   "metadata": {
    "collapsed": false,
    "ExecuteTime": {
     "end_time": "2023-06-30T13:52:35.740563Z",
     "start_time": "2023-06-30T13:52:35.738287Z"
    }
   }
  },
  {
   "cell_type": "code",
   "execution_count": 30,
   "outputs": [
    {
     "name": "stdout",
     "output_type": "stream",
     "text": [
      "avg waiting time 1230.083333, 13 tasks left unfinished\n",
      "avg waiting time 720.000000, 6 tasks left unfinished\n",
      "avg waiting time 1082.363636, 11 tasks left unfinished\n",
      "avg waiting time 1366.875000, 10 tasks left unfinished\n",
      "avg waiting time 407.545455, 7 tasks left unfinished\n",
      "avg waiting time 894.125000, 15 tasks left unfinished\n",
      "avg waiting time 1036.363636, 15 tasks left unfinished\n",
      "avg waiting time 1066.777778, 5 tasks left unfinished\n",
      "avg waiting time 1110.750000, 8 tasks left unfinished\n",
      "avg waiting time 550.900000, 3 tasks left unfinished\n"
     ]
    }
   ],
   "source": [
    "for i in range(10):\n",
    "    simulation(3600, 2)"
   ],
   "metadata": {
    "collapsed": false,
    "ExecuteTime": {
     "end_time": "2023-06-30T13:52:52.568142Z",
     "start_time": "2023-06-30T13:52:52.549252Z"
    }
   }
  },
  {
   "cell_type": "code",
   "execution_count": 28,
   "outputs": [
    {
     "name": "stdout",
     "output_type": "stream",
     "text": [
      "avg waiting time 116.235294, 2 tasks left unfinished\n",
      "avg waiting time 53.333333, 0 tasks left unfinished\n",
      "avg waiting time 262.045455, 2 tasks left unfinished\n",
      "avg waiting time 105.157895, 2 tasks left unfinished\n",
      "avg waiting time 90.050000, 0 tasks left unfinished\n",
      "avg waiting time 33.722222, 0 tasks left unfinished\n",
      "avg waiting time 58.909091, 0 tasks left unfinished\n",
      "avg waiting time 180.086957, 4 tasks left unfinished\n",
      "avg waiting time 124.125000, 1 tasks left unfinished\n",
      "avg waiting time 135.842105, 0 tasks left unfinished\n"
     ]
    }
   ],
   "source": [
    "for i in range(10):\n",
    "    simulation(3600, 5)"
   ],
   "metadata": {
    "collapsed": false,
    "ExecuteTime": {
     "end_time": "2023-06-30T13:52:27.012372Z",
     "start_time": "2023-06-30T13:52:27.011612Z"
    }
   }
  }
 ],
 "metadata": {
  "kernelspec": {
   "display_name": "Python 3",
   "language": "python",
   "name": "python3"
  },
  "language_info": {
   "codemirror_mode": {
    "name": "ipython",
    "version": 2
   },
   "file_extension": ".py",
   "mimetype": "text/x-python",
   "name": "python",
   "nbconvert_exporter": "python",
   "pygments_lexer": "ipython2",
   "version": "2.7.6"
  }
 },
 "nbformat": 4,
 "nbformat_minor": 0
}
