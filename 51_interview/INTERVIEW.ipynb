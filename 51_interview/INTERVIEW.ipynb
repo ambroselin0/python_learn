{
 "cells": [
  {
   "cell_type": "markdown",
   "source": [
    "LEETCODE 122\n",
    "\n",
    "\n",
    "贪心算法\n",
    "股票买卖获取利润主要是看差价，必然是低点买入，高点卖出才会赚钱。而要想获取最大利润，就要在跌入谷底的时候买入，在涨到波峰的时候卖出利益才会最大化。所以我们购买股票的策略变为了：\n",
    "\n",
    "连续跌的时候不买。\n",
    "跌到最低点买入。\n",
    "涨到最高点卖出。\n",
    "在这种策略下，只要计算波峰和谷底的差值即可。而波峰和谷底的差值可以通过两两相减所得的差值来累加计算。"
   ],
   "metadata": {
    "collapsed": false
   },
   "id": "1e74c2b1ed5ce2c3"
  },
  {
   "cell_type": "markdown",
   "source": [
    "coding interview: recursive functions\n",
    "\n",
    "febnacci\n",
    "merge sort\n",
    "binary search\n"
   ],
   "metadata": {
    "collapsed": false
   },
   "id": "50d04e85c6fe4956"
  },
  {
   "cell_type": "markdown",
   "source": [
    "How can we rotate a matrix?\n",
    "\n",
    "numpy.rot90\n",
    "\n",
    "\n",
    "numpy.T?"
   ],
   "metadata": {
    "collapsed": false
   },
   "id": "fb9a3da2348068df"
  },
  {
   "cell_type": "markdown",
   "source": [
    "Write a function that reverses a linked list.\n",
    "\n",
    "leetcode 206"
   ],
   "metadata": {
    "collapsed": false
   },
   "id": "8da0a58d4a946b58"
  },
  {
   "cell_type": "markdown",
   "source": [
    "Three technical rounds. \n",
    "\n",
    "The first consisted of basic ML/stats questions, the kind that are covered in intro courses. \n",
    "\n",
    "The second was a set of programming exercises testing python, numpy, pandas familiarity. \n",
    "\n",
    "The third was a design problem on a time-series forecasting."
   ],
   "metadata": {
    "collapsed": false
   },
   "id": "93a953c291f55466"
  },
  {
   "cell_type": "markdown",
   "source": [
    "Programming: Implement stochastic gradient descent for linear regression. Stock when to sell variation (dynamic programming)."
   ],
   "metadata": {
    "collapsed": false
   },
   "id": "c48ea014a4dfbe67"
  },
  {
   "cell_type": "markdown",
   "source": [
    "Case interview: Given historical data whether the current run of a runner was abnormal."
   ],
   "metadata": {
    "collapsed": false
   },
   "id": "70191cfe3684c16e"
  },
  {
   "cell_type": "markdown",
   "source": [
    "Difference between independent and uncorrelated variables - PCA and it's assumptions"
   ],
   "metadata": {
    "collapsed": false
   },
   "id": "59e53dc33401ca02"
  },
  {
   "cell_type": "markdown",
   "source": [
    "p value A data science problem Xgboost, Random Forest"
   ],
   "metadata": {
    "collapsed": false
   },
   "id": "722dd5849b1e6cae"
  },
  {
   "cell_type": "markdown",
   "source": [
    "What is the difference between L1 and L2 regularization? How do you optimize L1- and L2-regularized linear regression?"
   ],
   "metadata": {
    "collapsed": false
   },
   "id": "78cfa193efd415bd"
  },
  {
   "cell_type": "markdown",
   "source": [
    "Given a set of coins `S = [1,2,3]` of potential infinity quantity, and `n=4`, what is the number of way in which you can sum coins to have n as total. (python implementation with recursion)"
   ],
   "metadata": {
    "collapsed": false
   },
   "id": "75bc9f1d20e09d4b"
  },
  {
   "cell_type": "markdown",
   "source": [
    "Cross validation in time series"
   ],
   "metadata": {
    "collapsed": false
   },
   "id": "ab04e2980892e46c"
  },
  {
   "cell_type": "markdown",
   "source": [
    "p-value"
   ],
   "metadata": {
    "collapsed": false
   },
   "id": "d3f967c6f31a53e2"
  },
  {
   "cell_type": "markdown",
   "source": [
    "Bagging and boosting"
   ],
   "metadata": {
    "collapsed": false
   },
   "id": "dccb81ae783988b5"
  },
  {
   "cell_type": "markdown",
   "source": [
    "Vanishing gradient"
   ],
   "metadata": {
    "collapsed": false
   },
   "id": "a385b69fd2eef421"
  },
  {
   "cell_type": "markdown",
   "source": [
    "How does a Random Forest introduce randomness?"
   ],
   "metadata": {
    "collapsed": false
   },
   "id": "3e02428273254bb5"
  },
  {
   "cell_type": "markdown",
   "source": [
    "Random forest and ways to avoid overfitting on it"
   ],
   "metadata": {
    "collapsed": false
   },
   "id": "b465bb8b53525edd"
  },
  {
   "cell_type": "markdown",
   "source": [
    "How do you forecast sales of a product when you have three tables of data on sales, promotions and google analytics? "
   ],
   "metadata": {
    "collapsed": false
   },
   "id": "5f6b76f0981370c6"
  },
  {
   "cell_type": "markdown",
   "source": [
    "Are two independent variables necessarily uncorrelated and vice versa? (I think the true question that the interviewer could not spell is this \"does lack of linear correlation between two variables mean they are independent?"
   ],
   "metadata": {
    "collapsed": false
   },
   "id": "c8985eab511ffee4"
  },
  {
   "cell_type": "markdown",
   "source": [
    "How do you compute a non-parametric CI for parameters of a model? Answer is bootstrapping and taking 2.5 and 97.5 percentiles. But again the interviewer was trying to twist everything to an incomprehensible level for himself and me."
   ],
   "metadata": {
    "collapsed": false
   },
   "id": "1dfcdbad88663753"
  },
  {
   "cell_type": "markdown",
   "source": [
    "difference between correlation and independence, k-means clustering pros and cons"
   ],
   "metadata": {
    "collapsed": false
   },
   "id": "f037bacb84a286a3"
  }
 ],
 "metadata": {
  "kernelspec": {
   "display_name": "Python 3",
   "language": "python",
   "name": "python3"
  },
  "language_info": {
   "codemirror_mode": {
    "name": "ipython",
    "version": 2
   },
   "file_extension": ".py",
   "mimetype": "text/x-python",
   "name": "python",
   "nbconvert_exporter": "python",
   "pygments_lexer": "ipython2",
   "version": "2.7.6"
  }
 },
 "nbformat": 4,
 "nbformat_minor": 5
}
