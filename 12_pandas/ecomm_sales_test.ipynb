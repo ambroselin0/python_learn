{
 "cells": [
  {
   "cell_type": "markdown",
   "source": [
    "## Content\n",
    "\n",
    "\"This is a transnational data set which contains all the transactions for a UK-based and registered non-store online retail.The company mainly sells unique all-occasion gifts. Many customers of the company are wholesalers.\"\n",
    "\n",
    "## Business request\n",
    "\n",
    "For each month, the business team would like to have a way to smartly identify the customers with higher purchase propensity of the next month, ideally they would love to have a \"score\" to indicate the likelyhood of purchase of each customer for next month, so that they could pick the higher score group, and have sales assisstants to engage them with special coupons/gifts. (The incentive would be the same for these customers because of the regulations, so no need to further differetiate)\n",
    "\n",
    "## Goal of the test\n",
    "\n",
    "Your goal is to ingest, explore and analyze the dataset to generate more understanding of the business, product, customer of this company, and design a modeling solution to help business to address their problem. Including:\n",
    "\n",
    "* What kind of calculation / Model would you design?\n",
    "* How to train the model ?\n",
    "* How to evaluate your model?\n",
    "* How to prove the model has business impact?"
   ],
   "metadata": {
    "collapsed": false
   }
  },
  {
   "cell_type": "code",
   "execution_count": null,
   "outputs": [],
   "source": [],
   "metadata": {
    "collapsed": false
   }
  }
 ],
 "metadata": {
  "kernelspec": {
   "display_name": "Python 3",
   "language": "python",
   "name": "python3"
  },
  "language_info": {
   "codemirror_mode": {
    "name": "ipython",
    "version": 2
   },
   "file_extension": ".py",
   "mimetype": "text/x-python",
   "name": "python",
   "nbconvert_exporter": "python",
   "pygments_lexer": "ipython2",
   "version": "2.7.6"
  }
 },
 "nbformat": 4,
 "nbformat_minor": 0
}
