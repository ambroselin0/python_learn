{
 "cells": [
  {
   "cell_type": "markdown",
   "source": [
    "### Customers rolling performance\n",
    "\n",
    "Please use the dataset '12_customers_rolling_performance.csv' to solve the 2 questions below:\n",
    "\n",
    "1. This is a transnational data set which contains all the transactions for a UK-based and registered non-store online retail. Your goal is to write a function to calculate the number of unique purchased customers in a rolling 7 days base given a date. For instance, given a date on 2011-03-15, you are able to the provide the number of unique customers from 2011-03-09 to 2011-03-15.\n",
    "\n",
    "2. Please write a function to find out is there any customer who have purchased everyday within a three-day window."
   ],
   "metadata": {
    "collapsed": false
   }
  },
  {
   "cell_type": "code",
   "execution_count": null,
   "outputs": [],
   "source": [],
   "metadata": {
    "collapsed": false
   }
  }
 ],
 "metadata": {
  "kernelspec": {
   "display_name": "Python 3",
   "language": "python",
   "name": "python3"
  },
  "language_info": {
   "codemirror_mode": {
    "name": "ipython",
    "version": 2
   },
   "file_extension": ".py",
   "mimetype": "text/x-python",
   "name": "python",
   "nbconvert_exporter": "python",
   "pygments_lexer": "ipython2",
   "version": "2.7.6"
  }
 },
 "nbformat": 4,
 "nbformat_minor": 0
}
