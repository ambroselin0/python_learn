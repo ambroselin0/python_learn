{
 "cells": [
  {
   "cell_type": "markdown",
   "source": [
    "### Customers rolling performance\n",
    "\n",
    "Please use the dataset 'data.csv' to solve the 2 questions below:\n",
    "\n",
    "1. This is a transnational data set which contains all the transactions for a UK-based and registered non-store online retail. Your goal is to write a function to calculate the number of unique purchased customers in a rolling 7 days base given a date. For instance, given a date on 2011-03-15, you are able to the provide the number of unique customers from 2011-03-09 to 2011-03-15.\n",
    "\n",
    "2. Please write a function to find out is there any customer who have purchased everyday within a three-day window."
   ],
   "metadata": {
    "collapsed": false
   }
  },
  {
   "cell_type": "code",
   "execution_count": 32,
   "outputs": [
    {
     "name": "stdout",
     "output_type": "stream",
     "text": [
      "CPU times: user 881 ms, sys: 35 ms, total: 916 ms\n",
      "Wall time: 935 ms\n"
     ]
    },
    {
     "data": {
      "text/plain": "       InvoiceNo StockCode                          Description  Quantity  \\\n0         536365    85123A   WHITE HANGING HEART T-LIGHT HOLDER         6   \n1         536365     71053                  WHITE METAL LANTERN         6   \n2         536365    84406B       CREAM CUPID HEARTS COAT HANGER         8   \n3         536365    84029G  KNITTED UNION FLAG HOT WATER BOTTLE         6   \n4         536365    84029E       RED WOOLLY HOTTIE WHITE HEART.         6   \n...          ...       ...                                  ...       ...   \n541904    581587     22613          PACK OF 20 SPACEBOY NAPKINS        12   \n541905    581587     22899         CHILDREN'S APRON DOLLY GIRL          6   \n541906    581587     23254        CHILDRENS CUTLERY DOLLY GIRL          4   \n541907    581587     23255      CHILDRENS CUTLERY CIRCUS PARADE         4   \n541908    581587     22138        BAKING SET 9 PIECE RETROSPOT          3   \n\n               InvoiceDate  UnitPrice  CustomerID         Country  \n0      2010-12-01 08:26:00       2.55     17850.0  United Kingdom  \n1      2010-12-01 08:26:00       3.39     17850.0  United Kingdom  \n2      2010-12-01 08:26:00       2.75     17850.0  United Kingdom  \n3      2010-12-01 08:26:00       3.39     17850.0  United Kingdom  \n4      2010-12-01 08:26:00       3.39     17850.0  United Kingdom  \n...                    ...        ...         ...             ...  \n541904 2011-12-09 12:50:00       0.85     12680.0          France  \n541905 2011-12-09 12:50:00       2.10     12680.0          France  \n541906 2011-12-09 12:50:00       4.15     12680.0          France  \n541907 2011-12-09 12:50:00       4.15     12680.0          France  \n541908 2011-12-09 12:50:00       4.95     12680.0          France  \n\n[541909 rows x 8 columns]",
      "text/html": "<div>\n<style scoped>\n    .dataframe tbody tr th:only-of-type {\n        vertical-align: middle;\n    }\n\n    .dataframe tbody tr th {\n        vertical-align: top;\n    }\n\n    .dataframe thead th {\n        text-align: right;\n    }\n</style>\n<table border=\"1\" class=\"dataframe\">\n  <thead>\n    <tr style=\"text-align: right;\">\n      <th></th>\n      <th>InvoiceNo</th>\n      <th>StockCode</th>\n      <th>Description</th>\n      <th>Quantity</th>\n      <th>InvoiceDate</th>\n      <th>UnitPrice</th>\n      <th>CustomerID</th>\n      <th>Country</th>\n    </tr>\n  </thead>\n  <tbody>\n    <tr>\n      <th>0</th>\n      <td>536365</td>\n      <td>85123A</td>\n      <td>WHITE HANGING HEART T-LIGHT HOLDER</td>\n      <td>6</td>\n      <td>2010-12-01 08:26:00</td>\n      <td>2.55</td>\n      <td>17850.0</td>\n      <td>United Kingdom</td>\n    </tr>\n    <tr>\n      <th>1</th>\n      <td>536365</td>\n      <td>71053</td>\n      <td>WHITE METAL LANTERN</td>\n      <td>6</td>\n      <td>2010-12-01 08:26:00</td>\n      <td>3.39</td>\n      <td>17850.0</td>\n      <td>United Kingdom</td>\n    </tr>\n    <tr>\n      <th>2</th>\n      <td>536365</td>\n      <td>84406B</td>\n      <td>CREAM CUPID HEARTS COAT HANGER</td>\n      <td>8</td>\n      <td>2010-12-01 08:26:00</td>\n      <td>2.75</td>\n      <td>17850.0</td>\n      <td>United Kingdom</td>\n    </tr>\n    <tr>\n      <th>3</th>\n      <td>536365</td>\n      <td>84029G</td>\n      <td>KNITTED UNION FLAG HOT WATER BOTTLE</td>\n      <td>6</td>\n      <td>2010-12-01 08:26:00</td>\n      <td>3.39</td>\n      <td>17850.0</td>\n      <td>United Kingdom</td>\n    </tr>\n    <tr>\n      <th>4</th>\n      <td>536365</td>\n      <td>84029E</td>\n      <td>RED WOOLLY HOTTIE WHITE HEART.</td>\n      <td>6</td>\n      <td>2010-12-01 08:26:00</td>\n      <td>3.39</td>\n      <td>17850.0</td>\n      <td>United Kingdom</td>\n    </tr>\n    <tr>\n      <th>...</th>\n      <td>...</td>\n      <td>...</td>\n      <td>...</td>\n      <td>...</td>\n      <td>...</td>\n      <td>...</td>\n      <td>...</td>\n      <td>...</td>\n    </tr>\n    <tr>\n      <th>541904</th>\n      <td>581587</td>\n      <td>22613</td>\n      <td>PACK OF 20 SPACEBOY NAPKINS</td>\n      <td>12</td>\n      <td>2011-12-09 12:50:00</td>\n      <td>0.85</td>\n      <td>12680.0</td>\n      <td>France</td>\n    </tr>\n    <tr>\n      <th>541905</th>\n      <td>581587</td>\n      <td>22899</td>\n      <td>CHILDREN'S APRON DOLLY GIRL</td>\n      <td>6</td>\n      <td>2011-12-09 12:50:00</td>\n      <td>2.10</td>\n      <td>12680.0</td>\n      <td>France</td>\n    </tr>\n    <tr>\n      <th>541906</th>\n      <td>581587</td>\n      <td>23254</td>\n      <td>CHILDRENS CUTLERY DOLLY GIRL</td>\n      <td>4</td>\n      <td>2011-12-09 12:50:00</td>\n      <td>4.15</td>\n      <td>12680.0</td>\n      <td>France</td>\n    </tr>\n    <tr>\n      <th>541907</th>\n      <td>581587</td>\n      <td>23255</td>\n      <td>CHILDRENS CUTLERY CIRCUS PARADE</td>\n      <td>4</td>\n      <td>2011-12-09 12:50:00</td>\n      <td>4.15</td>\n      <td>12680.0</td>\n      <td>France</td>\n    </tr>\n    <tr>\n      <th>541908</th>\n      <td>581587</td>\n      <td>22138</td>\n      <td>BAKING SET 9 PIECE RETROSPOT</td>\n      <td>3</td>\n      <td>2011-12-09 12:50:00</td>\n      <td>4.95</td>\n      <td>12680.0</td>\n      <td>France</td>\n    </tr>\n  </tbody>\n</table>\n<p>541909 rows × 8 columns</p>\n</div>"
     },
     "execution_count": 32,
     "metadata": {},
     "output_type": "execute_result"
    }
   ],
   "source": [
    "%%time\n",
    "import pandas as pd\n",
    "\n",
    "# read data\n",
    "data = pd.read_csv('./data.csv', sep='\\t')\n",
    "data.InvoiceDate = pd.to_datetime(data.InvoiceDate)\n",
    "data"
   ],
   "metadata": {
    "collapsed": false
   }
  },
  {
   "cell_type": "code",
   "execution_count": 41,
   "outputs": [
    {
     "name": "stdout",
     "output_type": "stream",
     "text": [
      "2011-03-16 00:00:00 2011-03-09 00:00:00\n"
     ]
    }
   ],
   "source": [
    "end_date = pd.to_datetime('2011-03-15')  + pd.offsets.DateOffset(days=1) # 2011-03-15 00:00:00\n",
    "begin_date = end_date - pd.offsets.DateOffset(days=7)\n",
    "print(end_date, begin_date)"
   ],
   "metadata": {
    "collapsed": false
   }
  },
  {
   "cell_type": "code",
   "execution_count": 55,
   "outputs": [
    {
     "data": {
      "text/plain": "259"
     },
     "execution_count": 55,
     "metadata": {},
     "output_type": "execute_result"
    }
   ],
   "source": [
    "test = data[(data['InvoiceDate'] >= begin_date) & (data['InvoiceDate'] < end_date)]\n",
    "len(test.CustomerID.unique()) # test.CustomerID.nunique()"
   ],
   "metadata": {
    "collapsed": false
   }
  }
 ],
 "metadata": {
  "kernelspec": {
   "display_name": "Python 3",
   "language": "python",
   "name": "python3"
  },
  "language_info": {
   "codemirror_mode": {
    "name": "ipython",
    "version": 2
   },
   "file_extension": ".py",
   "mimetype": "text/x-python",
   "name": "python",
   "nbconvert_exporter": "python",
   "pygments_lexer": "ipython2",
   "version": "2.7.6"
  }
 },
 "nbformat": 4,
 "nbformat_minor": 0
}
