{
 "cells": [
  {
   "cell_type": "markdown",
   "source": [
    "# loop\n",
    "## 普通人的思维\n",
    "\n",
    "普通人的思维与工程师的思维是不一样的，如果你想掌握一门编程语言，就必须像工程师那样去思考，否则，你永远只能是一个门外汉。\n",
    "\n",
    "```python\n",
    "lst = [3, 6, 7, 9, 2]\n",
    "```\n",
    "\n",
    "现在，请你用最快的速度说出列表里最大的数，你可以轻而易举的给出正确答案，是9，很好，请你回忆一下，你刚才是怎么找到这个答案的？\n",
    "\n",
    "## 迭代遍历思维\n",
    "\n",
    "现在让我们做一个思想实验，借此引出迭代遍历思维。刚才的列表里只有5个数字，实在太少了。在这个思想实验里，列表里的数据多达1亿个，你可以想象一下，1亿个数据，整个屏幕都装不下了，那么请你从这1亿个数据中找出最大的数值，你应该怎么办？\n",
    "\n",
    "很显然，你不能再像之前那样一眼就看出答案，那种几乎无需思考的方法只能解决小数据量的问题，当问题的规模扩大到一定程度后，必须使用新的方法，这个方法就是迭代遍历。\n",
    "\n",
    "准备一张纸，一支笔，一个橡皮擦，在纸上记录这1亿个数中的第一个，从现在开始，假设这个数就是最大的，接下来，将这1亿个数逐个与纸上的数值进行比较，如果比纸上记录的数值大，则修改纸上的数值，这个方法看起来比较笨，但却十分有效，它不会遗漏任何数值，当1亿个数都比较一遍后，这张纸上的数值就是这1亿个数中的最大值，这就是遍历。\n",
    "\n",
    "不论是for循环，还是while循环，其背后的思维模式都是迭代遍历，重复着去做一件简单的事情，我们不必担心速度，遍历1亿个整数对计算机来说不过是弹指一挥间的事情。"
   ],
   "metadata": {
    "collapsed": false
   }
  },
  {
   "cell_type": "code",
   "execution_count": null,
   "outputs": [],
   "source": [
    "lst = [3, 6, 7, 9, 2]\n",
    "\n",
    "max_value = lst[0]\n",
    "for item in lst:\n",
    "    if item > max_value:\n",
    "        max_value = item\n",
    "\n",
    "print(max_value)"
   ],
   "metadata": {
    "collapsed": false
   }
  },
  {
   "cell_type": "markdown",
   "source": [
    "## 转变思维\n",
    "当问题的规模很小时，我们很自然的采用普通人的思维，当问题的规模变的很大时，你也会很自然的切换到工程师的思维。\n",
    "\n",
    "学习编程过程中，要求你主动的摒弃掉普通人的思维，完全的使用工程师的思维，哪怕这个列表里只有3个数据，也要使用for循环遍历数据找出最大值。\n",
    "\n",
    "假如你对python的学习已经有些基础，你会提出使用max函数找出最大值，似乎与遍历无关，但需要知道，max的实现，仍然需要遍历整个列表。\n",
    "\n",
    "# for循环\n",
    "\n",
    "Python for循环可以遍历任何可迭代对象，比如列表，字典，集合，字符串等，通过for循环，可以对可迭代对象里的每一个元组执行一组语句，下面是for循环的一般形式\n",
    "\n",
    "```python\n",
    "for tem_var in interator:\n",
    "    pass\n",
    "```\n",
    "\n",
    "1. mpVar 是临时变量\n",
    "2. Iterable 是可迭代对象\n",
    "3. 绿色区域是循环条件，当对可迭代对象的迭代遍历结束时，for循环也就结束\n",
    "4. block是循环体，每一次循环，程序都要进入到这个block内来执行代码\n",
    "\n",
    "for循环，从形式上可以分为两种:\n",
    "\n",
    "1. 使用range函数自由控制循环次数\n",
    "2. 遍历容器\n",
    "\n",
    "## range函数\n",
    "range函数返回一个对象，该对象产生一个整数序列。\n",
    "\n",
    "range函数有3个参数\n",
    "\n",
    "start 整数序列开始的位置\n",
    "stop 整数序列结束的位置\n",
    "step 步长\n",
    "开始与结束位置所组成的区间[start, stop)是左闭右开的，start默认是0，step默认是1。"
   ],
   "metadata": {
    "collapsed": false
   }
  },
  {
   "cell_type": "code",
   "execution_count": null,
   "outputs": [],
   "source": [
    "for i in range(1, 11):\n",
    "    print(i)"
   ],
   "metadata": {
    "collapsed": false
   }
  },
  {
   "cell_type": "markdown",
   "source": [
    "range(0, 11) 产生了整数序列:1， 2， 3， 4， 5， 6， 7， 8， 9， 10 ，结合上一篇教程《迭代遍历思维》的内容来理解这段代码。 range函数产生了一个整数序列，从0到10，for循环的过程就是迭代遍历他们的过程。第一行代码里的i是临时变量，每一次循环，都会改变i的值，i将依次等于1，2 ... 9, 10，而每一次将新的值赋值给i以后，都要进入到循环体里执行代码，在这个示例代码中，循环体里只有一行代码print(i)，这样就是实现了输出从1到10的功能。\n",
    "\n",
    "![](001.png)\n",
    "\n",
    "注意看绿色线串起来的部分，恰好形成了一个闭环，这就是循环。\n",
    "\n",
    "请编写程序，输出100以内所有既是2的倍数又是3的倍数的整数。"
   ],
   "metadata": {
    "collapsed": false
   }
  },
  {
   "cell_type": "code",
   "execution_count": null,
   "outputs": [],
   "source": [
    "for i in range(101):\n",
    "    if i % 2 == 0 and i % 3 == 0:\n",
    "        print(i)"
   ],
   "metadata": {
    "collapsed": false
   }
  },
  {
   "cell_type": "code",
   "execution_count": null,
   "outputs": [],
   "source": [
    "# 为什么range的step不用2呢？\n",
    "for i in range(0, 101, 3):\n",
    "    if i % 2 == 0:\n",
    "        print(i)"
   ],
   "metadata": {
    "collapsed": false
   }
  },
  {
   "cell_type": "markdown",
   "source": [
    "## 遍历列表，元组\n",
    "元组和列表实在是太相似了，很多操作方法都是相同的，因此我们总是以列表举例子讲解，遍历一个列表，有3种方法"
   ],
   "metadata": {
    "collapsed": false
   }
  },
  {
   "cell_type": "code",
   "execution_count": null,
   "outputs": [],
   "source": [
    "# 通过索引遍历\n",
    "lst = [2, 4, 6, 7]\n",
    "\n",
    "for i in range(len(lst)):\n",
    "    print(lst[i])"
   ],
   "metadata": {
    "collapsed": false
   }
  },
  {
   "cell_type": "code",
   "execution_count": null,
   "outputs": [],
   "source": [
    "# 直接遍历\n",
    "lst = [2, 4, 6, 7]\n",
    "\n",
    "for item in lst:\n",
    "    print(item)"
   ],
   "metadata": {
    "collapsed": false
   }
  },
  {
   "cell_type": "code",
   "execution_count": null,
   "outputs": [],
   "source": [
    "# 通过enumerate函数遍历\n",
    "lst = [2, 4, 6, 7]\n",
    "\n",
    "for index, item in enumerate(lst):\n",
    "    print(index, item)"
   ],
   "metadata": {
    "collapsed": false
   }
  },
  {
   "cell_type": "markdown",
   "source": [
    "## 遍历集合\n",
    "集合没有索引，因此只能直接遍历"
   ],
   "metadata": {
    "collapsed": false
   }
  },
  {
   "cell_type": "code",
   "execution_count": null,
   "outputs": [],
   "source": [
    "set_obj = {1, 2, 3, 3} # set\n",
    "\n",
    "for item in set_obj:\n",
    "    print(item)"
   ],
   "metadata": {
    "collapsed": false
   }
  },
  {
   "cell_type": "markdown",
   "source": [
    "## 遍历字典\n",
    "对字典的遍历，有两种常见的方法"
   ],
   "metadata": {
    "collapsed": false
   }
  },
  {
   "cell_type": "code",
   "execution_count": null,
   "outputs": [],
   "source": [
    "# 使用key遍历字典\n",
    "dic = {\n",
    "    'a': 1,\n",
    "    'b': 2\n",
    "}\n",
    "\n",
    "for key in dic:\n",
    "    print(key, dic[key])"
   ],
   "metadata": {
    "collapsed": false
   }
  },
  {
   "cell_type": "code",
   "execution_count": null,
   "outputs": [],
   "source": [
    "# 使用字典items(）方法\n",
    "dic = {\n",
    "    'a': 1,\n",
    "    'b': 2\n",
    "}\n",
    "\n",
    "for key, value in dic.items():\n",
    "    print(key, value)"
   ],
   "metadata": {
    "collapsed": false
   }
  },
  {
   "cell_type": "markdown",
   "source": [
    "## for loop 练习题\n",
    "\n",
    "### 倒序输出列表里的数据"
   ],
   "metadata": {
    "collapsed": false
   }
  },
  {
   "cell_type": "code",
   "execution_count": null,
   "outputs": [],
   "source": [
    "# range(len(lst)-1, -1, -1)可以产生整数序列4， 3， 2， 1， 0， 恰好是倒序的索引\n",
    "lst = [1, 5, 6, 2, 4]\n",
    "\n",
    "for i in range(len(lst)-1, -1, -1):\n",
    "    print(lst[i])"
   ],
   "metadata": {
    "collapsed": false
   }
  },
  {
   "cell_type": "code",
   "execution_count": null,
   "outputs": [],
   "source": [
    "# range(len(lst)) 产生整数序列0，1，2，3，4， 那么可以在使用[]操作符取数据时巧妙的计算出从大到小的索引\n",
    "lst = [1, 5, 6, 2, 4]\n",
    "\n",
    "length = len(lst)\n",
    "for i in range(length):\n",
    "    print(lst[length-i-1])"
   ],
   "metadata": {
    "collapsed": false
   }
  },
  {
   "cell_type": "code",
   "execution_count": null,
   "outputs": [],
   "source": [
    "# 继续沿着方法2的思路去想，何不产生出反向索引呢？\n",
    "lst = [1, 5, 6, 2, 4]\n",
    "\n",
    "for i in range(len(lst)):\n",
    "    print(lst[-(i+1)])"
   ],
   "metadata": {
    "collapsed": false
   }
  },
  {
   "cell_type": "markdown",
   "source": [
    "### 找出列表最大值\n",
    "\n",
    "```python\n",
    "lst = [4, 6, 1, 7, 2, 9, 3]\n",
    "```\n",
    "编写程序找出列表里的最大值"
   ],
   "metadata": {
    "collapsed": false
   }
  },
  {
   "cell_type": "code",
   "execution_count": null,
   "outputs": [],
   "source": [
    "lst = [4, 6, 1, 7, 2, 9, 3]\n",
    "\n",
    "max_value = lst[0]\n",
    "for item in lst:\n",
    "    if item > max_value:\n",
    "        max_value = item\n",
    "\n",
    "print(max_value)"
   ],
   "metadata": {
    "collapsed": false
   }
  },
  {
   "cell_type": "markdown",
   "source": [
    "为什么让 max_value = lst[0]\n",
    "不论怎样，都必须给变量max_value一个初始值，唯有如此，才能用它和列表里的数据进行大小比较，其实，这个值你赋值给列表里的哪个数据都可以，如果你已经知道列表里的最小值是1，你甚至可以让max_value等于1，或者比1小的数，都可以\n",
    "\n",
    "### 寻找列表里第2大的数\n",
    "\n",
    "```python\n",
    "lst = [4, 6, 1, 7, 2, 9, 3]\n",
    "```"
   ],
   "metadata": {
    "collapsed": false
   }
  },
  {
   "cell_type": "code",
   "execution_count": 3,
   "outputs": [
    {
     "name": "stdout",
     "output_type": "stream",
     "text": [
      "7\n"
     ]
    }
   ],
   "source": [
    "lst = [4, 6, 1, 7, 2, 9, 3]\n",
    "\n",
    "max_value = lst[0]\n",
    "second_max = lst[0]\n",
    "\n",
    "for item in lst:\n",
    "    if item > second_max:\n",
    "        if item >= max_value:\n",
    "            second_max = max_value\n",
    "            max_value = item\n",
    "        else:\n",
    "            second_max = item\n",
    "\n",
    "print(second_max)"
   ],
   "metadata": {
    "collapsed": false
   }
  },
  {
   "cell_type": "markdown",
   "source": [
    "# continue 与 break\n",
    "continue和break只能在for循环或者while循环中使用，continue的作用是跳过当前循环体内的剩余语句，进入下一次循环；break的作用是立即退出当前所在的循环，程序控制转移至循环的下一条语句。\n",
    "\n",
    "## continue\n",
    "\n",
    "coninue的中文翻译是继续，在循环体里，continue的作用是跳过当前循环的剩余语句，结束本次循环，继续进行下一轮循环，下面用一个简单的例子来演示continue的功能"
   ],
   "metadata": {
    "collapsed": false
   }
  },
  {
   "cell_type": "code",
   "execution_count": 4,
   "outputs": [
    {
     "name": "stdout",
     "output_type": "stream",
     "text": [
      "4\n",
      "6\n",
      "1\n",
      "2\n",
      "9\n",
      "3\n"
     ]
    }
   ],
   "source": [
    "lst = [4, 6, 1, 7, 2, 9, 3]\n",
    "\n",
    "for item in lst:\n",
    "    if item == 7:\n",
    "        continue\n",
    "\n",
    "    print(item)"
   ],
   "metadata": {
    "collapsed": false
   }
  },
  {
   "cell_type": "markdown",
   "source": [
    "程序输出了列表里所有的数据，除了7以外，我们来看看，7为什么没有输出。循环过程中，item依次等于4, 6, 1, 7, 2, 9, 3，每进行一次循环，就按照顺序将一个新的值赋值给item，然后进入循环体里执行代码语句，当item等于7时，表达式 item == 7 成立，于是进入到if 下面的语句块中执行continue，continue的作用是跳过当前循环的剩余语句，结束本次循环，继续进行下一轮循环，当前循环剩余的语句只有一行，是print(item)，continue让程序跳过这行代码，因此没有输出7,下图是程序的流程图\n",
    "\n",
    "![](002.png)\n",
    "\n",
    "## continue 与 if\n",
    "如果你足够细心，或许已经发现一个可疑之处，实现同样的功能，是不是用if也可以啊，没错，continue的作用，可以用if来代替,使用if来重写代码"
   ],
   "metadata": {
    "collapsed": false
   }
  },
  {
   "cell_type": "code",
   "execution_count": null,
   "outputs": [],
   "source": [
    "lst = [4, 6, 1, 7, 2, 9, 3]\n",
    "\n",
    "for item in lst:\n",
    "    if item != 7:\n",
    "        print(item)"
   ],
   "metadata": {
    "collapsed": false
   }
  },
  {
   "cell_type": "markdown",
   "source": [
    "既然如此，continue还有存在的必要么？很有必要，continue的核心作用是跳过当前循环剩余的代码，这对于我们思考问题极有帮助。循环过程中，满足某些条件时我们不希望代码继续执行，这个时候用continue就比用if要好很多，假设一个循环体里有两部分\n",
    "\n",
    "代码块A执行结束后，需要进行一次条件判断以此来决定是否继续执行代码块B，当前的条件是condition, cotinue与if的思路哪个更好，你自己来体会和判断\n",
    "\n",
    "1. continue的思路是，如果当前满足条件condition，代码块B就不执行了，进行下一轮循环，否则执行代码块B\n",
    "2. if的思路是，如果当前条件满足非condition，则执行代码块B，否则不执行，进行下一轮循环\n",
    "唯一的区别是，使用continue时，我们要找跳过代码块B的条件，而使用if 则要找不跳过代码块B的条件，我个人的体会是，找跳过代码块的条件更容易一些，就好比上学时，老师在放学前开玩笑的说：写不完作业，明天就别来上学了，几乎不会有老师说： 写完作业，明天才能来上学，前一个说法更符合我们思考方式。\n",
    "\n",
    "continue让代码更容易理解, continue可以更好的控制代码缩进，同时由于其跳过剩余代码，使得代码也更容易理解和阅读，就上一篇教程《for循环》的最后一个练习题来说，寻找列表里的第2大的值，在没有学习continue之前，示例代码是"
   ],
   "metadata": {
    "collapsed": false
   }
  },
  {
   "cell_type": "code",
   "execution_count": null,
   "outputs": [],
   "source": [
    "lst = [4, 6, 1, 7, 2, 9, 3]\n",
    "\n",
    "max_value = lst[0]\n",
    "second_max = lst[0]\n",
    "\n",
    "for item in lst:\n",
    "    if item > second_max:\n",
    "        if item >= max_value:\n",
    "            second_max = max_value\n",
    "            max_value = item\n",
    "        else:\n",
    "            second_max = item\n",
    "\n",
    "print(second_max)"
   ],
   "metadata": {
    "collapsed": false
   }
  },
  {
   "cell_type": "code",
   "execution_count": null,
   "outputs": [],
   "source": [
    "lst = [4, 6, 1, 7, 2, 9, 3]\n",
    "\n",
    "max_value = lst[0]\n",
    "second_max = lst[0]\n",
    "\n",
    "for item in lst:\n",
    "    # 小于等于second_max,就没有必要继续比较了\n",
    "    if item <= second_max:\n",
    "        continue\n",
    "\n",
    "    if item >= max_value:\n",
    "        second_max = max_value\n",
    "        max_value = item\n",
    "    else:\n",
    "        second_max = item\n",
    "\n",
    "print(second_max)"
   ],
   "metadata": {
    "collapsed": false
   }
  },
  {
   "cell_type": "markdown",
   "source": [
    "当item <= second_max成立时，使用continue跳过剩余的代码，思路更清晰的同时，请注意代码的缩进层次最深为2层，而之前的代码最层为3层，就是这一层之差，就可以让代码更容易阅读，代码的可阅读性十分重要，等你一段代码要写100行时就深有体会。\n",
    "\n",
    "## break\n",
    "\n",
    "满足某个条件时，我们希望能终止循环，这时，你需要使用break语句。不同于continue，break具有很强的破坏力，它的作用是直接停止当前所在的循环，程序控制转移至循环体的下一条语句。\n",
    "\n",
    "请编写代码，从下面这个列表里找出一个大于10的数并输出\n",
    "\n",
    "```python\n",
    "lst = [1, 4, 5, 10, 2, 11, 15]\n",
    "```\n",
    "\n",
    "显然，你需要对这个列表进行遍历，并判断所遍历到的数据是否大于10，如果大于10，则输出，如果按照这个思路去做，你会发现，你输出的数据不只一个"
   ],
   "metadata": {
    "collapsed": false
   }
  },
  {
   "cell_type": "code",
   "execution_count": 6,
   "outputs": [
    {
     "name": "stdout",
     "output_type": "stream",
     "text": [
      "11\n",
      "15\n"
     ]
    }
   ],
   "source": [
    "lst = [1, 4, 5, 10, 2, 11, 15]\n",
    "\n",
    "for item in lst:\n",
    "    if item > 10:\n",
    "        print(item)"
   ],
   "metadata": {
    "collapsed": false
   }
  },
  {
   "cell_type": "code",
   "execution_count": 7,
   "outputs": [
    {
     "name": "stdout",
     "output_type": "stream",
     "text": [
      "11\n"
     ]
    }
   ],
   "source": [
    "st = [1, 4, 5, 10, 2, 11, 15]\n",
    "\n",
    "for item in lst:\n",
    "    if item > 10:\n",
    "        print(item)\n",
    "        break"
   ],
   "metadata": {
    "collapsed": false
   }
  },
  {
   "cell_type": "markdown",
   "source": [
    "# 嵌套循环"
   ],
   "metadata": {
    "collapsed": false
   }
  },
  {
   "cell_type": "code",
   "execution_count": null,
   "outputs": [],
   "source": [
    "for i in range(3):\n",
    "    for j in range(3):\n",
    "        print(i, j)"
   ],
   "metadata": {
    "collapsed": false
   }
  },
  {
   "cell_type": "code",
   "execution_count": null,
   "outputs": [],
   "source": [
    "lst1 = [2, 1, 4, 6, 5]\n",
    "lst2 = [3, 2, 7, 4]\n",
    "lst3 = [4, 5, 2, 3]\n",
    "\n",
    "for i in lst1:\n",
    "    for j in lst2:\n",
    "        for k in lst3:\n",
    "            if i + j + k == 10:\n",
    "                print((i, j, k))"
   ],
   "metadata": {
    "collapsed": false
   }
  },
  {
   "cell_type": "markdown",
   "source": [
    "## 嵌套循环的终止\n",
    "如果循环只有一层，使用break就可以终止循环，但如果循环有两层，事情就变得麻烦"
   ],
   "metadata": {
    "collapsed": false
   }
  },
  {
   "cell_type": "code",
   "execution_count": null,
   "outputs": [],
   "source": [
    "lst1 = [2, 7, 4, 6, 5]\n",
    "lst2 = [3, 2, 7, 4]\n",
    "\n",
    "for i in lst1:\n",
    "    for j in lst2:\n",
    "        if i + j == 10:\n",
    "            print((i, j))\n",
    "            break"
   ],
   "metadata": {
    "collapsed": false
   }
  },
  {
   "cell_type": "code",
   "execution_count": 8,
   "outputs": [
    {
     "name": "stdout",
     "output_type": "stream",
     "text": [
      "(7, 3)\n"
     ]
    }
   ],
   "source": [
    "lst1 = [2, 7, 4, 6, 5]\n",
    "lst2 = [3, 2, 7, 4]\n",
    "\n",
    "stop = False\n",
    "for i in lst1:\n",
    "    for j in lst2:\n",
    "        if i + j == 10:\n",
    "            print((i, j))\n",
    "            stop = True\n",
    "            break\n",
    "\n",
    "    if stop:\n",
    "        break"
   ],
   "metadata": {
    "collapsed": false
   }
  },
  {
   "cell_type": "markdown",
   "source": [
    "# while 循环\n",
    "\n",
    "python中的while语句用于循环执行程序，当给定的判断条件为True时执行循环体，循环体里是一段需要重复执行的代码。每一次执行完循环体都要重新对判断条件进行计算，只有当判断条件为False的时候才会终止循环， 此外，也可以使用break语句终止循环。\n",
    "\n",
    "## python while循环的一般形式\n",
    "\n",
    "```text\n",
    "while 表达式:\n",
    "    代码块\n",
    "```\n",
    "\n",
    "- 只要表达式的结果是True，就会执行循环体里的代码\n",
    "- 当循环体里的代码执行结束后，会再次进行条件判断，如果表达式的结果是True，会继续执行循环体里的代码\n",
    "\n",
    "思考题，下面的代码，会永远执行下去么?\n",
    "\n",
    "```python\n",
    "while True:\n",
    "    print('while')\n",
    "```\n",
    "\n",
    "## for循环与while循环对比\n",
    "\n",
    "for循环，本质上是迭代，在循环之前，你基本上是知道要循环多少次的，但是while循环则不然，有时候你知道要循环多少次，但有些while循环，你根本不知道要循环多少次。"
   ],
   "metadata": {
    "collapsed": false
   }
  },
  {
   "cell_type": "code",
   "execution_count": null,
   "outputs": [],
   "source": [
    "lst = [1,2,3]\n",
    "for item in lst:\n",
    "    print(item)"
   ],
   "metadata": {
    "collapsed": false
   }
  },
  {
   "cell_type": "code",
   "execution_count": null,
   "outputs": [],
   "source": [
    "# 这段代码，你看了，就知道会循环3次，同样是循环遍历lst，用while循环实现一下\n",
    "lst = [1,2,3]\n",
    "\n",
    "index = 0\n",
    "while index < len(lst):\n",
    "    print(lst[index])\n",
    "    index += 1"
   ],
   "metadata": {
    "collapsed": false
   }
  },
  {
   "cell_type": "code",
   "execution_count": null,
   "outputs": [],
   "source": [
    "# 下面的代码，会执行多少次，你就无法知晓了\n",
    "while True:\n",
    "    input_str = input(\"请输入一个正整数，想退出程序请输入 quit:\")\n",
    "    if input_str == \"quit\":\n",
    "        break\n",
    "    number = int(input_str)\n",
    "\n",
    "    if number % 2 == 0:\n",
    "        print(\"你输入的是一个偶数\")\n",
    "    else:\n",
    "        print(\"你输入的是一个奇数\")"
   ],
   "metadata": {
    "collapsed": false
   }
  },
  {
   "cell_type": "markdown",
   "source": [
    "## while练习题\n",
    "\n",
    "### 请使用while循环找出列表里的最大值和最小值，并使用print输出他们\n",
    "\n",
    "```python\n",
    "lst = [3, 6, 1, 8, 10, 3, 20, 13]\n",
    "```\n",
    "\n",
    "while循环同样可以用来遍历列表和元组，这两种容器都有索引，初始化变量index = 0， index < len(lst) 作为while循环的条件，在循环体里，让index += 1， 这样就可以实现对列表的遍历"
   ],
   "metadata": {
    "collapsed": false
   }
  },
  {
   "cell_type": "code",
   "execution_count": null,
   "outputs": [],
   "source": [
    "lst = [3, 6, 1, 8, 10, 3, 20, 13]\n",
    "\n",
    "\n",
    "max_value, min_value = lst[0], lst[0]\n",
    "index = 0\n",
    "while index < len(lst):\n",
    "    tmp = lst[index]\n",
    "    if tmp > max_value:\n",
    "        max_value = tmp\n",
    "\n",
    "    if tmp < min_value:\n",
    "        min_value = tmp\n",
    "\n",
    "    index += 1      # 这行代码千万别忘了,否则就会死循环\n",
    "\n",
    "print((max_value, min_value))"
   ],
   "metadata": {
    "collapsed": false
   }
  },
  {
   "cell_type": "markdown",
   "source": [
    "## while循环存在的意义\n",
    "for循环同样可以实现死循环，根据前面所举的例子来看，似乎while循环能实现的功能，for循环都可以实现，那么，while循环存在的意义是什么呢？肯定存在某种情况，使用while循环比for循环更好，甚至使用for无法实现相同的功能。\n",
    "\n",
    "给你一个整数，要求你计算每一位数字的和，比如整数4352，4 + 3 + 5 + 2 = 14,下面使用while循环来实现这个求和的过程"
   ],
   "metadata": {
    "collapsed": false
   }
  },
  {
   "cell_type": "code",
   "execution_count": 9,
   "outputs": [
    {
     "name": "stdout",
     "output_type": "stream",
     "text": [
      "14\n"
     ]
    }
   ],
   "source": [
    "number = 4352\n",
    "_sum = 0\n",
    "\n",
    "while number > 0:\n",
    "    _sum += number % 10\n",
    "    number //= 10\n",
    "\n",
    "print(_sum)"
   ],
   "metadata": {
    "collapsed": false
   }
  }
 ],
 "metadata": {
  "kernelspec": {
   "display_name": "Python 3",
   "language": "python",
   "name": "python3"
  },
  "language_info": {
   "codemirror_mode": {
    "name": "ipython",
    "version": 2
   },
   "file_extension": ".py",
   "mimetype": "text/x-python",
   "name": "python",
   "nbconvert_exporter": "python",
   "pygments_lexer": "ipython2",
   "version": "2.7.6"
  }
 },
 "nbformat": 4,
 "nbformat_minor": 0
}
