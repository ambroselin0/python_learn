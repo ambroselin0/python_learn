{
 "cells": [
  {
   "cell_type": "markdown",
   "metadata": {},
   "source": [
    "# 判断回文\n",
    "用户输入一个字符串，请判断这个字符串是不是回文，回文是一种对称的字符串，从左向右看和从右向左看是一样的，比如abcba"
   ]
  },
  {
   "cell_type": "code",
   "execution_count": null,
   "metadata": {
    "collapsed": false,
    "jupyter": {
     "outputs_hidden": false
    }
   },
   "outputs": [],
   "source": [
    "def is_palindrome(text: str) -> bool:\n",
    "    pass\n",
    "\n",
    "\n",
    "is_palindrome('aabbccccbbaa')"
   ]
  },
  {
   "cell_type": "markdown",
   "metadata": {},
   "source": [
    "# 星光闪闪\n",
    "输入一个n，例如输入5，则输出\n",
    "```text\n",
    "*\n",
    "**\n",
    "***\n",
    "****\n",
    "*****\n",
    "```"
   ]
  },
  {
   "cell_type": "code",
   "execution_count": null,
   "metadata": {
    "collapsed": false,
    "jupyter": {
     "outputs_hidden": false
    }
   },
   "outputs": [],
   "source": [
    "def star_1(n: int):\n",
    "    pass\n",
    "\n",
    "\n",
    "star_1(5)"
   ]
  },
  {
   "cell_type": "markdown",
   "metadata": {},
   "source": [
    "# 星光闪闪2\n",
    "输入一个n，例如输入5，则输出\n",
    "```text\n",
    "*****\n",
    "****\n",
    "***\n",
    "**\n",
    "*\n",
    "```"
   ]
  },
  {
   "cell_type": "code",
   "execution_count": null,
   "metadata": {
    "collapsed": false,
    "jupyter": {
     "outputs_hidden": false
    }
   },
   "outputs": [],
   "source": [
    "def star_2(n: int):\n",
    "    pass\n",
    "\n",
    "\n",
    "star_2(5)"
   ]
  },
  {
   "cell_type": "markdown",
   "metadata": {},
   "source": [
    "# 星光闪闪3\n",
    "输入一个n，例如输入5，则输出\n",
    "```text\n",
    "*****\n",
    " ****\n",
    "  ***\n",
    "   **\n",
    "    *\n",
    "```"
   ]
  },
  {
   "cell_type": "code",
   "execution_count": null,
   "metadata": {
    "collapsed": false,
    "jupyter": {
     "outputs_hidden": false
    }
   },
   "outputs": [],
   "source": [
    "def star_3(n: int):\n",
    "    pass\n",
    "\n",
    "\n",
    "star_3(6)"
   ]
  },
  {
   "cell_type": "markdown",
   "metadata": {},
   "source": [
    "# 星光闪闪4\n",
    "输入一个n, 例如5，则输出\n",
    "```text\n",
    "    *\n",
    "   **\n",
    "  ***\n",
    " ****\n",
    "*****\n",
    "```"
   ]
  },
  {
   "cell_type": "code",
   "execution_count": null,
   "metadata": {
    "collapsed": false,
    "jupyter": {
     "outputs_hidden": false
    }
   },
   "outputs": [],
   "source": [
    "def star_4(n: int):\n",
    "    pass\n",
    "\n",
    "\n",
    "star_4(4)"
   ]
  },
  {
   "cell_type": "markdown",
   "metadata": {},
   "source": [
    "# 整数翻转\n",
    "请使用while循环获得整数翻转后的结果，比如用户输入12345，程序最后输出54321，不能借助列表。"
   ]
  },
  {
   "cell_type": "code",
   "execution_count": null,
   "metadata": {
    "collapsed": false,
    "jupyter": {
     "outputs_hidden": false
    }
   },
   "outputs": [],
   "source": [
    "def reverse(num: int) -> str:\n",
    "    pass\n",
    "\n",
    "\n",
    "reverse(12345)"
   ]
  },
  {
   "cell_type": "markdown",
   "metadata": {},
   "source": [
    "# 寻找缺失数\n",
    "有一组数字，从0到10, 中减少了一个数，顺序也被打乱，放在一个列表里，请找出丢失的数字。\n",
    "\n",
    "例如:\n",
    "\n",
    "```python\n",
    "lst = [4, 3, 1, 2, 0, 8, 5, 9, 6, 10]\n",
    "```\n",
    "上面的列表就缺少了7"
   ]
  },
  {
   "cell_type": "code",
   "execution_count": null,
   "metadata": {
    "collapsed": false,
    "jupyter": {
     "outputs_hidden": false
    }
   },
   "outputs": [],
   "source": [
    "def find_missing(lst: list) -> int:\n",
    "    pass\n",
    "\n",
    "\n",
    "find_missing([4, 3, 1, 2, 0, 8, 5, 9, 6, 10])"
   ]
  },
  {
   "cell_type": "markdown",
   "metadata": {},
   "source": [
    "# 智能日历第一步，打印12个月\n",
    "你是智能日历的程序员\n",
    "请打印出 1～12月，每月一行"
   ]
  },
  {
   "cell_type": "code",
   "execution_count": null,
   "metadata": {
    "collapsed": false,
    "jupyter": {
     "outputs_hidden": false
    }
   },
   "outputs": [],
   "source": [
    "def print_calendar():\n",
    "    pass\n",
    "\n",
    "\n",
    "print_calendar()"
   ]
  },
  {
   "cell_type": "markdown",
   "metadata": {},
   "source": [
    "# 用 for 循环计算1到n的连乘\n",
    "\n",
    "$ n! = 1 * 2 *... * n$"
   ]
  },
  {
   "cell_type": "code",
   "execution_count": null,
   "metadata": {
    "collapsed": false,
    "jupyter": {
     "outputs_hidden": false
    }
   },
   "outputs": [],
   "source": [
    "def continued_product(n: int) -> int:\n",
    "    pass\n",
    "\n",
    "\n",
    "continued_product(10)"
   ]
  },
  {
   "cell_type": "markdown",
   "metadata": {},
   "source": [
    "# 判断质数\n",
    "质数（Prime number），又称素数，指在大于1的自然数中，除了1和该数自身外，无法被其他自然数整除的数\n",
    "\n",
    "此题的输入最大为10000"
   ]
  },
  {
   "cell_type": "code",
   "execution_count": null,
   "metadata": {
    "collapsed": false,
    "jupyter": {
     "outputs_hidden": false
    }
   },
   "outputs": [],
   "source": [
    "def is_prime_number_1(n: int) -> bool:\n",
    "    pass\n",
    "\n",
    "\n",
    "is_prime_number_1(3)"
   ]
  },
  {
   "cell_type": "markdown",
   "metadata": {},
   "source": [
    "# 判断质数2\n",
    "此题的输入最大为100000000"
   ]
  },
  {
   "cell_type": "code",
   "execution_count": null,
   "metadata": {
    "collapsed": false,
    "jupyter": {
     "outputs_hidden": false
    }
   },
   "outputs": [],
   "source": [
    "def is_prime_number_2(n: int) -> bool:\n",
    "    pass\n",
    "\n",
    "\n",
    "is_prime_number_2(999999999)"
   ]
  },
  {
   "cell_type": "markdown",
   "metadata": {},
   "source": [
    "# 大数相加\n",
    "输入两个数字，长度在0-1000位之间"
   ]
  },
  {
   "cell_type": "code",
   "execution_count": null,
   "metadata": {
    "collapsed": false,
    "jupyter": {
     "outputs_hidden": false
    }
   },
   "outputs": [],
   "source": [
    "def add_number(a: str, b: str) -> str:\n",
    "    pass\n",
    "\n",
    "\n",
    "add_number('1011111111212121', '12131412342364723647267')"
   ]
  },
  {
   "cell_type": "markdown",
   "metadata": {},
   "source": [
    "# 输出 n*n 表\n",
    "共9行9列\n",
    "比如22表就是\n",
    "1 2\n",
    "2 4"
   ]
  },
  {
   "cell_type": "code",
   "execution_count": null,
   "metadata": {
    "collapsed": false,
    "jupyter": {
     "outputs_hidden": false
    }
   },
   "outputs": [],
   "source": [
    "def print_n_n(n: int):\n",
    "    pass\n",
    "\n",
    "\n",
    "print_n_n(10)"
   ]
  },
  {
   "cell_type": "markdown",
   "metadata": {},
   "source": [
    "# 将一个正整数分解质因数"
   ]
  },
  {
   "cell_type": "code",
   "execution_count": null,
   "metadata": {
    "collapsed": false,
    "jupyter": {
     "outputs_hidden": false
    }
   },
   "outputs": [],
   "source": [
    "def get_prime_factor(n: int) -> list:\n",
    "    pass\n",
    "\n",
    "\n",
    "get_prime_factor(16)"
   ]
  },
  {
   "cell_type": "markdown",
   "metadata": {},
   "source": [
    "# 计算和\n",
    "\n",
    "求s=a+aa+aaa+aaaa+aa...a的值，其中a是一个数字。例如输入5的时候5+55+555+5555+55555(此时共有5个数相加，因为输入的是5)，几个数相加由输入控制。\n",
    "输入最小为0，最大为9"
   ]
  },
  {
   "cell_type": "code",
   "execution_count": null,
   "metadata": {
    "collapsed": false,
    "jupyter": {
     "outputs_hidden": false
    }
   },
   "outputs": [],
   "source": [
    "def cal_n_sum(n: int) -> int:\n",
    "    pass\n",
    "\n",
    "\n",
    "cal_n_sum(5)"
   ]
  },
  {
   "cell_type": "markdown",
   "metadata": {},
   "source": [
    "# 提取单词\n",
    "\n",
    "从字符串里提取单词，例如”this is a book“，将单词放到列表里，要求是不能使用split函数"
   ]
  },
  {
   "cell_type": "code",
   "execution_count": null,
   "metadata": {
    "collapsed": false,
    "jupyter": {
     "outputs_hidden": false
    }
   },
   "outputs": [],
   "source": [
    "def extract_word(text: str) -> list:\n",
    "    pass\n",
    "\n",
    "extract_word('hello world')"
   ]
  },
  {
   "cell_type": "markdown",
   "metadata": {},
   "source": [
    "# 第一个只出现一次的字符\n",
    "一个只包含小写字母的字符串，请找出第一个只出现一次的字符，并返回索引，如果这样的字符不存在返回-1，不允许使用字典\n",
    "hint:\n",
    "ord函数可以得到字符串的ascii码，如ord(a)为97， ord(b)为98, ord(z)为122"
   ]
  },
  {
   "cell_type": "code",
   "execution_count": null,
   "metadata": {
    "collapsed": false,
    "jupyter": {
     "outputs_hidden": false
    }
   },
   "outputs": [],
   "source": [
    "def find_first_single_char(text: str) -> str:\n",
    "    pass\n",
    "\n",
    "find_first_single_char('helloworld')"
   ]
  },
  {
   "cell_type": "markdown",
   "source": [
    "# 数字等腰三角形\n",
    "\n",
    "输入5\n",
    "输出\n",
    "\n",
    "```text\n",
    "    *\n",
    "   ***\n",
    "  *****\n",
    " *******\n",
    "*********\n",
    "```"
   ],
   "metadata": {
    "collapsed": false
   }
  },
  {
   "cell_type": "code",
   "execution_count": null,
   "outputs": [],
   "source": [
    "def print_isosceles_triangle(n:int):\n",
    "    pass"
   ],
   "metadata": {
    "collapsed": false
   }
  },
  {
   "cell_type": "markdown",
   "source": [
    "# 100元买鸡\n",
    "手上有100元，公鸡5块钱一只，母鸡3块钱一只，小鸡1块钱3只，请问要花完这些钱，需要买公鸡、母鸡、小鸡各几只？\n",
    "列完所有的可能性"
   ],
   "metadata": {
    "collapsed": false
   }
  },
  {
   "cell_type": "code",
   "execution_count": null,
   "outputs": [],
   "source": [
    "def spend_100():\n",
    "    pass"
   ],
   "metadata": {
    "collapsed": false
   }
  }
 ],
 "metadata": {
  "kernelspec": {
   "display_name": "Python 3 (ipykernel)",
   "language": "python",
   "name": "python3"
  },
  "language_info": {
   "codemirror_mode": {
    "name": "ipython",
    "version": 3
   },
   "file_extension": ".py",
   "mimetype": "text/x-python",
   "name": "python",
   "nbconvert_exporter": "python",
   "pygments_lexer": "ipython3",
   "version": "3.9.16"
  }
 },
 "nbformat": 4,
 "nbformat_minor": 4
}
