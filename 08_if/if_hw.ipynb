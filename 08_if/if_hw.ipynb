{
 "cells": [
  {
   "cell_type": "markdown",
   "source": [
    "## 判断日期是否合法\n",
    "使用input函数接受用户输入，用户输入月份和日期，比如“2023年3月15日”，请写程序判断这个日期是否合法，为了简化编程难度， 只考虑非闰年的情况。以下为输入示例\n",
    "\n",
    "示例1\n",
    "```text\n",
    "输入: 3月15日\n",
    "输出: True\n",
    "```\n",
    "\n",
    "示例2\n",
    "```text\n",
    "输入: 5月32日\n",
    "输出: False\n",
    "```\n",
    "\n",
    "请画出流程图和写出code"
   ],
   "metadata": {
    "collapsed": false
   }
  },
  {
   "cell_type": "code",
   "execution_count": null,
   "outputs": [],
   "source": [
    "def is_date_legal(date: str) -> bool:\n",
    "    \"\"\"\n",
    "    :param date: str, like '2023年3月15日'\n",
    "    :return 如果合法，则返回True，如果不合法则返回False\n",
    "    \"\"\"\n",
    "    pass\n",
    "is_date_legal('2023年3月15日')"
   ],
   "metadata": {
    "collapsed": false
   }
  },
  {
   "cell_type": "markdown",
   "source": [
    "## 判断闰年\n",
    "\n",
    "使用input函数接收用户的输入，用户输入一个年份，请写代码判断这一年是否为闰年，如果是闰年，则输出“xxx 是闰年”,反之输出“xxx 不是闰年”, 闰年的规则如下:\n",
    "\n",
    "不能被4整除的一定不是闰年\n",
    "如果年份能被4整除且不能被100整除，则是闰年\n",
    "如果年份能被4整除，同时又能被100整除，那么要判断它能否被400整除，如果可以则是闰年，否则不是\n",
    "如果是闰年，返回True，如果不是，返回False\n",
    "\n",
    "请画出流程图和写出code"
   ],
   "metadata": {
    "collapsed": false
   }
  },
  {
   "cell_type": "code",
   "execution_count": null,
   "outputs": [],
   "source": [
    "def is_leap_year(year: int) -> bool:\n",
    "    \"\"\"\n",
    "    判断是不是闰年\n",
    "    :param year: int，比如2019\n",
    "    :return: 如果是闰年返回True，如果不是闰年返回False\n",
    "    \"\"\"\n",
    "    pass\n",
    "is_leap_year(2023)"
   ],
   "metadata": {
    "collapsed": false
   }
  },
  {
   "cell_type": "markdown",
   "source": [
    "## 判断日期是否合法2\n",
    "使用input函数接受用户输入，用户输入月份和日期，比如“2023年3月15日”，请写程序判断这个日期是否合法，考虑闰年。以下为输入示例\n",
    "\n",
    "示例1\n",
    "```text\n",
    "输入: 3月15日\n",
    "输出: True\n",
    "```\n",
    "\n",
    "示例2\n",
    "```text\n",
    "输入: 5月32日\n",
    "输出: False\n",
    "```\n",
    "\n",
    "请写出code\n"
   ],
   "metadata": {
    "collapsed": false
   }
  },
  {
   "cell_type": "code",
   "execution_count": null,
   "outputs": [],
   "source": [
    "def is_date_legal2(date: str) -> bool:\n",
    "    \"\"\"\n",
    "    :param date: str, like '2023年3月15日'\n",
    "    :return 如果合法，则返回True，如果不合法则返回False\n",
    "    \"\"\"\n",
    "    pass\n",
    "is_date_legal2('2023年3月15日')"
   ],
   "metadata": {
    "collapsed": false
   }
  },
  {
   "cell_type": "markdown",
   "source": [
    "## 比较三个数大小\n",
    "\n",
    "用户会输入三个数abc，程序输出三个数中最大的一个。\n",
    "\n",
    "不要使用max函数\n"
   ],
   "metadata": {
    "collapsed": false
   }
  },
  {
   "cell_type": "code",
   "execution_count": null,
   "outputs": [],
   "source": [
    "def get_max_from_3_number(a: float, b: float, c: float) -> float:\n",
    "    pass\n",
    "get_max_from_3_number(1, 2, 3)"
   ],
   "metadata": {
    "collapsed": false
   }
  },
  {
   "cell_type": "markdown",
   "source": [
    "## 判断三角形\n",
    "\n",
    "给你三个整数a,b,c, 判断能否以它们为三个边长构成三角形。 若能，返回True，否则输出False。\n",
    "\n",
    "三角形任意两边之和大于第三边\n"
   ],
   "metadata": {
    "collapsed": false
   }
  },
  {
   "cell_type": "code",
   "execution_count": null,
   "outputs": [],
   "source": [
    "def is_triangle(a:float, b:float, c:float)->bool:\n",
    "    pass\n",
    "is_triangle(3, 4, 5)"
   ],
   "metadata": {
    "collapsed": false
   }
  }
 ],
 "metadata": {
  "kernelspec": {
   "display_name": "Python 3",
   "language": "python",
   "name": "python3"
  },
  "language_info": {
   "codemirror_mode": {
    "name": "ipython",
    "version": 2
   },
   "file_extension": ".py",
   "mimetype": "text/x-python",
   "name": "python",
   "nbconvert_exporter": "python",
   "pygments_lexer": "ipython2",
   "version": "2.7.6"
  }
 },
 "nbformat": 4,
 "nbformat_minor": 0
}
