{
 "cells": [
  {
   "cell_type": "markdown",
   "source": [
    "## if\n",
    "\n",
    "从形式上看，if语句可以分为3中形式：\n",
    "\n",
    "if statement\n",
    "if-else\n",
    "if-elif-else"
   ],
   "metadata": {
    "collapsed": false
   }
  },
  {
   "cell_type": "code",
   "execution_count": 2,
   "outputs": [
    {
     "name": "stdout",
     "output_type": "stream",
     "text": [
      "你输入的整数是:2, 它是偶数\n"
     ]
    }
   ],
   "source": [
    "# if statement，这种形式的if语句只有一个if关键字，当满足某个条件时，程序执行对应的逻辑分支。\n",
    "value = input(\"请输入一个正整数:\")\n",
    "i_value = int(value)\n",
    "if i_value % 2 == 0:\n",
    "    print(\"你输入的整数是:{value}, 它是偶数\".format(value=value))"
   ],
   "metadata": {
    "collapsed": false
   }
  },
  {
   "cell_type": "code",
   "execution_count": 5,
   "outputs": [
    {
     "name": "stdout",
     "output_type": "stream",
     "text": [
      "你输入的整数是:2, 它是偶数\n"
     ]
    }
   ],
   "source": [
    "# is-else statement\n",
    "# 如果想对输入的奇数做响应，那么应当使用if-else 这种if语句形式。\n",
    "value = input(\"请输入一个正整数:\")\n",
    "i_value = int(value)\n",
    "if i_value % 2 == 0:\n",
    "    print(\"你输入的整数是:{value}, 它是偶数\".format(value=value))\n",
    "else:\n",
    "    print(\"你输入的整数是:{value}, 它是奇数\".format(value=value))"
   ],
   "metadata": {
    "collapsed": false
   }
  },
  {
   "cell_type": "code",
   "execution_count": 7,
   "outputs": [
    {
     "name": "stdout",
     "output_type": "stream",
     "text": [
      "微冷\n"
     ]
    }
   ],
   "source": [
    "# 当对应多个条件有多个逻辑分支时，则应使用if-elif-else 形式的if语句来处理\n",
    "temperature = input(\"请输入今天的温度:\")\n",
    "temperature = int(temperature)\n",
    "if temperature < 0:\n",
    "    print(\"寒冷\")\n",
    "elif temperature < 15:\n",
    "    print(\"微冷\")\n",
    "elif temperature < 25:\n",
    "    print(\"温暖\")\n",
    "else:\n",
    "    print(\"炎热\")"
   ],
   "metadata": {
    "collapsed": false
   }
  },
  {
   "cell_type": "markdown",
   "source": [
    "## if语句如何判断条件表达式是否成立"
   ],
   "metadata": {
    "collapsed": false
   }
  },
  {
   "cell_type": "code",
   "execution_count": 15,
   "outputs": [],
   "source": [
    "# python的if语句在判断条件表达式是否成立时有自己特殊的规则，我们先来看常规的情况\n",
    "if 5 > 3: # bool\n",
    "    pass"
   ],
   "metadata": {
    "collapsed": false
   }
  },
  {
   "cell_type": "code",
   "execution_count": null,
   "outputs": [],
   "source": [
    "lst = []\n",
    "if lst: # if bool(lst)\n",
    "    print(\"lst不是空列表\")"
   ],
   "metadata": {
    "collapsed": false
   }
  },
  {
   "cell_type": "markdown",
   "source": [
    "## 通过绘制程序的流程图，你能更加清晰的理解程序的执行过程\n",
    "\n",
    "![](001.png)"
   ],
   "metadata": {
    "collapsed": false
   }
  },
  {
   "cell_type": "code",
   "execution_count": null,
   "outputs": [],
   "source": [
    "value = input(\"请输入一个正整数:\")\n",
    "i_value = int(value)\n",
    "if i_value % 2 == 0:\n",
    "    print(\"你输入的整数是:{value}, 它是偶数\".format(value=value))\n",
    "else:\n",
    "    print(\"你输入的整数是:{value}, 它是奇数\".format(value=value))"
   ],
   "metadata": {
    "collapsed": false
   }
  },
  {
   "cell_type": "markdown",
   "source": [
    "使用input函数接收用户的输入，用户输入一种颜色，如果是红色，程序输出“红灯停”,如果是绿色，则输出“绿灯行”,如果是黄色，则输出“等一等”，如果是其他颜色，则输出“无法识别”。\n",
    "\n",
    "![](002.png)"
   ],
   "metadata": {
    "collapsed": false
   }
  },
  {
   "cell_type": "code",
   "execution_count": 20,
   "outputs": [
    {
     "name": "stdout",
     "output_type": "stream",
     "text": [
      "not legal\n"
     ]
    }
   ],
   "source": [
    "color = input(\"Input your color\")\n",
    "if color == 'red':\n",
    "\tprint('stop')\n",
    "else:\n",
    "\tif color == 'green':\n",
    "\t\tprint('go')\n",
    "\telse:\n",
    "\t\tif color == 'yellow':\n",
    "\t\t\tprint('wait')\n",
    "\t\telse:\n",
    "\t\t\tprint('not legal')"
   ],
   "metadata": {
    "collapsed": false
   }
  },
  {
   "cell_type": "code",
   "execution_count": null,
   "outputs": [],
   "source": [
    "value = input(\"输入一种颜色:\")\n",
    "if value == '红色':\n",
    "    print(\"红灯停\")\n",
    "elif value == '绿色':\n",
    "    print(\"绿灯行\")\n",
    "elif value == '黄色':\n",
    "    print(\"等一等\")\n",
    "else:\n",
    "    print(\"无法识别\")"
   ],
   "metadata": {
    "collapsed": false
   }
  },
  {
   "cell_type": "markdown",
   "source": [
    "## if 嵌套\n",
    "\n",
    "使用input函数接收用户的输入，用户输入一个正整数num，对num进行判断，如果num小于50 ，那么则继续判断它能否被3整除，如果能，输出“可以被3整除”，否则输出“不能被3整除”， 如果numd大于等于50，则继续判断能否被5整除，如果能，输出“可以被5整除”，否则输出“不能被5整除”\n",
    "\n",
    "![](003.png)"
   ],
   "metadata": {
    "collapsed": false
   }
  },
  {
   "cell_type": "code",
   "execution_count": 21,
   "outputs": [
    {
     "name": "stdout",
     "output_type": "stream",
     "text": [
      "能被5整除\n"
     ]
    }
   ],
   "source": [
    "n = int(input('enter a number'))\n",
    "if n < 50:\n",
    "    if n % 3 == 0:\n",
    "        print('能被3整除')\n",
    "    else:\n",
    "        print('不能被3整除')\n",
    "elif n >= 50:\n",
    "    if n % 5== 0:\n",
    "        print('能被5整除')\n",
    "    else:\n",
    "        print('不能被5整除')"
   ],
   "metadata": {
    "collapsed": false
   }
  },
  {
   "cell_type": "code",
   "execution_count": null,
   "outputs": [],
   "source": [
    "n = int(input('enter a number'))\n",
    "if (n < 50) and (n % 3 ==0):\n",
    "    print('能被3整除')\n",
    "elif (n < 50) and (n % 3 != 0):\n",
    "    print('不能被3整除')\n",
    "elif (n >= 50) and (n % 5 ==0):\n",
    "    print('能被5整除')\n",
    "elif (n >= 50) and (n % 5 !=0):\n",
    "    print('不能被5整除')\n",
    "else:\n",
    "    raise ValueError"
   ],
   "metadata": {
    "collapsed": false
   }
  },
  {
   "cell_type": "code",
   "execution_count": null,
   "outputs": [],
   "source": [
    "n = int(input('enter a number'))\n",
    "if (n < 50) and (n % 3 == 0):\n",
    "    print('能被3整除')\n",
    "elif n < 50:\n",
    "    print('不能被3整除')\n",
    "elif n % 5 == 0:\n",
    "    print('能被5整除')\n",
    "else :\n",
    "    print('不能被5整除')"
   ],
   "metadata": {
    "collapsed": false
   }
  },
  {
   "cell_type": "code",
   "execution_count": null,
   "outputs": [],
   "source": [
    "num = int(input(\"输入一个数字：\"))\n",
    "if num < 50:\n",
    "    if num % 3 == 0:\n",
    "        print('可以被3整除')\n",
    "    else:\n",
    "        print('不能被3整除')\n",
    "else:\n",
    "    if num % 5 == 0:\n",
    "        print(\"可以被5整除\")\n",
    "    else:\n",
    "        print(\"不能被5整除\")"
   ],
   "metadata": {
    "collapsed": false
   }
  },
  {
   "cell_type": "markdown",
   "source": [
    "使用input函数接收用户的输入，如果输入的数据不可以转换成int类型数据，则输出\"无法使用int函数转换\"，如果可以，则将用户的输入转成int类型数据并继续判断。\n",
    "\n",
    "如果输入数据是奇数，则将其乘以2并输出，如果是偶数，则判断是否能被4整除，如果可以则输出被4整除后的值，若不能被4整数，则判断是否大于20，如果大于20则输出与20的差值，如果小于等于20，则直接输出该值\n",
    "\n",
    "使用字符串的isdigit()方法可以判断一个字符串能否使用int函数转换为int类型数据\n",
    "\n",
    "![](004.png)"
   ],
   "metadata": {
    "collapsed": false
   }
  },
  {
   "cell_type": "code",
   "execution_count": null,
   "outputs": [],
   "source": [
    "value = input(\"请输入一个整数:\")\n",
    "if not value.isdigit():\n",
    "    print('无法使用int函数转换')\n",
    "else:\n",
    "    i_value = int(value)\n",
    "    if i_value % 2 == 1:\n",
    "        print(i_value*2)\n",
    "    elif i_value % 4 == 0:\n",
    "        print(i_value / 4)\n",
    "    elif i_value > 20:\n",
    "        print(i_value - 20)\n",
    "    else:\n",
    "        print(i_value)"
   ],
   "metadata": {
    "collapsed": false
   }
  },
  {
   "cell_type": "code",
   "execution_count": 26,
   "outputs": [
    {
     "name": "stdout",
     "output_type": "stream",
     "text": [
      "18\n"
     ]
    }
   ],
   "source": [
    "value = input(\"put a input:\")\n",
    "if value.isdigit():\n",
    "    n = int(value)\n",
    "    if n % 2 != 0:\n",
    "        print(2*n)\n",
    "    elif n % 4 == 0:\n",
    "        print(n/4)\n",
    "    elif n > 20:\n",
    "        print(n-20)\n",
    "    else:\n",
    "        print(n)\n",
    "else:\n",
    "    print(\"invalid\")"
   ],
   "metadata": {
    "collapsed": false
   }
  },
  {
   "cell_type": "markdown",
   "source": [
    "## if语句流向\n",
    "\n",
    "以判断闰年为例，闰年的判断逻辑总结如下：如果年份是4的整数倍，一般来说是闰年，但如果年份是100的整数倍，那么必须同时是400的整数倍才是闰年。\n",
    "\n",
    "计算机如何判断一个年份是否为4的整数倍呢？\n",
    "\n",
    "首先，在程序里，要将年份存储为int类型的数据，然后对4取模， 假设年份是是2020年，那么对4取模的表达式就是2020 % 4，如果取模的结果是0，那么2020必然是4的整数倍，取模的过程就是除法取余数的过程，小学就已经学过了。"
   ],
   "metadata": {
    "collapsed": false
   }
  },
  {
   "cell_type": "code",
   "execution_count": null,
   "outputs": [],
   "source": [
    "if 2020 % 4 == 0:\n",
    "    pass\n",
    "else:\n",
    "    print('不是闰年')"
   ],
   "metadata": {
    "collapsed": false
   }
  },
  {
   "cell_type": "markdown",
   "source": [
    "以上，我写出了程序的主体结构，如果2020不能被4整除，一定不是闰年，在else语句块里使用print语句输出结果。\n",
    "\n",
    "if语句，elif语句，else语句，形成了多个逻辑分支，就如同一条条通道。每一条通道都有进入的条件，只有符合条件要求时，才能进入，而一旦进入了某一条通道，就要在这个通道里执行下去，直到通道结束。在这个通道里，你的一切思考都建立在进入这个通道的初始条件之上，掌握这一点，你的思绪就不会混乱。\n",
    "\n",
    "现在的程序，只有两个逻辑分支，第一个逻辑分支里，我只写了pass， 这部分内容需要进一步的分析，能否被4整除，决定了进入哪个分支。\n",
    "\n",
    "### 如何决定进入哪个逻辑分支\n",
    "\n",
    "if语句配合elif， else 可以构成多个逻辑分支，在一个逻辑分支内，又可以编写if语句，形成嵌套，那么程序在执行时，如何决定进入哪个逻辑分支呢？\n",
    "\n",
    "关于这个问题，要把握住以下两点\n",
    "\n",
    "1. 程序由上至下，顺序执行\n",
    "2. 同一个层级的逻辑分支，最多只会进入其中一个"
   ],
   "metadata": {
    "collapsed": false
   }
  },
  {
   "cell_type": "code",
   "execution_count": null,
   "outputs": [],
   "source": [
    "# 不能被100整除的分支\n",
    "# 在年份可以被4整除的这个分支里，继续考虑年份能否被100整除，如果不能被100整除，那必然是闰年了。\n",
    "if 2020 % 4 == 0:\n",
    "    if 2020 % 100 == 0:\n",
    "        pass\n",
    "    else:\n",
    "        print('是闰年')\n",
    "else:\n",
    "    print('不是闰年')"
   ],
   "metadata": {
    "collapsed": false
   }
  },
  {
   "cell_type": "code",
   "execution_count": null,
   "outputs": [],
   "source": [
    "# 能被100整除的分支\n",
    "# 如果可以被100整除呢，还要考虑能否被400整除，这样，又新创建出两个逻辑分支。\n",
    "if 2020 % 4 == 0:\n",
    "    if 2020 % 100 == 0:\n",
    "        if 2020 % 400 == 0:\n",
    "            print('是闰年')\n",
    "        else:\n",
    "            print('不是闰年')\n",
    "    else:\n",
    "        print('是闰年')\n",
    "else:\n",
    "    print('不是闰年')"
   ],
   "metadata": {
    "collapsed": false
   }
  }
 ],
 "metadata": {
  "kernelspec": {
   "display_name": "Python 3",
   "language": "python",
   "name": "python3"
  },
  "language_info": {
   "codemirror_mode": {
    "name": "ipython",
    "version": 2
   },
   "file_extension": ".py",
   "mimetype": "text/x-python",
   "name": "python",
   "nbconvert_exporter": "python",
   "pygments_lexer": "ipython2",
   "version": "2.7.6"
  }
 },
 "nbformat": 4,
 "nbformat_minor": 0
}
