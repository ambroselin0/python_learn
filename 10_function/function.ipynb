{
 "cells": [
  {
   "cell_type": "markdown",
   "source": [
    "## 函数可以解决这种重复性的操作"
   ],
   "metadata": {
    "collapsed": false
   }
  },
  {
   "cell_type": "code",
   "execution_count": null,
   "outputs": [],
   "source": [
    "# 遍历这两个列表\n",
    "lst1 = [1, 4, 2, 5]\n",
    "lst2 = ['a', 'c', 'd', 'e']"
   ],
   "metadata": {
    "collapsed": false
   }
  },
  {
   "cell_type": "code",
   "execution_count": 1,
   "outputs": [
    {
     "name": "stdout",
     "output_type": "stream",
     "text": [
      "1\n",
      "4\n",
      "2\n",
      "5\n",
      "a\n",
      "c\n",
      "d\n",
      "e\n"
     ]
    }
   ],
   "source": [
    "lst1 = [1, 4, 2, 5]\n",
    "lst2 = ['a', 'c', 'd', 'e']\n",
    "\n",
    "for item in lst1:\n",
    "    print(item)\n",
    "\n",
    "for item in lst2:\n",
    "    print(item)"
   ],
   "metadata": {
    "collapsed": false
   }
  },
  {
   "cell_type": "code",
   "execution_count": 2,
   "outputs": [
    {
     "name": "stdout",
     "output_type": "stream",
     "text": [
      "1\n",
      "4\n",
      "2\n",
      "5\n",
      "a\n",
      "c\n",
      "d\n",
      "e\n"
     ]
    }
   ],
   "source": [
    "lst1 = [1, 4, 2, 5]\n",
    "lst2 = ['a', 'c', 'd', 'e']\n",
    "\n",
    "\n",
    "def iter_print_lst(lst):\n",
    "    for item in lst:\n",
    "        print(item)\n",
    "\n",
    "\n",
    "iter_print_lst(lst1)\n",
    "iter_print_lst(lst2)"
   ],
   "metadata": {
    "collapsed": false
   }
  },
  {
   "cell_type": "markdown",
   "source": [
    "# python函数的定义与调用\n",
    "在python中 ，函数是一个组织好的 ，可以重复使用的代码段 ，函数可以提高代码的重复利用率 ，原则上一个函数只实现一个单一的功能 ，这样能增强程序的模块性， python有许多的内置函数可供你使用， 你也可以自己定义函数，这通常被称之为自定义函数\n",
    "\n",
    "## 函数的定义\n",
    "\n",
    "```text\n",
    "def 函数名（参数列表）:\n",
    "    函数体\n",
    "```\n",
    "\n",
    "关于下面这段代码，你要记住下面3个结论\n",
    "\n",
    "1. 函数可以没有参数\n",
    "2. 函数的参数可以是一个，也可以是多个\n",
    "3. pass的作用相当于占位符，没有实际作用"
   ],
   "metadata": {
    "collapsed": false
   }
  },
  {
   "cell_type": "code",
   "execution_count": null,
   "outputs": [],
   "source": [
    "def hello_word():\n",
    "    pass\n",
    "\n",
    "def print_diamond(count):\n",
    "    pass\n",
    "\n",
    "def get_max(a, b, c):\n",
    "    pass"
   ],
   "metadata": {
    "collapsed": false
   }
  },
  {
   "cell_type": "markdown",
   "source": [
    "## 函数的调用"
   ],
   "metadata": {
    "collapsed": false
   }
  },
  {
   "cell_type": "code",
   "execution_count": 4,
   "outputs": [
    {
     "name": "stdout",
     "output_type": "stream",
     "text": [
      "hello world\n"
     ]
    }
   ],
   "source": [
    "# 定义并调用没有参数的函数\n",
    "def hello_word():\n",
    "    print('hello world')\n",
    "\n",
    "hello_word()"
   ],
   "metadata": {
    "collapsed": false
   }
  },
  {
   "cell_type": "code",
   "execution_count": 29,
   "outputs": [
    {
     "name": "stdout",
     "output_type": "stream",
     "text": [
      "    *\n",
      "   ***\n",
      "  *****\n",
      " *******\n",
      "*********\n",
      " *******\n",
      "  *****\n",
      "   ***\n",
      "    *\n"
     ]
    }
   ],
   "source": [
    "# 定义并调用有一个参数的函数\n",
    "def print_diamond(count):\n",
    "    \"\"\"\n",
    "    输出菱形\n",
    "    \"\"\"\n",
    "    for i in range(count):\n",
    "        if i <= count//2 - 1:\n",
    "            print(\" \"*(count//2-i)  + \"*\"*(2*i + 1))\n",
    "        else:\n",
    "            print(\" \"*(i - count//2)  + \"*\"*((count-i)*2-1))\n",
    "\n",
    "print_diamond(9)"
   ],
   "metadata": {
    "collapsed": false
   }
  },
  {
   "cell_type": "code",
   "execution_count": 37,
   "outputs": [
    {
     "name": "stdout",
     "output_type": "stream",
     "text": [
      "23\n"
     ]
    }
   ],
   "source": [
    "# 定义并调用有三个参数的函数\n",
    "try:\n",
    "    del max_num\n",
    "except:\n",
    "    pass\n",
    "def get_max(a, b, c):\n",
    "    max_num = a\n",
    "    if b > max_num:\n",
    "        max_num = b\n",
    "\n",
    "    if c > max_num:\n",
    "        max_num = c\n",
    "\n",
    "    return max_num\n",
    "\n",
    "max_number = get_max(22, 23, 21)\n",
    "print(max_number)"
   ],
   "metadata": {
    "collapsed": false
   }
  },
  {
   "cell_type": "markdown",
   "source": [
    "## 函数的返回值\n",
    "get_max这个函数的功能是找出a, b, c三个数据中的最大值，获得最大值后，使用return 语句将max_number返回，max_number就是函数get_max的返回值，这个返回值最终赋值给变量max_num。\n",
    "\n",
    "return的作用是退出函数并返回函数的返回值，任何时候，只要执行了return语句就一定会退出函数。"
   ],
   "metadata": {
    "collapsed": false
   }
  },
  {
   "cell_type": "code",
   "execution_count": 38,
   "outputs": [
    {
     "name": "stdout",
     "output_type": "stream",
     "text": [
      "hello world\n",
      "None\n"
     ]
    }
   ],
   "source": [
    "def hello_word():\n",
    "    print('hello world')\n",
    "    return None\n",
    "\n",
    "res = hello_word()\n",
    "print(res)"
   ],
   "metadata": {
    "collapsed": false
   }
  },
  {
   "cell_type": "code",
   "execution_count": 43,
   "outputs": [
    {
     "name": "stdout",
     "output_type": "stream",
     "text": [
      "None\n"
     ]
    }
   ],
   "source": [
    "lst = [2, 1, 3]\n",
    "lst = lst.sort()\n",
    "print(lst)"
   ],
   "metadata": {
    "collapsed": false
   }
  },
  {
   "cell_type": "markdown",
   "source": [
    "尽管函数hello_word没有使用return语句，但仍然会有返回值，这种情况下，函数默认返回None\n",
    "\n",
    "python的函数允许一次返回多个结果"
   ],
   "metadata": {
    "collapsed": false
   }
  },
  {
   "cell_type": "code",
   "execution_count": 45,
   "outputs": [
    {
     "name": "stdout",
     "output_type": "stream",
     "text": [
      "(1, 2) <class 'tuple'>\n",
      "1 2\n"
     ]
    }
   ],
   "source": [
    "def return_tuple():\n",
    "    return 1, 2\n",
    "\n",
    "res = return_tuple()\n",
    "a, b = return_tuple()\n",
    "print(res, type(res))\n",
    "print(a, b)"
   ],
   "metadata": {
    "collapsed": false
   }
  },
  {
   "cell_type": "markdown",
   "source": [
    "# python中的None\n",
    "\n",
    "None在python中是一个特殊的对象，它表示空值，其类型为NoneType"
   ],
   "metadata": {
    "collapsed": false
   }
  },
  {
   "cell_type": "code",
   "execution_count": 46,
   "outputs": [
    {
     "data": {
      "text/plain": "NoneType"
     },
     "execution_count": 46,
     "metadata": {},
     "output_type": "execute_result"
    }
   ],
   "source": [
    "type(None)"
   ],
   "metadata": {
    "collapsed": false
   }
  },
  {
   "cell_type": "markdown",
   "source": [
    "None不支持任何运算，也没有内建方法，除了表示空以外，什么都做不了。\n",
    "\n",
    "如果要判断一个对象是否为None,使用is身份运算符"
   ],
   "metadata": {
    "collapsed": false
   }
  },
  {
   "cell_type": "code",
   "execution_count": 48,
   "outputs": [
    {
     "data": {
      "text/plain": "True"
     },
     "execution_count": 48,
     "metadata": {},
     "output_type": "execute_result"
    }
   ],
   "source": [
    "a = None\n",
    "a is None"
   ],
   "metadata": {
    "collapsed": false
   }
  },
  {
   "cell_type": "markdown",
   "source": [
    "如果一个函数，没有显式return任何数据，则默认返回None。\n",
    "\n",
    "在判断语句中，None等价于False"
   ],
   "metadata": {
    "collapsed": false
   }
  },
  {
   "cell_type": "code",
   "execution_count": 49,
   "outputs": [
    {
     "data": {
      "text/plain": "False"
     },
     "execution_count": 49,
     "metadata": {},
     "output_type": "execute_result"
    }
   ],
   "source": [
    "a = None\n",
    "bool(a)"
   ],
   "metadata": {
    "collapsed": false
   }
  },
  {
   "cell_type": "markdown",
   "source": [
    "# python函数的4类参数\n",
    "\n",
    "python函数的参数可以分为位置参数，默认参数，关键字参数，可变参数，函数可以没有参数，也可以有多个参数，参数是传递给函数的命名变量。\n",
    "\n",
    "## 形参和实参\n",
    "\n",
    "所谓形参，就是函数定义中的参数，形参在函数体内可以使用\n",
    "\n",
    "而实参，则出现在调用过程中，这两个概念不必刻意去记忆\n",
    "\n",
    "下面的代码中，函数定义中的count就是形参，而最后一行的代码中，11就是实参，形参代表一种形式，实参，是实际的具体的起作用的数据。"
   ],
   "metadata": {
    "collapsed": false
   }
  },
  {
   "cell_type": "code",
   "execution_count": null,
   "outputs": [],
   "source": [
    "def print_diamond(count):\n",
    "    for i in range(count):\n",
    "        if i <= count//2:\n",
    "            print(\" \"*(count//2-i)  + \"*\"*(2*i + 1))\n",
    "        else:\n",
    "            print(\" \"*(i - count//2)  + \"*\"*((count-i)*2-1))\n",
    "\n",
    "print_diamond(11)"
   ],
   "metadata": {
    "collapsed": false
   }
  },
  {
   "cell_type": "markdown",
   "source": [
    "## 必传参数(位置参数)\n",
    "\n",
    "下面定义的my_print函数里有两个参数，content 和count，他们都是必传参数，在调用函数时，必须传入两个值，否则就会报错，下面演示一种错误的调用方法"
   ],
   "metadata": {
    "collapsed": false
   }
  },
  {
   "cell_type": "code",
   "execution_count": 50,
   "outputs": [
    {
     "name": "stdout",
     "output_type": "stream",
     "text": [
      "ok\n",
      "ok\n"
     ]
    }
   ],
   "source": [
    "def my_print(content, count):\n",
    "    for i in range(count):\n",
    "        print(content)\n",
    "\n",
    "my_print('ok', 2)"
   ],
   "metadata": {
    "collapsed": false
   }
  },
  {
   "cell_type": "code",
   "execution_count": 51,
   "outputs": [
    {
     "ename": "TypeError",
     "evalue": "my_print() missing 1 required positional argument: 'count'",
     "output_type": "error",
     "traceback": [
      "\u001B[0;31m---------------------------------------------------------------------------\u001B[0m",
      "\u001B[0;31mTypeError\u001B[0m                                 Traceback (most recent call last)",
      "Cell \u001B[0;32mIn[51], line 5\u001B[0m\n\u001B[1;32m      2\u001B[0m     \u001B[38;5;28;01mfor\u001B[39;00m i \u001B[38;5;129;01min\u001B[39;00m \u001B[38;5;28mrange\u001B[39m(count):\n\u001B[1;32m      3\u001B[0m         \u001B[38;5;28mprint\u001B[39m(content)\n\u001B[0;32m----> 5\u001B[0m \u001B[43mmy_print\u001B[49m\u001B[43m(\u001B[49m\u001B[38;5;124;43m'\u001B[39;49m\u001B[38;5;124;43mok\u001B[39;49m\u001B[38;5;124;43m'\u001B[39;49m\u001B[43m)\u001B[49m\n",
      "\u001B[0;31mTypeError\u001B[0m: my_print() missing 1 required positional argument: 'count'"
     ]
    }
   ],
   "source": [
    "def my_print(content, count):\n",
    "    for i in range(count):\n",
    "        print(content)\n",
    "\n",
    "my_print('ok')"
   ],
   "metadata": {
    "collapsed": false
   }
  },
  {
   "cell_type": "markdown",
   "source": [
    "## 默认参数\n",
    "my_print函数根据count参数输出指定次数的content，我希望在两次输出的空档可以暂停一段时间，因此增加一个sleep参数\n",
    "\n",
    "在调用函数时，并没有传sleep这个形参，程序并没有报错，这是因为在定义函数的时候，给了sleep形参默认值1，这意味着，如果调用函数时没有传这个参数，python会用默认值来执行函数。默认值参数非常用有用，假设你在系统里的很多地方都使用最开始定义的my_print函数"
   ],
   "metadata": {
    "collapsed": false
   }
  },
  {
   "cell_type": "code",
   "execution_count": 52,
   "outputs": [
    {
     "name": "stdout",
     "output_type": "stream",
     "text": [
      "ok\n",
      "ok\n"
     ]
    }
   ],
   "source": [
    "import time\n",
    "\n",
    "def my_print(content, count, sleep=1):\n",
    "    for i in range(count):\n",
    "        print(content)\n",
    "        time.sleep(sleep)\n",
    "\n",
    "my_print('ok', 2)"
   ],
   "metadata": {
    "collapsed": false
   }
  },
  {
   "cell_type": "code",
   "execution_count": 53,
   "outputs": [
    {
     "ename": "SyntaxError",
     "evalue": "non-default argument follows default argument (3246336871.py, line 3)",
     "output_type": "error",
     "traceback": [
      "\u001B[0;36m  Cell \u001B[0;32mIn[53], line 3\u001B[0;36m\u001B[0m\n\u001B[0;31m    def my_print(content, sleep=1, count):\u001B[0m\n\u001B[0m                                        ^\u001B[0m\n\u001B[0;31mSyntaxError\u001B[0m\u001B[0;31m:\u001B[0m non-default argument follows default argument\n"
     ]
    }
   ],
   "source": [
    "import time\n",
    "\n",
    "def my_print(content, sleep=1, count):\n",
    "    for i in range(count):\n",
    "        print(content)\n",
    "        time.sleep(sleep)\n",
    "\n",
    "my_print('ok', 2)"
   ],
   "metadata": {
    "collapsed": false
   }
  },
  {
   "cell_type": "markdown",
   "source": [
    "## 关键字参数\n",
    "关键字参数不是一个出现在函数定义时的概念，而是一个出现在函数调用时的概念。"
   ],
   "metadata": {
    "collapsed": false
   }
  },
  {
   "cell_type": "code",
   "execution_count": 54,
   "outputs": [
    {
     "name": "stdout",
     "output_type": "stream",
     "text": [
      "关键字参数\n",
      "关键字参数\n"
     ]
    }
   ],
   "source": [
    "import time\n",
    "\n",
    "\n",
    "def my_print(content, count, sleep=1):\n",
    "    for i in range(count):\n",
    "        print(content)\n",
    "        time.sleep(sleep)\n",
    "\n",
    "my_print(count=2, content='关键字参数', sleep=2)"
   ],
   "metadata": {
    "collapsed": false
   }
  },
  {
   "cell_type": "code",
   "execution_count": 56,
   "outputs": [
    {
     "name": "stdout",
     "output_type": "stream",
     "text": [
      "2\n",
      "2\n"
     ]
    }
   ],
   "source": [
    "my_print('2', sleep=2, count=2)"
   ],
   "metadata": {
    "collapsed": false
   }
  },
  {
   "cell_type": "markdown",
   "source": [
    "# 函数存在的意义\n",
    "\n",
    "## 代码重用\n",
    "\n",
    "函数存在的一个非常明显的作用和意义就是代码重用。没有代码重用，编程人员就会被活活累死，费尽千辛万苦写出来的代码只能使用一次，有类似的功能需要完成时，不得不重头开始写起。下面就用一个特别简单的例子来向你阐明代码重用的重要性。"
   ],
   "metadata": {
    "collapsed": false
   }
  },
  {
   "cell_type": "code",
   "execution_count": 57,
   "outputs": [
    {
     "name": "stdout",
     "output_type": "stream",
     "text": [
      "['bool.ipynb', 'number.ipynb']\n"
     ]
    }
   ],
   "source": [
    "import os\n",
    "\n",
    "file_lst = os.listdir('../01_number&bool')\n",
    "ipy_file_lst = []\n",
    "\n",
    "for file_name in file_lst:\n",
    "    if file_name.endswith('.ipynb'):\n",
    "        ipy_file_lst.append(file_name)\n",
    "\n",
    "print(ipy_file_lst)"
   ],
   "metadata": {
    "collapsed": false
   }
  },
  {
   "cell_type": "markdown",
   "source": [
    "上面这段代码可以获取指定文件夹下的所有文件名称，我使用一个for循环挑选出所有以.ipynb结尾的文件，这样就获取到了指定目录下的所有notebook脚本。仅从功能实现上来看，代码没有任何问题，问题出在这段代码无法被重用。如果下一次你希望获取另一个文件夹下的notebook脚本，该怎么办呢，修改这段代码？ 如果下一次你想获取指定目录下的所有word文档，又该怎么办呢？\n",
    "\n",
    "你应该注意到，至少有两个维度在发生变化时会导致这段代码无法被重用，这时，可以使用函数\n",
    "\n",
    "\n",
    "一旦使用了函数，上面的问题就迎刃而解了，不管是文件夹发生了变化，还是想要获取的文件类型发生了变化，函数体里的代码都不需要修改，只需要在调用函数时传入期望的参数就可以了。写好了这段代码，就可以通过引入模块的方式来调用你的代码。"
   ],
   "metadata": {
    "collapsed": false
   }
  },
  {
   "cell_type": "code",
   "execution_count": 58,
   "outputs": [
    {
     "name": "stdout",
     "output_type": "stream",
     "text": [
      "['bool.ipynb', 'number.ipynb']\n"
     ]
    }
   ],
   "source": [
    "import os\n",
    "\n",
    "\n",
    "def get_file(file_path, suffix):\n",
    "    file_lst = os.listdir(file_path)\n",
    "    target_file_lst = []\n",
    "\n",
    "    for file_name in file_lst:\n",
    "        if file_name.endswith(suffix):\n",
    "            target_file_lst.append(file_name)\n",
    "\n",
    "    return target_file_lst\n",
    "\n",
    "\n",
    "py_file_lst = get_file('../01_number&bool', '.ipynb')\n",
    "print(py_file_lst)"
   ],
   "metadata": {
    "collapsed": false
   }
  },
  {
   "cell_type": "markdown",
   "source": [
    "# 函数学习要点\n",
    "\n",
    "## 函数定义\n",
    "\n",
    "函数的定义由4部分组成\n",
    "\n",
    "1. def 关键字\n",
    "2. 函数名称\n",
    "3. 函数参数\n",
    "4. 函数体\n",
    "\n",
    "```python\n",
    "def add(a, b):\n",
    "    return a + b\n",
    "```\n",
    "\n",
    "函数体是指函数内部的代码，在上面的示例中，函数体内只有一行代码 return a + b\n",
    "\n",
    "## 函数执行\n",
    "\n",
    "使用def定义函数后，仅仅是定义了一个函数，这段代码什么也做不了，函数只有被执行，被调用才能运行函数体里的代码。而被执行，被调用的方式就是在函数名称后面加上一对小括号并传入相应的参数。\n",
    "\n",
    "```python\n",
    "add(1, 4)\n",
    "```\n",
    "\n",
    "理解这段代码，要明确以下几点：\n",
    "\n",
    "1. add 是我们刚刚定义的函数\n",
    "2. add 后面加一对小括号，是在调用执行函数add，你可以引申为执行函数add函数体里面的代码\n",
    "3. 函数add 在定义时，定义了参数 a, b， 因此，在调用执行时必须明确告知a，b分别是什么\n",
    "4. a = 1, b = 4， a + b = 5, return将这个结果返回\n",
    "\n",
    "## 正确理解返回值\n",
    "\n",
    "结论是，任何函数都有返回值。很多人不能理解返回值，究其根本，是因为还不能理解为什么要定义一个函数，不理解函数存在的意义。\n",
    "\n",
    "以前面所定义的函数 add为例，这个函数的功能是计算两个数的和，当执行代码 add(1, 4)时就是在计算1 + 4的和， 这个和等于5，函数的return语句把结果5返回\n",
    "\n",
    "```python\n",
    "num = add(1, 4)\n",
    "print(num)\n",
    "```\n",
    "在这个示例中，add函数的返回值是5， 并最终赋值给变量num， 如果函数没有返回值，那么我们怎么知道add(1, 4)的结果呢？\n",
    "\n",
    "## 正确理解return语句\n",
    "一旦遇到return语句，函数就结束了，这一点是很多人都忽略的一个事情，在还不能完全理解掌握函数之前，你不妨先死记硬背，return的作用就是结束函数的执行并且返回结果。\n",
    "\n",
    "如果函数里没有return语句，或者有return语句但执行过程中所走的逻辑分支里没有遇到return， 函数最终会默认返回None作为函数的返回值，因此任何函数都有返回值。\n",
    "\n",
    "## 理解参数的意义\n",
    "\n",
    "```python\n",
    "def add(a, b):\n",
    "    return a + b\n",
    "\n",
    "print(add(1, 4))   # a=1, b=4\n",
    "print(add(5, 4))   # a=5, b=4\n",
    "```"
   ],
   "metadata": {
    "collapsed": false
   }
  },
  {
   "cell_type": "markdown",
   "source": [
    "# 正确理解python的赋值语句\n",
    "\n",
    "普通的赋值语句是极容易理解的，比如下面的这些示例\n",
    "\n",
    "```python\n",
    "a = 5\n",
    "b = [4, 5, 8]\n",
    "```\n",
    "\n",
    "赋值语句的左侧是变量，右侧是具体的数值，这是最简单的赋值语句，也是最初接触变量这个概念时所学习的，然而随着难度的增加，渐渐的，有些赋值语句让你的思维变得混乱，下面举几个具体的例子，来强化对赋值语句的理解\n",
    "\n",
    "## a = a + 1\n",
    "\n",
    "```python\n",
    "a = 3\n",
    "a = a + 1\n",
    "```\n",
    "\n",
    "a 最后的值为4， 这个结果不难理解，难在深刻的理解，第一行代码，我们将3这值赋值给a， 第二行代码，是将a + 1 的结果赋值给a， 对于赋值语句，我们永远先关注等号的右侧，不要让等号的左侧影响到思考。等号的右侧是 a + 1，它是一个简单的表达式。表达式必然有结果，a + 1 = 3 + 1 = 4，等号右侧表达式的结果是4，最后将4赋值给a， 这就是代码a = a + 1的执行过程，先计算等号右侧的表达式，然后将表达式的结果赋值给等号左侧的变量\n",
    "\n",
    "## 等号右侧是函数\n",
    "\n",
    "```python\n",
    "def add(x, y):\n",
    "    return x + y\n",
    "\n",
    "a = add(3, 4)\n",
    "print(a)        # 7\n",
    "```\n",
    "变量a 的值等于7， 不论等号右侧是什么，我们都要先计算等号右侧，在这个例子中，等号右侧是什么呢？等号的右侧调用执行函数add，函数都是有返回值的，因此等号右侧是函数add被调用后的返回值。函数add传入的参数是3 和 4 ，函数的返回值是7 ，等号右侧执行函数，得到的返回值是7，将7赋值给变量a\n",
    "\n",
    "## 等号右侧是包含函数的表达式\n",
    "\n",
    "```python\n",
    "def add(x, y):\n",
    "    return x + y\n",
    "\n",
    "a = add(3, 4) + 7\n",
    "print(a)        # 14\n",
    "```\n",
    "和前面的例子一样，这一次，仍然先看等号右侧，等号右侧是add(3, 4) + 7， 函数都有返回结果，只要看到函数被调用，被执行，你就必须想到它有返回结果，并且计算出它的返回结果，add(3, 4) = 7, add(3, 4) + 7 = 7 + 7 = 14，将14赋值给变量a。\n",
    "\n",
    "```python\n",
    "def add(x, y):\n",
    "    return x + y\n",
    "\n",
    "a = 3\n",
    "a = add(a, 4) + 7\n",
    "print(a)        # 14\n",
    "```\n",
    "\n",
    "还是先看等号右侧，add(a, 4) + 7， 先计算add(a, 4) = add(3, 4) = 7 , add(a, 4) + 7 = 7 + 7 = 14， 最后将14赋值给变量a"
   ],
   "metadata": {
    "collapsed": false
   }
  }
 ],
 "metadata": {
  "kernelspec": {
   "display_name": "Python 3",
   "language": "python",
   "name": "python3"
  },
  "language_info": {
   "codemirror_mode": {
    "name": "ipython",
    "version": 2
   },
   "file_extension": ".py",
   "mimetype": "text/x-python",
   "name": "python",
   "nbconvert_exporter": "python",
   "pygments_lexer": "ipython2",
   "version": "2.7.6"
  }
 },
 "nbformat": 4,
 "nbformat_minor": 0
}
