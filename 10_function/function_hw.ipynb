{
 "cells": [
  {
   "cell_type": "code",
   "execution_count": null,
   "metadata": {
    "collapsed": true
   },
   "outputs": [],
   "source": [
    "## 求列表最大值\n",
    "def get_max(lst):\n",
    "    \"\"\"\n",
    "    返回列表lst的最大值\n",
    "    :param lst:\n",
    "    :return:\n",
    "    \"\"\"\n",
    "    pass\n",
    "\n",
    "\n",
    "lst = [4, 2, 1, 6, 7, 9]\n",
    "max_value = get_max(lst)\n",
    "print(max_value)"
   ]
  },
  {
   "cell_type": "code",
   "execution_count": null,
   "outputs": [],
   "source": [
    "# 求学生最高分数科目和分数\n",
    "def get_max_socre(score_dic):\n",
    "    \"\"\"\n",
    "    返回学生考试成绩的最高分的科目和分数\n",
    "    :param score_dic:\n",
    "    :return:\n",
    "    \"\"\"\n",
    "    pass\n",
    "\n",
    "dic = {\n",
    "    '语文': 90,\n",
    "    '数学': 97,\n",
    "    '英语': 98\n",
    "}\n",
    "\n",
    "course, score = get_max_socre(dic)\n",
    "print(course, score)"
   ],
   "metadata": {
    "collapsed": false
   }
  },
  {
   "cell_type": "markdown",
   "source": [
    "# 打印九九乘法表\n",
    "\n",
    "在屏幕上输出九九乘法表\n",
    "\n",
    "```text\n",
    "1*1 = 1\n",
    "1*2 = 2  2*2 = 4\n",
    "1*3 = 3  2*3 = 6  3*3 = 9\n",
    "1*4 = 4  2*4 = 8  3*4 = 12  4*4 = 16\n",
    "1*5 = 5  2*5 = 10  3*5 = 15  4*5 = 20  5*5 = 25\n",
    "1*6 = 6  2*6 = 12  3*6 = 18  4*6 = 24  5*6 = 30  6*6 = 36\n",
    "1*7 = 7  2*7 = 14  3*7 = 21  4*7 = 28  5*7 = 35  6*7 = 42  7*7 = 49\n",
    "1*8 = 8  2*8 = 16  3*8 = 24  4*8 = 32  5*8 = 40  6*8 = 48  7*8 = 56  8*8 = 64\n",
    "1*9 = 9  2*9 = 18  3*9 = 27  4*9 = 36  5*9 = 45  6*9 = 54  7*9 = 63  8*9 = 72  9*9 = 81\n",
    "```"
   ],
   "metadata": {
    "collapsed": false
   }
  },
  {
   "cell_type": "code",
   "execution_count": null,
   "outputs": [],
   "source": [
    "def print_line(line_number):\n",
    "    pass\n",
    "\n",
    "\n",
    "def print_table():\n",
    "    pass\n",
    "\n",
    "print_table()"
   ],
   "metadata": {
    "collapsed": false
   }
  },
  {
   "cell_type": "code",
   "execution_count": null,
   "outputs": [],
   "source": [
    "# 水仙花数\n",
    "# 输出所有的水仙花数，所谓水仙花数是指一个三位数，各个位上的数的立方相加在一起等于这个三位数，比如153，1的3次方 + 5的三次方 + 3的三次方 等于153\n",
    "\n",
    "def get_numbers():\n",
    "    pass"
   ],
   "metadata": {
    "collapsed": false
   }
  },
  {
   "cell_type": "code",
   "execution_count": null,
   "outputs": [],
   "source": [
    "# 完全平方数\n",
    "# 完全平方数，就是可以表示为某个整数的平方的数，例如9，是3的平方，16是4的平方，9和16都是完全平方数，请打印10000以内的完全平方数"
   ],
   "metadata": {
    "collapsed": false
   }
  },
  {
   "cell_type": "code",
   "execution_count": null,
   "outputs": [],
   "source": [],
   "metadata": {
    "collapsed": false
   }
  }
 ],
 "metadata": {
  "kernelspec": {
   "display_name": "Python 3",
   "language": "python",
   "name": "python3"
  },
  "language_info": {
   "codemirror_mode": {
    "name": "ipython",
    "version": 2
   },
   "file_extension": ".py",
   "mimetype": "text/x-python",
   "name": "python",
   "nbconvert_exporter": "python",
   "pygments_lexer": "ipython2",
   "version": "2.7.6"
  }
 },
 "nbformat": 4,
 "nbformat_minor": 0
}
