{
 "cells": [
  {
   "cell_type": "code",
   "execution_count": 2,
   "id": "initial_id",
   "metadata": {
    "collapsed": true,
    "ExecuteTime": {
     "end_time": "2023-10-12T13:32:24.909659Z",
     "start_time": "2023-10-12T13:32:24.905927Z"
    }
   },
   "outputs": [],
   "source": [
    "import pandas as pd\n",
    "import numpy as np"
   ]
  },
  {
   "cell_type": "code",
   "execution_count": 15,
   "outputs": [
    {
     "data": {
      "text/plain": "   PatientID DiagnosisDate  DiagnosisCode      Diagnosis  IsCancerDiagnosis\n0       2038    2010-01-21          174.9  Breast Cancer               True\n1       2120    2010-01-09          174.1  Breast Cancer               True\n2       2175    2010-02-17          174.7  Breast Cancer               True\n3       2407    2010-06-13          174.9  Breast Cancer               True\n4       2425    2010-12-15          174.9  Breast Cancer               True",
      "text/html": "<div>\n<style scoped>\n    .dataframe tbody tr th:only-of-type {\n        vertical-align: middle;\n    }\n\n    .dataframe tbody tr th {\n        vertical-align: top;\n    }\n\n    .dataframe thead th {\n        text-align: right;\n    }\n</style>\n<table border=\"1\" class=\"dataframe\">\n  <thead>\n    <tr style=\"text-align: right;\">\n      <th></th>\n      <th>PatientID</th>\n      <th>DiagnosisDate</th>\n      <th>DiagnosisCode</th>\n      <th>Diagnosis</th>\n      <th>IsCancerDiagnosis</th>\n    </tr>\n  </thead>\n  <tbody>\n    <tr>\n      <th>0</th>\n      <td>2038</td>\n      <td>2010-01-21</td>\n      <td>174.9</td>\n      <td>Breast Cancer</td>\n      <td>True</td>\n    </tr>\n    <tr>\n      <th>1</th>\n      <td>2120</td>\n      <td>2010-01-09</td>\n      <td>174.1</td>\n      <td>Breast Cancer</td>\n      <td>True</td>\n    </tr>\n    <tr>\n      <th>2</th>\n      <td>2175</td>\n      <td>2010-02-17</td>\n      <td>174.7</td>\n      <td>Breast Cancer</td>\n      <td>True</td>\n    </tr>\n    <tr>\n      <th>3</th>\n      <td>2407</td>\n      <td>2010-06-13</td>\n      <td>174.9</td>\n      <td>Breast Cancer</td>\n      <td>True</td>\n    </tr>\n    <tr>\n      <th>4</th>\n      <td>2425</td>\n      <td>2010-12-15</td>\n      <td>174.9</td>\n      <td>Breast Cancer</td>\n      <td>True</td>\n    </tr>\n  </tbody>\n</table>\n</div>"
     },
     "execution_count": 15,
     "metadata": {},
     "output_type": "execute_result"
    }
   ],
   "source": [
    "diagnosis_sample = pd.read_csv('./DiagnosisSample.csv')\n",
    "diagnosis_sample['DiagnosisDate'] = pd.to_datetime(diagnosis_sample['DiagnosisDate'])\n",
    "# diagnosis_sample = diagnosis_sample.loc[diagnosis_sample.IsCancerDiagnosis]\n",
    "diagnosis_sample.head()"
   ],
   "metadata": {
    "collapsed": false,
    "ExecuteTime": {
     "end_time": "2023-10-12T13:38:23.847226Z",
     "start_time": "2023-10-12T13:38:23.840161Z"
    }
   },
   "id": "2bf3dd96f57f7eea"
  },
  {
   "cell_type": "code",
   "execution_count": 7,
   "outputs": [
    {
     "data": {
      "text/plain": "   PatientID TreatmentDate DrugCode\n0       2038    2010-01-24        A\n1       2120    2010-01-24        A\n2       2120    2010-01-24        B\n3       2120    2010-01-26        A\n4       2120    2010-01-26        B",
      "text/html": "<div>\n<style scoped>\n    .dataframe tbody tr th:only-of-type {\n        vertical-align: middle;\n    }\n\n    .dataframe tbody tr th {\n        vertical-align: top;\n    }\n\n    .dataframe thead th {\n        text-align: right;\n    }\n</style>\n<table border=\"1\" class=\"dataframe\">\n  <thead>\n    <tr style=\"text-align: right;\">\n      <th></th>\n      <th>PatientID</th>\n      <th>TreatmentDate</th>\n      <th>DrugCode</th>\n    </tr>\n  </thead>\n  <tbody>\n    <tr>\n      <th>0</th>\n      <td>2038</td>\n      <td>2010-01-24</td>\n      <td>A</td>\n    </tr>\n    <tr>\n      <th>1</th>\n      <td>2120</td>\n      <td>2010-01-24</td>\n      <td>A</td>\n    </tr>\n    <tr>\n      <th>2</th>\n      <td>2120</td>\n      <td>2010-01-24</td>\n      <td>B</td>\n    </tr>\n    <tr>\n      <th>3</th>\n      <td>2120</td>\n      <td>2010-01-26</td>\n      <td>A</td>\n    </tr>\n    <tr>\n      <th>4</th>\n      <td>2120</td>\n      <td>2010-01-26</td>\n      <td>B</td>\n    </tr>\n  </tbody>\n</table>\n</div>"
     },
     "execution_count": 7,
     "metadata": {},
     "output_type": "execute_result"
    }
   ],
   "source": [
    "treatment_sample = pd.read_csv('./TreatmentSample.csv')\n",
    "treatment_sample['TreatmentDate'] = pd.to_datetime(treatment_sample['TreatmentDate'])\n",
    "treatment_sample.head()"
   ],
   "metadata": {
    "collapsed": false,
    "ExecuteTime": {
     "end_time": "2023-10-12T13:33:51.055329Z",
     "start_time": "2023-10-12T13:33:51.044722Z"
    }
   },
   "id": "f0274ecda54eb275"
  },
  {
   "cell_type": "code",
   "execution_count": 33,
   "outputs": [
    {
     "data": {
      "text/plain": "5.555555555555555"
     },
     "execution_count": 33,
     "metadata": {},
     "output_type": "execute_result"
    }
   ],
   "source": [
    "# Q1\n",
    "colon_caner_patient = diagnosis_sample.loc[diagnosis_sample.Diagnosis == 'Colon Cancer'].sort_values(by=['PatientID', 'DiagnosisDate'])\n",
    "# colon_caner_patient = colon_caner_patient[['PatientID', 'DiagnosisDate']].drop_duplicates(keep='first')\n",
    "# 去问面试官 取最大时间还是最小时间\n",
    "colon_caner_patient = colon_caner_patient[['PatientID', 'DiagnosisDate']].groupby(['PatientID']).min().reset_index() \n",
    "colon_caner_patient = colon_caner_patient.merge(treatment_sample, on='PatientID', how='left')\n",
    "# filter treatment 比 发现时间早, 这里要不要筛 也可以问一下面试官\n",
    "colon_caner_patient = colon_caner_patient.loc[colon_caner_patient.TreatmentDate >= colon_caner_patient.DiagnosisDate]\n",
    "colon_caner_patient = colon_caner_patient[['PatientID', 'DiagnosisDate', 'TreatmentDate']].groupby(['PatientID', 'DiagnosisDate']).min().reset_index()\n",
    "colon_caner_patient['gap'] = (colon_caner_patient.TreatmentDate - colon_caner_patient.DiagnosisDate).dt.days\n",
    "colon_caner_patient.gap.mean()"
   ],
   "metadata": {
    "collapsed": false,
    "ExecuteTime": {
     "end_time": "2023-10-12T13:47:28.263106Z",
     "start_time": "2023-10-12T13:47:28.254518Z"
    }
   },
   "id": "8cfc919464605e59"
  },
  {
   "cell_type": "code",
   "execution_count": 58,
   "outputs": [
    {
     "name": "stdout",
     "output_type": "stream",
     "text": [
      "in ttl patient 28, 9(32.14%) use second\n"
     ]
    }
   ],
   "source": [
    "# Q2\n",
    "cancer_patient = diagnosis_sample.loc[diagnosis_sample.IsCancerDiagnosis]\n",
    "cancer_patient = cancer_patient.merge(treatment_sample, on=['PatientID'])\n",
    "# 拿一线用药，去看第一天用的所有药\n",
    "# 去算每个人的第一天，取出第一天用了啥\n",
    "patient_first_day = cancer_patient[['PatientID', 'TreatmentDate']].groupby(['PatientID']).min().reset_index()\n",
    "patient_first_day_drug = cancer_patient.merge(patient_first_day, on=['PatientID', 'TreatmentDate'])\n",
    "patient_first_day_drug = patient_first_day_drug[['PatientID', 'DrugCode']].drop_duplicates()\n",
    "\n",
    "# 每个人治疗过程中用了哪些药\n",
    "all_time_drug = cancer_patient[['PatientID', 'DrugCode']].drop_duplicates()\n",
    "second_drug = all_time_drug.merge(patient_first_day_drug, on=['PatientID', 'DrugCode'], how='left', indicator=True)\n",
    "second_drug = second_drug.loc[second_drug._merge == 'left_only']\n",
    "ttl_patient = all_time_drug.PatientID.nunique()\n",
    "second_patient = second_drug.PatientID.nunique()\n",
    "print(f\"in ttl patient {ttl_patient}, {second_patient}({second_patient/ttl_patient * 100:.2f}%) use second\")"
   ],
   "metadata": {
    "collapsed": false,
    "ExecuteTime": {
     "end_time": "2023-10-12T14:08:08.239644Z",
     "start_time": "2023-10-12T14:08:08.226198Z"
    }
   },
   "id": "422f88fd59031dc1"
  },
  {
   "cell_type": "code",
   "execution_count": 42,
   "outputs": [
    {
     "data": {
      "text/plain": "110.47058823529412"
     },
     "execution_count": 42,
     "metadata": {},
     "output_type": "execute_result"
    }
   ],
   "source": [
    "# q3\n",
    "df = diagnosis_sample.merge(treatment_sample, on='PatientID')\n",
    "df = df.loc[df.DrugCode == 'C']\n",
    "first_treat_time = df[['PatientID', 'TreatmentDate']].groupby(['PatientID']).min().reset_index().rename(columns={'TreatmentDate': 'first_date'})\n",
    "last_treat_time = df[['PatientID', 'TreatmentDate']].groupby(['PatientID']).max().reset_index().rename(columns={'TreatmentDate': 'last_date'})\n",
    "drug_c = first_treat_time.merge(last_treat_time, on=['PatientID'])\n",
    "drug_c['gap'] = (drug_c['last_date'] - drug_c['first_date']).dt.days\n",
    "drug_c['gap'].mean()"
   ],
   "metadata": {
    "collapsed": false,
    "ExecuteTime": {
     "end_time": "2023-10-12T13:53:44.325901Z",
     "start_time": "2023-10-12T13:53:44.315124Z"
    }
   },
   "id": "366a3e78e158f11f"
  }
 ],
 "metadata": {
  "kernelspec": {
   "display_name": "Python 3",
   "language": "python",
   "name": "python3"
  },
  "language_info": {
   "codemirror_mode": {
    "name": "ipython",
    "version": 2
   },
   "file_extension": ".py",
   "mimetype": "text/x-python",
   "name": "python",
   "nbconvert_exporter": "python",
   "pygments_lexer": "ipython2",
   "version": "2.7.6"
  }
 },
 "nbformat": 4,
 "nbformat_minor": 5
}
