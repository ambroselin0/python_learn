{
 "cells": [
  {
   "cell_type": "markdown",
   "source": [
    "## python集合定义\n",
    "\n",
    "python的集合是一个无序且没有重复元素的序列，集合中的元素必须是可hash对象。集合不记录元素位置和插入顺序，因此，也不支持索引，切片等其他序列类的操作。\n",
    "\n",
    "定义集合可以使用{} 或者 set()，但定义空集合不能使用{} ，因为{ } 是创建空字典的方法，定义空集合可以使用set()。\n",
    "\n",
    "在定义fruits_set时，字符串apple存在重复的情况，但python集合会自动去重，因此在输出时，apple并没有重复。去除重复元素是集合的一项重要功能，此外还有成员检测，数学上集合类的计算，例如交集，并集，差集等操作。"
   ],
   "metadata": {
    "collapsed": false
   }
  },
  {
   "cell_type": "code",
   "execution_count": 3,
   "outputs": [
    {
     "name": "stdout",
     "output_type": "stream",
     "text": [
      "{'python', 'c', 'java'}\n",
      "set()\n",
      "{'banana', 'apple', 'orange'}\n"
     ]
    }
   ],
   "source": [
    "language_set = {'java', 'c', 'python'}      # 定义集合\n",
    "name_set = set()            # 定义空集合\n",
    "fruits_set = set(['apple', 'orange', 'banana', 'apple'])  # 定义时有重复元素\n",
    "\n",
    "print(language_set)\n",
    "print(name_set)\n",
    "print(fruits_set)"
   ],
   "metadata": {
    "collapsed": false
   }
  },
  {
   "cell_type": "code",
   "execution_count": 2,
   "outputs": [
    {
     "data": {
      "text/plain": "{(1, 2)}"
     },
     "execution_count": 2,
     "metadata": {},
     "output_type": "execute_result"
    }
   ],
   "source": [
    "{(1, 2), (1, 2)}"
   ],
   "metadata": {
    "collapsed": false
   }
  },
  {
   "cell_type": "markdown",
   "source": [
    "## python集合常用基础操作"
   ],
   "metadata": {
    "collapsed": false
   }
  },
  {
   "cell_type": "code",
   "execution_count": 5,
   "outputs": [
    {
     "name": "stdout",
     "output_type": "stream",
     "text": [
      "{'python', 'c', 'c++', 'java'}\n"
     ]
    }
   ],
   "source": [
    "# add，update方法添加新元素\n",
    "language_set = {'java', 'c', 'python'}      # 定义集合\n",
    "language_set.add('c++')\n",
    "for i in range(100):\n",
    "    language_set.add('c++')\n",
    "print(language_set)"
   ],
   "metadata": {
    "collapsed": false
   }
  },
  {
   "cell_type": "markdown",
   "source": [
    "update方法同样可以向集合中添加新的元素，且可以一次性添加多个，update方法的本质是先计算两个集合的并集，在用并集更新原集合。"
   ],
   "metadata": {
    "collapsed": false
   }
  },
  {
   "cell_type": "code",
   "execution_count": 6,
   "outputs": [
    {
     "name": "stdout",
     "output_type": "stream",
     "text": [
      "{'python', 'php', 'java', 'c', 'node.js'}\n",
      "{'python', 'php', 'c#', 'java', 'c', 'node.js', 'javascript'}\n",
      "{'python', 'php', 'c#', 'java', 'go', 'c', 'node.js', 'vb', 'javascript'}\n"
     ]
    }
   ],
   "source": [
    "language_set = {'java', 'c', 'python'}      # 定义集合\n",
    "language_set.update(['node.js', 'php'])     # 传入列表\n",
    "print(language_set)\n",
    "\n",
    "language_set.update(('javascript', 'c#'))   # 传入元组\n",
    "print(language_set)\n",
    "\n",
    "language_set.update({'vb', 'go'})\n",
    "print(language_set)"
   ],
   "metadata": {
    "collapsed": false
   }
  },
  {
   "cell_type": "code",
   "execution_count": 9,
   "outputs": [
    {
     "data": {
      "text/plain": "{'+', 'c', 'java', 'python'}"
     },
     "execution_count": 9,
     "metadata": {},
     "output_type": "execute_result"
    }
   ],
   "source": [
    "language_set = {'java', 'c', 'python'}\n",
    "language_set.update(\"c++\") # = language_set.update(['c', '+', '+'])\n",
    "language_set"
   ],
   "metadata": {
    "collapsed": false
   }
  },
  {
   "cell_type": "code",
   "execution_count": 14,
   "outputs": [
    {
     "data": {
      "text/plain": "{'java', 'python'}"
     },
     "execution_count": 14,
     "metadata": {},
     "output_type": "execute_result"
    }
   ],
   "source": [
    "# remove，discard， pop方法删除集合元素\n",
    "\n",
    "language_set = {'java', 'c', 'python'}\n",
    "# language_set.remove('c')\n",
    "language_set.remove('c++')\n",
    "language_set"
   ],
   "metadata": {
    "collapsed": false
   }
  },
  {
   "cell_type": "code",
   "execution_count": 17,
   "outputs": [
    {
     "data": {
      "text/plain": "{'java', 'python'}"
     },
     "execution_count": 17,
     "metadata": {},
     "output_type": "execute_result"
    }
   ],
   "source": [
    "# remove是一种不安全的删除集合元素的方法，想要安全的删除集合元素，可以使用discard方法，当被删除的元素不存在时discard不会发生错误，discard语法如下\n",
    "language_set = {'java', 'c', 'python'}\n",
    "language_set.discard('c')\n",
    "language_set.discard('c++')\n",
    "language_set"
   ],
   "metadata": {
    "collapsed": false
   }
  },
  {
   "cell_type": "code",
   "execution_count": 22,
   "outputs": [
    {
     "ename": "KeyError",
     "evalue": "'pop from an empty set'",
     "output_type": "error",
     "traceback": [
      "\u001B[0;31m---------------------------------------------------------------------------\u001B[0m",
      "\u001B[0;31mKeyError\u001B[0m                                  Traceback (most recent call last)",
      "Cell \u001B[0;32mIn[22], line 6\u001B[0m\n\u001B[1;32m      4\u001B[0m language_set\u001B[38;5;241m.\u001B[39mpop()\n\u001B[1;32m      5\u001B[0m language_set\u001B[38;5;241m.\u001B[39mpop()\n\u001B[0;32m----> 6\u001B[0m \u001B[43mlanguage_set\u001B[49m\u001B[38;5;241;43m.\u001B[39;49m\u001B[43mpop\u001B[49m\u001B[43m(\u001B[49m\u001B[43m)\u001B[49m\n",
      "\u001B[0;31mKeyError\u001B[0m: 'pop from an empty set'"
     ]
    }
   ],
   "source": [
    "# pop方法没有参数，它随机的删除一个元素并返回该元素，当集合为空时，pop方法会引发KeyError异常。\n",
    "language_set = {'java', 'c', 'python'}\n",
    "language_set.pop()\n",
    "language_set.pop()\n",
    "language_set.pop()\n",
    "# language_set = {}\n",
    "language_set.pop()"
   ],
   "metadata": {
    "collapsed": false
   }
  },
  {
   "cell_type": "code",
   "execution_count": null,
   "outputs": [],
   "source": [
    "# 获取集合元素个数\n",
    "language_set = {'java', 'c', 'python'}\n",
    "len(language_set)"
   ],
   "metadata": {
    "collapsed": false
   }
  },
  {
   "cell_type": "code",
   "execution_count": 23,
   "outputs": [
    {
     "name": "stdout",
     "output_type": "stream",
     "text": [
      "python\n",
      "c\n",
      "java\n"
     ]
    }
   ],
   "source": [
    "# 获取集合中的元素\n",
    "language_set = {'java', 'c', 'python'}      # 定义集合\n",
    "\n",
    "for language in language_set:\n",
    "    print(language)"
   ],
   "metadata": {
    "collapsed": false
   }
  },
  {
   "cell_type": "code",
   "execution_count": 24,
   "outputs": [
    {
     "data": {
      "text/plain": "True"
     },
     "execution_count": 24,
     "metadata": {},
     "output_type": "execute_result"
    }
   ],
   "source": [
    "# 判断元素是否在集合中\n",
    "language_set = {'java', 'c', 'python'}\n",
    "'java' in language_set"
   ],
   "metadata": {
    "collapsed": false
   }
  },
  {
   "cell_type": "code",
   "execution_count": 25,
   "outputs": [
    {
     "data": {
      "text/plain": "False"
     },
     "execution_count": 25,
     "metadata": {},
     "output_type": "execute_result"
    }
   ],
   "source": [
    "'c++' in language_set"
   ],
   "metadata": {
    "collapsed": false
   }
  }
 ],
 "metadata": {
  "kernelspec": {
   "display_name": "Python 3",
   "language": "python",
   "name": "python3"
  },
  "language_info": {
   "codemirror_mode": {
    "name": "ipython",
    "version": 2
   },
   "file_extension": ".py",
   "mimetype": "text/x-python",
   "name": "python",
   "nbconvert_exporter": "python",
   "pygments_lexer": "ipython2",
   "version": "2.7.6"
  }
 },
 "nbformat": 4,
 "nbformat_minor": 0
}
