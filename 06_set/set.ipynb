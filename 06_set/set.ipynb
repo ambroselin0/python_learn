{
 "cells": [
  {
   "cell_type": "markdown",
   "source": [
    "## python集合定义\n",
    "\n",
    "python的集合是一个无序且没有重复元素的序列，集合中的元素必须是可hash对象。集合不记录元素位置和插入顺序，因此，也不支持索引，切片等其他序列类的操作。\n",
    "\n",
    "定义集合可以使用{} 或者 set()，但定义空集合不能使用{} ，因为{ } 是创建空字典的方法，定义空集合可以使用set()。\n",
    "\n",
    "在定义fruits_set时，字符串apple存在重复的情况，但python集合会自动去重，因此在输出时，apple并没有重复。去除重复元素是集合的一项重要功能，此外还有成员检测，数学上集合类的计算，例如交集，并集，差集等操作。"
   ],
   "metadata": {
    "collapsed": false
   }
  },
  {
   "cell_type": "code",
   "execution_count": null,
   "outputs": [],
   "source": [
    "language_set = {'java', 'c', 'python'}      # 定义集合\n",
    "name_set = set()            # 定义空集合\n",
    "fruits_set = set(['apple', 'orange', 'banana', 'apple'])  # 定义时有重复元素\n",
    "\n",
    "print(language_set)\n",
    "print(name_set)\n",
    "print(fruits_set)"
   ],
   "metadata": {
    "collapsed": false
   }
  },
  {
   "cell_type": "markdown",
   "source": [
    "## python集合常用基础操作"
   ],
   "metadata": {
    "collapsed": false
   }
  },
  {
   "cell_type": "code",
   "execution_count": null,
   "outputs": [],
   "source": [
    "# add，update方法添加新元素\n",
    "language_set = {'java', 'c', 'python'}      # 定义集合\n",
    "language_set.add('c++')\n",
    "print(language_set)"
   ],
   "metadata": {
    "collapsed": false
   }
  },
  {
   "cell_type": "markdown",
   "source": [
    "update方法同样可以向集合中添加新的元素，且可以一次性添加多个，update方法的本质是先计算两个集合的并集，在用并集更新原集合。"
   ],
   "metadata": {
    "collapsed": false
   }
  },
  {
   "cell_type": "code",
   "execution_count": null,
   "outputs": [],
   "source": [
    "language_set = {'java', 'c', 'python'}      # 定义集合\n",
    "language_set.update(['node.js', 'php'])     # 传入列表\n",
    "print(language_set)\n",
    "\n",
    "language_set.update(('javascript', 'c#'))   # 传入元组\n",
    "print(language_set)\n",
    "\n",
    "language_set.update({'vb', 'go'})\n",
    "print(language_set)"
   ],
   "metadata": {
    "collapsed": false
   }
  },
  {
   "cell_type": "code",
   "execution_count": null,
   "outputs": [],
   "source": [
    "# remove，discard， pop方法删除集合元素\n",
    "\n",
    "language_set = {'java', 'c', 'python'}\n",
    "language_set.remove('c')\n",
    "language_set.remove('c++')"
   ],
   "metadata": {
    "collapsed": false
   }
  },
  {
   "cell_type": "code",
   "execution_count": null,
   "outputs": [],
   "source": [
    "# remove是一种不安全的删除集合元素的方法，想要安全的删除集合元素，可以使用discard方法，当被删除的元素不存在时discard不会发生错误，discard语法如下\n",
    "language_set = {'java', 'c', 'python'}\n",
    "language_set.discard('c')\n",
    "language_set.discard('c++')\n",
    "language_set"
   ],
   "metadata": {
    "collapsed": false
   }
  },
  {
   "cell_type": "code",
   "execution_count": null,
   "outputs": [],
   "source": [
    "# pop方法没有参数，它随机的删除一个元素并返回该元素，当集合为空时，pop方法会引发KeyError异常。\n",
    "language_set = {'java', 'c', 'python'}\n",
    "language_set.pop()\n",
    "language_set.pop()\n",
    "language_set.pop()\n",
    "language_set.pop()"
   ],
   "metadata": {
    "collapsed": false
   }
  },
  {
   "cell_type": "code",
   "execution_count": null,
   "outputs": [],
   "source": [
    "# 获取集合元素个数\n",
    "language_set = {'java', 'c', 'python'}\n",
    "len(language_set)"
   ],
   "metadata": {
    "collapsed": false
   }
  },
  {
   "cell_type": "code",
   "execution_count": null,
   "outputs": [],
   "source": [
    "# 获取集合中的元素\n",
    "language_set = {'java', 'c', 'python'}      # 定义集合\n",
    "\n",
    "for language in language_set:\n",
    "    print(language)"
   ],
   "metadata": {
    "collapsed": false
   }
  },
  {
   "cell_type": "code",
   "execution_count": null,
   "outputs": [],
   "source": [
    "# 判断元素是否在集合中\n",
    "language_set = {'java', 'c', 'python'}\n",
    "'java' in language_set"
   ],
   "metadata": {
    "collapsed": false
   }
  },
  {
   "cell_type": "code",
   "execution_count": null,
   "outputs": [],
   "source": [
    "'c++' in language_set"
   ],
   "metadata": {
    "collapsed": false
   }
  }
 ],
 "metadata": {
  "kernelspec": {
   "display_name": "Python 3",
   "language": "python",
   "name": "python3"
  },
  "language_info": {
   "codemirror_mode": {
    "name": "ipython",
    "version": 2
   },
   "file_extension": ".py",
   "mimetype": "text/x-python",
   "name": "python",
   "nbconvert_exporter": "python",
   "pygments_lexer": "ipython2",
   "version": "2.7.6"
  }
 },
 "nbformat": 4,
 "nbformat_minor": 0
}
