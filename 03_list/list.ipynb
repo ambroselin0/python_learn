{
 "cells": [
  {
   "cell_type": "markdown",
   "source": [
    "# 创建列表\n",
    "\n",
    "在讲解列表之前，我们先做一个简单的小题，我每天给你一个小球，每个小球都一模一样，且不允许你做任何标记，在第100天的时候，我要求你拿出来我第35天给你的那个小球，请你思考，你该如何存放小球，才能保证我说出天数，你拿出天数所对应的小球。\n",
    "\n",
    "创建python列表有两种方式：\n",
    "1. 使用[] 创建列表\n",
    "2. 使用内置函数创建列表"
   ],
   "metadata": {
    "collapsed": false
   }
  },
  {
   "cell_type": "code",
   "execution_count": null,
   "outputs": [],
   "source": [
    "empty_list = []         # 创建一个空列表"
   ],
   "metadata": {
    "collapsed": false
   }
  },
  {
   "cell_type": "code",
   "execution_count": null,
   "outputs": [],
   "source": [
    "lst = [1, '2', True, [1, 2]]"
   ],
   "metadata": {
    "collapsed": false
   }
  },
  {
   "cell_type": "code",
   "execution_count": 1,
   "outputs": [
    {
     "name": "stdout",
     "output_type": "stream",
     "text": [
      "['p', 'y', 't', 'h', 'o', 'n']\n",
      "[1, 2, 3]\n"
     ]
    }
   ],
   "source": [
    "lst1 = list(\"python\")\n",
    "lst2 = list([1, 2, 3])\n",
    "print(lst1)\n",
    "print(lst2)"
   ],
   "metadata": {
    "collapsed": false
   }
  },
  {
   "cell_type": "markdown",
   "source": [
    "## 访问列表里的元素\n",
    "\n",
    "访问列表里的元素只能使用索引方式，它的一般代码形式如下\n",
    "\n",
    "```python\n",
    "list[index]\n",
    "```"
   ],
   "metadata": {
    "collapsed": false
   }
  },
  {
   "cell_type": "code",
   "execution_count": 2,
   "outputs": [
    {
     "name": "stdout",
     "output_type": "stream",
     "text": [
      "6\n",
      "6\n"
     ]
    }
   ],
   "source": [
    "lst = [2, 3, 5, 6]\n",
    "# 输出列表的最后一个元素的值\n",
    "print(lst[3])\n",
    "print(lst[-1])"
   ],
   "metadata": {
    "collapsed": false
   }
  },
  {
   "cell_type": "markdown",
   "source": [
    "## 向列表里新增数据\n",
    "\n",
    "向一个列表新增数据，有三个常用的方法，他们有各自的应用场景，这三个方法分别是\n",
    "\n",
    "1. append\n",
    "2. insert\n",
    "3. extend"
   ],
   "metadata": {
    "collapsed": false
   }
  },
  {
   "cell_type": "code",
   "execution_count": 3,
   "outputs": [
    {
     "name": "stdout",
     "output_type": "stream",
     "text": [
      "[1, 2, 3, 4]\n"
     ]
    }
   ],
   "source": [
    "# append方法在列表的末尾新增数据\n",
    "lst = [1, 2, 3]\n",
    "lst.append(4)\n",
    "print(lst)"
   ],
   "metadata": {
    "collapsed": false
   }
  },
  {
   "cell_type": "code",
   "execution_count": 4,
   "outputs": [
    {
     "name": "stdout",
     "output_type": "stream",
     "text": [
      "[4, 1, 2, 3]\n"
     ]
    }
   ],
   "source": [
    "# insert方法在指定的索引位置的前面向列表中插入一个新的元素，指定的插入索引位置是多少，新元素的索引就是多少。\n",
    "lst = [1, 2, 3]\n",
    "lst.insert(0, 4)\n",
    "print(lst)"
   ],
   "metadata": {
    "collapsed": false
   }
  },
  {
   "cell_type": "code",
   "execution_count": 7,
   "outputs": [
    {
     "name": "stdout",
     "output_type": "stream",
     "text": [
      "[4, 1, 2, 4, 3, 4, 4]\n"
     ]
    }
   ],
   "source": [
    "lst.insert(10, 4)\n",
    "print(lst)"
   ],
   "metadata": {
    "collapsed": false
   }
  },
  {
   "cell_type": "code",
   "execution_count": 8,
   "outputs": [
    {
     "name": "stdout",
     "output_type": "stream",
     "text": [
      "[1, 2, 3, 4, 5, 6]\n"
     ]
    }
   ],
   "source": [
    "# append和inset一次只能新增一个元素，extend方法可以一次性将另一个序列里的元素追加到列表的末尾\n",
    "lst1 = [1, 2, 3]\n",
    "lst2 = [4, 5, 6]\n",
    "\n",
    "lst1.extend(lst2)\n",
    "print(lst1)\n",
    "\n",
    "# 如果用append会怎么样？"
   ],
   "metadata": {
    "collapsed": false
   }
  },
  {
   "cell_type": "code",
   "execution_count": 9,
   "outputs": [
    {
     "name": "stdout",
     "output_type": "stream",
     "text": [
      "[1, 2, 3, [4, 5, 6]]\n"
     ]
    }
   ],
   "source": [
    "lst1 = [1, 2, 3]\n",
    "lst2 = [4, 5, 6]\n",
    "\n",
    "lst1.append(lst2)\n",
    "print(lst1)"
   ],
   "metadata": {
    "collapsed": false
   }
  },
  {
   "cell_type": "markdown",
   "source": [
    "## 修改列表里的数据\n",
    "\n",
    "修改列表里的某一项元素，需要通过索引方式找到元素然后重新对其赋值。"
   ],
   "metadata": {
    "collapsed": false
   }
  },
  {
   "cell_type": "code",
   "execution_count": 10,
   "outputs": [
    {
     "name": "stdout",
     "output_type": "stream",
     "text": [
      "[100, 2, 3]\n"
     ]
    }
   ],
   "source": [
    "lst = [1, 2, 3]\n",
    "lst[0] = 100\n",
    "print(lst)"
   ],
   "metadata": {
    "collapsed": false
   }
  },
  {
   "cell_type": "markdown",
   "source": [
    "## 删除列表中的数据\n",
    "\n",
    "删除列表中的数据，有4种方法，分别是\n",
    "\n",
    "1. remove\n",
    "2. pop\n",
    "3. del\n",
    "4. clear"
   ],
   "metadata": {
    "collapsed": false
   }
  },
  {
   "cell_type": "code",
   "execution_count": 11,
   "outputs": [
    {
     "name": "stdout",
     "output_type": "stream",
     "text": [
      "[1, 3, 2]\n"
     ]
    }
   ],
   "source": [
    "# 使用remove方法删除列表里的元素需要在方法里指明要删除的元素的值。\n",
    "lst = [1, 2, 3, 2]\n",
    "lst.remove(2)       # 明确指明要删除2\n",
    "print(lst)"
   ],
   "metadata": {
    "collapsed": false
   }
  },
  {
   "cell_type": "markdown",
   "source": [
    "虽然指明要删除2，但是remove方法不会将列表里所有的值为2的元素删除，它只会删除能够找到的第一个符合删除条件的值，剩余的值即便符合删除条件也不会被删除。\n",
    "\n",
    "同时需要注意的是，如果指定要删除的元素不存在，会引发ValueError异常，因此在使用remove方法之前，务必先使用成员运算符in 或者是其他方法先确定被删除的元素是否真的在列表中。"
   ],
   "metadata": {
    "collapsed": false
   }
  },
  {
   "cell_type": "code",
   "execution_count": 12,
   "outputs": [
    {
     "ename": "ValueError",
     "evalue": "list.remove(x): x not in list",
     "output_type": "error",
     "traceback": [
      "\u001B[0;31m---------------------------------------------------------------------------\u001B[0m",
      "\u001B[0;31mValueError\u001B[0m                                Traceback (most recent call last)",
      "Cell \u001B[0;32mIn[12], line 2\u001B[0m\n\u001B[1;32m      1\u001B[0m lst \u001B[38;5;241m=\u001B[39m [\u001B[38;5;241m1\u001B[39m, \u001B[38;5;241m2\u001B[39m, \u001B[38;5;241m3\u001B[39m, \u001B[38;5;241m2\u001B[39m]\n\u001B[0;32m----> 2\u001B[0m \u001B[43mlst\u001B[49m\u001B[38;5;241;43m.\u001B[39;49m\u001B[43mremove\u001B[49m\u001B[43m(\u001B[49m\u001B[38;5;241;43m5\u001B[39;49m\u001B[43m)\u001B[49m\n",
      "\u001B[0;31mValueError\u001B[0m: list.remove(x): x not in list"
     ]
    }
   ],
   "source": [
    "lst = [1, 2, 3, 2]\n",
    "lst.remove(5)"
   ],
   "metadata": {
    "collapsed": false
   }
  },
  {
   "cell_type": "code",
   "execution_count": 13,
   "outputs": [
    {
     "name": "stdout",
     "output_type": "stream",
     "text": [
      "[1, 2, 3, 2]\n"
     ]
    }
   ],
   "source": [
    "lst = [1, 2, 3, 2]\n",
    "if 5 in lst:\n",
    "    lst.remove(5)\n",
    "print(lst)"
   ],
   "metadata": {
    "collapsed": false
   }
  },
  {
   "cell_type": "code",
   "execution_count": 14,
   "outputs": [
    {
     "name": "stdout",
     "output_type": "stream",
     "text": [
      "[1, 2, 2]\n"
     ]
    }
   ],
   "source": [
    "# 使用pop方法删除列表里的元素时需要在方法里指明要删除的元素的索引\n",
    "lst = [1, 2, 3, 2]\n",
    "lst.pop(2)       # 指明要删除索引为2的元素\n",
    "print(lst)"
   ],
   "metadata": {
    "collapsed": false
   }
  },
  {
   "cell_type": "code",
   "execution_count": 15,
   "outputs": [
    {
     "ename": "IndexError",
     "evalue": "pop index out of range",
     "output_type": "error",
     "traceback": [
      "\u001B[0;31m---------------------------------------------------------------------------\u001B[0m",
      "\u001B[0;31mIndexError\u001B[0m                                Traceback (most recent call last)",
      "Cell \u001B[0;32mIn[15], line 3\u001B[0m\n\u001B[1;32m      1\u001B[0m \u001B[38;5;66;03m# 注意索引不能吵过列表的长度-1\u001B[39;00m\n\u001B[1;32m      2\u001B[0m lst \u001B[38;5;241m=\u001B[39m [\u001B[38;5;241m1\u001B[39m, \u001B[38;5;241m2\u001B[39m, \u001B[38;5;241m3\u001B[39m, \u001B[38;5;241m2\u001B[39m]\n\u001B[0;32m----> 3\u001B[0m \u001B[43mlst\u001B[49m\u001B[38;5;241;43m.\u001B[39;49m\u001B[43mpop\u001B[49m\u001B[43m(\u001B[49m\u001B[38;5;241;43m10\u001B[39;49m\u001B[43m)\u001B[49m\n\u001B[1;32m      4\u001B[0m \u001B[38;5;28mprint\u001B[39m(lst)\n",
      "\u001B[0;31mIndexError\u001B[0m: pop index out of range"
     ]
    }
   ],
   "source": [
    "# 注意索引不能吵过列表的长度-1\n",
    "lst = [1, 2, 3, 2]\n",
    "lst.pop(10)\n",
    "print(lst)"
   ],
   "metadata": {
    "collapsed": false
   }
  },
  {
   "cell_type": "code",
   "execution_count": 16,
   "outputs": [
    {
     "name": "stdout",
     "output_type": "stream",
     "text": [
      "[1, 2, 3, 2]\n"
     ]
    }
   ],
   "source": [
    "lst = [1, 2, 3, 2]\n",
    "if 5 < len(lst):\n",
    "    lst.pop(5)\n",
    "print(lst)"
   ],
   "metadata": {
    "collapsed": false
   }
  },
  {
   "cell_type": "code",
   "execution_count": 17,
   "outputs": [
    {
     "name": "stdout",
     "output_type": "stream",
     "text": [
      "[1, 2, 2]\n"
     ]
    }
   ],
   "source": [
    "# 使用del关键字也可以删除指定索引位置的元素\n",
    "lst = [1, 2, 3, 2]\n",
    "del lst[2]\n",
    "print(lst)"
   ],
   "metadata": {
    "collapsed": false
   }
  },
  {
   "cell_type": "code",
   "execution_count": 19,
   "outputs": [
    {
     "name": "stdout",
     "output_type": "stream",
     "text": [
      "[]\n"
     ]
    }
   ],
   "source": [
    "# clear方法清空列表，删除所有元素\n",
    "lst = [1, 2, 3, 2]\n",
    "lst.clear() # 等价于 lst = []\n",
    "print(lst)"
   ],
   "metadata": {
    "collapsed": false
   }
  },
  {
   "cell_type": "markdown",
   "source": [
    "## 遍历列表\n"
   ],
   "metadata": {
    "collapsed": false
   }
  },
  {
   "cell_type": "code",
   "execution_count": 20,
   "outputs": [
    {
     "name": "stdout",
     "output_type": "stream",
     "text": [
      "1\n",
      "2\n",
      "3\n",
      "2\n"
     ]
    }
   ],
   "source": [
    "lst = [1, 2, 3, 2]\n",
    "\n",
    "for item in lst:\n",
    "    print(item)"
   ],
   "metadata": {
    "collapsed": false
   }
  },
  {
   "cell_type": "markdown",
   "source": [
    "## 基础常规操作"
   ],
   "metadata": {
    "collapsed": false
   }
  },
  {
   "cell_type": "code",
   "execution_count": 21,
   "outputs": [
    {
     "name": "stdout",
     "output_type": "stream",
     "text": [
      "4\n"
     ]
    }
   ],
   "source": [
    "# 使用内置函数len获取列表的长度\n",
    "lst = [1, 2, 3, 2]\n",
    "\n",
    "print(len(lst))"
   ],
   "metadata": {
    "collapsed": false
   }
  },
  {
   "cell_type": "code",
   "execution_count": 22,
   "outputs": [
    {
     "name": "stdout",
     "output_type": "stream",
     "text": [
      "1 + 1 = 2\n",
      "1 + 2 = 3\n",
      "1 + 3 = 4\n",
      "1 + 4 = 5\n",
      "2 + 1 = 3\n",
      "2 + 2 = 4\n",
      "2 + 3 = 5\n",
      "2 + 4 = 6\n",
      "3 + 1 = 4\n",
      "3 + 2 = 5\n",
      "3 + 3 = 6\n",
      "3 + 4 = 7\n",
      "2 + 1 = 3\n",
      "2 + 2 = 4\n",
      "2 + 3 = 5\n",
      "2 + 4 = 6\n"
     ]
    }
   ],
   "source": [
    "# 知晓列表的长度，就能够计算出列表的索引范围，列表的最小索引是0，最大索引是起长度值减1，这在通过索引方式遍历列表时是非常有用的\n",
    "lst = [1, 2, 3, 2]\n",
    "lst2 = [1, 2, 3, 4]\n",
    "\n",
    "for i in range(len(lst)):\n",
    "    for j in range(len(lst2)):\n",
    "        print(f\"{lst[i]} + {lst2[j]} = {lst[i] + lst2[j]}\")"
   ],
   "metadata": {
    "collapsed": false
   }
  },
  {
   "cell_type": "code",
   "execution_count": 23,
   "outputs": [
    {
     "name": "stdout",
     "output_type": "stream",
     "text": [
      "[1, 2, 3, 4, 5, 6]\n"
     ]
    }
   ],
   "source": [
    "# 使用算数运算符+合并两个列表\n",
    "lst1 = [1, 2, 3]\n",
    "lst2 = [4, 5, 6]\n",
    "\n",
    "lst3 = lst1 + lst2\n",
    "print(lst3)"
   ],
   "metadata": {
    "collapsed": false
   }
  },
  {
   "cell_type": "code",
   "execution_count": 24,
   "outputs": [
    {
     "name": "stdout",
     "output_type": "stream",
     "text": [
      "[1, 2, 3, 1, 2, 3, 1, 2, 3]\n"
     ]
    }
   ],
   "source": [
    "# 使用算数运算符*让列表里的元素个数翻倍\n",
    "lst1 = [1, 2, 3]\n",
    "lst2 = lst1*3\n",
    "print(lst2)"
   ],
   "metadata": {
    "collapsed": false
   }
  },
  {
   "cell_type": "code",
   "execution_count": 25,
   "outputs": [
    {
     "name": "stdout",
     "output_type": "stream",
     "text": [
      "True\n",
      "False\n"
     ]
    }
   ],
   "source": [
    "# 使用成员运算符in判断某个元素是否在列表中\n",
    "lst1 = [1, 2, 3]\n",
    "print(2 in lst1)\n",
    "print(3 not in lst1)"
   ],
   "metadata": {
    "collapsed": false
   }
  },
  {
   "cell_type": "markdown",
   "source": [
    "## python嵌套列表\n"
   ],
   "metadata": {
    "collapsed": false
   }
  },
  {
   "cell_type": "code",
   "execution_count": 26,
   "outputs": [
    {
     "name": "stdout",
     "output_type": "stream",
     "text": [
      "1\n",
      "[[1, 5], 3, [9, 8, [1, 3]]]\n"
     ]
    }
   ],
   "source": [
    "lst = [1,\n",
    "       [1, 5],\n",
    "       3,\n",
    "       [9, 8, [1, 3]],\n",
    "       5]\n",
    "print(((lst[3])[2])[0])\n",
    "print(lst[1:4])"
   ],
   "metadata": {
    "collapsed": false
   }
  },
  {
   "cell_type": "markdown",
   "source": [
    "### 小测验\n",
    "\n",
    "现在，请不用代码，自己手写出下面语句的结果\n",
    "\n",
    "lst = [1, [1, 5], 3, [9, 8, [1, 3]], 5]\n",
    "\n",
    "1. print(lst[1:4])\n",
    "2. print(lst[3][2:])\n",
    "3. print(lst[-2][1:2])\n"
   ],
   "metadata": {
    "collapsed": false
   }
  },
  {
   "cell_type": "markdown",
   "source": [
    "## 切片操作\n",
    "\n",
    "python列表的切片操作是通过指定开始索引和结束索引截取原列表的一部分生成一个新的列表。\n",
    "\n",
    "它的一般形式为 [start:end)，左闭右开，在实际截取时索引为end的元素不会被截取到新列表中。"
   ],
   "metadata": {
    "collapsed": false
   }
  },
  {
   "cell_type": "code",
   "execution_count": 27,
   "outputs": [
    {
     "name": "stdout",
     "output_type": "stream",
     "text": [
      "[4, 2, 5]\n"
     ]
    }
   ],
   "source": [
    "# 指定开始和结束位置\n",
    "# 切片操作的一般模式是[start:end],start和end所指的都是索引，截取时，end索引位置的元素不会被截取\n",
    "lst = [3, 4, 1, 4, 2, 5, 8]\n",
    "\n",
    "lst1 = lst[3:6]\n",
    "print(lst1)"
   ],
   "metadata": {
    "collapsed": false
   }
  },
  {
   "cell_type": "code",
   "execution_count": 28,
   "outputs": [
    {
     "name": "stdout",
     "output_type": "stream",
     "text": [
      "[1, 4, 2]\n"
     ]
    }
   ],
   "source": [
    "# 在使用切片时，也可以使用倒序索引\n",
    "lst = [3, 4, 1, 4, 2, 5, 8]\n",
    "\n",
    "lst1 = lst[2:-2]\n",
    "print(lst1)"
   ],
   "metadata": {
    "collapsed": false
   }
  },
  {
   "cell_type": "code",
   "execution_count": 29,
   "outputs": [
    {
     "name": "stdout",
     "output_type": "stream",
     "text": [
      "[1, 4, 2, 5, 8]\n"
     ]
    }
   ],
   "source": [
    "# 指定开始位置，不指定结束位置\n",
    "# 如果不指定结束位置，那么切片操作会从开始位置截取到列表末尾\n",
    "lst = [3, 4, 1, 4, 2, 5, 8]\n",
    "\n",
    "lst1 = lst[2:]\n",
    "print(lst1)"
   ],
   "metadata": {
    "collapsed": false
   }
  },
  {
   "cell_type": "code",
   "execution_count": 30,
   "outputs": [
    {
     "name": "stdout",
     "output_type": "stream",
     "text": [
      "[3, 4, 1, 4, 2]\n"
     ]
    }
   ],
   "source": [
    "# 指定结束位置，不指定开始位置\n",
    "lst = [3, 4, 1, 4, 2, 5, 8]\n",
    "\n",
    "lst1 = lst[:5]\n",
    "print(lst1)"
   ],
   "metadata": {
    "collapsed": false
   }
  },
  {
   "cell_type": "code",
   "execution_count": 31,
   "outputs": [
    {
     "name": "stdout",
     "output_type": "stream",
     "text": [
      "[3, 4, 1, 4, 2, 5, 8]\n"
     ]
    }
   ],
   "source": [
    "# 切片操作允许索引超出范围\n",
    "# 结束位置的索引设置为11，显然已经超出了列表索引的范围，但是却没有引发错误\n",
    "# 对于这种情况，切片操作自身做了处理，如果结束位置的索引超出索引范围，那么就以列表长度作为结束位置\n",
    "lst = [3, 4, 1, 4, 2, 5, 8]\n",
    "\n",
    "lst1 = lst[:11]\n",
    "print(lst1)"
   ],
   "metadata": {
    "collapsed": false
   }
  },
  {
   "cell_type": "markdown",
   "source": [
    "不论是字符串的切片操作还是列表的切片操作，即使指定了切片范围的结束索引，切片操作生成的新对象也不会包括结束索引位置的元素，切片的索引范围是左闭右开的，为什么有这样的设定和要求，包含结束索引位置的元素就不行么？\n",
    "\n",
    "之所以要求切片索引范围做到左闭右开，根本原因在于索引是从0开始的，左闭右开将有如下好处：\n",
    "\n",
    "如果只指定结束索引，那么很容易就看出切片的长度，比如lst[:3]，切片后生成的新列表长度就是3\n",
    "如果指定了开始索引和结束索引，那么很容易就能够计算出切片的长度，比如lst[2:7], 切片的长度是7-2 = 5\n",
    "左闭右开很容易通过一个索引将列表切分成两份，比如lst[:5] 和 lst[5:]"
   ],
   "metadata": {
    "collapsed": false
   }
  },
  {
   "cell_type": "code",
   "execution_count": 32,
   "outputs": [
    {
     "name": "stdout",
     "output_type": "stream",
     "text": [
      "[5, 3, 1]\n",
      "[5, 4, 3, 2, 1]\n",
      "[2, 4]\n"
     ]
    }
   ],
   "source": [
    "# 指定切片间隔\n",
    "# []操作符内有两个:， 这两个要分开理解，对于第一个，我们将其理解为设置索引，:左右两侧都没有明确写明索引，这就相当于既没有指定开始索引，也没有指定结束索引，因此等价于开始索引从0开始，结束索引就是字符串的末尾。\n",
    "# 第二个: 的作用是设置切片的间隔，每隔2个索引做一次切片处理。第2个: 设置切片间隔，也可以是负数，表示反向间隔\n",
    "lst = [1, 2, 3, 4, 5]\n",
    "\n",
    "print(lst[::-2])\n",
    "print(lst[::-1])\n",
    "print(lst[1:4:2])"
   ],
   "metadata": {
    "collapsed": false
   }
  },
  {
   "cell_type": "markdown",
   "source": [
    "## 列表排序\n",
    "\n",
    "列表的sort方法可以对列表里的元素进行排序， 它有两个重要的参数，一个是key， 一个是reverse， key来设置一个函数用于返回用于比较大小的数值， reverse参数决定排序是从小到大还是从大到小"
   ],
   "metadata": {
    "collapsed": false
   }
  },
  {
   "cell_type": "code",
   "execution_count": 34,
   "outputs": [
    {
     "name": "stdout",
     "output_type": "stream",
     "text": [
      "[1, 2, 3, 4]\n",
      "None\n"
     ]
    }
   ],
   "source": [
    "lst = [2, 1, 4, 3]\n",
    "lst2 = lst.sort()\n",
    "print(lst)\n",
    "print(lst2)"
   ],
   "metadata": {
    "collapsed": false
   }
  },
  {
   "cell_type": "code",
   "execution_count": null,
   "outputs": [],
   "source": [
    "lst = [2, 1, 4, 3]\n",
    "lst.sort(reverse=True)\n",
    "print(lst)"
   ],
   "metadata": {
    "collapsed": false
   }
  },
  {
   "cell_type": "code",
   "execution_count": null,
   "outputs": [],
   "source": [],
   "metadata": {
    "collapsed": false
   }
  }
 ],
 "metadata": {
  "kernelspec": {
   "display_name": "Python 3",
   "language": "python",
   "name": "python3"
  },
  "language_info": {
   "codemirror_mode": {
    "name": "ipython",
    "version": 2
   },
   "file_extension": ".py",
   "mimetype": "text/x-python",
   "name": "python",
   "nbconvert_exporter": "python",
   "pygments_lexer": "ipython2",
   "version": "2.7.6"
  }
 },
 "nbformat": 4,
 "nbformat_minor": 0
}
