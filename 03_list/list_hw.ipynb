{
 "cells": [
  {
   "cell_type": "markdown",
   "source": [
    "## 列表基础\n",
    "\n",
    "已知一个列表\n",
    "lst = [1,2,3,4,5]\n",
    "\n",
    "1. 求列表的长度\n",
    "2. 判断6 是否在列表中\n",
    "3. lst + [6, 7, 8] 的结果是什么？\n",
    "4. lst*2 的结果是什么\n",
    "5. 列表里元素的最大值是多少\n",
    "6. 列表里元素的最小值是多少\n",
    "7. 列表里所有元素的和是多少\n",
    "8. 在索引1的位置新增一个的元素10\n",
    "9. 在列表的末尾新增一个元素20"
   ],
   "metadata": {
    "collapsed": false
   }
  },
  {
   "cell_type": "code",
   "execution_count": null,
   "outputs": [],
   "source": [],
   "metadata": {
    "collapsed": false
   }
  },
  {
   "cell_type": "markdown",
   "source": [
    "## 修改列表\n",
    "\n",
    "lst = [1, [4, 6], True]\n",
    "请将列表里所有数字修改成原来的两倍"
   ],
   "metadata": {
    "collapsed": false
   }
  },
  {
   "cell_type": "code",
   "execution_count": null,
   "outputs": [],
   "source": [],
   "metadata": {
    "collapsed": false
   }
  },
  {
   "cell_type": "markdown",
   "source": [
    "## 合并列表\n",
    "lst = [1,2,3]\n",
    "lst2 = [4,5,6]\n",
    "不使用 + 号运算符，将lst2合并到lst的末尾"
   ],
   "metadata": {
    "collapsed": false
   }
  },
  {
   "cell_type": "code",
   "execution_count": null,
   "outputs": [],
   "source": [],
   "metadata": {
    "collapsed": false
   }
  },
  {
   "cell_type": "markdown",
   "source": [
    "## 统计练习\n",
    "\n",
    "列表lst 内容如下\n",
    "\n",
    "lst = [2, 5, 6, 7, 8, 9, 2, 9, 9]\n",
    "\n",
    "请写程序完成下列题目:\n",
    "1. 找出列表里的最大值\n",
    "2. 找出列表里的最小值\n",
    "3. 找出列表里最大值的个数\n",
    "4. 计算列表里所有元素的和\n",
    "5. 计算列表里元素的平均值\n",
    "6. 计算列表的长度\n",
    "7. 找出元素6在列表中的索引"
   ],
   "metadata": {
    "collapsed": false
   }
  },
  {
   "cell_type": "code",
   "execution_count": null,
   "outputs": [],
   "source": [],
   "metadata": {
    "collapsed": false
   }
  },
  {
   "cell_type": "markdown",
   "source": [
    "下面的题目不允许写代码，仅凭思考来回答\n",
    "\n",
    "lst = [2, 5, 6, 7, 8, 9, 2, 9, 9]\n",
    "\n",
    "1. lst[2:4] 的值是什么\n",
    "2. lst[1: -3]的值是什么\n",
    "3. lst[-5]的值是什么\n",
    "4. lst[:-4] 的值是什么\n",
    "5. lst[-4:] 的值是什么"
   ],
   "metadata": {
    "collapsed": false
   }
  },
  {
   "cell_type": "code",
   "execution_count": null,
   "outputs": [],
   "source": [],
   "metadata": {
    "collapsed": false
   }
  },
  {
   "cell_type": "markdown",
   "source": [
    "## 列表操作\n",
    "\n",
    "lst = [2, 5, 6, 7, 8, 9, 2, 9, 9]\n",
    "\n",
    "请写程序完成下列操作\n",
    "\n",
    "1. 在列表的末尾增加元素15\n",
    "2. 在列表的中间位置插入元素20\n",
    "3. 将列表[2, 5, 6]合并到lst中\n",
    "4. 移除列表中索引为3的元素\n",
    "5. 翻转列表里的所有元素\n",
    "6. 对列表里的元素进行排序，从小到大一次，从大到小一次"
   ],
   "metadata": {
    "collapsed": false
   }
  },
  {
   "cell_type": "code",
   "execution_count": null,
   "outputs": [],
   "source": [],
   "metadata": {
    "collapsed": false
   }
  },
  {
   "cell_type": "markdown",
   "source": [
    "## 复杂列表\n",
    "\n",
    "lst = [1, 4, 5, [1, 3, 5, 6, [8, 9, 10, 12]]]\n",
    "\n",
    "不写任何代码，仅凭思考推理来回答下列问题\n",
    "\n",
    "1. 列表lst的长度是多少\n",
    "2. 列表lst中有几个元素\n",
    "3. lst[1] 的数据类型是什么\n",
    "4. lst[3]的数据类型是什么\n",
    "5. lst[3][4] 的值是什么\n",
    "6. 如何才能取到9这个值\n",
    "7. 执行lst[3][4].append([5, 6])后，列表lst的内容是什么，手写出来\n",
    "8. lst[-1][-1][-2]的值是什么\n",
    "9. lst[-2]的值是什么\n",
    "10. len(lst[-1]) 的值是什么\n",
    "11. len(lst[-1][-1])的值是什么\n",
    "12. lst[-1][1:3] 的值是什么\n",
    "13. lst[-1][-1][1:-2]的值是什么"
   ],
   "metadata": {
    "collapsed": false
   }
  },
  {
   "cell_type": "code",
   "execution_count": null,
   "outputs": [],
   "source": [],
   "metadata": {
    "collapsed": false
   }
  }
 ],
 "metadata": {
  "kernelspec": {
   "display_name": "Python 3",
   "language": "python",
   "name": "python3"
  },
  "language_info": {
   "codemirror_mode": {
    "name": "ipython",
    "version": 2
   },
   "file_extension": ".py",
   "mimetype": "text/x-python",
   "name": "python",
   "nbconvert_exporter": "python",
   "pygments_lexer": "ipython2",
   "version": "2.7.6"
  }
 },
 "nbformat": 4,
 "nbformat_minor": 0
}
