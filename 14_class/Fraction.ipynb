{
 "cells": [
  {
   "cell_type": "code",
   "execution_count": 63,
   "metadata": {
    "collapsed": true,
    "ExecuteTime": {
     "end_time": "2023-05-27T13:25:47.252510Z",
     "start_time": "2023-05-27T13:25:47.249464Z"
    }
   },
   "outputs": [
    {
     "name": "stdout",
     "output_type": "stream",
     "text": [
      "3/5\n",
      "3/5\n",
      "6/5\n",
      "9/25\n"
     ]
    },
    {
     "data": {
      "text/plain": "True"
     },
     "execution_count": 63,
     "metadata": {},
     "output_type": "execute_result"
    }
   ],
   "source": [
    "def gcd(m, n):\n",
    "    while m % n != 0:\n",
    "        old_m = m\n",
    "        old_n = n\n",
    "\n",
    "        m = old_n\n",
    "        n = old_m % old_n\n",
    "    return n\n",
    "\n",
    "\n",
    "class Fraction(object):\n",
    "    def __init__(self, top, bottom):\n",
    "        \"\"\"\n",
    "        初始化函数\n",
    "        \"\"\"\n",
    "        # attributes\n",
    "        common = gcd(top, bottom)\n",
    "        top //= common\n",
    "        bottom //= common\n",
    "\n",
    "        self.top = top  # 这是两个东西\n",
    "        self.bottom = bottom\n",
    "        self.__test = 1  # private attributes\n",
    "\n",
    "    def show(self):\n",
    "        \"\"\"\n",
    "        public method\n",
    "        \"\"\"\n",
    "        print(f\"{self.top}/{self.bottom}\")\n",
    "\n",
    "    def __str__(self):\n",
    "        return str(self.top) + \"/\" + str(self.bottom)\n",
    "\n",
    "    def __repr__(self):\n",
    "        return str(self.top) + \"/\" + str(self.bottom)\n",
    "\n",
    "    def __add__(self, other: Fraction):\n",
    "        new_top = self.top * other.bottom + self.bottom * other.top\n",
    "        new_bottom = self.bottom * other.bottom\n",
    "\n",
    "        return Fraction(new_top, new_bottom)\n",
    "\n",
    "    def __mul__(self, other):\n",
    "        new_top = self.top * other.top\n",
    "        new_bottom = self.bottom * other.bottom\n",
    "\n",
    "        return Fraction(new_top, new_bottom)\n",
    "\n",
    "    def __eq__(self, other):\n",
    "        if (self.top == other.top) and (self.bottom == other.bottom):\n",
    "            return True\n",
    "        return False\n",
    "\n",
    "\n",
    "\n",
    "f1 = Fraction(top=3, bottom=5)\n",
    "print(f1)\n",
    "f2 = Fraction(top=6, bottom=10) # __init__\n",
    "print(f2)\n",
    "f3 = f1 + f2 # call __add__\n",
    "print(f3)\n",
    "f4 = f1 * f2 # call __mul__\n",
    "print(f4) # call __str__\n",
    "f1 == f2 # call __eq__"
   ]
  },
  {
   "cell_type": "code",
   "execution_count": null,
   "outputs": [],
   "source": [
    "# hw 1-9"
   ],
   "metadata": {
    "collapsed": false
   }
  },
  {
   "cell_type": "code",
   "execution_count": null,
   "outputs": [],
   "source": [
    "class PeopleInSchool():\n",
    "    def __init__(self, name, id, sex, phone):\n",
    "        self.name = name\n",
    "        self.id = id\n",
    "        self.sex = sex\n",
    "        self.phone = phone\n",
    "\n",
    "    def eat(self):\n",
    "        pass\n",
    "\n",
    "    def drink(self):\n",
    "        pass\n",
    "\n",
    "class Teacher(PeopleInSchool):\n",
    "    def __init__(self, name, id, sex, phone, course):\n",
    "        super().__init__(name, id, sex, phone)\n",
    "\n",
    "        self.course = course\n",
    "\n",
    "    def eat(self):\n",
    "        pass\n",
    "\n",
    "    def teach(self):\n",
    "        pass\n",
    "\n",
    "class Student(PeopleInSchool):\n",
    "    def __init__(self, name, id, sex, phone, grade):\n",
    "        super().__init__(name, id, sex, phone)\n",
    "        self.grade = grade\n",
    "\n",
    "    def study(self):\n",
    "        pass\n"
   ],
   "metadata": {
    "collapsed": false
   }
  }
 ],
 "metadata": {
  "kernelspec": {
   "display_name": "Python 3",
   "language": "python",
   "name": "python3"
  },
  "language_info": {
   "codemirror_mode": {
    "name": "ipython",
    "version": 2
   },
   "file_extension": ".py",
   "mimetype": "text/x-python",
   "name": "python",
   "nbconvert_exporter": "python",
   "pygments_lexer": "ipython2",
   "version": "2.7.6"
  }
 },
 "nbformat": 4,
 "nbformat_minor": 0
}
