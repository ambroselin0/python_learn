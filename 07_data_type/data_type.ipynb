{
 "cells": [
  {
   "cell_type": "markdown",
   "source": [
    "## python列表，元组，集合，字典之间互相转换"
   ],
   "metadata": {
    "collapsed": false
   }
  },
  {
   "cell_type": "code",
   "execution_count": null,
   "outputs": [],
   "source": [
    "# 内置函数list\n",
    "a = 'python'    # 字符串\n",
    "b = {1, 2, 3}   # 集合\n",
    "c = (1, 2, 3)   # 元组\n",
    "d = {'a': 3, 'b': 5} # dict\n",
    "\n",
    "print(list(a))\n",
    "print(list(b))\n",
    "print(list(c))\n",
    "print(list(d))"
   ],
   "metadata": {
    "collapsed": false
   }
  },
  {
   "cell_type": "code",
   "execution_count": null,
   "outputs": [],
   "source": [
    "# set\n",
    "a = 'python'    # 字符串\n",
    "b = [1, 2, 1, 2]  # 列表\n",
    "c = {'a': 1, 'b': 2}  # 字典\n",
    "d = (1, 2, 3, 4)  # 元组\n",
    "\n",
    "print(set(a))\n",
    "print(set(b))\n",
    "print(set(c))\n",
    "print(set(d))"
   ],
   "metadata": {
    "collapsed": false
   }
  },
  {
   "cell_type": "code",
   "execution_count": null,
   "outputs": [],
   "source": [
    "# tuple\n",
    "a = 'python'    # 字符串\n",
    "b = [1, 2, 1, 2]  # 列表\n",
    "c = {'a': 1, 'b': 2}  # 字典\n",
    "d = {1, 2, 3, 4}    # 集合\n",
    "\n",
    "print(tuple(a))\n",
    "print(tuple(b))\n",
    "print(tuple(c))\n",
    "print(tuple(d))"
   ],
   "metadata": {
    "collapsed": false
   }
  },
  {
   "cell_type": "markdown",
   "source": [
    "## 4个容器类型数据的共同点\n",
    "\n",
    "4个容器类型数据存在的目的都是为了存储数据，这是他们最大的共同点，也是我们对容器类型数据的基本认识。\n",
    "\n",
    "这个共同点也引出了他们的不同点，既然都能存储数据，为什么要弄出4个容器类型数据，而不是用一种就可以了呢？\n",
    "\n",
    "## 存储数据的目不同\n",
    "\n",
    "| 容器 | 存储目的 | 示例                                 |\n",
    "| --- | ------- |------------------------------------|\n",
    "|列表 | 按顺序存储，按顺序使用，单纯的堆积数据 | lst = [1, 2, 3]                    |\n",
    "|元组 |按顺序存储，按顺序使用，单纯的堆积数据 | tup = (1, 2, 3)                    |\n",
    "|字典 | 按关键字存储，提供key到value的映射，映射关系才是我们关心的 | dic = {'python': 100, 'php': '90'} |\n",
    "|集合 | 按关键字存储，主要目的是去重 | set = {1, 4, 5}                    |\n",
    "\n",
    "## 创建，新增，删除，修改，查询的相同与不同\n",
    "\n",
    "| 容器 | 创建 | 新增 | 删除         | 修改 | 查询    |\n",
    "| --- | ---- | ---- |------------| --------- | ------------- |\n",
    "|列表 | 用[] 创建 | append方法 | del 方法     | 通过索引进行修改 | 通过索引进行查 |\n",
    "|元组 | 用()创建 | 无新增方法 | 无删除方法      | 无修改方法 | 通过索引查询 |\n",
    "|字典 | 用{}创建 | 通过关键字赋值新增 | del 方法     | 通过关键字赋值进行修改 | 通过关键字查询 |\n",
    "|集合 | 使用{}创建 | add 方法 | del 方法     | 无修改方法 | 无查询方法 |"
   ],
   "metadata": {
    "collapsed": false
   }
  },
  {
   "cell_type": "markdown",
   "source": [
    "## python当中，True==1成立以及由此引发的一系列问题\n",
    "\n",
    "### Ture 和 1不能同时作为字典的key\n",
    "\n",
    "字典不允许key重复，True: 'True'这个key-value对覆盖了前面的，不只是不能同时出现在字典里做key，他们也不能同时出现在集合中，道理是一样的\n",
    "\n",
    "bool类型的数据，虽然可以做字典的key，但bool类型本身也只有两个常量数值，因此，很不建议用bool类型数据做key，即便没有1做key"
   ],
   "metadata": {
    "collapsed": false
   }
  },
  {
   "cell_type": "code",
   "execution_count": null,
   "outputs": [],
   "source": [
    "dic = {\n",
    "    1: '1',\n",
    "    True: 'True'\n",
    "}\n",
    "print(dic)"
   ],
   "metadata": {
    "collapsed": false
   }
  },
  {
   "cell_type": "markdown",
   "source": [
    "### Ture 和 1相等，导致统计不准确\n"
   ],
   "metadata": {
    "collapsed": false
   }
  },
  {
   "cell_type": "code",
   "execution_count": null,
   "outputs": [],
   "source": [
    "lst = [1, True]\n",
    "\n",
    "for item in lst:\n",
    "    if item == 1:\n",
    "        print(item)"
   ],
   "metadata": {
    "collapsed": false
   }
  },
  {
   "cell_type": "code",
   "execution_count": null,
   "outputs": [],
   "source": [
    "# 其实代码的本意只想找到1并输出，但最终连Ture也一同输出，列表的count函数也会出现相同的情况\n",
    "\n",
    "lst = [1, True]\n",
    "print(lst.count(1))"
   ],
   "metadata": {
    "collapsed": false
   }
  },
  {
   "cell_type": "markdown",
   "source": [
    "## 不要在遍历python列表时修改列表"
   ],
   "metadata": {
    "collapsed": false
   }
  },
  {
   "cell_type": "code",
   "execution_count": null,
   "outputs": [],
   "source": [
    "lst = [1, 2, 3, 4, 5, 6, 7, 8]"
   ],
   "metadata": {
    "collapsed": false
   }
  },
  {
   "cell_type": "code",
   "execution_count": null,
   "outputs": [],
   "source": [
    "# 现在要求你删除列表中的奇数\n",
    "lst = [1, 2, 3, 4, 5, 6, 7, 8]\n",
    "\n",
    "for i in lst:\n",
    "    if i % 2 == 1:\n",
    "        lst.remove(i)\n",
    "\n",
    "print(lst)"
   ],
   "metadata": {
    "collapsed": false
   }
  },
  {
   "cell_type": "code",
   "execution_count": null,
   "outputs": [],
   "source": [
    "lst = [1, 3, 2, 5, 7, 9]\n",
    "for i in lst:\n",
    "    if i % 2 == 1:\n",
    "        lst.remove(i)\n",
    "\n",
    "print(lst)"
   ],
   "metadata": {
    "collapsed": false
   }
  },
  {
   "cell_type": "code",
   "execution_count": null,
   "outputs": [],
   "source": [
    "# correct 1\n",
    "lst = [1, 3, 2, 5, 7, 9]\n",
    "\n",
    "for i in reversed(lst):\n",
    "    if i % 2 == 1:\n",
    "        lst.remove(i)\n",
    "\n",
    "print(lst)"
   ],
   "metadata": {
    "collapsed": false
   }
  },
  {
   "cell_type": "code",
   "execution_count": null,
   "outputs": [],
   "source": [
    "# correct 2\n",
    "lst = [1, 3, 2, 5, 7, 9]\n",
    "\n",
    "for i in lst.copy():\n",
    "    if i % 2 == 1:\n",
    "        lst.remove(i)\n",
    "\n",
    "print(lst)"
   ],
   "metadata": {
    "collapsed": false
   }
  }
 ],
 "metadata": {
  "kernelspec": {
   "display_name": "Python 3",
   "language": "python",
   "name": "python3"
  },
  "language_info": {
   "codemirror_mode": {
    "name": "ipython",
    "version": 2
   },
   "file_extension": ".py",
   "mimetype": "text/x-python",
   "name": "python",
   "nbconvert_exporter": "python",
   "pygments_lexer": "ipython2",
   "version": "2.7.6"
  }
 },
 "nbformat": 4,
 "nbformat_minor": 0
}
