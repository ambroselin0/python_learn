{
 "cells": [
  {
   "cell_type": "markdown",
   "source": [
    "## tree\n",
    "\n",
    "A node is the basic building block of a tree.\n",
    "\n",
    "__node__\n",
    "\n",
    "A node is the basic building block of a tree.\n",
    "\n",
    "__edge__\n",
    "\n",
    "An edge is another fundamental part of a tree. Two nodes are connected by an edge, indicating a relationship between them. Except for the root node, every other node has only one incoming edge, but it may have multiple outgoing edges.\n",
    "\n",
    "__root node__\n",
    "\n",
    "The root node is the only node in the tree that does not have any incoming edges. \n",
    "\n",
    "__path__\n",
    "\n",
    "A path is an ordered list of nodes connected by edges. For example, Kingdom → Order → Family → Genus → Species is a path.\n",
    "\n",
    "__child node__\n",
    "\n",
    "A node is connected to its child nodes by outgoing edges.\n",
    "\n",
    "__parent node__\n",
    "\n",
    "A node is the parent node of all its child nodes.\n",
    "\n",
    "__Sibling Node__\n",
    "\n",
    "Nodes that share the same parent node are called sibling nodes.\n",
    "\n",
    "__subtree__\n",
    "\n",
    "A subtree consists of a parent node and all its descendants, including the nodes and edges.\n",
    "\n",
    "__Leaf Node__\n",
    "\n",
    "A leaf node does not have any child nodes.\n",
    "\n",
    "__Level__\n",
    "\n",
    "The level of a node n is the length of the unique path from the root node to n.\n",
    "\n",
    "__height__\n",
    "\n",
    "The height of a tree is the maximum number of levels among its nodes."
   ],
   "metadata": {
    "collapsed": false
   },
   "id": "aae5a8fff986236e"
  },
  {
   "cell_type": "markdown",
   "source": [
    "## binary tree\n",
    "\n",
    "- BinaryTree()\n",
    "    init a binary tree\n",
    "- get_left_child()\n",
    "    get right child\n",
    "- get_right_child()\n",
    "    get right child\n",
    "- set_root_val(val)\n",
    "    set node value\n",
    "- get_root_val()\n",
    "    get node value\n",
    "- insert_left()\n",
    "    add a node to be the left child\n",
    "- insert_right()\n",
    "    add a node to be the right child"
   ],
   "metadata": {
    "collapsed": false
   },
   "id": "b0e423d9cf037cca"
  },
  {
   "cell_type": "markdown",
   "source": [
    "## use list to implement binary tree\n",
    "\n",
    "![](./img.png)"
   ],
   "metadata": {
    "collapsed": false
   },
   "id": "120c31738ec348d1"
  },
  {
   "cell_type": "code",
   "execution_count": 1,
   "outputs": [
    {
     "data": {
      "text/plain": "['a', ['b', ['d', [], []], ['e', [], []]], ['c', ['f', [], []], []]]"
     },
     "execution_count": 1,
     "metadata": {},
     "output_type": "execute_result"
    }
   ],
   "source": [
    "# a node is list [val, left_node, right_node]\n",
    "tree = ['a',  # root node\n",
    "        ['b',  # left node\n",
    "         ['d', [], []],\n",
    "         ['e', [], []]\n",
    "         ],\n",
    "        ['c',\n",
    "         ['f', [], []],\n",
    "         []\n",
    "         ]\n",
    "        ]\n",
    "tree"
   ],
   "metadata": {
    "collapsed": false,
    "ExecuteTime": {
     "end_time": "2023-09-18T15:42:16.228528400Z",
     "start_time": "2023-09-18T15:42:16.219521900Z"
    }
   },
   "id": "70de404af935b947"
  },
  {
   "cell_type": "code",
   "execution_count": 2,
   "outputs": [
    {
     "name": "stdout",
     "output_type": "stream",
     "text": [
      "[3, [], []]\n",
      "[3, [4, [], []], []]\n",
      "[3, [5, [4, [], []], []], []]\n",
      "[5, [4, [], []], []]\n",
      "[10, [4, [], []], []]\n",
      "[3, [10, [4, [], []], []], []]\n"
     ]
    }
   ],
   "source": [
    "def binary_tree_list(r):\n",
    "    root = [r, [], []]\n",
    "    return root\n",
    "\n",
    "\n",
    "def insert_left(root, new_node):\n",
    "    temp = root.pop(1)\n",
    "    if len(temp) > 1:\n",
    "        root.insert(1, [new_node, temp, []])\n",
    "    else:\n",
    "        root.insert(1, [new_node, [], []])\n",
    "\n",
    "\n",
    "def insert_right(node, new_node):\n",
    "    temp = node.pop(2)\n",
    "    if len(temp) > 1:\n",
    "        node.insert(2, [new_node, [], temp])\n",
    "    else:\n",
    "        node.insert(2, [new_node, [], []])\n",
    "\n",
    "\n",
    "def get_root_val(root):\n",
    "    return root[0]\n",
    "\n",
    "\n",
    "def set_root_val(root, new_val):\n",
    "    root[0] = new_val\n",
    "\n",
    "\n",
    "def get_left_child(root):\n",
    "    return root[1]\n",
    "\n",
    "\n",
    "def get_right_child(root):\n",
    "    return root[2]\n",
    "\n",
    "\n",
    "root = binary_tree_list(3)\n",
    "print(root)\n",
    "insert_left(root, 4)\n",
    "print(root)\n",
    "insert_left(root, 5)\n",
    "print(root)\n",
    "left_child = get_left_child(root)\n",
    "print(left_child)\n",
    "set_root_val(left_child, 10)\n",
    "print(left_child)\n",
    "print(root)"
   ],
   "metadata": {
    "collapsed": false,
    "ExecuteTime": {
     "end_time": "2023-09-18T15:42:16.273618600Z",
     "start_time": "2023-09-18T15:42:16.230529100Z"
    }
   },
   "id": "fc819f01adc10467"
  },
  {
   "cell_type": "markdown",
   "source": [
    "# use pointer to implement binary tree\n",
    "\n",
    "![](./img_1.png)"
   ],
   "metadata": {
    "collapsed": false
   },
   "id": "56cc5f8cadcf48aa"
  },
  {
   "cell_type": "code",
   "execution_count": 4,
   "outputs": [
    {
     "name": "stdout",
     "output_type": "stream",
     "text": [
      "p\n",
      "None\n",
      "y\n"
     ]
    }
   ],
   "source": [
    "# from __future__ import annotations\n",
    "\n",
    "\n",
    "class Node(object):\n",
    "    def __init__(self, val):\n",
    "        self.val = val\n",
    "        self.left_child = None\n",
    "        self.right_child = None\n",
    "\n",
    "\n",
    "class BinaryTree(object):\n",
    "    def __init__(self, val):\n",
    "        self.node = Node(val)\n",
    "\n",
    "    def insert_left(self, val):\n",
    "        if self.node.left_child is None:\n",
    "            self.node.left_child = BinaryTree(val)\n",
    "        else:\n",
    "            temp = BinaryTree(val)\n",
    "            temp.node.left_child = self.node.left_child\n",
    "            self.node.left_child = temp\n",
    "\n",
    "    def insert_right(self, val):\n",
    "        if self.node.right_child is None:\n",
    "            self.node.right_child = BinaryTree(val)\n",
    "        else:\n",
    "            temp = BinaryTree(val)\n",
    "            temp.node.right_child = self.node.right_child\n",
    "            self.node.right_child = temp\n",
    "\n",
    "    def get_right_child(self) -> \"BinaryTree\":\n",
    "        return self.node.right_child\n",
    "\n",
    "    def get_left_child(self) -> \"BinaryTree\":\n",
    "        return self.node.right_child\n",
    "\n",
    "    def set_root_val(self, val):\n",
    "        self.node.val = val\n",
    "\n",
    "    def get_root_val(self):\n",
    "        return self.node.val\n",
    "\n",
    "    def __str__(self) -> str:\n",
    "        return str(self.get_root_val())\n",
    "\n",
    "\n",
    "root = BinaryTree('p')\n",
    "print(root.get_root_val())\n",
    "print(root.get_right_child())\n",
    "root.insert_right('y')\n",
    "print(root.get_right_child())\n",
    "root.get_right_child().set_root_val('t')\n"
   ],
   "metadata": {
    "collapsed": false,
    "ExecuteTime": {
     "end_time": "2023-09-18T15:43:39.004169800Z",
     "start_time": "2023-09-18T15:43:38.995170600Z"
    }
   },
   "id": "3692bed8d5d4213b"
  }
 ],
 "metadata": {
  "kernelspec": {
   "display_name": "Python 3",
   "language": "python",
   "name": "python3"
  },
  "language_info": {
   "codemirror_mode": {
    "name": "ipython",
    "version": 2
   },
   "file_extension": ".py",
   "mimetype": "text/x-python",
   "name": "python",
   "nbconvert_exporter": "python",
   "pygments_lexer": "ipython2",
   "version": "2.7.6"
  }
 },
 "nbformat": 4,
 "nbformat_minor": 5
}
